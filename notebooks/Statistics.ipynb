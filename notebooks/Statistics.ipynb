{
 "cells": [
  {
   "cell_type": "code",
   "execution_count": 1,
   "metadata": {},
   "outputs": [],
   "source": [
    "%load_ext autoreload\n",
    "%autoreload 2\n",
    "\n",
    "import os\n",
    "import pandas as pd\n",
    "import numpy as np\n",
    "import __init_path__\n",
    "import env"
   ]
  },
  {
   "cell_type": "code",
   "execution_count": 3,
   "metadata": {},
   "outputs": [],
   "source": [
    "from pyquaternion import Quaternion\n",
    "from collections import OrderedDict\n",
    "from slam.linalg import (convert_euler_angles_to_rotation_matrix, \n",
    "                         form_se3, \n",
    "                         split_se3,\n",
    "                         GlobalTrajectory,\n",
    "                         RelativeTrajectory,\n",
    "                         euler_to_quaternion,\n",
    "                         shortest_path_with_normalization)"
   ]
  },
  {
   "cell_type": "code",
   "execution_count": 4,
   "metadata": {},
   "outputs": [],
   "source": [
    "path_to_trajectory = '/dbstore/datasets/Odometry_team/KITTI_odometry_2012/00'\n",
    "columns = ['euler_x', 'euler_y', 'euler_z', 't_x', 't_y', 't_z']\n",
    "df_gt = pd.read_csv('{}/df.csv'.format(path_to_trajectory), index_col=0)\n",
    "gt_trajectory = RelativeTrajectory.from_dataframe(df_gt[['euler_x', 'euler_y', 'euler_z', 't_x', 't_y', 't_z']]).to_global()\n",
    "new_pd = gt_trajectory.to_dataframe()"
   ]
  },
  {
   "cell_type": "code",
   "execution_count": 5,
   "metadata": {},
   "outputs": [],
   "source": [
    "pred_euler = pred_dist = np.array([0,0,0])\n",
    "pred_components = np.array([0,0,0,0,0,0])\n",
    "pred_quaternion = Quaternion(np.array([1,0,0,0]))\n",
    "distances=[]\n",
    "euclid_euler=[]\n",
    "components=[]\n",
    "abs_distance=[]\n",
    "symetric_distance=[]\n",
    "intrinsic_distance=[]\n",
    "aprox_distance=[]\n",
    "euclid_quaternion=[]\n",
    "for i, values in enumerate(new_pd.values):\n",
    "    distances.append( np.linalg.norm(pred_dist-values[:3])) \n",
    "    euler_x, euler_y, euler_z = shortest_path_with_normalization(pred_euler,values[3:])\n",
    "    euclid_euler_distance = np.sqrt(euler_x**2 + euler_y**2 + euler_z**2)\n",
    "    euclid_euler.append(euclid_euler_distance)\n",
    "    components.append(pred_components-values)\n",
    "    quaternion = Quaternion(euler_to_quaternion(values[3:]))\n",
    "    aprox_distance.append( 1 - (quaternion.unit * pred_quaternion.unit).unit)\n",
    "    abs_distance.append(Quaternion.absolute_distance(quaternion.unit ,pred_quaternion.unit ))\n",
    "    intrinsic_distance.append(Quaternion.distance(quaternion.unit ,pred_quaternion.unit))\n",
    "    symetric_distance.append(Quaternion.sym_distance(quaternion.unit ,pred_quaternion.unit))\n",
    "    euclid_quaternion.append(min( (quaternion.unit - pred_quaternion.unit).norm,\n",
    "                            (quaternion.unit + pred_quaternion.unit).norm ))\n",
    "    pred_euler = values[3:]\n",
    "    pred_components = values\n",
    "    pred_dist = values[:3]\n",
    "    pred_quaternion = quaternion"
   ]
  },
  {
   "cell_type": "code",
   "execution_count": null,
   "metadata": {},
   "outputs": [],
   "source": []
  }
 ],
 "metadata": {
  "kernelspec": {
   "display_name": "Python 3",
   "language": "python",
   "name": "python3"
  }
 },
 "nbformat": 4,
 "nbformat_minor": 2
}
