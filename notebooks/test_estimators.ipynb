{
 "cells": [
  {
   "cell_type": "code",
   "execution_count": 1,
   "metadata": {},
   "outputs": [],
   "source": [
    "%matplotlib inline"
   ]
  },
  {
   "cell_type": "code",
   "execution_count": 2,
   "metadata": {},
   "outputs": [],
   "source": [
    "%load_ext autoreload\n",
    "%autoreload 2"
   ]
  },
  {
   "cell_type": "code",
   "execution_count": 3,
   "metadata": {},
   "outputs": [],
   "source": [
    "import os\n",
    "import sys\n",
    "import numpy as np\n",
    "import pandas as pd\n",
    "import warnings\n",
    "os.environ[\"OMP_NUM_THREADS\"] = \"4\"\n",
    "os.environ[\"OPENBLAS_NUM_THREADS\"] = \"4\"\n",
    "os.environ[\"MKL_NUM_THREADS\"] = \"6\"\n",
    "os.environ[\"VECLIB_MAXIMUM_THREADS\"] = \"4\"\n",
    "os.environ[\"NUMEXPR_NUM_THREADS\"] = \"6\"\n",
    "warnings.simplefilter('ignore')"
   ]
  },
  {
   "cell_type": "code",
   "execution_count": 4,
   "metadata": {},
   "outputs": [],
   "source": [
    "computation_kwargs = {'cuda_visible_devices': 0}"
   ]
  },
  {
   "cell_type": "code",
   "execution_count": 5,
   "metadata": {},
   "outputs": [],
   "source": [
    "sys.path = sys.path[1:]\n",
    "sys.path.append(os.path.abspath(os.pardir))\n",
    "#sys.path.append(os.path.join(os.path.abspath(os.pardir), 'odometry'))\n",
    "sys.path.append(os.path.join(os.path.abspath(os.pardir), 'submodules/tfoptflow/tfoptflow'))\n",
    "sys.path.append(os.path.join(os.path.abspath(os.pardir), 'submodules/tf_models/research/struct2depth'))"
   ]
  },
  {
   "cell_type": "markdown",
   "metadata": {},
   "source": [
    "## Data"
   ]
  },
  {
   "cell_type": "code",
   "execution_count": 6,
   "metadata": {},
   "outputs": [
    {
     "name": "stdout",
     "output_type": "stream",
     "text": [
      "optical flow /Vol0/user/f.konokhov/tfoptflow/tfoptflow/tmp/pwcnet.ckpt-84000\n",
      "depth /Vol0/user/a.vorontsova/odometry/weights/model-199160\n"
     ]
    }
   ],
   "source": [
    "optical_flow_checkpoint = '/Vol0/user/f.konokhov/tfoptflow/tfoptflow/tmp/pwcnet.ckpt-84000'\n",
    "#optical_flow_checkpoint = os.path.abspath(../weights/pwcnet.ckpt-595000')  # official weights\n",
    "print('optical flow', optical_flow_checkpoint)\n",
    "\n",
    "depth_checkpoint = os.path.abspath('../weights/model-199160')\n",
    "print('depth', depth_checkpoint)"
   ]
  },
  {
   "cell_type": "code",
   "execution_count": 7,
   "metadata": {},
   "outputs": [
    {
     "data": {
      "text/html": [
       "<div>\n",
       "<style scoped>\n",
       "    .dataframe tbody tr th:only-of-type {\n",
       "        vertical-align: middle;\n",
       "    }\n",
       "\n",
       "    .dataframe tbody tr th {\n",
       "        vertical-align: top;\n",
       "    }\n",
       "\n",
       "    .dataframe thead th {\n",
       "        text-align: right;\n",
       "    }\n",
       "</style>\n",
       "<table border=\"1\" class=\"dataframe\">\n",
       "  <thead>\n",
       "    <tr style=\"text-align: right;\">\n",
       "      <th></th>\n",
       "      <th>Unnamed: 0.1</th>\n",
       "      <th>Unnamed: 0.1.1</th>\n",
       "      <th>Unnamed: 0.1.1.1</th>\n",
       "      <th>Unnamed: 0.1.1.1.1</th>\n",
       "      <th>path_to_rgb</th>\n",
       "      <th>path_to_next_rgb</th>\n",
       "      <th>euler_x</th>\n",
       "      <th>euler_y</th>\n",
       "      <th>euler_z</th>\n",
       "      <th>x</th>\n",
       "      <th>...</th>\n",
       "      <th>pc_y</th>\n",
       "      <th>pc_z</th>\n",
       "      <th>pc_error_x</th>\n",
       "      <th>pc_error_y</th>\n",
       "      <th>pc_error_z</th>\n",
       "      <th>optical_flow_pwc_skip1_mean_flow</th>\n",
       "      <th>optical_flow_pwc_skip1_mean_flow_normalized</th>\n",
       "      <th>optical_flow_gt_skip1_normalized</th>\n",
       "      <th>optical_flow_pc_skip1_normalized</th>\n",
       "      <th>optical_flow_refined_skip1_normalized</th>\n",
       "    </tr>\n",
       "  </thead>\n",
       "  <tbody>\n",
       "    <tr>\n",
       "      <th>0</th>\n",
       "      <td>0</td>\n",
       "      <td>0</td>\n",
       "      <td>0</td>\n",
       "      <td>0</td>\n",
       "      <td>image_2/000000.png</td>\n",
       "      <td>image_2/000001.png</td>\n",
       "      <td>0.001156</td>\n",
       "      <td>-0.002066</td>\n",
       "      <td>-0.000530</td>\n",
       "      <td>-0.046903</td>\n",
       "      <td>...</td>\n",
       "      <td>-0.007980</td>\n",
       "      <td>0.651822</td>\n",
       "      <td>0.102688</td>\n",
       "      <td>0.102415</td>\n",
       "      <td>1.117522</td>\n",
       "      <td>optical_flow_pwc_skip1_mean_flow/000000_000001...</td>\n",
       "      <td>optical_flow_pwc_skip1_mean_flow_normalized/00...</td>\n",
       "      <td>optical_flow_gt_skip1_normalized/000000_000001...</td>\n",
       "      <td>optical_flow_pc_skip1_normalized/000000_000001...</td>\n",
       "      <td>optical_flow_refined_skip1_normalized/000000_0...</td>\n",
       "    </tr>\n",
       "    <tr>\n",
       "      <th>1</th>\n",
       "      <td>1</td>\n",
       "      <td>1</td>\n",
       "      <td>1</td>\n",
       "      <td>1</td>\n",
       "      <td>image_2/000001.png</td>\n",
       "      <td>image_2/000002.png</td>\n",
       "      <td>0.001155</td>\n",
       "      <td>-0.002063</td>\n",
       "      <td>-0.000526</td>\n",
       "      <td>-0.045053</td>\n",
       "      <td>...</td>\n",
       "      <td>-0.001540</td>\n",
       "      <td>0.657672</td>\n",
       "      <td>0.080215</td>\n",
       "      <td>0.059430</td>\n",
       "      <td>0.448673</td>\n",
       "      <td>optical_flow_pwc_skip1_mean_flow/000001_000002...</td>\n",
       "      <td>optical_flow_pwc_skip1_mean_flow_normalized/00...</td>\n",
       "      <td>optical_flow_gt_skip1_normalized/000001_000002...</td>\n",
       "      <td>optical_flow_pc_skip1_normalized/000001_000002...</td>\n",
       "      <td>optical_flow_refined_skip1_normalized/000001_0...</td>\n",
       "    </tr>\n",
       "    <tr>\n",
       "      <th>2</th>\n",
       "      <td>2</td>\n",
       "      <td>2</td>\n",
       "      <td>2</td>\n",
       "      <td>2</td>\n",
       "      <td>image_2/000002.png</td>\n",
       "      <td>image_2/000003.png</td>\n",
       "      <td>0.001158</td>\n",
       "      <td>-0.002065</td>\n",
       "      <td>-0.000525</td>\n",
       "      <td>-0.043324</td>\n",
       "      <td>...</td>\n",
       "      <td>-0.002982</td>\n",
       "      <td>0.689013</td>\n",
       "      <td>0.066281</td>\n",
       "      <td>0.063574</td>\n",
       "      <td>0.882052</td>\n",
       "      <td>optical_flow_pwc_skip1_mean_flow/000002_000003...</td>\n",
       "      <td>optical_flow_pwc_skip1_mean_flow_normalized/00...</td>\n",
       "      <td>optical_flow_gt_skip1_normalized/000002_000003...</td>\n",
       "      <td>optical_flow_pc_skip1_normalized/000002_000003...</td>\n",
       "      <td>optical_flow_refined_skip1_normalized/000002_0...</td>\n",
       "    </tr>\n",
       "    <tr>\n",
       "      <th>3</th>\n",
       "      <td>3</td>\n",
       "      <td>3</td>\n",
       "      <td>3</td>\n",
       "      <td>3</td>\n",
       "      <td>image_2/000003.png</td>\n",
       "      <td>image_2/000004.png</td>\n",
       "      <td>0.001157</td>\n",
       "      <td>-0.002063</td>\n",
       "      <td>-0.000522</td>\n",
       "      <td>-0.041485</td>\n",
       "      <td>...</td>\n",
       "      <td>-0.007164</td>\n",
       "      <td>0.697135</td>\n",
       "      <td>0.102181</td>\n",
       "      <td>0.096504</td>\n",
       "      <td>1.106223</td>\n",
       "      <td>optical_flow_pwc_skip1_mean_flow/000003_000004...</td>\n",
       "      <td>optical_flow_pwc_skip1_mean_flow_normalized/00...</td>\n",
       "      <td>optical_flow_gt_skip1_normalized/000003_000004...</td>\n",
       "      <td>optical_flow_pc_skip1_normalized/000003_000004...</td>\n",
       "      <td>optical_flow_refined_skip1_normalized/000003_0...</td>\n",
       "    </tr>\n",
       "    <tr>\n",
       "      <th>4</th>\n",
       "      <td>4</td>\n",
       "      <td>4</td>\n",
       "      <td>4</td>\n",
       "      <td>4</td>\n",
       "      <td>image_2/000004.png</td>\n",
       "      <td>image_2/000005.png</td>\n",
       "      <td>0.001160</td>\n",
       "      <td>-0.002065</td>\n",
       "      <td>-0.000520</td>\n",
       "      <td>-0.039747</td>\n",
       "      <td>...</td>\n",
       "      <td>-0.009273</td>\n",
       "      <td>0.717733</td>\n",
       "      <td>0.085257</td>\n",
       "      <td>0.082203</td>\n",
       "      <td>1.697354</td>\n",
       "      <td>optical_flow_pwc_skip1_mean_flow/000004_000005...</td>\n",
       "      <td>optical_flow_pwc_skip1_mean_flow_normalized/00...</td>\n",
       "      <td>optical_flow_gt_skip1_normalized/000004_000005...</td>\n",
       "      <td>optical_flow_pc_skip1_normalized/000004_000005...</td>\n",
       "      <td>optical_flow_refined_skip1_normalized/000004_0...</td>\n",
       "    </tr>\n",
       "  </tbody>\n",
       "</table>\n",
       "<p>5 rows × 44 columns</p>\n",
       "</div>"
      ],
      "text/plain": [
       "   Unnamed: 0.1  Unnamed: 0.1.1  Unnamed: 0.1.1.1  Unnamed: 0.1.1.1.1  \\\n",
       "0             0               0                 0                   0   \n",
       "1             1               1                 1                   1   \n",
       "2             2               2                 2                   2   \n",
       "3             3               3                 3                   3   \n",
       "4             4               4                 4                   4   \n",
       "\n",
       "          path_to_rgb    path_to_next_rgb   euler_x   euler_y   euler_z  \\\n",
       "0  image_2/000000.png  image_2/000001.png  0.001156 -0.002066 -0.000530   \n",
       "1  image_2/000001.png  image_2/000002.png  0.001155 -0.002063 -0.000526   \n",
       "2  image_2/000002.png  image_2/000003.png  0.001158 -0.002065 -0.000525   \n",
       "3  image_2/000003.png  image_2/000004.png  0.001157 -0.002063 -0.000522   \n",
       "4  image_2/000004.png  image_2/000005.png  0.001160 -0.002065 -0.000520   \n",
       "\n",
       "          x                        ...                              pc_y  \\\n",
       "0 -0.046903                        ...                         -0.007980   \n",
       "1 -0.045053                        ...                         -0.001540   \n",
       "2 -0.043324                        ...                         -0.002982   \n",
       "3 -0.041485                        ...                         -0.007164   \n",
       "4 -0.039747                        ...                         -0.009273   \n",
       "\n",
       "       pc_z pc_error_x pc_error_y pc_error_z  \\\n",
       "0  0.651822   0.102688   0.102415   1.117522   \n",
       "1  0.657672   0.080215   0.059430   0.448673   \n",
       "2  0.689013   0.066281   0.063574   0.882052   \n",
       "3  0.697135   0.102181   0.096504   1.106223   \n",
       "4  0.717733   0.085257   0.082203   1.697354   \n",
       "\n",
       "                    optical_flow_pwc_skip1_mean_flow  \\\n",
       "0  optical_flow_pwc_skip1_mean_flow/000000_000001...   \n",
       "1  optical_flow_pwc_skip1_mean_flow/000001_000002...   \n",
       "2  optical_flow_pwc_skip1_mean_flow/000002_000003...   \n",
       "3  optical_flow_pwc_skip1_mean_flow/000003_000004...   \n",
       "4  optical_flow_pwc_skip1_mean_flow/000004_000005...   \n",
       "\n",
       "         optical_flow_pwc_skip1_mean_flow_normalized  \\\n",
       "0  optical_flow_pwc_skip1_mean_flow_normalized/00...   \n",
       "1  optical_flow_pwc_skip1_mean_flow_normalized/00...   \n",
       "2  optical_flow_pwc_skip1_mean_flow_normalized/00...   \n",
       "3  optical_flow_pwc_skip1_mean_flow_normalized/00...   \n",
       "4  optical_flow_pwc_skip1_mean_flow_normalized/00...   \n",
       "\n",
       "                    optical_flow_gt_skip1_normalized  \\\n",
       "0  optical_flow_gt_skip1_normalized/000000_000001...   \n",
       "1  optical_flow_gt_skip1_normalized/000001_000002...   \n",
       "2  optical_flow_gt_skip1_normalized/000002_000003...   \n",
       "3  optical_flow_gt_skip1_normalized/000003_000004...   \n",
       "4  optical_flow_gt_skip1_normalized/000004_000005...   \n",
       "\n",
       "                    optical_flow_pc_skip1_normalized  \\\n",
       "0  optical_flow_pc_skip1_normalized/000000_000001...   \n",
       "1  optical_flow_pc_skip1_normalized/000001_000002...   \n",
       "2  optical_flow_pc_skip1_normalized/000002_000003...   \n",
       "3  optical_flow_pc_skip1_normalized/000003_000004...   \n",
       "4  optical_flow_pc_skip1_normalized/000004_000005...   \n",
       "\n",
       "               optical_flow_refined_skip1_normalized  \n",
       "0  optical_flow_refined_skip1_normalized/000000_0...  \n",
       "1  optical_flow_refined_skip1_normalized/000001_0...  \n",
       "2  optical_flow_refined_skip1_normalized/000002_0...  \n",
       "3  optical_flow_refined_skip1_normalized/000003_0...  \n",
       "4  optical_flow_refined_skip1_normalized/000004_0...  \n",
       "\n",
       "[5 rows x 44 columns]"
      ]
     },
     "execution_count": 7,
     "metadata": {},
     "output_type": "execute_result"
    }
   ],
   "source": [
    "dataframe = pd.read_csv('/dbstore/datasets/KITTI_odometry_2012/dataset/sequences/00/df.csv', index_col=0)\n",
    "#dataframe = pd.read_csv('meetingroom_04_rgbd_ir_imu_pose_KITTI_finetuned/df.csv', index_col=0)\n",
    "dataframe.head()"
   ]
  },
  {
   "cell_type": "code",
   "execution_count": 8,
   "metadata": {},
   "outputs": [
    {
     "data": {
      "text/html": [
       "<div>\n",
       "<style scoped>\n",
       "    .dataframe tbody tr th:only-of-type {\n",
       "        vertical-align: middle;\n",
       "    }\n",
       "\n",
       "    .dataframe tbody tr th {\n",
       "        vertical-align: top;\n",
       "    }\n",
       "\n",
       "    .dataframe thead th {\n",
       "        text-align: right;\n",
       "    }\n",
       "</style>\n",
       "<table border=\"1\" class=\"dataframe\">\n",
       "  <thead>\n",
       "    <tr style=\"text-align: right;\">\n",
       "      <th></th>\n",
       "      <th>x</th>\n",
       "      <th>y</th>\n",
       "      <th>z</th>\n",
       "      <th>euler_x</th>\n",
       "      <th>euler_y</th>\n",
       "      <th>euler_z</th>\n",
       "      <th>path_to_rgb</th>\n",
       "    </tr>\n",
       "  </thead>\n",
       "  <tbody>\n",
       "    <tr>\n",
       "      <th>0</th>\n",
       "      <td>-0.046903</td>\n",
       "      <td>-0.028399</td>\n",
       "      <td>0.858694</td>\n",
       "      <td>0.001156</td>\n",
       "      <td>-0.002066</td>\n",
       "      <td>-0.000530</td>\n",
       "      <td>/dbstore/datasets/KITTI_odometry_2012/dataset/...</td>\n",
       "    </tr>\n",
       "    <tr>\n",
       "      <th>1</th>\n",
       "      <td>-0.045053</td>\n",
       "      <td>-0.027395</td>\n",
       "      <td>0.857708</td>\n",
       "      <td>0.001155</td>\n",
       "      <td>-0.002063</td>\n",
       "      <td>-0.000526</td>\n",
       "      <td>/dbstore/datasets/KITTI_odometry_2012/dataset/...</td>\n",
       "    </tr>\n",
       "    <tr>\n",
       "      <th>2</th>\n",
       "      <td>-0.043324</td>\n",
       "      <td>-0.026460</td>\n",
       "      <td>0.858939</td>\n",
       "      <td>0.001158</td>\n",
       "      <td>-0.002065</td>\n",
       "      <td>-0.000525</td>\n",
       "      <td>/dbstore/datasets/KITTI_odometry_2012/dataset/...</td>\n",
       "    </tr>\n",
       "    <tr>\n",
       "      <th>3</th>\n",
       "      <td>-0.041485</td>\n",
       "      <td>-0.025457</td>\n",
       "      <td>0.858051</td>\n",
       "      <td>0.001157</td>\n",
       "      <td>-0.002063</td>\n",
       "      <td>-0.000522</td>\n",
       "      <td>/dbstore/datasets/KITTI_odometry_2012/dataset/...</td>\n",
       "    </tr>\n",
       "    <tr>\n",
       "      <th>4</th>\n",
       "      <td>-0.039747</td>\n",
       "      <td>-0.024513</td>\n",
       "      <td>0.859167</td>\n",
       "      <td>0.001160</td>\n",
       "      <td>-0.002065</td>\n",
       "      <td>-0.000520</td>\n",
       "      <td>/dbstore/datasets/KITTI_odometry_2012/dataset/...</td>\n",
       "    </tr>\n",
       "  </tbody>\n",
       "</table>\n",
       "</div>"
      ],
      "text/plain": [
       "          x         y         z   euler_x   euler_y   euler_z  \\\n",
       "0 -0.046903 -0.028399  0.858694  0.001156 -0.002066 -0.000530   \n",
       "1 -0.045053 -0.027395  0.857708  0.001155 -0.002063 -0.000526   \n",
       "2 -0.043324 -0.026460  0.858939  0.001158 -0.002065 -0.000525   \n",
       "3 -0.041485 -0.025457  0.858051  0.001157 -0.002063 -0.000522   \n",
       "4 -0.039747 -0.024513  0.859167  0.001160 -0.002065 -0.000520   \n",
       "\n",
       "                                         path_to_rgb  \n",
       "0  /dbstore/datasets/KITTI_odometry_2012/dataset/...  \n",
       "1  /dbstore/datasets/KITTI_odometry_2012/dataset/...  \n",
       "2  /dbstore/datasets/KITTI_odometry_2012/dataset/...  \n",
       "3  /dbstore/datasets/KITTI_odometry_2012/dataset/...  \n",
       "4  /dbstore/datasets/KITTI_odometry_2012/dataset/...  "
      ]
     },
     "execution_count": 8,
     "metadata": {},
     "output_type": "execute_result"
    }
   ],
   "source": [
    "dataframe = dataframe[['x', 'y', 'z', 'euler_x', 'euler_y', 'euler_z', 'path_to_rgb']]\n",
    "dataframe.path_to_rgb = dataframe.path_to_rgb.apply(\n",
    "    lambda x: os.path.join('/dbstore/datasets/KITTI_odometry_2012/dataset/sequences/00/', x))\n",
    "dataframe.head()"
   ]
  },
  {
   "cell_type": "markdown",
   "metadata": {},
   "source": [
    "## Estimators"
   ]
  },
  {
   "cell_type": "code",
   "execution_count": 9,
   "metadata": {},
   "outputs": [],
   "source": [
    "dataset_root = 'test_estimators'\n",
    "\n",
    "#height = 120\n",
    "#width = 160\n",
    "\n",
    "height = 94\n",
    "width = 300"
   ]
  },
  {
   "cell_type": "code",
   "execution_count": 10,
   "metadata": {},
   "outputs": [
    {
     "name": "stdout",
     "output_type": "stream",
     "text": [
      "\n",
      "WARNING: The TensorFlow contrib module will not be included in TensorFlow 2.0.\n",
      "For more information, please see:\n",
      "  * https://github.com/tensorflow/community/blob/master/rfcs/20180907-contrib-sunset.md\n",
      "  * https://github.com/tensorflow/addons\n",
      "If you depend on functionality not listed there, please file an issue.\n",
      "\n"
     ]
    }
   ],
   "source": [
    "from odometry.preprocessing.estimators import *"
   ]
  },
  {
   "cell_type": "markdown",
   "metadata": {},
   "source": [
    "### Single input"
   ]
  },
  {
   "cell_type": "code",
   "execution_count": 11,
   "metadata": {},
   "outputs": [
    {
     "data": {
      "text/plain": [
       "x                                                     -0.0469029\n",
       "y                                                     -0.0283993\n",
       "z                                                       0.858694\n",
       "euler_x                                               0.00115596\n",
       "euler_y                                              -0.00206633\n",
       "euler_z                                             -0.000529652\n",
       "path_to_rgb    /dbstore/datasets/KITTI_odometry_2012/dataset/...\n",
       "Name: 0, dtype: object"
      ]
     },
     "execution_count": 11,
     "metadata": {},
     "output_type": "execute_result"
    }
   ],
   "source": [
    "index, row = next(dataframe.iterrows())\n",
    "row"
   ]
  },
  {
   "cell_type": "code",
   "execution_count": 12,
   "metadata": {},
   "outputs": [
    {
     "name": "stdout",
     "output_type": "stream",
     "text": [
      "WARNING:tensorflow:From /Vol0/user/a.vorontsova/miniconda3/lib/python3.6/site-packages/tensorflow/python/framework/op_def_library.py:263: colocate_with (from tensorflow.python.framework.ops) is deprecated and will be removed in a future version.\n",
      "Instructions for updating:\n",
      "Colocations handled automatically by placer.\n"
     ]
    },
    {
     "name": "stderr",
     "output_type": "stream",
     "text": [
      "WARNING: Logging before flag parsing goes to stderr.\n",
      "W0611 19:20:42.448976 47042464067200 deprecation.py:323] From /Vol0/user/a.vorontsova/miniconda3/lib/python3.6/site-packages/tensorflow/python/framework/op_def_library.py:263: colocate_with (from tensorflow.python.framework.ops) is deprecated and will be removed in a future version.\n",
      "Instructions for updating:\n",
      "Colocations handled automatically by placer.\n"
     ]
    },
    {
     "name": "stdout",
     "output_type": "stream",
     "text": [
      "WARNING:tensorflow:From /Vol0/user/a.vorontsova/odometry/submodules/tf_models/research/struct2depth/nets.py:503: batch_normalization (from tensorflow.python.layers.normalization) is deprecated and will be removed in a future version.\n",
      "Instructions for updating:\n",
      "Use keras.layers.batch_normalization instead.\n"
     ]
    },
    {
     "name": "stderr",
     "output_type": "stream",
     "text": [
      "W0611 19:20:42.464520 47042464067200 deprecation.py:323] From /Vol0/user/a.vorontsova/odometry/submodules/tf_models/research/struct2depth/nets.py:503: batch_normalization (from tensorflow.python.layers.normalization) is deprecated and will be removed in a future version.\n",
      "Instructions for updating:\n",
      "Use keras.layers.batch_normalization instead.\n",
      "W0611 19:20:44.383913 47042464067200 util.py:204] Shape mismatch, will not restore egomotion_prediction/pose_exp_net/pose/cnv6/weights.\n",
      "W0611 19:20:44.384790 47042464067200 util.py:206] The following variables in the checkpoint were not loaded:\n"
     ]
    },
    {
     "name": "stdout",
     "output_type": "stream",
     "text": [
      "WARNING:tensorflow:From /Vol0/user/a.vorontsova/miniconda3/lib/python3.6/site-packages/tensorflow/python/training/saver.py:1266: checkpoint_exists (from tensorflow.python.training.checkpoint_management) is deprecated and will be removed in a future version.\n",
      "Instructions for updating:\n",
      "Use standard file APIs to check for files with this prefix.\n"
     ]
    },
    {
     "name": "stderr",
     "output_type": "stream",
     "text": [
      "W0611 19:20:45.100392 47042464067200 deprecation.py:323] From /Vol0/user/a.vorontsova/miniconda3/lib/python3.6/site-packages/tensorflow/python/training/saver.py:1266: checkpoint_exists (from tensorflow.python.training.checkpoint_management) is deprecated and will be removed in a future version.\n",
      "Instructions for updating:\n",
      "Use standard file APIs to check for files with this prefix.\n"
     ]
    },
    {
     "name": "stdout",
     "output_type": "stream",
     "text": [
      "INFO:tensorflow:Restoring parameters from /Vol0/user/a.vorontsova/odometry/weights/model-199160\n"
     ]
    },
    {
     "name": "stderr",
     "output_type": "stream",
     "text": [
      "I0611 19:20:45.102547 47042464067200 saver.py:1270] Restoring parameters from /Vol0/user/a.vorontsova/odometry/weights/model-199160\n"
     ]
    },
    {
     "data": {
      "text/plain": [
       "Estimator(dir=depth, input_col=path_to_rgb, output_col=path_to_depth, checkpoint=/Vol0/user/a.vorontsova/odometry/weights/model-199160)"
      ]
     },
     "execution_count": 12,
     "metadata": {},
     "output_type": "execute_result"
    }
   ],
   "source": [
    "struct2depth_estimator = Struct2DepthEstimator(input_col='path_to_rgb',\n",
    "                                               output_col='path_to_depth',\n",
    "                                               directory='depth',\n",
    "                                               checkpoint=depth_checkpoint, \n",
    "                                               height=height,\n",
    "                                               width=width)\n",
    "struct2depth_estimator"
   ]
  },
  {
   "cell_type": "code",
   "execution_count": 13,
   "metadata": {},
   "outputs": [
    {
     "data": {
      "text/plain": [
       "x                                                       -0.0469029\n",
       "y                                                       -0.0283993\n",
       "z                                                         0.858694\n",
       "euler_x                                                 0.00115596\n",
       "euler_y                                                -0.00206633\n",
       "euler_z                                               -0.000529652\n",
       "path_to_rgb      /dbstore/datasets/KITTI_odometry_2012/dataset/...\n",
       "path_to_depth                     test_estimators/depth/000000.npy\n",
       "Name: 0, dtype: object"
      ]
     },
     "execution_count": 13,
     "metadata": {},
     "output_type": "execute_result"
    }
   ],
   "source": [
    "row = struct2depth_estimator.run(row, dataset_root)\n",
    "row"
   ]
  },
  {
   "cell_type": "markdown",
   "metadata": {},
   "source": [
    "### Double input"
   ]
  },
  {
   "cell_type": "code",
   "execution_count": 14,
   "metadata": {
    "scrolled": true
   },
   "outputs": [
    {
     "data": {
      "text/html": [
       "<div>\n",
       "<style scoped>\n",
       "    .dataframe tbody tr th:only-of-type {\n",
       "        vertical-align: middle;\n",
       "    }\n",
       "\n",
       "    .dataframe tbody tr th {\n",
       "        vertical-align: top;\n",
       "    }\n",
       "\n",
       "    .dataframe thead th {\n",
       "        text-align: right;\n",
       "    }\n",
       "</style>\n",
       "<table border=\"1\" class=\"dataframe\">\n",
       "  <thead>\n",
       "    <tr style=\"text-align: right;\">\n",
       "      <th></th>\n",
       "      <th>x</th>\n",
       "      <th>y</th>\n",
       "      <th>z</th>\n",
       "      <th>euler_x</th>\n",
       "      <th>euler_y</th>\n",
       "      <th>euler_z</th>\n",
       "      <th>path_to_rgb</th>\n",
       "      <th>x_next</th>\n",
       "      <th>y_next</th>\n",
       "      <th>z_next</th>\n",
       "      <th>euler_x_next</th>\n",
       "      <th>euler_y_next</th>\n",
       "      <th>euler_z_next</th>\n",
       "      <th>path_to_rgb_next</th>\n",
       "    </tr>\n",
       "  </thead>\n",
       "  <tbody>\n",
       "    <tr>\n",
       "      <th>0</th>\n",
       "      <td>-0.046903</td>\n",
       "      <td>-0.028399</td>\n",
       "      <td>0.858694</td>\n",
       "      <td>0.001156</td>\n",
       "      <td>-0.002066</td>\n",
       "      <td>-0.000530</td>\n",
       "      <td>/dbstore/datasets/KITTI_odometry_2012/dataset/...</td>\n",
       "      <td>-0.045053</td>\n",
       "      <td>-0.027395</td>\n",
       "      <td>0.857708</td>\n",
       "      <td>0.001155</td>\n",
       "      <td>-0.002063</td>\n",
       "      <td>-0.000526</td>\n",
       "      <td>/dbstore/datasets/KITTI_odometry_2012/dataset/...</td>\n",
       "    </tr>\n",
       "    <tr>\n",
       "      <th>1</th>\n",
       "      <td>-0.045053</td>\n",
       "      <td>-0.027395</td>\n",
       "      <td>0.857708</td>\n",
       "      <td>0.001155</td>\n",
       "      <td>-0.002063</td>\n",
       "      <td>-0.000526</td>\n",
       "      <td>/dbstore/datasets/KITTI_odometry_2012/dataset/...</td>\n",
       "      <td>-0.043324</td>\n",
       "      <td>-0.026460</td>\n",
       "      <td>0.858939</td>\n",
       "      <td>0.001158</td>\n",
       "      <td>-0.002065</td>\n",
       "      <td>-0.000525</td>\n",
       "      <td>/dbstore/datasets/KITTI_odometry_2012/dataset/...</td>\n",
       "    </tr>\n",
       "    <tr>\n",
       "      <th>2</th>\n",
       "      <td>-0.043324</td>\n",
       "      <td>-0.026460</td>\n",
       "      <td>0.858939</td>\n",
       "      <td>0.001158</td>\n",
       "      <td>-0.002065</td>\n",
       "      <td>-0.000525</td>\n",
       "      <td>/dbstore/datasets/KITTI_odometry_2012/dataset/...</td>\n",
       "      <td>-0.041485</td>\n",
       "      <td>-0.025457</td>\n",
       "      <td>0.858051</td>\n",
       "      <td>0.001157</td>\n",
       "      <td>-0.002063</td>\n",
       "      <td>-0.000522</td>\n",
       "      <td>/dbstore/datasets/KITTI_odometry_2012/dataset/...</td>\n",
       "    </tr>\n",
       "    <tr>\n",
       "      <th>3</th>\n",
       "      <td>-0.041485</td>\n",
       "      <td>-0.025457</td>\n",
       "      <td>0.858051</td>\n",
       "      <td>0.001157</td>\n",
       "      <td>-0.002063</td>\n",
       "      <td>-0.000522</td>\n",
       "      <td>/dbstore/datasets/KITTI_odometry_2012/dataset/...</td>\n",
       "      <td>-0.039747</td>\n",
       "      <td>-0.024513</td>\n",
       "      <td>0.859167</td>\n",
       "      <td>0.001160</td>\n",
       "      <td>-0.002065</td>\n",
       "      <td>-0.000520</td>\n",
       "      <td>/dbstore/datasets/KITTI_odometry_2012/dataset/...</td>\n",
       "    </tr>\n",
       "    <tr>\n",
       "      <th>4</th>\n",
       "      <td>-0.039747</td>\n",
       "      <td>-0.024513</td>\n",
       "      <td>0.859167</td>\n",
       "      <td>0.001160</td>\n",
       "      <td>-0.002065</td>\n",
       "      <td>-0.000520</td>\n",
       "      <td>/dbstore/datasets/KITTI_odometry_2012/dataset/...</td>\n",
       "      <td>-0.037913</td>\n",
       "      <td>-0.023508</td>\n",
       "      <td>0.858240</td>\n",
       "      <td>0.001159</td>\n",
       "      <td>-0.002062</td>\n",
       "      <td>-0.000517</td>\n",
       "      <td>/dbstore/datasets/KITTI_odometry_2012/dataset/...</td>\n",
       "    </tr>\n",
       "  </tbody>\n",
       "</table>\n",
       "</div>"
      ],
      "text/plain": [
       "          x         y         z   euler_x   euler_y   euler_z  \\\n",
       "0 -0.046903 -0.028399  0.858694  0.001156 -0.002066 -0.000530   \n",
       "1 -0.045053 -0.027395  0.857708  0.001155 -0.002063 -0.000526   \n",
       "2 -0.043324 -0.026460  0.858939  0.001158 -0.002065 -0.000525   \n",
       "3 -0.041485 -0.025457  0.858051  0.001157 -0.002063 -0.000522   \n",
       "4 -0.039747 -0.024513  0.859167  0.001160 -0.002065 -0.000520   \n",
       "\n",
       "                                         path_to_rgb    x_next    y_next  \\\n",
       "0  /dbstore/datasets/KITTI_odometry_2012/dataset/... -0.045053 -0.027395   \n",
       "1  /dbstore/datasets/KITTI_odometry_2012/dataset/... -0.043324 -0.026460   \n",
       "2  /dbstore/datasets/KITTI_odometry_2012/dataset/... -0.041485 -0.025457   \n",
       "3  /dbstore/datasets/KITTI_odometry_2012/dataset/... -0.039747 -0.024513   \n",
       "4  /dbstore/datasets/KITTI_odometry_2012/dataset/... -0.037913 -0.023508   \n",
       "\n",
       "     z_next  euler_x_next  euler_y_next  euler_z_next  \\\n",
       "0  0.857708      0.001155     -0.002063     -0.000526   \n",
       "1  0.858939      0.001158     -0.002065     -0.000525   \n",
       "2  0.858051      0.001157     -0.002063     -0.000522   \n",
       "3  0.859167      0.001160     -0.002065     -0.000520   \n",
       "4  0.858240      0.001159     -0.002062     -0.000517   \n",
       "\n",
       "                                    path_to_rgb_next  \n",
       "0  /dbstore/datasets/KITTI_odometry_2012/dataset/...  \n",
       "1  /dbstore/datasets/KITTI_odometry_2012/dataset/...  \n",
       "2  /dbstore/datasets/KITTI_odometry_2012/dataset/...  \n",
       "3  /dbstore/datasets/KITTI_odometry_2012/dataset/...  \n",
       "4  /dbstore/datasets/KITTI_odometry_2012/dataset/...  "
      ]
     },
     "execution_count": 14,
     "metadata": {},
     "output_type": "execute_result"
    }
   ],
   "source": [
    "dataframe = dataframe[:-1].join(dataframe[1:].copy().reset_index(), rsuffix='_next')\n",
    "dataframe.drop('index', axis=1, inplace=True)\n",
    "dataframe.head()"
   ]
  },
  {
   "cell_type": "code",
   "execution_count": 15,
   "metadata": {},
   "outputs": [
    {
     "data": {
      "text/plain": [
       "x                                                          -0.0469029\n",
       "y                                                          -0.0283993\n",
       "z                                                            0.858694\n",
       "euler_x                                                    0.00115596\n",
       "euler_y                                                   -0.00206633\n",
       "euler_z                                                  -0.000529652\n",
       "path_to_rgb         /dbstore/datasets/KITTI_odometry_2012/dataset/...\n",
       "x_next                                                     -0.0450533\n",
       "y_next                                                     -0.0273947\n",
       "z_next                                                       0.857708\n",
       "euler_x_next                                               0.00115542\n",
       "euler_y_next                                              -0.00206321\n",
       "euler_z_next                                             -0.000526483\n",
       "path_to_rgb_next    /dbstore/datasets/KITTI_odometry_2012/dataset/...\n",
       "Name: 0, dtype: object"
      ]
     },
     "execution_count": 15,
     "metadata": {},
     "output_type": "execute_result"
    }
   ],
   "source": [
    "index, row = next(dataframe.iterrows())\n",
    "row"
   ]
  },
  {
   "cell_type": "code",
   "execution_count": 16,
   "metadata": {},
   "outputs": [
    {
     "data": {
      "text/plain": [
       "Estimator(input_col=['euler_x', 'euler_y', 'euler_z', 'x', 'y', 'z', 'euler_x_next', 'euler_y_next', 'euler_z_next', 'x_next', 'y_next', 'z_next'], output_col=['rx', 'ry', 'rz', 'tx', 'ty', 'tz'])"
      ]
     },
     "execution_count": 16,
     "metadata": {},
     "output_type": "execute_result"
    }
   ],
   "source": [
    "input_col = ['euler_x', 'euler_y', 'euler_z', 'x', 'y', 'z',\n",
    "             'euler_x_next', 'euler_y_next', 'euler_z_next', 'x_next', 'y_next', 'z_next']\n",
    "output_col = ['rx', 'ry', 'rz', 'tx', 'ty', 'tz']\n",
    "global2relative_estimator = Global2RelativeEstimator(input_col=input_col, output_col=output_col)\n",
    "global2relative_estimator"
   ]
  },
  {
   "cell_type": "code",
   "execution_count": 17,
   "metadata": {},
   "outputs": [
    {
     "data": {
      "text/plain": [
       "x                                                          -0.0469029\n",
       "y                                                          -0.0283993\n",
       "z                                                            0.858694\n",
       "euler_x                                                    0.00115596\n",
       "euler_y                                                   -0.00206633\n",
       "euler_z                                                  -0.000529652\n",
       "path_to_rgb         /dbstore/datasets/KITTI_odometry_2012/dataset/...\n",
       "x_next                                                     -0.0450533\n",
       "y_next                                                     -0.0273947\n",
       "z_next                                                       0.857708\n",
       "euler_x_next                                               0.00115542\n",
       "euler_y_next                                              -0.00206321\n",
       "euler_z_next                                             -0.000526483\n",
       "path_to_rgb_next    /dbstore/datasets/KITTI_odometry_2012/dataset/...\n",
       "rx                                                       -5.32026e-07\n",
       "ry                                                        3.11947e-06\n",
       "rz                                                        3.16468e-06\n",
       "tx                                                         0.00184703\n",
       "ty                                                         0.00100441\n",
       "tz                                                       -0.000991017\n",
       "Name: 0, dtype: object"
      ]
     },
     "execution_count": 17,
     "metadata": {},
     "output_type": "execute_result"
    }
   ],
   "source": [
    "row = global2relative_estimator.run(row, dataset_root)\n",
    "row"
   ]
  },
  {
   "cell_type": "code",
   "execution_count": 18,
   "metadata": {},
   "outputs": [
    {
     "name": "stdout",
     "output_type": "stream",
     "text": [
      "Building model...\n",
      "WARNING:tensorflow:From /Vol0/user/a.vorontsova/odometry/submodules/tfoptflow/tfoptflow/model_pwcnet.py:1173: conv2d (from tensorflow.python.layers.convolutional) is deprecated and will be removed in a future version.\n",
      "Instructions for updating:\n",
      "Use keras.layers.conv2d instead.\n"
     ]
    },
    {
     "name": "stderr",
     "output_type": "stream",
     "text": [
      "W0611 19:21:14.055674 47042464067200 deprecation.py:323] From /Vol0/user/a.vorontsova/odometry/submodules/tfoptflow/tfoptflow/model_pwcnet.py:1173: conv2d (from tensorflow.python.layers.convolutional) is deprecated and will be removed in a future version.\n",
      "Instructions for updating:\n",
      "Use keras.layers.conv2d instead.\n"
     ]
    },
    {
     "name": "stdout",
     "output_type": "stream",
     "text": [
      "WARNING:tensorflow:From /Vol0/user/a.vorontsova/odometry/submodules/tfoptflow/tfoptflow/model_pwcnet.py:1300: conv2d_transpose (from tensorflow.python.layers.convolutional) is deprecated and will be removed in a future version.\n",
      "Instructions for updating:\n",
      "Use keras.layers.conv2d_transpose instead.\n"
     ]
    },
    {
     "name": "stderr",
     "output_type": "stream",
     "text": [
      "W0611 19:21:15.294107 47042464067200 deprecation.py:323] From /Vol0/user/a.vorontsova/odometry/submodules/tfoptflow/tfoptflow/model_pwcnet.py:1300: conv2d_transpose (from tensorflow.python.layers.convolutional) is deprecated and will be removed in a future version.\n",
      "Instructions for updating:\n",
      "Use keras.layers.conv2d_transpose instead.\n"
     ]
    },
    {
     "name": "stdout",
     "output_type": "stream",
     "text": [
      "... model built.\n",
      "Loading model checkpoint /Vol0/user/f.konokhov/tfoptflow/tfoptflow/tmp/pwcnet.ckpt-84000 for eval or testing...\n",
      "\n",
      "INFO:tensorflow:Restoring parameters from /Vol0/user/f.konokhov/tfoptflow/tfoptflow/tmp/pwcnet.ckpt-84000\n"
     ]
    },
    {
     "name": "stderr",
     "output_type": "stream",
     "text": [
      "I0611 19:21:19.425765 47042464067200 saver.py:1270] Restoring parameters from /Vol0/user/f.konokhov/tfoptflow/tfoptflow/tmp/pwcnet.ckpt-84000\n"
     ]
    },
    {
     "name": "stdout",
     "output_type": "stream",
     "text": [
      "... model loaded\n"
     ]
    },
    {
     "data": {
      "text/plain": [
       "Estimator(dir=optical_flow, input_col=['path_to_rgb', 'path_to_rgb_next'], output_col=path_to_optical_flow, checkpoint=/Vol0/user/f.konokhov/tfoptflow/tfoptflow/tmp/pwcnet.ckpt-84000)"
      ]
     },
     "execution_count": 18,
     "metadata": {},
     "output_type": "execute_result"
    }
   ],
   "source": [
    "pwcnet_estimator = PWCNetEstimator(input_col=['path_to_rgb', 'path_to_rgb_next'],\n",
    "                                   output_col='path_to_optical_flow',\n",
    "                                   directory='optical_flow',\n",
    "                                   checkpoint=optical_flow_checkpoint,\n",
    "                                   height=height,\n",
    "                                   width=width)\n",
    "pwcnet_estimator"
   ]
  },
  {
   "cell_type": "code",
   "execution_count": 19,
   "metadata": {},
   "outputs": [
    {
     "data": {
      "text/plain": [
       "x                                                              -0.0469029\n",
       "y                                                              -0.0283993\n",
       "z                                                                0.858694\n",
       "euler_x                                                        0.00115596\n",
       "euler_y                                                       -0.00206633\n",
       "euler_z                                                      -0.000529652\n",
       "path_to_rgb             /dbstore/datasets/KITTI_odometry_2012/dataset/...\n",
       "x_next                                                         -0.0450533\n",
       "y_next                                                         -0.0273947\n",
       "z_next                                                           0.857708\n",
       "euler_x_next                                                   0.00115542\n",
       "euler_y_next                                                  -0.00206321\n",
       "euler_z_next                                                 -0.000526483\n",
       "path_to_rgb_next        /dbstore/datasets/KITTI_odometry_2012/dataset/...\n",
       "rx                                                           -5.32026e-07\n",
       "ry                                                            3.11947e-06\n",
       "rz                                                            3.16468e-06\n",
       "tx                                                             0.00184703\n",
       "ty                                                             0.00100441\n",
       "tz                                                           -0.000991017\n",
       "path_to_optical_flow              test_estimators/optical_flow/000001.npy\n",
       "Name: 0, dtype: object"
      ]
     },
     "execution_count": 19,
     "metadata": {},
     "output_type": "execute_result"
    }
   ],
   "source": [
    "row = pwcnet_estimator.run(row, dataset_root)\n",
    "row"
   ]
  },
  {
   "cell_type": "markdown",
   "metadata": {},
   "source": [
    "### Visual check"
   ]
  },
  {
   "cell_type": "code",
   "execution_count": 20,
   "metadata": {},
   "outputs": [
    {
     "name": "stdout",
     "output_type": "stream",
     "text": [
      "depth  optical_flow\r\n"
     ]
    }
   ],
   "source": [
    "!ls test_estimators"
   ]
  },
  {
   "cell_type": "code",
   "execution_count": 21,
   "metadata": {},
   "outputs": [
    {
     "data": {
      "image/png": "[encoded data removed]",
      "text/plain": [
       "<Figure size 1440x360 with 2 Axes>"
      ]
     },
     "metadata": {
      "needs_background": "light"
     },
     "output_type": "display_data"
    }
   ],
   "source": [
    "import matplotlib.pyplot as plt\n",
    "\n",
    "flow = np.load('test_estimators/optical_flow/000001.npy')\n",
    "\n",
    "fig, ax = plt.subplots(ncols=2, figsize=(20, 5))\n",
    "ax[0].imshow(flow[..., 0], cmap='RdBu')\n",
    "ax[1].imshow(flow[..., 1], cmap='RdBu')\n",
    "plt.show()"
   ]
  },
  {
   "cell_type": "code",
   "execution_count": 22,
   "metadata": {},
   "outputs": [
    {
     "data": {
      "image/png": "[encoded data removed]",
      "text/plain": [
       "<Figure size 720x360 with 1 Axes>"
      ]
     },
     "metadata": {
      "needs_background": "light"
     },
     "output_type": "display_data"
    }
   ],
   "source": [
    "depth = np.load('test_estimators/depth/000000.npy')\n",
    "\n",
    "fig, ax = plt.subplots(figsize=(10, 5))\n",
    "ax.imshow(depth[..., 0], cmap='gray')\n",
    "plt.show()"
   ]
  },
  {
   "cell_type": "markdown",
   "metadata": {},
   "source": [
    "### Full pipeline"
   ]
  },
  {
   "cell_type": "code",
   "execution_count": 23,
   "metadata": {},
   "outputs": [
    {
     "name": "stdout",
     "output_type": "stream",
     "text": [
      "(4540, 7)\n"
     ]
    },
    {
     "data": {
      "text/html": [
       "<div>\n",
       "<style scoped>\n",
       "    .dataframe tbody tr th:only-of-type {\n",
       "        vertical-align: middle;\n",
       "    }\n",
       "\n",
       "    .dataframe tbody tr th {\n",
       "        vertical-align: top;\n",
       "    }\n",
       "\n",
       "    .dataframe thead th {\n",
       "        text-align: right;\n",
       "    }\n",
       "</style>\n",
       "<table border=\"1\" class=\"dataframe\">\n",
       "  <thead>\n",
       "    <tr style=\"text-align: right;\">\n",
       "      <th></th>\n",
       "      <th>x</th>\n",
       "      <th>y</th>\n",
       "      <th>z</th>\n",
       "      <th>euler_x</th>\n",
       "      <th>euler_y</th>\n",
       "      <th>euler_z</th>\n",
       "      <th>path_to_rgb</th>\n",
       "    </tr>\n",
       "  </thead>\n",
       "  <tbody>\n",
       "    <tr>\n",
       "      <th>0</th>\n",
       "      <td>-0.046903</td>\n",
       "      <td>-0.028399</td>\n",
       "      <td>0.858694</td>\n",
       "      <td>0.001156</td>\n",
       "      <td>-0.002066</td>\n",
       "      <td>-0.000530</td>\n",
       "      <td>/dbstore/datasets/KITTI_odometry_2012/dataset/...</td>\n",
       "    </tr>\n",
       "    <tr>\n",
       "      <th>1</th>\n",
       "      <td>-0.045053</td>\n",
       "      <td>-0.027395</td>\n",
       "      <td>0.857708</td>\n",
       "      <td>0.001155</td>\n",
       "      <td>-0.002063</td>\n",
       "      <td>-0.000526</td>\n",
       "      <td>/dbstore/datasets/KITTI_odometry_2012/dataset/...</td>\n",
       "    </tr>\n",
       "    <tr>\n",
       "      <th>2</th>\n",
       "      <td>-0.043324</td>\n",
       "      <td>-0.026460</td>\n",
       "      <td>0.858939</td>\n",
       "      <td>0.001158</td>\n",
       "      <td>-0.002065</td>\n",
       "      <td>-0.000525</td>\n",
       "      <td>/dbstore/datasets/KITTI_odometry_2012/dataset/...</td>\n",
       "    </tr>\n",
       "    <tr>\n",
       "      <th>3</th>\n",
       "      <td>-0.041485</td>\n",
       "      <td>-0.025457</td>\n",
       "      <td>0.858051</td>\n",
       "      <td>0.001157</td>\n",
       "      <td>-0.002063</td>\n",
       "      <td>-0.000522</td>\n",
       "      <td>/dbstore/datasets/KITTI_odometry_2012/dataset/...</td>\n",
       "    </tr>\n",
       "    <tr>\n",
       "      <th>4</th>\n",
       "      <td>-0.039747</td>\n",
       "      <td>-0.024513</td>\n",
       "      <td>0.859167</td>\n",
       "      <td>0.001160</td>\n",
       "      <td>-0.002065</td>\n",
       "      <td>-0.000520</td>\n",
       "      <td>/dbstore/datasets/KITTI_odometry_2012/dataset/...</td>\n",
       "    </tr>\n",
       "  </tbody>\n",
       "</table>\n",
       "</div>"
      ],
      "text/plain": [
       "          x         y         z   euler_x   euler_y   euler_z  \\\n",
       "0 -0.046903 -0.028399  0.858694  0.001156 -0.002066 -0.000530   \n",
       "1 -0.045053 -0.027395  0.857708  0.001155 -0.002063 -0.000526   \n",
       "2 -0.043324 -0.026460  0.858939  0.001158 -0.002065 -0.000525   \n",
       "3 -0.041485 -0.025457  0.858051  0.001157 -0.002063 -0.000522   \n",
       "4 -0.039747 -0.024513  0.859167  0.001160 -0.002065 -0.000520   \n",
       "\n",
       "                                         path_to_rgb  \n",
       "0  /dbstore/datasets/KITTI_odometry_2012/dataset/...  \n",
       "1  /dbstore/datasets/KITTI_odometry_2012/dataset/...  \n",
       "2  /dbstore/datasets/KITTI_odometry_2012/dataset/...  \n",
       "3  /dbstore/datasets/KITTI_odometry_2012/dataset/...  \n",
       "4  /dbstore/datasets/KITTI_odometry_2012/dataset/...  "
      ]
     },
     "execution_count": 23,
     "metadata": {},
     "output_type": "execute_result"
    }
   ],
   "source": [
    "dataframe = pd.read_csv('/dbstore/datasets/KITTI_odometry_2012/dataset/sequences/00/df.csv', index_col=0)\n",
    "dataframe = dataframe[['x', 'y', 'z', 'euler_x', 'euler_y', 'euler_z', 'path_to_rgb']]\n",
    "dataframe.path_to_rgb = dataframe.path_to_rgb.apply(\n",
    "    lambda x: os.path.join('/dbstore/datasets/KITTI_odometry_2012/dataset/sequences/00/', x))\n",
    "print(dataframe.shape)\n",
    "dataframe.head()"
   ]
  },
  {
   "cell_type": "code",
   "execution_count": 24,
   "metadata": {},
   "outputs": [],
   "source": [
    "single_estimators = [struct2depth_estimator]\n",
    "double_estimators = [global2relative_estimator, pwcnet_estimator]"
   ]
  },
  {
   "cell_type": "code",
   "execution_count": 25,
   "metadata": {},
   "outputs": [
    {
     "name": "stdout",
     "output_type": "stream",
     "text": [
      "(4540, 8)\n"
     ]
    },
    {
     "data": {
      "text/html": [
       "<div>\n",
       "<style scoped>\n",
       "    .dataframe tbody tr th:only-of-type {\n",
       "        vertical-align: middle;\n",
       "    }\n",
       "\n",
       "    .dataframe tbody tr th {\n",
       "        vertical-align: top;\n",
       "    }\n",
       "\n",
       "    .dataframe thead th {\n",
       "        text-align: right;\n",
       "    }\n",
       "</style>\n",
       "<table border=\"1\" class=\"dataframe\">\n",
       "  <thead>\n",
       "    <tr style=\"text-align: right;\">\n",
       "      <th></th>\n",
       "      <th>x</th>\n",
       "      <th>y</th>\n",
       "      <th>z</th>\n",
       "      <th>euler_x</th>\n",
       "      <th>euler_y</th>\n",
       "      <th>euler_z</th>\n",
       "      <th>path_to_rgb</th>\n",
       "      <th>path_to_depth</th>\n",
       "    </tr>\n",
       "  </thead>\n",
       "  <tbody>\n",
       "    <tr>\n",
       "      <th>0</th>\n",
       "      <td>-0.046903</td>\n",
       "      <td>-0.028399</td>\n",
       "      <td>0.858694</td>\n",
       "      <td>0.001156</td>\n",
       "      <td>-0.002066</td>\n",
       "      <td>-0.000530</td>\n",
       "      <td>/dbstore/datasets/KITTI_odometry_2012/dataset/...</td>\n",
       "      <td>test_estimators/depth/000000.npy</td>\n",
       "    </tr>\n",
       "    <tr>\n",
       "      <th>1</th>\n",
       "      <td>-0.045053</td>\n",
       "      <td>-0.027395</td>\n",
       "      <td>0.857708</td>\n",
       "      <td>0.001155</td>\n",
       "      <td>-0.002063</td>\n",
       "      <td>-0.000526</td>\n",
       "      <td>/dbstore/datasets/KITTI_odometry_2012/dataset/...</td>\n",
       "      <td>test_estimators/depth/000001.npy</td>\n",
       "    </tr>\n",
       "    <tr>\n",
       "      <th>2</th>\n",
       "      <td>-0.043324</td>\n",
       "      <td>-0.026460</td>\n",
       "      <td>0.858939</td>\n",
       "      <td>0.001158</td>\n",
       "      <td>-0.002065</td>\n",
       "      <td>-0.000525</td>\n",
       "      <td>/dbstore/datasets/KITTI_odometry_2012/dataset/...</td>\n",
       "      <td>test_estimators/depth/000002.npy</td>\n",
       "    </tr>\n",
       "    <tr>\n",
       "      <th>3</th>\n",
       "      <td>-0.041485</td>\n",
       "      <td>-0.025457</td>\n",
       "      <td>0.858051</td>\n",
       "      <td>0.001157</td>\n",
       "      <td>-0.002063</td>\n",
       "      <td>-0.000522</td>\n",
       "      <td>/dbstore/datasets/KITTI_odometry_2012/dataset/...</td>\n",
       "      <td>test_estimators/depth/000003.npy</td>\n",
       "    </tr>\n",
       "    <tr>\n",
       "      <th>4</th>\n",
       "      <td>-0.039747</td>\n",
       "      <td>-0.024513</td>\n",
       "      <td>0.859167</td>\n",
       "      <td>0.001160</td>\n",
       "      <td>-0.002065</td>\n",
       "      <td>-0.000520</td>\n",
       "      <td>/dbstore/datasets/KITTI_odometry_2012/dataset/...</td>\n",
       "      <td>test_estimators/depth/000004.npy</td>\n",
       "    </tr>\n",
       "  </tbody>\n",
       "</table>\n",
       "</div>"
      ],
      "text/plain": [
       "          x         y         z   euler_x   euler_y   euler_z  \\\n",
       "0 -0.046903 -0.028399  0.858694  0.001156 -0.002066 -0.000530   \n",
       "1 -0.045053 -0.027395  0.857708  0.001155 -0.002063 -0.000526   \n",
       "2 -0.043324 -0.026460  0.858939  0.001158 -0.002065 -0.000525   \n",
       "3 -0.041485 -0.025457  0.858051  0.001157 -0.002063 -0.000522   \n",
       "4 -0.039747 -0.024513  0.859167  0.001160 -0.002065 -0.000520   \n",
       "\n",
       "                                         path_to_rgb  \\\n",
       "0  /dbstore/datasets/KITTI_odometry_2012/dataset/...   \n",
       "1  /dbstore/datasets/KITTI_odometry_2012/dataset/...   \n",
       "2  /dbstore/datasets/KITTI_odometry_2012/dataset/...   \n",
       "3  /dbstore/datasets/KITTI_odometry_2012/dataset/...   \n",
       "4  /dbstore/datasets/KITTI_odometry_2012/dataset/...   \n",
       "\n",
       "                      path_to_depth  \n",
       "0  test_estimators/depth/000000.npy  \n",
       "1  test_estimators/depth/000001.npy  \n",
       "2  test_estimators/depth/000002.npy  \n",
       "3  test_estimators/depth/000003.npy  \n",
       "4  test_estimators/depth/000004.npy  "
      ]
     },
     "execution_count": 25,
     "metadata": {},
     "output_type": "execute_result"
    }
   ],
   "source": [
    "rows = []\n",
    "for index, row in dataframe.iterrows():\n",
    "    for estimator in single_estimators:\n",
    "        row = estimator.run(row, dataset_root)\n",
    "    rows.append(row)\n",
    "    \n",
    "dataframe = pd.DataFrame(rows)\n",
    "print(dataframe.shape)\n",
    "dataframe.head()"
   ]
  },
  {
   "cell_type": "code",
   "execution_count": 26,
   "metadata": {},
   "outputs": [
    {
     "name": "stdout",
     "output_type": "stream",
     "text": [
      "(4539, 16)\n"
     ]
    },
    {
     "data": {
      "text/html": [
       "<div>\n",
       "<style scoped>\n",
       "    .dataframe tbody tr th:only-of-type {\n",
       "        vertical-align: middle;\n",
       "    }\n",
       "\n",
       "    .dataframe tbody tr th {\n",
       "        vertical-align: top;\n",
       "    }\n",
       "\n",
       "    .dataframe thead th {\n",
       "        text-align: right;\n",
       "    }\n",
       "</style>\n",
       "<table border=\"1\" class=\"dataframe\">\n",
       "  <thead>\n",
       "    <tr style=\"text-align: right;\">\n",
       "      <th></th>\n",
       "      <th>x</th>\n",
       "      <th>y</th>\n",
       "      <th>z</th>\n",
       "      <th>euler_x</th>\n",
       "      <th>euler_y</th>\n",
       "      <th>euler_z</th>\n",
       "      <th>path_to_rgb</th>\n",
       "      <th>path_to_depth</th>\n",
       "      <th>x_next</th>\n",
       "      <th>y_next</th>\n",
       "      <th>z_next</th>\n",
       "      <th>euler_x_next</th>\n",
       "      <th>euler_y_next</th>\n",
       "      <th>euler_z_next</th>\n",
       "      <th>path_to_rgb_next</th>\n",
       "      <th>path_to_depth_next</th>\n",
       "    </tr>\n",
       "  </thead>\n",
       "  <tbody>\n",
       "    <tr>\n",
       "      <th>0</th>\n",
       "      <td>-0.046903</td>\n",
       "      <td>-0.028399</td>\n",
       "      <td>0.858694</td>\n",
       "      <td>0.001156</td>\n",
       "      <td>-0.002066</td>\n",
       "      <td>-0.000530</td>\n",
       "      <td>/dbstore/datasets/KITTI_odometry_2012/dataset/...</td>\n",
       "      <td>test_estimators/depth/000000.npy</td>\n",
       "      <td>-0.045053</td>\n",
       "      <td>-0.027395</td>\n",
       "      <td>0.857708</td>\n",
       "      <td>0.001155</td>\n",
       "      <td>-0.002063</td>\n",
       "      <td>-0.000526</td>\n",
       "      <td>/dbstore/datasets/KITTI_odometry_2012/dataset/...</td>\n",
       "      <td>test_estimators/depth/000001.npy</td>\n",
       "    </tr>\n",
       "    <tr>\n",
       "      <th>1</th>\n",
       "      <td>-0.045053</td>\n",
       "      <td>-0.027395</td>\n",
       "      <td>0.857708</td>\n",
       "      <td>0.001155</td>\n",
       "      <td>-0.002063</td>\n",
       "      <td>-0.000526</td>\n",
       "      <td>/dbstore/datasets/KITTI_odometry_2012/dataset/...</td>\n",
       "      <td>test_estimators/depth/000001.npy</td>\n",
       "      <td>-0.043324</td>\n",
       "      <td>-0.026460</td>\n",
       "      <td>0.858939</td>\n",
       "      <td>0.001158</td>\n",
       "      <td>-0.002065</td>\n",
       "      <td>-0.000525</td>\n",
       "      <td>/dbstore/datasets/KITTI_odometry_2012/dataset/...</td>\n",
       "      <td>test_estimators/depth/000002.npy</td>\n",
       "    </tr>\n",
       "    <tr>\n",
       "      <th>2</th>\n",
       "      <td>-0.043324</td>\n",
       "      <td>-0.026460</td>\n",
       "      <td>0.858939</td>\n",
       "      <td>0.001158</td>\n",
       "      <td>-0.002065</td>\n",
       "      <td>-0.000525</td>\n",
       "      <td>/dbstore/datasets/KITTI_odometry_2012/dataset/...</td>\n",
       "      <td>test_estimators/depth/000002.npy</td>\n",
       "      <td>-0.041485</td>\n",
       "      <td>-0.025457</td>\n",
       "      <td>0.858051</td>\n",
       "      <td>0.001157</td>\n",
       "      <td>-0.002063</td>\n",
       "      <td>-0.000522</td>\n",
       "      <td>/dbstore/datasets/KITTI_odometry_2012/dataset/...</td>\n",
       "      <td>test_estimators/depth/000003.npy</td>\n",
       "    </tr>\n",
       "    <tr>\n",
       "      <th>3</th>\n",
       "      <td>-0.041485</td>\n",
       "      <td>-0.025457</td>\n",
       "      <td>0.858051</td>\n",
       "      <td>0.001157</td>\n",
       "      <td>-0.002063</td>\n",
       "      <td>-0.000522</td>\n",
       "      <td>/dbstore/datasets/KITTI_odometry_2012/dataset/...</td>\n",
       "      <td>test_estimators/depth/000003.npy</td>\n",
       "      <td>-0.039747</td>\n",
       "      <td>-0.024513</td>\n",
       "      <td>0.859167</td>\n",
       "      <td>0.001160</td>\n",
       "      <td>-0.002065</td>\n",
       "      <td>-0.000520</td>\n",
       "      <td>/dbstore/datasets/KITTI_odometry_2012/dataset/...</td>\n",
       "      <td>test_estimators/depth/000004.npy</td>\n",
       "    </tr>\n",
       "    <tr>\n",
       "      <th>4</th>\n",
       "      <td>-0.039747</td>\n",
       "      <td>-0.024513</td>\n",
       "      <td>0.859167</td>\n",
       "      <td>0.001160</td>\n",
       "      <td>-0.002065</td>\n",
       "      <td>-0.000520</td>\n",
       "      <td>/dbstore/datasets/KITTI_odometry_2012/dataset/...</td>\n",
       "      <td>test_estimators/depth/000004.npy</td>\n",
       "      <td>-0.037913</td>\n",
       "      <td>-0.023508</td>\n",
       "      <td>0.858240</td>\n",
       "      <td>0.001159</td>\n",
       "      <td>-0.002062</td>\n",
       "      <td>-0.000517</td>\n",
       "      <td>/dbstore/datasets/KITTI_odometry_2012/dataset/...</td>\n",
       "      <td>test_estimators/depth/000005.npy</td>\n",
       "    </tr>\n",
       "  </tbody>\n",
       "</table>\n",
       "</div>"
      ],
      "text/plain": [
       "          x         y         z   euler_x   euler_y   euler_z  \\\n",
       "0 -0.046903 -0.028399  0.858694  0.001156 -0.002066 -0.000530   \n",
       "1 -0.045053 -0.027395  0.857708  0.001155 -0.002063 -0.000526   \n",
       "2 -0.043324 -0.026460  0.858939  0.001158 -0.002065 -0.000525   \n",
       "3 -0.041485 -0.025457  0.858051  0.001157 -0.002063 -0.000522   \n",
       "4 -0.039747 -0.024513  0.859167  0.001160 -0.002065 -0.000520   \n",
       "\n",
       "                                         path_to_rgb  \\\n",
       "0  /dbstore/datasets/KITTI_odometry_2012/dataset/...   \n",
       "1  /dbstore/datasets/KITTI_odometry_2012/dataset/...   \n",
       "2  /dbstore/datasets/KITTI_odometry_2012/dataset/...   \n",
       "3  /dbstore/datasets/KITTI_odometry_2012/dataset/...   \n",
       "4  /dbstore/datasets/KITTI_odometry_2012/dataset/...   \n",
       "\n",
       "                      path_to_depth    x_next    y_next    z_next  \\\n",
       "0  test_estimators/depth/000000.npy -0.045053 -0.027395  0.857708   \n",
       "1  test_estimators/depth/000001.npy -0.043324 -0.026460  0.858939   \n",
       "2  test_estimators/depth/000002.npy -0.041485 -0.025457  0.858051   \n",
       "3  test_estimators/depth/000003.npy -0.039747 -0.024513  0.859167   \n",
       "4  test_estimators/depth/000004.npy -0.037913 -0.023508  0.858240   \n",
       "\n",
       "   euler_x_next  euler_y_next  euler_z_next  \\\n",
       "0      0.001155     -0.002063     -0.000526   \n",
       "1      0.001158     -0.002065     -0.000525   \n",
       "2      0.001157     -0.002063     -0.000522   \n",
       "3      0.001160     -0.002065     -0.000520   \n",
       "4      0.001159     -0.002062     -0.000517   \n",
       "\n",
       "                                    path_to_rgb_next  \\\n",
       "0  /dbstore/datasets/KITTI_odometry_2012/dataset/...   \n",
       "1  /dbstore/datasets/KITTI_odometry_2012/dataset/...   \n",
       "2  /dbstore/datasets/KITTI_odometry_2012/dataset/...   \n",
       "3  /dbstore/datasets/KITTI_odometry_2012/dataset/...   \n",
       "4  /dbstore/datasets/KITTI_odometry_2012/dataset/...   \n",
       "\n",
       "                 path_to_depth_next  \n",
       "0  test_estimators/depth/000001.npy  \n",
       "1  test_estimators/depth/000002.npy  \n",
       "2  test_estimators/depth/000003.npy  \n",
       "3  test_estimators/depth/000004.npy  \n",
       "4  test_estimators/depth/000005.npy  "
      ]
     },
     "execution_count": 26,
     "metadata": {},
     "output_type": "execute_result"
    }
   ],
   "source": [
    "dataframe = dataframe[:-1].join(dataframe[1:].copy().reset_index(), rsuffix='_next')\n",
    "dataframe.drop('index', axis=1, inplace=True)\n",
    "print(dataframe.shape)\n",
    "dataframe.head()"
   ]
  },
  {
   "cell_type": "code",
   "execution_count": 27,
   "metadata": {},
   "outputs": [
    {
     "name": "stdout",
     "output_type": "stream",
     "text": [
      "(4539, 23)\n"
     ]
    },
    {
     "data": {
      "text/html": [
       "<div>\n",
       "<style scoped>\n",
       "    .dataframe tbody tr th:only-of-type {\n",
       "        vertical-align: middle;\n",
       "    }\n",
       "\n",
       "    .dataframe tbody tr th {\n",
       "        vertical-align: top;\n",
       "    }\n",
       "\n",
       "    .dataframe thead th {\n",
       "        text-align: right;\n",
       "    }\n",
       "</style>\n",
       "<table border=\"1\" class=\"dataframe\">\n",
       "  <thead>\n",
       "    <tr style=\"text-align: right;\">\n",
       "      <th></th>\n",
       "      <th>x</th>\n",
       "      <th>y</th>\n",
       "      <th>z</th>\n",
       "      <th>euler_x</th>\n",
       "      <th>euler_y</th>\n",
       "      <th>euler_z</th>\n",
       "      <th>path_to_rgb</th>\n",
       "      <th>path_to_depth</th>\n",
       "      <th>x_next</th>\n",
       "      <th>y_next</th>\n",
       "      <th>...</th>\n",
       "      <th>euler_z_next</th>\n",
       "      <th>path_to_rgb_next</th>\n",
       "      <th>path_to_depth_next</th>\n",
       "      <th>rx</th>\n",
       "      <th>ry</th>\n",
       "      <th>rz</th>\n",
       "      <th>tx</th>\n",
       "      <th>ty</th>\n",
       "      <th>tz</th>\n",
       "      <th>path_to_optical_flow</th>\n",
       "    </tr>\n",
       "  </thead>\n",
       "  <tbody>\n",
       "    <tr>\n",
       "      <th>0</th>\n",
       "      <td>-0.046903</td>\n",
       "      <td>-0.028399</td>\n",
       "      <td>0.858694</td>\n",
       "      <td>0.001156</td>\n",
       "      <td>-0.002066</td>\n",
       "      <td>-0.000530</td>\n",
       "      <td>/dbstore/datasets/KITTI_odometry_2012/dataset/...</td>\n",
       "      <td>test_estimators/depth/000000.npy</td>\n",
       "      <td>-0.045053</td>\n",
       "      <td>-0.027395</td>\n",
       "      <td>...</td>\n",
       "      <td>-0.000526</td>\n",
       "      <td>/dbstore/datasets/KITTI_odometry_2012/dataset/...</td>\n",
       "      <td>test_estimators/depth/000001.npy</td>\n",
       "      <td>-5.320257e-07</td>\n",
       "      <td>0.000003</td>\n",
       "      <td>0.000003</td>\n",
       "      <td>0.001847</td>\n",
       "      <td>0.001004</td>\n",
       "      <td>-0.000991</td>\n",
       "      <td>test_estimators/optical_flow/000001.npy</td>\n",
       "    </tr>\n",
       "    <tr>\n",
       "      <th>1</th>\n",
       "      <td>-0.045053</td>\n",
       "      <td>-0.027395</td>\n",
       "      <td>0.857708</td>\n",
       "      <td>0.001155</td>\n",
       "      <td>-0.002063</td>\n",
       "      <td>-0.000526</td>\n",
       "      <td>/dbstore/datasets/KITTI_odometry_2012/dataset/...</td>\n",
       "      <td>test_estimators/depth/000001.npy</td>\n",
       "      <td>-0.043324</td>\n",
       "      <td>-0.026460</td>\n",
       "      <td>...</td>\n",
       "      <td>-0.000525</td>\n",
       "      <td>/dbstore/datasets/KITTI_odometry_2012/dataset/...</td>\n",
       "      <td>test_estimators/depth/000002.npy</td>\n",
       "      <td>2.466066e-06</td>\n",
       "      <td>-0.000002</td>\n",
       "      <td>0.000002</td>\n",
       "      <td>0.001732</td>\n",
       "      <td>0.000937</td>\n",
       "      <td>0.001226</td>\n",
       "      <td>test_estimators/optical_flow/000002.npy</td>\n",
       "    </tr>\n",
       "    <tr>\n",
       "      <th>2</th>\n",
       "      <td>-0.043324</td>\n",
       "      <td>-0.026460</td>\n",
       "      <td>0.858939</td>\n",
       "      <td>0.001158</td>\n",
       "      <td>-0.002065</td>\n",
       "      <td>-0.000525</td>\n",
       "      <td>/dbstore/datasets/KITTI_odometry_2012/dataset/...</td>\n",
       "      <td>test_estimators/depth/000002.npy</td>\n",
       "      <td>-0.041485</td>\n",
       "      <td>-0.025457</td>\n",
       "      <td>...</td>\n",
       "      <td>-0.000522</td>\n",
       "      <td>/dbstore/datasets/KITTI_odometry_2012/dataset/...</td>\n",
       "      <td>test_estimators/depth/000003.npy</td>\n",
       "      <td>-3.886896e-07</td>\n",
       "      <td>0.000003</td>\n",
       "      <td>0.000003</td>\n",
       "      <td>0.001836</td>\n",
       "      <td>0.001003</td>\n",
       "      <td>-0.000893</td>\n",
       "      <td>test_estimators/optical_flow/000003.npy</td>\n",
       "    </tr>\n",
       "    <tr>\n",
       "      <th>3</th>\n",
       "      <td>-0.041485</td>\n",
       "      <td>-0.025457</td>\n",
       "      <td>0.858051</td>\n",
       "      <td>0.001157</td>\n",
       "      <td>-0.002063</td>\n",
       "      <td>-0.000522</td>\n",
       "      <td>/dbstore/datasets/KITTI_odometry_2012/dataset/...</td>\n",
       "      <td>test_estimators/depth/000003.npy</td>\n",
       "      <td>-0.039747</td>\n",
       "      <td>-0.024513</td>\n",
       "      <td>...</td>\n",
       "      <td>-0.000520</td>\n",
       "      <td>/dbstore/datasets/KITTI_odometry_2012/dataset/...</td>\n",
       "      <td>test_estimators/depth/000004.npy</td>\n",
       "      <td>2.324596e-06</td>\n",
       "      <td>-0.000002</td>\n",
       "      <td>0.000002</td>\n",
       "      <td>0.001740</td>\n",
       "      <td>0.000946</td>\n",
       "      <td>0.001112</td>\n",
       "      <td>test_estimators/optical_flow/000004.npy</td>\n",
       "    </tr>\n",
       "    <tr>\n",
       "      <th>4</th>\n",
       "      <td>-0.039747</td>\n",
       "      <td>-0.024513</td>\n",
       "      <td>0.859167</td>\n",
       "      <td>0.001160</td>\n",
       "      <td>-0.002065</td>\n",
       "      <td>-0.000520</td>\n",
       "      <td>/dbstore/datasets/KITTI_odometry_2012/dataset/...</td>\n",
       "      <td>test_estimators/depth/000004.npy</td>\n",
       "      <td>-0.037913</td>\n",
       "      <td>-0.023508</td>\n",
       "      <td>...</td>\n",
       "      <td>-0.000517</td>\n",
       "      <td>/dbstore/datasets/KITTI_odometry_2012/dataset/...</td>\n",
       "      <td>test_estimators/depth/000005.npy</td>\n",
       "      <td>-4.306027e-07</td>\n",
       "      <td>0.000003</td>\n",
       "      <td>0.000003</td>\n",
       "      <td>0.001832</td>\n",
       "      <td>0.001005</td>\n",
       "      <td>-0.000933</td>\n",
       "      <td>test_estimators/optical_flow/000005.npy</td>\n",
       "    </tr>\n",
       "  </tbody>\n",
       "</table>\n",
       "<p>5 rows × 23 columns</p>\n",
       "</div>"
      ],
      "text/plain": [
       "          x         y         z   euler_x   euler_y   euler_z  \\\n",
       "0 -0.046903 -0.028399  0.858694  0.001156 -0.002066 -0.000530   \n",
       "1 -0.045053 -0.027395  0.857708  0.001155 -0.002063 -0.000526   \n",
       "2 -0.043324 -0.026460  0.858939  0.001158 -0.002065 -0.000525   \n",
       "3 -0.041485 -0.025457  0.858051  0.001157 -0.002063 -0.000522   \n",
       "4 -0.039747 -0.024513  0.859167  0.001160 -0.002065 -0.000520   \n",
       "\n",
       "                                         path_to_rgb  \\\n",
       "0  /dbstore/datasets/KITTI_odometry_2012/dataset/...   \n",
       "1  /dbstore/datasets/KITTI_odometry_2012/dataset/...   \n",
       "2  /dbstore/datasets/KITTI_odometry_2012/dataset/...   \n",
       "3  /dbstore/datasets/KITTI_odometry_2012/dataset/...   \n",
       "4  /dbstore/datasets/KITTI_odometry_2012/dataset/...   \n",
       "\n",
       "                      path_to_depth    x_next    y_next  \\\n",
       "0  test_estimators/depth/000000.npy -0.045053 -0.027395   \n",
       "1  test_estimators/depth/000001.npy -0.043324 -0.026460   \n",
       "2  test_estimators/depth/000002.npy -0.041485 -0.025457   \n",
       "3  test_estimators/depth/000003.npy -0.039747 -0.024513   \n",
       "4  test_estimators/depth/000004.npy -0.037913 -0.023508   \n",
       "\n",
       "                    ...                     euler_z_next  \\\n",
       "0                   ...                        -0.000526   \n",
       "1                   ...                        -0.000525   \n",
       "2                   ...                        -0.000522   \n",
       "3                   ...                        -0.000520   \n",
       "4                   ...                        -0.000517   \n",
       "\n",
       "                                    path_to_rgb_next  \\\n",
       "0  /dbstore/datasets/KITTI_odometry_2012/dataset/...   \n",
       "1  /dbstore/datasets/KITTI_odometry_2012/dataset/...   \n",
       "2  /dbstore/datasets/KITTI_odometry_2012/dataset/...   \n",
       "3  /dbstore/datasets/KITTI_odometry_2012/dataset/...   \n",
       "4  /dbstore/datasets/KITTI_odometry_2012/dataset/...   \n",
       "\n",
       "                 path_to_depth_next            rx        ry        rz  \\\n",
       "0  test_estimators/depth/000001.npy -5.320257e-07  0.000003  0.000003   \n",
       "1  test_estimators/depth/000002.npy  2.466066e-06 -0.000002  0.000002   \n",
       "2  test_estimators/depth/000003.npy -3.886896e-07  0.000003  0.000003   \n",
       "3  test_estimators/depth/000004.npy  2.324596e-06 -0.000002  0.000002   \n",
       "4  test_estimators/depth/000005.npy -4.306027e-07  0.000003  0.000003   \n",
       "\n",
       "         tx        ty        tz                     path_to_optical_flow  \n",
       "0  0.001847  0.001004 -0.000991  test_estimators/optical_flow/000001.npy  \n",
       "1  0.001732  0.000937  0.001226  test_estimators/optical_flow/000002.npy  \n",
       "2  0.001836  0.001003 -0.000893  test_estimators/optical_flow/000003.npy  \n",
       "3  0.001740  0.000946  0.001112  test_estimators/optical_flow/000004.npy  \n",
       "4  0.001832  0.001005 -0.000933  test_estimators/optical_flow/000005.npy  \n",
       "\n",
       "[5 rows x 23 columns]"
      ]
     },
     "execution_count": 27,
     "metadata": {},
     "output_type": "execute_result"
    }
   ],
   "source": [
    "rows = []\n",
    "for index, row in dataframe.iterrows():\n",
    "    for estimator in double_estimators:\n",
    "        row = estimator.run(row, dataset_root)\n",
    "    rows.append(row)\n",
    "\n",
    "dataframe = pd.DataFrame(rows)\n",
    "print(dataframe.shape)\n",
    "dataframe.head()"
   ]
  },
  {
   "cell_type": "code",
   "execution_count": null,
   "metadata": {},
   "outputs": [],
   "source": []
  }
 ],
 "metadata": {
  "kernelspec": {
   "display_name": "Python 3",
   "language": "python",
   "name": "python3"
  },
  "language_info": {
   "codemirror_mode": {
    "name": "ipython",
    "version": 3
   },
   "file_extension": ".py",
   "mimetype": "text/x-python",
   "name": "python",
   "nbconvert_exporter": "python",
   "pygments_lexer": "ipython3",
   "version": "3.6.8"
  }
 },
 "nbformat": 4,
 "nbformat_minor": 2
}
