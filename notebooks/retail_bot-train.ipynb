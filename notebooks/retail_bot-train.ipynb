{
 "cells": [
  {
   "cell_type": "code",
   "execution_count": 1,
   "metadata": {},
   "outputs": [],
   "source": [
    "%load_ext autoreload\n",
    "%autoreload 2"
   ]
  },
  {
   "cell_type": "code",
   "execution_count": 2,
   "metadata": {},
   "outputs": [],
   "source": [
    "import os\n",
    "import sys\n",
    "import numpy as np\n",
    "import warnings\n",
    "warnings.simplefilter('ignore')"
   ]
  },
  {
   "cell_type": "code",
   "execution_count": 3,
   "metadata": {},
   "outputs": [],
   "source": [
    "sys.path.append('/Vol0/user/f.konokhov/odometry/')"
   ]
  },
  {
   "cell_type": "code",
   "execution_count": 4,
   "metadata": {},
   "outputs": [],
   "source": [
    "import sys\n",
    "sys.path.append('/Vol0/user/f.konokhov/FlavorNet/utilities/slam_metrics')\n",
    "sys.path.append('/Vol0/user/f.konokhov/FlavorNet/')"
   ]
  },
  {
   "cell_type": "code",
   "execution_count": 7,
   "metadata": {},
   "outputs": [
    {
     "data": {
      "application/javascript": [
       "var command = \"NOTEBOOK_PATH = '\" + IPython.notebook.notebook_path + \"'\";\n",
       "IPython.notebook.kernel.execute(command);\n"
      ],
      "text/plain": [
       "<IPython.core.display.Javascript object>"
      ]
     },
     "metadata": {},
     "output_type": "display_data"
    }
   ],
   "source": [
    "%%javascript\n",
    "var command = \"NOTEBOOK_PATH = '\" + IPython.notebook.notebook_path + \"'\";\n",
    "IPython.notebook.kernel.execute(command);"
   ]
  },
  {
   "cell_type": "code",
   "execution_count": 8,
   "metadata": {},
   "outputs": [
    {
     "data": {
      "text/plain": [
       "'odometry/notebooks/retail_bot-train.ipynb'"
      ]
     },
     "execution_count": 8,
     "metadata": {},
     "output_type": "execute_result"
    }
   ],
   "source": [
    "NOTEBOOK_PATH"
   ]
  },
  {
   "cell_type": "code",
   "execution_count": 9,
   "metadata": {},
   "outputs": [
    {
     "name": "stderr",
     "output_type": "stream",
     "text": [
      "Using TensorFlow backend.\n"
     ]
    },
    {
     "name": "stdout",
     "output_type": "stream",
     "text": [
      "notebook_id = \"notebooks-retail_bot-train\"\n",
      "experiment_id = \"notebooks-retail_bot-train_2019-06-11-12:02:52\"\n"
     ]
    }
   ],
   "source": [
    "from FlavorNet.models.train import set_notebook_id, set_experiment_id\n",
    "notebook_id = set_notebook_id(NOTEBOOK_PATH)\n",
    "experiment_id = set_experiment_id(notebook_id)"
   ]
  },
  {
   "cell_type": "code",
   "execution_count": 10,
   "metadata": {},
   "outputs": [
    {
     "name": "stdout",
     "output_type": "stream",
     "text": [
      "Tue Jun 11 15:03:04 2019       \r\n",
      "+-----------------------------------------------------------------------------+\r\n",
      "| NVIDIA-SMI 418.40.04    Driver Version: 418.40.04    CUDA Version: 10.1     |\r\n",
      "|-------------------------------+----------------------+----------------------+\r\n",
      "| GPU  Name        Persistence-M| Bus-Id        Disp.A | Volatile Uncorr. ECC |\r\n",
      "| Fan  Temp  Perf  Pwr:Usage/Cap|         Memory-Usage | GPU-Util  Compute M. |\r\n",
      "|===============================+======================+======================|\r\n",
      "|   0  Tesla P40           Off  | 00000000:04:00.0 Off |                  Off |\r\n",
      "| N/A   37C    P0    50W / 250W |   1125MiB / 24451MiB |      0%      Default |\r\n",
      "+-------------------------------+----------------------+----------------------+\r\n",
      "|   1  Tesla P40           Off  | 00000000:0D:00.0 Off |                  Off |\r\n",
      "| N/A   32C    P0    49W / 250W |   7489MiB / 24451MiB |      0%      Default |\r\n",
      "+-------------------------------+----------------------+----------------------+\r\n",
      "|   2  Tesla P40           Off  | 00000000:0E:00.0 Off |                  Off |\r\n",
      "| N/A   58C    P0   149W / 250W |  12977MiB / 24451MiB |     96%      Default |\r\n",
      "+-------------------------------+----------------------+----------------------+\r\n",
      "                                                                               \r\n",
      "+-----------------------------------------------------------------------------+\r\n",
      "| Processes:                                                       GPU Memory |\r\n",
      "|  GPU       PID   Type   Process name                             Usage      |\r\n",
      "|=============================================================================|\r\n",
      "|    0      1499      C   ...user/a.vorontsova/miniconda3/bin/python   499MiB |\r\n",
      "|    0     39878      C   ...0/user/f.konokhov/miniconda3/bin/python   463MiB |\r\n",
      "|    0     53434      C   ...user/a.vorontsova/miniconda3/bin/python   147MiB |\r\n",
      "|    1     39878      C   ...0/user/f.konokhov/miniconda3/bin/python  7477MiB |\r\n",
      "|    2     39878      C   ...0/user/f.konokhov/miniconda3/bin/python   463MiB |\r\n",
      "|    2     46229      C   ...0/user/f.konokhov/miniconda3/bin/python  6763MiB |\r\n",
      "|    2     46499      C   ...0/user/f.konokhov/miniconda3/bin/python  5739MiB |\r\n",
      "+-----------------------------------------------------------------------------+\r\n"
     ]
    }
   ],
   "source": [
    "!nvidia-smi"
   ]
  },
  {
   "cell_type": "code",
   "execution_count": 11,
   "metadata": {},
   "outputs": [
    {
     "name": "stdout",
     "output_type": "stream",
     "text": [
      "['/job:localhost/replica:0/task:0/device:GPU:0']\n"
     ]
    }
   ],
   "source": [
    "from FlavorNet.models.computation_utils import set_computation, fix_random_seed\n",
    "set_computation(cuda_visible_devices=0)"
   ]
  },
  {
   "cell_type": "code",
   "execution_count": 162,
   "metadata": {},
   "outputs": [],
   "source": [
    "target_size = (120,160)\n",
    "\n",
    "x_col = ['path_to_optical_flow']\n",
    "y_col = ['euler_x', 'euler_y', 'euler_z', 'x', 'y', 'z']\n",
    "image_columns = ['path_to_optical_flow']\n",
    "load_modes = ['flow_xy']\n",
    "preprocess_modes = ['flow_xy']"
   ]
  },
  {
   "cell_type": "code",
   "execution_count": 163,
   "metadata": {},
   "outputs": [],
   "source": [
    "from FlavorNet.models.config_utils import get_config\n",
    "config = {\n",
    "    \"dataset_root\": \"/Vol0/user/f.konokhov/odometry/notebooks/\",\n",
    "    \"csv_name\": \"df_new.csv\",\n",
    "    \"train_sequences\": [\n",
    "        \"meetingroom_04_rgbd_ir_imu_pose_KITTI_finetuned_tum/\"\n",
    "    ],\n",
    "    \"val_sequences\": [\n",
    "        \"meetingroom_05_rgbd_ir_imu_pose_KITTI_finetuned_tum/\"\n",
    "        \n",
    "        \n",
    "    ],\n",
    "    \"depth_multiplicator\": 0.001,\n",
    "    \"val_sampling_step\": 1,\n",
    "    \"batch_size\": 128\n",
    "}\n"
   ]
  },
  {
   "cell_type": "code",
   "execution_count": 1,
   "metadata": {},
   "outputs": [
    {
     "ename": "NameError",
     "evalue": "name 'target_size' is not defined",
     "output_type": "error",
     "traceback": [
      "\u001b[0;31m---------------------------------------------------------------------------\u001b[0m",
      "\u001b[0;31mNameError\u001b[0m                                 Traceback (most recent call last)",
      "\u001b[0;32m<ipython-input-1-ac1b0932fa5c>\u001b[0m in \u001b[0;36m<module>\u001b[0;34m\u001b[0m\n\u001b[1;32m      1\u001b[0m \u001b[0;32mfrom\u001b[0m \u001b[0mFlavorNet\u001b[0m\u001b[0;34m.\u001b[0m\u001b[0mmodels\u001b[0m\u001b[0;34m.\u001b[0m\u001b[0mdatasets\u001b[0m \u001b[0;32mimport\u001b[0m \u001b[0mTUMDataset\u001b[0m\u001b[0;34m\u001b[0m\u001b[0;34m\u001b[0m\u001b[0m\n\u001b[1;32m      2\u001b[0m dataset = TUMDataset(\n\u001b[0;32m----> 3\u001b[0;31m     \u001b[0mtarget_size\u001b[0m\u001b[0;34m=\u001b[0m\u001b[0mtarget_size\u001b[0m\u001b[0;34m,\u001b[0m\u001b[0;34m\u001b[0m\u001b[0;34m\u001b[0m\u001b[0m\n\u001b[0m\u001b[1;32m      4\u001b[0m     \u001b[0mx_col\u001b[0m\u001b[0;34m=\u001b[0m\u001b[0mx_col\u001b[0m\u001b[0;34m,\u001b[0m\u001b[0;34m\u001b[0m\u001b[0;34m\u001b[0m\u001b[0m\n\u001b[1;32m      5\u001b[0m     \u001b[0my_col\u001b[0m\u001b[0;34m=\u001b[0m\u001b[0my_col\u001b[0m\u001b[0;34m,\u001b[0m\u001b[0;34m\u001b[0m\u001b[0;34m\u001b[0m\u001b[0m\n",
      "\u001b[0;31mNameError\u001b[0m: name 'target_size' is not defined"
     ]
    }
   ],
   "source": [
    "from FlavorNet.models.datasets import TUMDataset\n",
    "dataset = TUMDataset(\n",
    "    target_size=target_size,\n",
    "    x_col=x_col,\n",
    "    y_col=y_col,\n",
    "    image_columns=image_columns,\n",
    "    load_modes=load_modes,\n",
    "    preprocess_modes=preprocess_modes,\n",
    "    cached_imgs={},\n",
    "    **config\n",
    ")"
   ]
  },
  {
   "cell_type": "code",
   "execution_count": null,
   "metadata": {},
   "outputs": [],
   "source": [
    "traj1_big = dataset.df_train[:int(len( dataset.df_train)/3)]\n",
    "traj2_big = dataset.df_val[:int(len( dataset.df_val)/3)]\n",
    "traj2_small = dataset.df_val[int(len( dataset.df_val)/3)::2]\n",
    "traj1_small =dataset.df_train[int(len( dataset.df_train)/3)::2]\n",
    "import pandas as pd\n",
    "dataset.df_train = pd.concat([traj1_big ,traj2_big]).reset_index(drop=True)\n",
    "dataset.df_val = pd.concat([traj1_small ,traj2_small]).reset_index(drop=True)"
   ]
  },
  {
   "cell_type": "code",
   "execution_count": null,
   "metadata": {},
   "outputs": [],
   "source": [
    "traj1_big = dataset.df_train[:int(len( dataset.df_train)/3):2]\n",
    "traj2_big = dataset.df_val[:int(len( dataset.df_val)/3):2]\n",
    "traj2_small = dataset.df_val[int(len( dataset.df_val)/3):]\n",
    "traj1_small =dataset.df_train[int(len( dataset.df_train)/3):]\n",
    "import pandas as pd\n",
    "dataset.df_train = pd.concat([traj1_small ,traj2_small]).reset_index(drop=True)\n",
    "dataset.df_val = pd.concat([traj1_big ,traj2_big]).reset_index(drop=True)"
   ]
  },
  {
   "cell_type": "code",
   "execution_count": 139,
   "metadata": {},
   "outputs": [],
   "source": [
    "from linalg.trajectory import RelativeTrajectory"
   ]
  },
  {
   "cell_type": "code",
   "execution_count": 140,
   "metadata": {},
   "outputs": [],
   "source": [
    "gt_relative_trajectory = RelativeTrajectory()"
   ]
  },
  {
   "cell_type": "code",
   "execution_count": 141,
   "metadata": {},
   "outputs": [],
   "source": [
    "keys = ['euler_x', 'euler_y', 'euler_z', 'x', 'y', 'z']\n"
   ]
  },
  {
   "cell_type": "code",
   "execution_count": 142,
   "metadata": {},
   "outputs": [],
   "source": [
    "gt = traj1_big[keys].to_dict(orient='records')\n",
    "gt_relative_trajectory.from_euler_angles(gt)\n",
    "gt_global_trajectory = gt_relative_trajectory.relative_to_global()\n",
    "from evaluation.visualization_utils import visualize_trajectory\n",
    "visualize_trajectory(gt_global_trajectory, title='traj1_big', is_3d=True, file_name='gt_3d_traj1_big.html')"
   ]
  },
  {
   "cell_type": "code",
   "execution_count": 143,
   "metadata": {},
   "outputs": [],
   "source": [
    "gt = traj1_small[keys].to_dict(orient='records')\n",
    "gt_relative_trajectory.from_euler_angles(gt)\n",
    "gt_global_trajectory = gt_relative_trajectory.relative_to_global()\n",
    "from evaluation.visualization_utils import visualize_trajectory\n",
    "visualize_trajectory(gt_global_trajectory, title='traj1_small', is_3d=True, file_name='gt_3d_traj1_small.html')"
   ]
  },
  {
   "cell_type": "code",
   "execution_count": 144,
   "metadata": {},
   "outputs": [],
   "source": [
    "gt = traj2_big[keys].to_dict(orient='records')\n",
    "gt_relative_trajectory.from_euler_angles(gt)\n",
    "gt_global_trajectory = gt_relative_trajectory.relative_to_global()\n",
    "from evaluation.visualization_utils import visualize_trajectory\n",
    "visualize_trajectory(gt_global_trajectory, title='traj2_big', is_3d=True, file_name='gt_3d_traj2_big.html')"
   ]
  },
  {
   "cell_type": "code",
   "execution_count": 145,
   "metadata": {},
   "outputs": [],
   "source": [
    "gt = traj2_small[keys].to_dict(orient='records')\n",
    "gt_relative_trajectory.from_euler_angles(gt)\n",
    "gt_global_trajectory = gt_relative_trajectory.relative_to_global()\n",
    "from evaluation.visualization_utils import visualize_trajectory\n",
    "visualize_trajectory(gt_global_trajectory, title='traj2_small', is_3d=True, file_name='gt_3d_traj2_small.html')"
   ]
  },
  {
   "cell_type": "code",
   "execution_count": 166,
   "metadata": {},
   "outputs": [
    {
     "name": "stdout",
     "output_type": "stream",
     "text": [
      "Load weights from /Vol0/user/i.slynko/projects/odometry/notebooks/discoman_odometry.h5\n",
      "__________________________________________________________________________________________________\n",
      "Layer (type)                    Output Shape         Param #     Connected to                     \n",
      "==================================================================================================\n",
      "input_1 (InputLayer)            (None, 120, 160, 2)  0                                            \n",
      "__________________________________________________________________________________________________\n",
      "conv2d_1 (Conv2D)               (None, 60, 80, 64)   6336        input_1[0][0]                    \n",
      "__________________________________________________________________________________________________\n",
      "activation_1 (Activation)       (None, 60, 80, 64)   0           conv2d_1[0][0]                   \n",
      "__________________________________________________________________________________________________\n",
      "conv2d_2 (Conv2D)               (None, 60, 80, 64)   102464      activation_1[0][0]               \n",
      "__________________________________________________________________________________________________\n",
      "activation_2 (Activation)       (None, 60, 80, 64)   0           conv2d_2[0][0]                   \n",
      "__________________________________________________________________________________________________\n",
      "conv2d_3 (Conv2D)               (None, 15, 20, 64)   36928       activation_2[0][0]               \n",
      "__________________________________________________________________________________________________\n",
      "activation_3 (Activation)       (None, 15, 20, 64)   0           conv2d_3[0][0]                   \n",
      "__________________________________________________________________________________________________\n",
      "conv2d_4 (Conv2D)               (None, 15, 20, 64)   36928       activation_3[0][0]               \n",
      "__________________________________________________________________________________________________\n",
      "activation_4 (Activation)       (None, 15, 20, 64)   0           conv2d_4[0][0]                   \n",
      "__________________________________________________________________________________________________\n",
      "flatten_1 (Flatten)             (None, 19200)        0           activation_4[0][0]               \n",
      "__________________________________________________________________________________________________\n",
      "fc1_rotation (Dense)            (None, 500)          9600500     flatten_1[0][0]                  \n",
      "__________________________________________________________________________________________________\n",
      "fc1_translation (Dense)         (None, 500)          9600500     flatten_1[0][0]                  \n",
      "__________________________________________________________________________________________________\n",
      "activation_5 (Activation)       (None, 500)          0           fc1_rotation[0][0]               \n",
      "__________________________________________________________________________________________________\n",
      "activation_7 (Activation)       (None, 500)          0           fc1_translation[0][0]            \n",
      "__________________________________________________________________________________________________\n",
      "fc2_rotation (Dense)            (None, 500)          250500      activation_5[0][0]               \n",
      "__________________________________________________________________________________________________\n",
      "fc2_translation (Dense)         (None, 500)          250500      activation_7[0][0]               \n",
      "__________________________________________________________________________________________________\n",
      "activation_6 (Activation)       (None, 500)          0           fc2_rotation[0][0]               \n",
      "__________________________________________________________________________________________________\n",
      "activation_8 (Activation)       (None, 500)          0           fc2_translation[0][0]            \n",
      "__________________________________________________________________________________________________\n",
      "r_x (Dense)                     (None, 1)            501         activation_6[0][0]               \n",
      "__________________________________________________________________________________________________\n",
      "r_y (Dense)                     (None, 1)            501         activation_6[0][0]               \n",
      "__________________________________________________________________________________________________\n",
      "r_z (Dense)                     (None, 1)            501         activation_6[0][0]               \n",
      "__________________________________________________________________________________________________\n",
      "t_x (Dense)                     (None, 1)            501         activation_8[0][0]               \n",
      "__________________________________________________________________________________________________\n",
      "t_y (Dense)                     (None, 1)            501         activation_8[0][0]               \n",
      "__________________________________________________________________________________________________\n",
      "t_z (Dense)                     (None, 1)            501         activation_8[0][0]               \n",
      "==================================================================================================\n",
      "Total params: 19,887,662\n",
      "Trainable params: 19,887,662\n",
      "Non-trainable params: 0\n",
      "__________________________________________________________________________________________________\n",
      "None\n",
      "\n",
      "==================================================================================================\n",
      "\n",
      "\n",
      "SEED = 1\n",
      "\n",
      "--------------------------------------------------------------------------------------------------\n",
      "\n"
     ]
    }
   ],
   "source": [
    "from FlavorNet.models.computation_utils import fix_random_seed\n",
    "from FlavorNet.models.model_fabric import ModelFabric\n",
    "from FlavorNet.models.train import train\n",
    "seed=1\n",
    "fix_random_seed(seed)\n",
    "\n",
    "# model_fabric = ModelFabric(\n",
    "#     target_size,\n",
    "#     channels_counts=dataset.channels_counts,\n",
    "#     lr=0.001,\n",
    "#     loss='huber',\n",
    "#     scale_rotation=50\n",
    "# )\n",
    "# model = model_fabric.construct_ls_vo_no_decoder_flexible_encoder_model(use_gated_convolutions=True,               \n",
    "#                                  strides=[2, 1, 4, 1 ,2, 1],\n",
    "#                                  dilation_rates=[1,1,1,1,1,1],\n",
    "#                                  kernel_sizes = [7, 5, 3, 3, 3, 3])\n",
    "from models.model_factory import ModelFactory\n",
    "\n",
    "model_factory = ModelFactory(\n",
    "    target_size,\n",
    "    channels_counts=dataset.channels_counts,\n",
    "    lr=0.001,\n",
    "    loss='mae',\n",
    "    scale_rotation=50\n",
    ")\n",
    "model = model_factory.construct_pretrained_model(\n",
    "    '/Vol0/user/i.slynko/projects/odometry/notebooks/discoman_odometry.h5')\n",
    "print(model.summary())\n",
    "\n",
    "print('\\n' + '='*98 + '\\n\\n')\n",
    "print('SEED = {}'.format(seed))\n",
    "print('\\n' + '-'*98 + '\\n')\n",
    "#train(experiment_id, notebook_id, NOTEBOOK_PATH, model, dataset, period=10, num_epochs = 60)\n",
    "#del model"
   ]
  },
  {
   "cell_type": "code",
   "execution_count": 167,
   "metadata": {},
   "outputs": [
    {
     "name": "stdout",
     "output_type": "stream",
     "text": [
      "<keras.engine.input_layer.InputLayer object at 0x2b334eee3cc0>\n",
      "<keras.layers.convolutional.Conv2D object at 0x2b334eee3d30>\n",
      "<keras.layers.core.Activation object at 0x2b334eee3d68>\n",
      "<keras.layers.convolutional.Conv2D object at 0x2b334eee3ef0>\n",
      "<keras.layers.core.Activation object at 0x2b334eee61d0>\n",
      "<keras.layers.convolutional.Conv2D object at 0x2b334eee6208>\n",
      "<keras.layers.core.Activation object at 0x2b334eee6390>\n",
      "<keras.layers.convolutional.Conv2D object at 0x2b334eee63c8>\n",
      "<keras.layers.core.Activation object at 0x2b334eee6550>\n",
      "<keras.layers.core.Flatten object at 0x2b334eee6588>\n",
      "<keras.layers.core.Dense object at 0x2b334eee65f8>\n",
      "<keras.layers.core.Dense object at 0x2b334eee67b8>\n",
      "<keras.layers.core.Activation object at 0x2b334eee6978>\n",
      "<keras.layers.core.Activation object at 0x2b334eee69b0>\n",
      "<keras.layers.core.Dense object at 0x2b334eee69e8>\n",
      "<keras.layers.core.Dense object at 0x2b334eee6ba8>\n",
      "<keras.layers.core.Activation object at 0x2b334eee6d68>\n",
      "<keras.layers.core.Activation object at 0x2b334eee6da0>\n"
     ]
    }
   ],
   "source": [
    "for layer in model.layers[:-6]:\n",
    "    print(layer)"
   ]
  },
  {
   "cell_type": "code",
   "execution_count": 168,
   "metadata": {},
   "outputs": [],
   "source": [
    "for layer in model.layers[:-6]:\n",
    "    layer.trainable = False"
   ]
  },
  {
   "cell_type": "code",
   "execution_count": 169,
   "metadata": {},
   "outputs": [
    {
     "name": "stdout",
     "output_type": "stream",
     "text": [
      "Set empty cache\n",
      "Set empty cache\n",
      "Set empty cache\n",
      "Set empty cache\n",
      "Epoch 1/100\n",
      "48/48 [==============================] - 133s 3s/step - loss: 1.0559 - r_x_loss: 1.2730e-04 - r_y_loss: 0.0044 - r_z_loss: 0.0162 - t_x_loss: 0.0132 - t_y_loss: 7.7492e-04 - t_z_loss: 0.0058 - r_x_rmse: 3.1623e-04 - r_y_rmse: 0.0044 - r_z_rmse: 0.0162 - t_x_rmse: 0.0132 - t_y_rmse: 8.7747e-04 - t_z_rmse: 0.0058 - val_loss: 0.6912 - val_r_x_loss: 8.1398e-05 - val_r_y_loss: 0.0019 - val_r_z_loss: 0.0117 - val_t_x_loss: 0.0066 - val_t_y_loss: 3.8999e-04 - val_t_z_loss: 0.0042 - val_r_x_rmse: 3.1623e-04 - val_r_y_rmse: 0.0019 - val_r_z_rmse: 0.0117 - val_t_x_rmse: 0.0066 - val_t_y_rmse: 5.3999e-04 - val_t_z_rmse: 0.0042\n",
      "Epoch 2/100\n",
      "48/48 [==============================] - 4s 80ms/step - loss: 0.8726 - r_x_loss: 1.2053e-04 - r_y_loss: 9.0557e-04 - r_z_loss: 0.0162 - t_x_loss: 0.0101 - t_y_loss: 6.8078e-04 - t_z_loss: 0.0013 - r_x_rmse: 3.1637e-04 - r_y_rmse: 9.3865e-04 - r_z_rmse: 0.0162 - t_x_rmse: 0.0101 - t_y_rmse: 8.1673e-04 - t_z_rmse: 0.0014 - val_loss: 0.6286 - val_r_x_loss: 1.0174e-04 - val_r_y_loss: 6.3990e-04 - val_r_z_loss: 0.0117 - val_t_x_loss: 0.0068 - val_t_y_loss: 3.8184e-04 - val_t_z_loss: 5.7519e-04 - val_r_x_rmse: 3.1623e-04 - val_r_y_rmse: 6.4463e-04 - val_r_z_rmse: 0.0117 - val_t_x_rmse: 0.0068 - val_t_y_rmse: 5.3546e-04 - val_t_z_rmse: 5.8053e-04\n",
      "Epoch 3/100\n",
      "48/48 [==============================] - 4s 80ms/step - loss: 0.8471 - r_x_loss: 1.1848e-04 - r_y_loss: 3.9514e-04 - r_z_loss: 0.0162 - t_x_loss: 0.0101 - t_y_loss: 6.8913e-04 - t_z_loss: 0.0011 - r_x_rmse: 3.1628e-04 - r_y_rmse: 4.2567e-04 - r_z_rmse: 0.0162 - t_x_rmse: 0.0101 - t_y_rmse: 8.2156e-04 - t_z_rmse: 0.0011 - val_loss: 0.6191 - val_r_x_loss: 8.8895e-05 - val_r_y_loss: 4.7073e-04 - val_r_z_loss: 0.0117 - val_t_x_loss: 0.0067 - val_t_y_loss: 4.0877e-04 - val_t_z_loss: 7.7502e-04 - val_r_x_rmse: 3.1623e-04 - val_r_y_rmse: 4.8891e-04 - val_r_z_rmse: 0.0117 - val_t_x_rmse: 0.0068 - val_t_y_rmse: 5.4612e-04 - val_t_z_rmse: 7.7863e-04\n",
      "Epoch 4/100\n",
      "48/48 [==============================] - 4s 79ms/step - loss: 0.8440 - r_x_loss: 1.1734e-04 - r_y_loss: 3.3908e-04 - r_z_loss: 0.0162 - t_x_loss: 0.0101 - t_y_loss: 6.8893e-04 - t_z_loss: 7.6195e-04 - r_x_rmse: 3.1623e-04 - r_y_rmse: 3.9731e-04 - r_z_rmse: 0.0162 - t_x_rmse: 0.0101 - t_y_rmse: 8.2018e-04 - t_z_rmse: 7.7100e-04 - val_loss: 0.6138 - val_r_x_loss: 8.2574e-05 - val_r_y_loss: 3.8079e-04 - val_r_z_loss: 0.0117 - val_t_x_loss: 0.0066 - val_t_y_loss: 3.8074e-04 - val_t_z_loss: 4.7286e-04 - val_r_x_rmse: 3.1623e-04 - val_r_y_rmse: 4.0443e-04 - val_r_z_rmse: 0.0117 - val_t_x_rmse: 0.0067 - val_t_y_rmse: 5.3587e-04 - val_t_z_rmse: 4.8135e-04\n",
      "Epoch 5/100\n",
      "48/48 [==============================] - 4s 80ms/step - loss: 0.8415 - r_x_loss: 1.1638e-04 - r_y_loss: 2.9860e-04 - r_z_loss: 0.0162 - t_x_loss: 0.0100 - t_y_loss: 6.7612e-04 - t_z_loss: 6.8040e-04 - r_x_rmse: 3.1623e-04 - r_y_rmse: 3.5926e-04 - r_z_rmse: 0.0162 - t_x_rmse: 0.0101 - t_y_rmse: 8.1438e-04 - t_z_rmse: 6.8600e-04 - val_loss: 0.6143 - val_r_x_loss: 7.0973e-05 - val_r_y_loss: 4.0066e-04 - val_r_z_loss: 0.0117 - val_t_x_loss: 0.0068 - val_t_y_loss: 3.8662e-04 - val_t_z_loss: 6.2030e-04 - val_r_x_rmse: 3.1623e-04 - val_r_y_rmse: 4.2136e-04 - val_r_z_rmse: 0.0117 - val_t_x_rmse: 0.0068 - val_t_y_rmse: 5.3868e-04 - val_t_z_rmse: 6.2411e-04\n",
      "Epoch 6/100\n",
      "48/48 [==============================] - 4s 80ms/step - loss: 0.8414 - r_x_loss: 1.1554e-04 - r_y_loss: 2.7230e-04 - r_z_loss: 0.0162 - t_x_loss: 0.0101 - t_y_loss: 6.9852e-04 - t_z_loss: 6.1534e-04 - r_x_rmse: 3.1623e-04 - r_y_rmse: 3.4514e-04 - r_z_rmse: 0.0162 - t_x_rmse: 0.0101 - t_y_rmse: 8.3711e-04 - t_z_rmse: 6.2000e-04 - val_loss: 0.6112 - val_r_x_loss: 8.2718e-05 - val_r_y_loss: 2.9515e-04 - val_r_z_loss: 0.0117 - val_t_x_loss: 0.0068 - val_t_y_loss: 3.9256e-04 - val_t_z_loss: 3.2825e-04 - val_r_x_rmse: 3.1623e-04 - val_r_y_rmse: 3.3166e-04 - val_r_z_rmse: 0.0117 - val_t_x_rmse: 0.0068 - val_t_y_rmse: 5.4078e-04 - val_t_z_rmse: 3.9290e-04\n",
      "Epoch 7/100\n",
      "48/48 [==============================] - 4s 80ms/step - loss: 0.8378 - r_x_loss: 1.1410e-04 - r_y_loss: 2.4742e-04 - r_z_loss: 0.0162 - t_x_loss: 0.0100 - t_y_loss: 6.8331e-04 - t_z_loss: 5.7544e-04 - r_x_rmse: 3.1644e-04 - r_y_rmse: 3.3600e-04 - r_z_rmse: 0.0162 - t_x_rmse: 0.0101 - t_y_rmse: 8.2101e-04 - t_z_rmse: 5.8153e-04 - val_loss: 0.6087 - val_r_x_loss: 4.6295e-05 - val_r_y_loss: 3.1043e-04 - val_r_z_loss: 0.0117 - val_t_x_loss: 0.0066 - val_t_y_loss: 3.9234e-04 - val_t_z_loss: 4.4390e-04 - val_r_x_rmse: 3.1623e-04 - val_r_y_rmse: 3.4018e-04 - val_r_z_rmse: 0.0117 - val_t_x_rmse: 0.0066 - val_t_y_rmse: 5.4071e-04 - val_t_z_rmse: 4.5301e-04\n",
      "Epoch 8/100\n",
      "48/48 [==============================] - 4s 80ms/step - loss: 0.8378 - r_x_loss: 1.1516e-04 - r_y_loss: 2.3336e-04 - r_z_loss: 0.0162 - t_x_loss: 0.0100 - t_y_loss: 6.7456e-04 - t_z_loss: 5.3623e-04 - r_x_rmse: 3.1798e-04 - r_y_rmse: 3.3158e-04 - r_z_rmse: 0.0162 - t_x_rmse: 0.0101 - t_y_rmse: 8.1495e-04 - t_z_rmse: 5.4699e-04 - val_loss: 0.6137 - val_r_x_loss: 6.7083e-05 - val_r_y_loss: 3.2533e-04 - val_r_z_loss: 0.0117 - val_t_x_loss: 0.0067 - val_t_y_loss: 3.8199e-04 - val_t_z_loss: 3.2660e-04 - val_r_x_rmse: 3.1623e-04 - val_r_y_rmse: 3.5280e-04 - val_r_z_rmse: 0.0118 - val_t_x_rmse: 0.0067 - val_t_y_rmse: 5.3555e-04 - val_t_z_rmse: 3.9023e-04\n",
      "Epoch 9/100\n",
      "48/48 [==============================] - 4s 82ms/step - loss: 0.8380 - r_x_loss: 1.1293e-04 - r_y_loss: 2.1540e-04 - r_z_loss: 0.0162 - t_x_loss: 0.0100 - t_y_loss: 6.8174e-04 - t_z_loss: 5.0991e-04 - r_x_rmse: 3.1688e-04 - r_y_rmse: 3.2268e-04 - r_z_rmse: 0.0162 - t_x_rmse: 0.0101 - t_y_rmse: 8.1943e-04 - t_z_rmse: 5.2546e-04 - val_loss: 0.6080 - val_r_x_loss: 7.4219e-05 - val_r_y_loss: 2.9693e-04 - val_r_z_loss: 0.0116 - val_t_x_loss: 0.0065 - val_t_y_loss: 3.8671e-04 - val_t_z_loss: 4.3268e-04 - val_r_x_rmse: 3.1623e-04 - val_r_y_rmse: 3.3011e-04 - val_r_z_rmse: 0.0117 - val_t_x_rmse: 0.0066 - val_t_y_rmse: 5.3866e-04 - val_t_z_rmse: 4.4191e-04\n",
      "Epoch 10/100\n",
      "48/48 [==============================] - 4s 80ms/step - loss: 0.8399 - r_x_loss: 1.1217e-04 - r_y_loss: 2.8182e-04 - r_z_loss: 0.0162 - t_x_loss: 0.0100 - t_y_loss: 6.7183e-04 - t_z_loss: 4.7844e-04 - r_x_rmse: 3.1661e-04 - r_y_rmse: 4.0637e-04 - r_z_rmse: 0.0162 - t_x_rmse: 0.0101 - t_y_rmse: 8.1372e-04 - t_z_rmse: 4.9231e-04 - val_loss: 0.6130 - val_r_x_loss: 5.1489e-05 - val_r_y_loss: 4.0298e-04 - val_r_z_loss: 0.0117 - val_t_x_loss: 0.0065 - val_t_y_loss: 3.8173e-04 - val_t_z_loss: 4.2700e-04 - val_r_x_rmse: 3.1623e-04 - val_r_y_rmse: 4.0478e-04 - val_r_z_rmse: 0.0117 - val_t_x_rmse: 0.0065 - val_t_y_rmse: 5.3551e-04 - val_t_z_rmse: 4.3796e-04\n",
      "Epoch 11/100\n",
      "48/48 [==============================] - 4s 80ms/step - loss: 0.8404 - r_x_loss: 1.1446e-04 - r_y_loss: 2.9803e-04 - r_z_loss: 0.0162 - t_x_loss: 0.0100 - t_y_loss: 6.7374e-04 - t_z_loss: 4.6817e-04 - r_x_rmse: 3.1750e-04 - r_y_rmse: 4.1002e-04 - r_z_rmse: 0.0162 - t_x_rmse: 0.0101 - t_y_rmse: 8.1399e-04 - t_z_rmse: 4.9237e-04 - val_loss: 0.6305 - val_r_x_loss: 5.6097e-05 - val_r_y_loss: 6.9597e-04 - val_r_z_loss: 0.0117 - val_t_x_loss: 0.0065 - val_t_y_loss: 3.9549e-04 - val_t_z_loss: 4.7386e-04 - val_r_x_rmse: 3.1623e-04 - val_r_y_rmse: 6.9686e-04 - val_r_z_rmse: 0.0117 - val_t_x_rmse: 0.0065 - val_t_y_rmse: 5.4168e-04 - val_t_z_rmse: 4.7950e-04\n",
      "Epoch 12/100\n",
      "48/48 [==============================] - 4s 79ms/step - loss: 0.8417 - r_x_loss: 1.3069e-04 - r_y_loss: 2.7684e-04 - r_z_loss: 0.0162 - t_x_loss: 0.0100 - t_y_loss: 6.8026e-04 - t_z_loss: 4.5102e-04 - r_x_rmse: 3.3754e-04 - r_y_rmse: 3.9753e-04 - r_z_rmse: 0.0162 - t_x_rmse: 0.0101 - t_y_rmse: 8.1870e-04 - t_z_rmse: 4.7736e-04 - val_loss: 0.6008 - val_r_x_loss: 6.9744e-05 - val_r_y_loss: 1.4508e-04 - val_r_z_loss: 0.0117 - val_t_x_loss: 0.0066 - val_t_y_loss: 3.9780e-04 - val_t_z_loss: 1.4155e-04 - val_r_x_rmse: 3.1623e-04 - val_r_y_rmse: 3.2464e-04 - val_r_z_rmse: 0.0117 - val_t_x_rmse: 0.0067 - val_t_y_rmse: 5.4223e-04 - val_t_z_rmse: 3.6336e-04\n",
      "ATE: 3.170644, RMSE_t: 14.249803, RMSE_r: 89.925709, RPE_t: 8.977962, RPE_r: 89.441267\n",
      "ATE: 2.971589, RMSE_t: 11.713348, RMSE_r: 91.690930, RPE_t: 7.386872, RPE_r: 89.513781\n",
      "average ATE: 3.071117, RMSE_t: 12.981575, RMSE_r: 90.808319, RPE_t: 8.385316, RPE_r: 89.468277\n"
     ]
    },
    {
     "name": "stdout",
     "output_type": "stream",
     "text": [
      "Epoch 13/100\n",
      "48/48 [==============================] - 4s 82ms/step - loss: 0.8351 - r_x_loss: 1.0871e-04 - r_y_loss: 1.7828e-04 - r_z_loss: 0.0162 - t_x_loss: 0.0100 - t_y_loss: 6.7465e-04 - t_z_loss: 3.9450e-04 - r_x_rmse: 3.1623e-04 - r_y_rmse: 3.1790e-04 - r_z_rmse: 0.0162 - t_x_rmse: 0.0100 - t_y_rmse: 8.1469e-04 - t_z_rmse: 4.6141e-04 - val_loss: 0.6010 - val_r_x_loss: 6.8744e-05 - val_r_y_loss: 1.5509e-04 - val_r_z_loss: 0.0117 - val_t_x_loss: 0.0064 - val_t_y_loss: 3.8830e-04 - val_t_z_loss: 3.2460e-04 - val_r_x_rmse: 3.1623e-04 - val_r_y_rmse: 3.2541e-04 - val_r_z_rmse: 0.0117 - val_t_x_rmse: 0.0065 - val_t_y_rmse: 5.3897e-04 - val_t_z_rmse: 4.0435e-04\n",
      "Epoch 14/100\n",
      "48/48 [==============================] - 4s 80ms/step - loss: 0.8353 - r_x_loss: 1.0807e-04 - r_y_loss: 1.7168e-04 - r_z_loss: 0.0162 - t_x_loss: 0.0100 - t_y_loss: 6.8466e-04 - t_z_loss: 6.2397e-04 - r_x_rmse: 3.1623e-04 - r_y_rmse: 3.1735e-04 - r_z_rmse: 0.0162 - t_x_rmse: 0.0100 - t_y_rmse: 8.1808e-04 - t_z_rmse: 6.8158e-04 - val_loss: 0.6029 - val_r_x_loss: 6.7073e-05 - val_r_y_loss: 1.6726e-04 - val_r_z_loss: 0.0117 - val_t_x_loss: 0.0065 - val_t_y_loss: 3.7989e-04 - val_t_z_loss: 0.0010 - val_r_x_rmse: 3.1623e-04 - val_r_y_rmse: 3.2595e-04 - val_r_z_rmse: 0.0117 - val_t_x_rmse: 0.0066 - val_t_y_rmse: 5.3510e-04 - val_t_z_rmse: 0.0010\n",
      "Epoch 15/100\n",
      "48/48 [==============================] - 4s 80ms/step - loss: 0.8360 - r_x_loss: 1.0685e-04 - r_y_loss: 2.0777e-04 - r_z_loss: 0.0162 - t_x_loss: 0.0100 - t_y_loss: 6.8875e-04 - t_z_loss: 7.3480e-04 - r_x_rmse: 3.1623e-04 - r_y_rmse: 3.3370e-04 - r_z_rmse: 0.0162 - t_x_rmse: 0.0100 - t_y_rmse: 8.2101e-04 - t_z_rmse: 7.3889e-04 - val_loss: 0.6104 - val_r_x_loss: 6.4597e-05 - val_r_y_loss: 3.2450e-04 - val_r_z_loss: 0.0117 - val_t_x_loss: 0.0067 - val_t_y_loss: 4.3408e-04 - val_t_z_loss: 7.7541e-04 - val_r_x_rmse: 3.1623e-04 - val_r_y_rmse: 3.4519e-04 - val_r_z_rmse: 0.0117 - val_t_x_rmse: 0.0067 - val_t_y_rmse: 5.5127e-04 - val_t_z_rmse: 7.8080e-04\n",
      "Epoch 16/100\n",
      "48/48 [==============================] - 4s 80ms/step - loss: 0.8468 - r_x_loss: 1.0695e-04 - r_y_loss: 4.1231e-04 - r_z_loss: 0.0162 - t_x_loss: 0.0100 - t_y_loss: 6.8271e-04 - t_z_loss: 7.0038e-04 - r_x_rmse: 3.1623e-04 - r_y_rmse: 4.6339e-04 - r_z_rmse: 0.0162 - t_x_rmse: 0.0100 - t_y_rmse: 8.1877e-04 - t_z_rmse: 7.0711e-04 - val_loss: 0.6223 - val_r_x_loss: 6.1346e-05 - val_r_y_loss: 5.5085e-04 - val_r_z_loss: 0.0117 - val_t_x_loss: 0.0066 - val_t_y_loss: 3.8663e-04 - val_t_z_loss: 7.7661e-04 - val_r_x_rmse: 3.1623e-04 - val_r_y_rmse: 5.5380e-04 - val_r_z_rmse: 0.0117 - val_t_x_rmse: 0.0066 - val_t_y_rmse: 5.3616e-04 - val_t_z_rmse: 7.8244e-04\n",
      "Epoch 17/100\n",
      "48/48 [==============================] - 4s 80ms/step - loss: 0.8483 - r_x_loss: 1.0611e-04 - r_y_loss: 4.4762e-04 - r_z_loss: 0.0162 - t_x_loss: 0.0100 - t_y_loss: 6.7804e-04 - t_z_loss: 6.3673e-04 - r_x_rmse: 3.1624e-04 - r_y_rmse: 4.7454e-04 - r_z_rmse: 0.0162 - t_x_rmse: 0.0100 - t_y_rmse: 8.1528e-04 - t_z_rmse: 6.5426e-04 - val_loss: 0.6231 - val_r_x_loss: 4.3038e-05 - val_r_y_loss: 6.1963e-04 - val_r_z_loss: 0.0117 - val_t_x_loss: 0.0064 - val_t_y_loss: 4.1129e-04 - val_t_z_loss: 1.9680e-04 - val_r_x_rmse: 3.1623e-04 - val_r_y_rmse: 6.2202e-04 - val_r_z_rmse: 0.0117 - val_t_x_rmse: 0.0065 - val_t_y_rmse: 5.4498e-04 - val_t_z_rmse: 3.5172e-04\n",
      "Epoch 18/100\n",
      "48/48 [==============================] - 4s 80ms/step - loss: 0.8458 - r_x_loss: 1.0530e-04 - r_y_loss: 4.2348e-04 - r_z_loss: 0.0162 - t_x_loss: 0.0099 - t_y_loss: 6.7277e-04 - t_z_loss: 2.6021e-04 - r_x_rmse: 3.1626e-04 - r_y_rmse: 4.6201e-04 - r_z_rmse: 0.0162 - t_x_rmse: 0.0100 - t_y_rmse: 8.1368e-04 - t_z_rmse: 3.7059e-04 - val_loss: 0.6138 - val_r_x_loss: 8.0862e-06 - val_r_y_loss: 4.5218e-04 - val_r_z_loss: 0.0117 - val_t_x_loss: 0.0067 - val_t_y_loss: 3.9030e-04 - val_t_z_loss: 3.7498e-04 - val_r_x_rmse: 3.1623e-04 - val_r_y_rmse: 4.6072e-04 - val_r_z_rmse: 0.0117 - val_t_x_rmse: 0.0067 - val_t_y_rmse: 5.3874e-04 - val_t_z_rmse: 4.2253e-04\n",
      "Epoch 19/100\n",
      "48/48 [==============================] - 4s 80ms/step - loss: 0.8435 - r_x_loss: 9.2133e-05 - r_y_loss: 4.0473e-04 - r_z_loss: 0.0162 - t_x_loss: 0.0099 - t_y_loss: 6.9336e-04 - t_z_loss: 2.4766e-04 - r_x_rmse: 3.1639e-04 - r_y_rmse: 4.4596e-04 - r_z_rmse: 0.0162 - t_x_rmse: 0.0100 - t_y_rmse: 8.3526e-04 - t_z_rmse: 3.7255e-04 - val_loss: 0.6196 - val_r_x_loss: 5.9372e-05 - val_r_y_loss: 5.3894e-04 - val_r_z_loss: 0.0116 - val_t_x_loss: 0.0066 - val_t_y_loss: 3.7893e-04 - val_t_z_loss: 4.9603e-04 - val_r_x_rmse: 3.1623e-04 - val_r_y_rmse: 5.4421e-04 - val_r_z_rmse: 0.0117 - val_t_x_rmse: 0.0066 - val_t_y_rmse: 5.3495e-04 - val_t_z_rmse: 5.0547e-04\n",
      "Epoch 20/100\n",
      "48/48 [==============================] - 4s 80ms/step - loss: 0.8375 - r_x_loss: 8.6476e-05 - r_y_loss: 2.7718e-04 - r_z_loss: 0.0162 - t_x_loss: 0.0099 - t_y_loss: 6.7446e-04 - t_z_loss: 3.1190e-04 - r_x_rmse: 3.1680e-04 - r_y_rmse: 3.8614e-04 - r_z_rmse: 0.0162 - t_x_rmse: 0.0099 - t_y_rmse: 8.1415e-04 - t_z_rmse: 3.9564e-04 - val_loss: 0.6016 - val_r_x_loss: 4.9571e-05 - val_r_y_loss: 1.3915e-04 - val_r_z_loss: 0.0117 - val_t_x_loss: 0.0066 - val_t_y_loss: 3.8316e-04 - val_t_z_loss: 6.1623e-04 - val_r_x_rmse: 3.1623e-04 - val_r_y_rmse: 3.2074e-04 - val_r_z_rmse: 0.0117 - val_t_x_rmse: 0.0066 - val_t_y_rmse: 5.3663e-04 - val_t_z_rmse: 6.1913e-04\n",
      "Epoch 21/100\n",
      "48/48 [==============================] - 4s 80ms/step - loss: 0.8341 - r_x_loss: 8.4663e-05 - r_y_loss: 1.9913e-04 - r_z_loss: 0.0162 - t_x_loss: 0.0099 - t_y_loss: 6.7247e-04 - t_z_loss: 3.4956e-04 - r_x_rmse: 3.1652e-04 - r_y_rmse: 3.2566e-04 - r_z_rmse: 0.0162 - t_x_rmse: 0.0099 - t_y_rmse: 8.1392e-04 - t_z_rmse: 4.1030e-04 - val_loss: 0.6147 - val_r_x_loss: 1.3324e-04 - val_r_y_loss: 2.8258e-04 - val_r_z_loss: 0.0117 - val_t_x_loss: 0.0064 - val_t_y_loss: 3.8057e-04 - val_t_z_loss: 2.2105e-04 - val_r_x_rmse: 3.1623e-04 - val_r_y_rmse: 3.2510e-04 - val_r_z_rmse: 0.0118 - val_t_x_rmse: 0.0064 - val_t_y_rmse: 5.3556e-04 - val_t_z_rmse: 3.5524e-04\n",
      "Epoch 22/100\n",
      "48/48 [==============================] - 4s 80ms/step - loss: 0.6404 - r_x_loss: 2.1719e-04 - r_y_loss: 3.1912e-04 - r_z_loss: 0.0120 - t_x_loss: 0.0097 - t_y_loss: 6.9013e-04 - t_z_loss: 8.7086e-04 - r_x_rmse: 4.0110e-04 - r_y_rmse: 4.1852e-04 - r_z_rmse: 0.0121 - t_x_rmse: 0.0097 - t_y_rmse: 8.2220e-04 - t_z_rmse: 9.2273e-04 - val_loss: 0.5420 - val_r_x_loss: 9.3441e-05 - val_r_y_loss: 2.3754e-04 - val_r_z_loss: 0.0104 - val_t_x_loss: 0.0066 - val_t_y_loss: 3.7898e-04 - val_t_z_loss: 3.4576e-04 - val_r_x_rmse: 3.1623e-04 - val_r_y_rmse: 3.5991e-04 - val_r_z_rmse: 0.0104 - val_t_x_rmse: 0.0066 - val_t_y_rmse: 5.3582e-04 - val_t_z_rmse: 4.9168e-04\n",
      "Epoch 23/100\n",
      "48/48 [==============================] - 4s 80ms/step - loss: 0.4481 - r_x_loss: 8.9454e-05 - r_y_loss: 2.0895e-04 - r_z_loss: 0.0085 - t_x_loss: 0.0089 - t_y_loss: 6.8264e-04 - t_z_loss: 5.0301e-04 - r_x_rmse: 3.2118e-04 - r_y_rmse: 3.5277e-04 - r_z_rmse: 0.0085 - t_x_rmse: 0.0089 - t_y_rmse: 8.1851e-04 - t_z_rmse: 5.9363e-04 - val_loss: 0.3703 - val_r_x_loss: 6.8239e-05 - val_r_y_loss: 1.8213e-04 - val_r_z_loss: 0.0070 - val_t_x_loss: 0.0066 - val_t_y_loss: 3.7939e-04 - val_t_z_loss: 6.0399e-04 - val_r_x_rmse: 3.1623e-04 - val_r_y_rmse: 3.7788e-04 - val_r_z_rmse: 0.0070 - val_t_x_rmse: 0.0066 - val_t_y_rmse: 5.3636e-04 - val_t_z_rmse: 6.5723e-04\n",
      "Epoch 24/100\n",
      "48/48 [==============================] - 4s 80ms/step - loss: 0.3011 - r_x_loss: 1.3328e-04 - r_y_loss: 2.6172e-04 - r_z_loss: 0.0054 - t_x_loss: 0.0085 - t_y_loss: 6.8345e-04 - t_z_loss: 4.8249e-04 - r_x_rmse: 3.3312e-04 - r_y_rmse: 3.9208e-04 - r_z_rmse: 0.0055 - t_x_rmse: 0.0085 - t_y_rmse: 8.1996e-04 - t_z_rmse: 5.6987e-04 - val_loss: 0.1743 - val_r_x_loss: 1.5723e-04 - val_r_y_loss: 3.6927e-04 - val_r_z_loss: 0.0028 - val_t_x_loss: 0.0066 - val_t_y_loss: 4.0832e-04 - val_t_z_loss: 5.2184e-04 - val_r_x_rmse: 3.2263e-04 - val_r_y_rmse: 4.4491e-04 - val_r_z_rmse: 0.0028 - val_t_x_rmse: 0.0066 - val_t_y_rmse: 5.4401e-04 - val_t_z_rmse: 6.4027e-04\n",
      "ATE: 0.471769, RMSE_t: 1.049940, RMSE_r: 6.262278, RPE_t: 0.600783, RPE_r: 4.575086\n",
      "ATE: 0.366661, RMSE_t: 1.061933, RMSE_r: 6.373742, RPE_t: 0.845238, RPE_r: 4.158327\n",
      "average ATE: 0.419215, RMSE_t: 1.055937, RMSE_r: 6.318010, RPE_t: 0.691838, RPE_r: 4.419853\n"
     ]
    },
    {
     "name": "stdout",
     "output_type": "stream",
     "text": [
      "Epoch 25/100\n",
      "48/48 [==============================] - 4s 80ms/step - loss: 0.2164 - r_x_loss: 1.9236e-04 - r_y_loss: 2.0715e-04 - r_z_loss: 0.0038 - t_x_loss: 0.0075 - t_y_loss: 6.8668e-04 - t_z_loss: 4.3328e-04 - r_x_rmse: 3.4110e-04 - r_y_rmse: 3.6437e-04 - r_z_rmse: 0.0038 - t_x_rmse: 0.0075 - t_y_rmse: 8.1929e-04 - t_z_rmse: 5.1982e-04 - val_loss: 0.1669 - val_r_x_loss: 2.0924e-04 - val_r_y_loss: 1.4985e-04 - val_r_z_loss: 0.0028 - val_t_x_loss: 0.0069 - val_t_y_loss: 4.2214e-04 - val_t_z_loss: 4.4968e-04 - val_r_x_rmse: 3.1835e-04 - val_r_y_rmse: 3.4448e-04 - val_r_z_rmse: 0.0028 - val_t_x_rmse: 0.0069 - val_t_y_rmse: 5.4984e-04 - val_t_z_rmse: 5.4029e-04\n",
      "Epoch 26/100\n",
      "48/48 [==============================] - 4s 80ms/step - loss: 0.2008 - r_x_loss: 1.2433e-04 - r_y_loss: 1.4310e-04 - r_z_loss: 0.0036 - t_x_loss: 0.0064 - t_y_loss: 6.7615e-04 - t_z_loss: 4.3317e-04 - r_x_rmse: 3.2582e-04 - r_y_rmse: 3.4038e-04 - r_z_rmse: 0.0036 - t_x_rmse: 0.0064 - t_y_rmse: 8.1380e-04 - t_z_rmse: 5.2257e-04 - val_loss: 0.1536 - val_r_x_loss: 1.3358e-04 - val_r_y_loss: 8.1740e-05 - val_r_z_loss: 0.0027 - val_t_x_loss: 0.0061 - val_t_y_loss: 3.8123e-04 - val_t_z_loss: 4.7402e-04 - val_r_x_rmse: 3.1623e-04 - val_r_y_rmse: 3.3233e-04 - val_r_z_rmse: 0.0028 - val_t_x_rmse: 0.0061 - val_t_y_rmse: 5.3753e-04 - val_t_z_rmse: 5.7833e-04\n",
      "Epoch 27/100\n",
      "48/48 [==============================] - 4s 80ms/step - loss: 0.2019 - r_x_loss: 1.3918e-04 - r_y_loss: 1.7695e-04 - r_z_loss: 0.0036 - t_x_loss: 0.0048 - t_y_loss: 6.8593e-04 - t_z_loss: 3.3336e-04 - r_x_rmse: 3.2620e-04 - r_y_rmse: 3.3807e-04 - r_z_rmse: 0.0036 - t_x_rmse: 0.0048 - t_y_rmse: 8.1805e-04 - t_z_rmse: 4.4319e-04 - val_loss: 0.1555 - val_r_x_loss: 5.7347e-05 - val_r_y_loss: 2.0150e-04 - val_r_z_loss: 0.0028 - val_t_x_loss: 0.0034 - val_t_y_loss: 3.8183e-04 - val_t_z_loss: 6.4335e-04 - val_r_x_rmse: 3.1729e-04 - val_r_y_rmse: 3.4609e-04 - val_r_z_rmse: 0.0028 - val_t_x_rmse: 0.0034 - val_t_y_rmse: 5.3802e-04 - val_t_z_rmse: 6.6223e-04\n",
      "Epoch 28/100\n",
      "48/48 [==============================] - 4s 80ms/step - loss: 0.2021 - r_x_loss: 1.9773e-04 - r_y_loss: 2.3174e-04 - r_z_loss: 0.0035 - t_x_loss: 0.0043 - t_y_loss: 6.7615e-04 - t_z_loss: 3.8132e-04 - r_x_rmse: 3.3528e-04 - r_y_rmse: 3.5774e-04 - r_z_rmse: 0.0035 - t_x_rmse: 0.0043 - t_y_rmse: 8.1487e-04 - t_z_rmse: 4.6836e-04 - val_loss: 0.1565 - val_r_x_loss: 6.5864e-05 - val_r_y_loss: 1.6399e-04 - val_r_z_loss: 0.0028 - val_t_x_loss: 0.0037 - val_t_y_loss: 3.8037e-04 - val_t_z_loss: 3.6743e-04 - val_r_x_rmse: 3.1716e-04 - val_r_y_rmse: 3.5345e-04 - val_r_z_rmse: 0.0028 - val_t_x_rmse: 0.0037 - val_t_y_rmse: 5.3656e-04 - val_t_z_rmse: 4.2110e-04\n",
      "Epoch 29/100\n",
      "48/48 [==============================] - 4s 80ms/step - loss: 0.1944 - r_x_loss: 1.1214e-04 - r_y_loss: 2.8398e-04 - r_z_loss: 0.0034 - t_x_loss: 0.0037 - t_y_loss: 6.8285e-04 - t_z_loss: 3.1765e-04 - r_x_rmse: 3.1908e-04 - r_y_rmse: 3.8674e-04 - r_z_rmse: 0.0034 - t_x_rmse: 0.0037 - t_y_rmse: 8.1883e-04 - t_z_rmse: 4.1786e-04 - val_loss: 0.1650 - val_r_x_loss: 1.4858e-04 - val_r_y_loss: 3.7396e-04 - val_r_z_loss: 0.0027 - val_t_x_loss: 0.0042 - val_t_y_loss: 3.9573e-04 - val_t_z_loss: 3.4186e-04 - val_r_x_rmse: 3.1664e-04 - val_r_y_rmse: 3.9529e-04 - val_r_z_rmse: 0.0027 - val_t_x_rmse: 0.0042 - val_t_y_rmse: 5.3760e-04 - val_t_z_rmse: 4.1893e-04\n",
      "Epoch 30/100\n",
      "48/48 [==============================] - 4s 80ms/step - loss: 0.1943 - r_x_loss: 1.0909e-04 - r_y_loss: 1.8827e-04 - r_z_loss: 0.0035 - t_x_loss: 0.0034 - t_y_loss: 6.6957e-04 - t_z_loss: 4.0830e-04 - r_x_rmse: 3.2812e-04 - r_y_rmse: 3.5055e-04 - r_z_rmse: 0.0035 - t_x_rmse: 0.0035 - t_y_rmse: 8.0902e-04 - t_z_rmse: 4.8757e-04 - val_loss: 0.1537 - val_r_x_loss: 8.4458e-05 - val_r_y_loss: 1.0013e-04 - val_r_z_loss: 0.0028 - val_t_x_loss: 0.0041 - val_t_y_loss: 4.0206e-04 - val_t_z_loss: 9.7340e-04 - val_r_x_rmse: 3.1630e-04 - val_r_y_rmse: 3.3936e-04 - val_r_z_rmse: 0.0028 - val_t_x_rmse: 0.0041 - val_t_y_rmse: 5.4466e-04 - val_t_z_rmse: 9.7740e-04\n",
      "Epoch 31/100\n",
      "48/48 [==============================] - 4s 80ms/step - loss: 0.1898 - r_x_loss: 9.7953e-05 - r_y_loss: 1.3029e-04 - r_z_loss: 0.0035 - t_x_loss: 0.0035 - t_y_loss: 6.7512e-04 - t_z_loss: 3.2779e-04 - r_x_rmse: 3.1814e-04 - r_y_rmse: 3.2669e-04 - r_z_rmse: 0.0035 - t_x_rmse: 0.0035 - t_y_rmse: 8.1257e-04 - t_z_rmse: 4.4448e-04 - val_loss: 0.1516 - val_r_x_loss: 9.6867e-05 - val_r_y_loss: 1.4984e-04 - val_r_z_loss: 0.0027 - val_t_x_loss: 0.0036 - val_t_y_loss: 4.0072e-04 - val_t_z_loss: 5.5065e-04 - val_r_x_rmse: 3.2073e-04 - val_r_y_rmse: 3.4374e-04 - val_r_z_rmse: 0.0027 - val_t_x_rmse: 0.0036 - val_t_y_rmse: 5.4843e-04 - val_t_z_rmse: 5.7098e-04\n",
      "Epoch 32/100\n",
      "48/48 [==============================] - 4s 81ms/step - loss: 0.1836 - r_x_loss: 1.0178e-04 - r_y_loss: 1.5105e-04 - r_z_loss: 0.0033 - t_x_loss: 0.0032 - t_y_loss: 6.6999e-04 - t_z_loss: 2.5138e-04 - r_x_rmse: 3.2089e-04 - r_y_rmse: 3.3247e-04 - r_z_rmse: 0.0034 - t_x_rmse: 0.0033 - t_y_rmse: 8.0649e-04 - t_z_rmse: 3.7730e-04 - val_loss: 0.1517 - val_r_x_loss: 3.8661e-05 - val_r_y_loss: 1.0423e-04 - val_r_z_loss: 0.0028 - val_t_x_loss: 0.0040 - val_t_y_loss: 3.9114e-04 - val_t_z_loss: 2.7798e-04 - val_r_x_rmse: 3.1623e-04 - val_r_y_rmse: 3.3961e-04 - val_r_z_rmse: 0.0028 - val_t_x_rmse: 0.0040 - val_t_y_rmse: 5.4230e-04 - val_t_z_rmse: 3.7809e-04\n",
      "Epoch 33/100\n",
      "48/48 [==============================] - 4s 79ms/step - loss: 0.1804 - r_x_loss: 6.5523e-05 - r_y_loss: 1.0145e-04 - r_z_loss: 0.0034 - t_x_loss: 0.0033 - t_y_loss: 6.6946e-04 - t_z_loss: 3.5914e-04 - r_x_rmse: 3.1731e-04 - r_y_rmse: 3.2714e-04 - r_z_rmse: 0.0034 - t_x_rmse: 0.0033 - t_y_rmse: 8.0924e-04 - t_z_rmse: 4.3832e-04 - val_loss: 0.1498 - val_r_x_loss: 6.9387e-05 - val_r_y_loss: 1.7103e-04 - val_r_z_loss: 0.0027 - val_t_x_loss: 0.0037 - val_t_y_loss: 4.0304e-04 - val_t_z_loss: 2.3397e-04 - val_r_x_rmse: 3.1625e-04 - val_r_y_rmse: 3.5928e-04 - val_r_z_rmse: 0.0027 - val_t_x_rmse: 0.0038 - val_t_y_rmse: 5.5692e-04 - val_t_z_rmse: 3.8209e-04\n",
      "Epoch 34/100\n",
      "48/48 [==============================] - 4s 81ms/step - loss: 0.1777 - r_x_loss: 7.2095e-05 - r_y_loss: 1.5663e-04 - r_z_loss: 0.0032 - t_x_loss: 0.0032 - t_y_loss: 6.6411e-04 - t_z_loss: 3.1022e-04 - r_x_rmse: 3.1893e-04 - r_y_rmse: 3.3417e-04 - r_z_rmse: 0.0033 - t_x_rmse: 0.0032 - t_y_rmse: 8.0387e-04 - t_z_rmse: 4.0399e-04 - val_loss: 0.1530 - val_r_x_loss: 8.2509e-05 - val_r_y_loss: 1.3655e-04 - val_r_z_loss: 0.0028 - val_t_x_loss: 0.0036 - val_t_y_loss: 3.9299e-04 - val_t_z_loss: 2.5682e-04 - val_r_x_rmse: 3.1627e-04 - val_r_y_rmse: 3.3146e-04 - val_r_z_rmse: 0.0028 - val_t_x_rmse: 0.0036 - val_t_y_rmse: 5.4221e-04 - val_t_z_rmse: 4.1380e-04\n",
      "Epoch 35/100\n",
      "48/48 [==============================] - 4s 79ms/step - loss: 0.1841 - r_x_loss: 1.8133e-04 - r_y_loss: 1.4522e-04 - r_z_loss: 0.0033 - t_x_loss: 0.0031 - t_y_loss: 6.7270e-04 - t_z_loss: 2.3278e-04 - r_x_rmse: 3.2825e-04 - r_y_rmse: 3.3002e-04 - r_z_rmse: 0.0033 - t_x_rmse: 0.0031 - t_y_rmse: 8.1322e-04 - t_z_rmse: 3.7031e-04 - val_loss: 0.1564 - val_r_x_loss: 1.0847e-04 - val_r_y_loss: 1.6204e-04 - val_r_z_loss: 0.0028 - val_t_x_loss: 0.0035 - val_t_y_loss: 3.9019e-04 - val_t_z_loss: 2.8491e-04 - val_r_x_rmse: 3.1798e-04 - val_r_y_rmse: 3.5917e-04 - val_r_z_rmse: 0.0028 - val_t_x_rmse: 0.0035 - val_t_y_rmse: 5.4498e-04 - val_t_z_rmse: 3.9221e-04\n",
      "Epoch 36/100\n",
      "48/48 [==============================] - 4s 80ms/step - loss: 0.1779 - r_x_loss: 6.3256e-05 - r_y_loss: 1.5413e-04 - r_z_loss: 0.0033 - t_x_loss: 0.0030 - t_y_loss: 6.6985e-04 - t_z_loss: 3.0618e-04 - r_x_rmse: 3.1808e-04 - r_y_rmse: 3.4190e-04 - r_z_rmse: 0.0033 - t_x_rmse: 0.0031 - t_y_rmse: 8.0906e-04 - t_z_rmse: 4.1943e-04 - val_loss: 0.1535 - val_r_x_loss: 1.0514e-04 - val_r_y_loss: 1.1226e-04 - val_r_z_loss: 0.0028 - val_t_x_loss: 0.0037 - val_t_y_loss: 4.0371e-04 - val_t_z_loss: 7.3696e-04 - val_r_x_rmse: 3.1685e-04 - val_r_y_rmse: 3.3572e-04 - val_r_z_rmse: 0.0028 - val_t_x_rmse: 0.0037 - val_t_y_rmse: 5.4175e-04 - val_t_z_rmse: 7.4154e-04\n",
      "ATE: 0.658076, RMSE_t: 1.651973, RMSE_r: 24.343191, RPE_t: 1.033782, RPE_r: 15.623493\n",
      "ATE: 0.445916, RMSE_t: 1.138882, RMSE_r: 16.650445, RPE_t: 0.846703, RPE_r: 10.830059\n",
      "average ATE: 0.551996, RMSE_t: 1.395427, RMSE_r: 20.496818, RPE_t: 0.964099, RPE_r: 13.838044\n"
     ]
    },
    {
     "name": "stdout",
     "output_type": "stream",
     "text": [
      "Epoch 37/100\n",
      "48/48 [==============================] - 4s 80ms/step - loss: 0.1779 - r_x_loss: 9.0300e-05 - r_y_loss: 1.0570e-04 - r_z_loss: 0.0033 - t_x_loss: 0.0029 - t_y_loss: 6.7160e-04 - t_z_loss: 4.6962e-04 - r_x_rmse: 3.2121e-04 - r_y_rmse: 3.2599e-04 - r_z_rmse: 0.0033 - t_x_rmse: 0.0029 - t_y_rmse: 8.1396e-04 - t_z_rmse: 5.2740e-04 - val_loss: 0.1598 - val_r_x_loss: 3.7273e-05 - val_r_y_loss: 1.1440e-04 - val_r_z_loss: 0.0030 - val_t_x_loss: 0.0039 - val_t_y_loss: 3.8414e-04 - val_t_z_loss: 3.5102e-04 - val_r_x_rmse: 3.1623e-04 - val_r_y_rmse: 3.4276e-04 - val_r_z_rmse: 0.0030 - val_t_x_rmse: 0.0039 - val_t_y_rmse: 5.3737e-04 - val_t_z_rmse: 3.9882e-04\n",
      "Epoch 38/100\n",
      "48/48 [==============================] - 4s 80ms/step - loss: 0.1770 - r_x_loss: 8.9540e-05 - r_y_loss: 1.0535e-04 - r_z_loss: 0.0033 - t_x_loss: 0.0029 - t_y_loss: 6.6285e-04 - t_z_loss: 5.3938e-04 - r_x_rmse: 3.1917e-04 - r_y_rmse: 3.2272e-04 - r_z_rmse: 0.0033 - t_x_rmse: 0.0029 - t_y_rmse: 8.0432e-04 - t_z_rmse: 5.7251e-04 - val_loss: 0.1510 - val_r_x_loss: 4.6592e-05 - val_r_y_loss: 1.2916e-04 - val_r_z_loss: 0.0028 - val_t_x_loss: 0.0035 - val_t_y_loss: 4.0028e-04 - val_t_z_loss: 7.0622e-04 - val_r_x_rmse: 3.1700e-04 - val_r_y_rmse: 3.4169e-04 - val_r_z_rmse: 0.0028 - val_t_x_rmse: 0.0035 - val_t_y_rmse: 5.5536e-04 - val_t_z_rmse: 7.1228e-04\n",
      "Epoch 39/100\n",
      "48/48 [==============================] - 4s 80ms/step - loss: 0.1787 - r_x_loss: 1.0786e-04 - r_y_loss: 1.5866e-04 - r_z_loss: 0.0032 - t_x_loss: 0.0028 - t_y_loss: 6.6949e-04 - t_z_loss: 4.2020e-04 - r_x_rmse: 3.1827e-04 - r_y_rmse: 3.2734e-04 - r_z_rmse: 0.0032 - t_x_rmse: 0.0029 - t_y_rmse: 8.1020e-04 - t_z_rmse: 4.8267e-04 - val_loss: 0.1643 - val_r_x_loss: 1.4515e-04 - val_r_y_loss: 1.2998e-04 - val_r_z_loss: 0.0029 - val_t_x_loss: 0.0034 - val_t_y_loss: 3.8966e-04 - val_t_z_loss: 3.3314e-04 - val_r_x_rmse: 3.1743e-04 - val_r_y_rmse: 3.3394e-04 - val_r_z_rmse: 0.0029 - val_t_x_rmse: 0.0034 - val_t_y_rmse: 5.3818e-04 - val_t_z_rmse: 3.9378e-04\n",
      "Epoch 40/100\n",
      "48/48 [==============================] - 4s 80ms/step - loss: 0.1795 - r_x_loss: 1.3054e-04 - r_y_loss: 1.5364e-04 - r_z_loss: 0.0032 - t_x_loss: 0.0028 - t_y_loss: 6.6286e-04 - t_z_loss: 2.5162e-04 - r_x_rmse: 3.1934e-04 - r_y_rmse: 3.3041e-04 - r_z_rmse: 0.0033 - t_x_rmse: 0.0028 - t_y_rmse: 8.0460e-04 - t_z_rmse: 3.6811e-04 - val_loss: 0.1479 - val_r_x_loss: 1.0806e-04 - val_r_y_loss: 9.2204e-05 - val_r_z_loss: 0.0027 - val_t_x_loss: 0.0035 - val_t_y_loss: 4.1804e-04 - val_t_z_loss: 2.6100e-04 - val_r_x_rmse: 3.1659e-04 - val_r_y_rmse: 3.3798e-04 - val_r_z_rmse: 0.0027 - val_t_x_rmse: 0.0036 - val_t_y_rmse: 5.5254e-04 - val_t_z_rmse: 3.5901e-04\n",
      "Epoch 41/100\n",
      "48/48 [==============================] - 4s 80ms/step - loss: 0.1727 - r_x_loss: 9.1569e-05 - r_y_loss: 1.1624e-04 - r_z_loss: 0.0032 - t_x_loss: 0.0027 - t_y_loss: 6.6260e-04 - t_z_loss: 2.8540e-04 - r_x_rmse: 3.2158e-04 - r_y_rmse: 3.2217e-04 - r_z_rmse: 0.0032 - t_x_rmse: 0.0027 - t_y_rmse: 8.0541e-04 - t_z_rmse: 3.8789e-04 - val_loss: 0.1620 - val_r_x_loss: 1.3380e-04 - val_r_y_loss: 2.3202e-04 - val_r_z_loss: 0.0028 - val_t_x_loss: 0.0038 - val_t_y_loss: 3.9388e-04 - val_t_z_loss: 2.1327e-04 - val_r_x_rmse: 3.1623e-04 - val_r_y_rmse: 3.5884e-04 - val_r_z_rmse: 0.0028 - val_t_x_rmse: 0.0038 - val_t_y_rmse: 5.4164e-04 - val_t_z_rmse: 3.5968e-04\n",
      "Epoch 42/100\n",
      "48/48 [==============================] - 4s 81ms/step - loss: 0.1716 - r_x_loss: 1.1184e-04 - r_y_loss: 1.0487e-04 - r_z_loss: 0.0031 - t_x_loss: 0.0027 - t_y_loss: 6.5366e-04 - t_z_loss: 4.0565e-04 - r_x_rmse: 3.1800e-04 - r_y_rmse: 3.2406e-04 - r_z_rmse: 0.0032 - t_x_rmse: 0.0027 - t_y_rmse: 7.9498e-04 - t_z_rmse: 4.7832e-04 - val_loss: 0.1612 - val_r_x_loss: 2.3100e-04 - val_r_y_loss: 1.0685e-04 - val_r_z_loss: 0.0028 - val_t_x_loss: 0.0036 - val_t_y_loss: 3.8346e-04 - val_t_z_loss: 1.6626e-04 - val_r_x_rmse: 3.1804e-04 - val_r_y_rmse: 3.3612e-04 - val_r_z_rmse: 0.0028 - val_t_x_rmse: 0.0036 - val_t_y_rmse: 5.3727e-04 - val_t_z_rmse: 3.5345e-04\n",
      "Epoch 43/100\n",
      "48/48 [==============================] - 4s 81ms/step - loss: 0.1742 - r_x_loss: 1.1768e-04 - r_y_loss: 8.3732e-05 - r_z_loss: 0.0032 - t_x_loss: 0.0027 - t_y_loss: 6.6443e-04 - t_z_loss: 1.4802e-04 - r_x_rmse: 3.1748e-04 - r_y_rmse: 3.1878e-04 - r_z_rmse: 0.0032 - t_x_rmse: 0.0027 - t_y_rmse: 8.0668e-04 - t_z_rmse: 3.3367e-04 - val_loss: 0.1511 - val_r_x_loss: 2.1605e-05 - val_r_y_loss: 1.8182e-04 - val_r_z_loss: 0.0027 - val_t_x_loss: 0.0038 - val_t_y_loss: 4.0082e-04 - val_t_z_loss: 1.2855e-04 - val_r_x_rmse: 3.1630e-04 - val_r_y_rmse: 3.3082e-04 - val_r_z_rmse: 0.0028 - val_t_x_rmse: 0.0038 - val_t_y_rmse: 5.4226e-04 - val_t_z_rmse: 3.5148e-04\n",
      "Epoch 44/100\n",
      "48/48 [==============================] - 4s 80ms/step - loss: 0.1697 - r_x_loss: 8.3251e-05 - r_y_loss: 1.3272e-04 - r_z_loss: 0.0031 - t_x_loss: 0.0026 - t_y_loss: 6.6345e-04 - t_z_loss: 2.5695e-04 - r_x_rmse: 3.1698e-04 - r_y_rmse: 3.2464e-04 - r_z_rmse: 0.0031 - t_x_rmse: 0.0026 - t_y_rmse: 8.0428e-04 - t_z_rmse: 3.7506e-04 - val_loss: 0.1446 - val_r_x_loss: 2.4818e-05 - val_r_y_loss: 7.4027e-05 - val_r_z_loss: 0.0027 - val_t_x_loss: 0.0038 - val_t_y_loss: 3.8617e-04 - val_t_z_loss: 3.2822e-04 - val_r_x_rmse: 3.1625e-04 - val_r_y_rmse: 3.3514e-04 - val_r_z_rmse: 0.0027 - val_t_x_rmse: 0.0038 - val_t_y_rmse: 5.3917e-04 - val_t_z_rmse: 3.7990e-04\n",
      "Epoch 45/100\n",
      "48/48 [==============================] - 4s 80ms/step - loss: 0.1672 - r_x_loss: 1.2592e-04 - r_y_loss: 7.2627e-05 - r_z_loss: 0.0031 - t_x_loss: 0.0026 - t_y_loss: 6.5159e-04 - t_z_loss: 2.5325e-04 - r_x_rmse: 3.2058e-04 - r_y_rmse: 3.2061e-04 - r_z_rmse: 0.0031 - t_x_rmse: 0.0026 - t_y_rmse: 7.9573e-04 - t_z_rmse: 3.6929e-04 - val_loss: 0.1570 - val_r_x_loss: 2.6454e-04 - val_r_y_loss: 8.2432e-05 - val_r_z_loss: 0.0027 - val_t_x_loss: 0.0040 - val_t_y_loss: 3.9724e-04 - val_t_z_loss: 1.5047e-04 - val_r_x_rmse: 3.5275e-04 - val_r_y_rmse: 3.3580e-04 - val_r_z_rmse: 0.0027 - val_t_x_rmse: 0.0040 - val_t_y_rmse: 5.4663e-04 - val_t_z_rmse: 3.5811e-04\n",
      "Epoch 46/100\n",
      "48/48 [==============================] - 4s 79ms/step - loss: 0.1726 - r_x_loss: 1.8609e-04 - r_y_loss: 1.1944e-04 - r_z_loss: 0.0031 - t_x_loss: 0.0026 - t_y_loss: 6.6387e-04 - t_z_loss: 5.4860e-04 - r_x_rmse: 3.2621e-04 - r_y_rmse: 3.2453e-04 - r_z_rmse: 0.0031 - t_x_rmse: 0.0026 - t_y_rmse: 8.0384e-04 - t_z_rmse: 5.8007e-04 - val_loss: 0.1576 - val_r_x_loss: 1.5363e-04 - val_r_y_loss: 1.3520e-04 - val_r_z_loss: 0.0028 - val_t_x_loss: 0.0038 - val_t_y_loss: 3.8513e-04 - val_t_z_loss: 7.8911e-04 - val_r_x_rmse: 3.1643e-04 - val_r_y_rmse: 3.3936e-04 - val_r_z_rmse: 0.0028 - val_t_x_rmse: 0.0039 - val_t_y_rmse: 5.3671e-04 - val_t_z_rmse: 7.9330e-04\n",
      "Epoch 47/100\n",
      "48/48 [==============================] - 4s 80ms/step - loss: 0.1706 - r_x_loss: 1.1388e-04 - r_y_loss: 1.4358e-04 - r_z_loss: 0.0031 - t_x_loss: 0.0025 - t_y_loss: 6.7472e-04 - t_z_loss: 5.3535e-04 - r_x_rmse: 3.1932e-04 - r_y_rmse: 3.2562e-04 - r_z_rmse: 0.0031 - t_x_rmse: 0.0026 - t_y_rmse: 8.1040e-04 - t_z_rmse: 5.5848e-04 - val_loss: 0.1520 - val_r_x_loss: 8.1560e-05 - val_r_y_loss: 8.6055e-05 - val_r_z_loss: 0.0028 - val_t_x_loss: 0.0040 - val_t_y_loss: 3.8972e-04 - val_t_z_loss: 7.6463e-04 - val_r_x_rmse: 3.1623e-04 - val_r_y_rmse: 3.3507e-04 - val_r_z_rmse: 0.0028 - val_t_x_rmse: 0.0040 - val_t_y_rmse: 5.3813e-04 - val_t_z_rmse: 7.7063e-04\n",
      "Epoch 48/100\n",
      "48/48 [==============================] - 4s 80ms/step - loss: 0.1695 - r_x_loss: 1.2582e-04 - r_y_loss: 1.5620e-04 - r_z_loss: 0.0030 - t_x_loss: 0.0025 - t_y_loss: 6.5460e-04 - t_z_loss: 4.3257e-04 - r_x_rmse: 3.1752e-04 - r_y_rmse: 3.2467e-04 - r_z_rmse: 0.0031 - t_x_rmse: 0.0025 - t_y_rmse: 7.9904e-04 - t_z_rmse: 4.9049e-04 - val_loss: 0.1555 - val_r_x_loss: 1.1702e-04 - val_r_y_loss: 1.0930e-04 - val_r_z_loss: 0.0028 - val_t_x_loss: 0.0039 - val_t_y_loss: 3.9502e-04 - val_t_z_loss: 5.7184e-04 - val_r_x_rmse: 3.1654e-04 - val_r_y_rmse: 3.4448e-04 - val_r_z_rmse: 0.0028 - val_t_x_rmse: 0.0039 - val_t_y_rmse: 5.4593e-04 - val_t_z_rmse: 5.8267e-04\n",
      "ATE: 0.463251, RMSE_t: 1.168909, RMSE_r: 15.741268, RPE_t: 0.720863, RPE_r: 9.930485\n",
      "ATE: 0.251388, RMSE_t: 0.898118, RMSE_r: 10.075252, RPE_t: 0.774214, RPE_r: 6.192901\n",
      "average ATE: 0.357319, RMSE_t: 1.033513, RMSE_r: 12.908260, RPE_t: 0.740735, RPE_r: 8.538317\n"
     ]
    },
    {
     "name": "stdout",
     "output_type": "stream",
     "text": [
      "Epoch 49/100\n",
      "48/48 [==============================] - 4s 82ms/step - loss: 0.1686 - r_x_loss: 1.2417e-04 - r_y_loss: 1.0251e-04 - r_z_loss: 0.0031 - t_x_loss: 0.0025 - t_y_loss: 6.5883e-04 - t_z_loss: 2.3118e-04 - r_x_rmse: 3.1776e-04 - r_y_rmse: 3.2030e-04 - r_z_rmse: 0.0031 - t_x_rmse: 0.0026 - t_y_rmse: 8.0134e-04 - t_z_rmse: 3.6480e-04 - val_loss: 0.1508 - val_r_x_loss: 1.2546e-04 - val_r_y_loss: 7.6276e-05 - val_r_z_loss: 0.0027 - val_t_x_loss: 0.0039 - val_t_y_loss: 3.8545e-04 - val_t_z_loss: 4.0968e-04 - val_r_x_rmse: 3.1623e-04 - val_r_y_rmse: 3.3081e-04 - val_r_z_rmse: 0.0028 - val_t_x_rmse: 0.0039 - val_t_y_rmse: 5.3913e-04 - val_t_z_rmse: 4.2319e-04\n",
      "Epoch 50/100\n",
      "48/48 [==============================] - 4s 80ms/step - loss: 0.1704 - r_x_loss: 1.3107e-04 - r_y_loss: 9.9959e-05 - r_z_loss: 0.0031 - t_x_loss: 0.0025 - t_y_loss: 6.5525e-04 - t_z_loss: 4.1165e-04 - r_x_rmse: 3.2122e-04 - r_y_rmse: 3.2294e-04 - r_z_rmse: 0.0031 - t_x_rmse: 0.0025 - t_y_rmse: 8.0040e-04 - t_z_rmse: 4.7413e-04 - val_loss: 0.1596 - val_r_x_loss: 2.5223e-04 - val_r_y_loss: 8.6552e-05 - val_r_z_loss: 0.0028 - val_t_x_loss: 0.0042 - val_t_y_loss: 3.8353e-04 - val_t_z_loss: 3.9515e-04 - val_r_x_rmse: 3.1726e-04 - val_r_y_rmse: 3.3453e-04 - val_r_z_rmse: 0.0028 - val_t_x_rmse: 0.0042 - val_t_y_rmse: 5.3783e-04 - val_t_z_rmse: 4.1330e-04\n",
      "Epoch 51/100\n",
      "48/48 [==============================] - 4s 80ms/step - loss: 0.1629 - r_x_loss: 7.6627e-05 - r_y_loss: 7.5068e-05 - r_z_loss: 0.0030 - t_x_loss: 0.0024 - t_y_loss: 6.5385e-04 - t_z_loss: 2.5842e-04 - r_x_rmse: 3.1748e-04 - r_y_rmse: 3.2127e-04 - r_z_rmse: 0.0031 - t_x_rmse: 0.0025 - t_y_rmse: 7.9871e-04 - t_z_rmse: 3.6647e-04 - val_loss: 0.1651 - val_r_x_loss: 1.8349e-04 - val_r_y_loss: 2.1762e-04 - val_r_z_loss: 0.0028 - val_t_x_loss: 0.0041 - val_t_y_loss: 3.8585e-04 - val_t_z_loss: 5.6520e-04 - val_r_x_rmse: 3.1662e-04 - val_r_y_rmse: 3.4083e-04 - val_r_z_rmse: 0.0028 - val_t_x_rmse: 0.0041 - val_t_y_rmse: 5.4087e-04 - val_t_z_rmse: 5.7120e-04\n",
      "Epoch 52/100\n",
      "48/48 [==============================] - 4s 81ms/step - loss: 0.1631 - r_x_loss: 7.4760e-05 - r_y_loss: 1.2427e-04 - r_z_loss: 0.0030 - t_x_loss: 0.0024 - t_y_loss: 6.5592e-04 - t_z_loss: 4.5174e-04 - r_x_rmse: 3.1872e-04 - r_y_rmse: 3.2428e-04 - r_z_rmse: 0.0030 - t_x_rmse: 0.0025 - t_y_rmse: 7.9750e-04 - t_z_rmse: 5.0759e-04 - val_loss: 0.1515 - val_r_x_loss: 3.0568e-05 - val_r_y_loss: 1.3852e-04 - val_r_z_loss: 0.0028 - val_t_x_loss: 0.0041 - val_t_y_loss: 3.8710e-04 - val_t_z_loss: 3.7349e-04 - val_r_x_rmse: 3.1624e-04 - val_r_y_rmse: 3.4409e-04 - val_r_z_rmse: 0.0028 - val_t_x_rmse: 0.0042 - val_t_y_rmse: 5.3765e-04 - val_t_z_rmse: 3.9909e-04\n",
      "Epoch 53/100\n",
      "48/48 [==============================] - 4s 80ms/step - loss: 0.1600 - r_x_loss: 9.3359e-05 - r_y_loss: 5.8957e-05 - r_z_loss: 0.0030 - t_x_loss: 0.0024 - t_y_loss: 6.5440e-04 - t_z_loss: 2.6888e-04 - r_x_rmse: 3.1682e-04 - r_y_rmse: 3.1844e-04 - r_z_rmse: 0.0030 - t_x_rmse: 0.0024 - t_y_rmse: 7.9744e-04 - t_z_rmse: 3.6338e-04 - val_loss: 0.1608 - val_r_x_loss: 1.7871e-04 - val_r_y_loss: 1.1943e-04 - val_r_z_loss: 0.0028 - val_t_x_loss: 0.0040 - val_t_y_loss: 3.9471e-04 - val_t_z_loss: 2.6464e-04 - val_r_x_rmse: 3.1623e-04 - val_r_y_rmse: 3.2882e-04 - val_r_z_rmse: 0.0028 - val_t_x_rmse: 0.0041 - val_t_y_rmse: 5.4242e-04 - val_t_z_rmse: 3.6802e-04\n",
      "Epoch 54/100\n",
      "48/48 [==============================] - 4s 80ms/step - loss: 0.1705 - r_x_loss: 1.0988e-04 - r_y_loss: 2.1606e-04 - r_z_loss: 0.0030 - t_x_loss: 0.0024 - t_y_loss: 6.6285e-04 - t_z_loss: 2.6276e-04 - r_x_rmse: 3.1845e-04 - r_y_rmse: 3.5152e-04 - r_z_rmse: 0.0030 - t_x_rmse: 0.0024 - t_y_rmse: 8.0507e-04 - t_z_rmse: 3.6054e-04 - val_loss: 0.1497 - val_r_x_loss: 4.5842e-05 - val_r_y_loss: 9.0665e-05 - val_r_z_loss: 0.0028 - val_t_x_loss: 0.0039 - val_t_y_loss: 3.8816e-04 - val_t_z_loss: 5.3063e-04 - val_r_x_rmse: 3.1623e-04 - val_r_y_rmse: 3.3307e-04 - val_r_z_rmse: 0.0028 - val_t_x_rmse: 0.0039 - val_t_y_rmse: 5.3805e-04 - val_t_z_rmse: 5.3850e-04\n",
      "Epoch 55/100\n",
      "48/48 [==============================] - 4s 80ms/step - loss: 0.1538 - r_x_loss: 3.2341e-05 - r_y_loss: 4.9833e-05 - r_z_loss: 0.0029 - t_x_loss: 0.0023 - t_y_loss: 6.5078e-04 - t_z_loss: 1.6026e-04 - r_x_rmse: 3.1766e-04 - r_y_rmse: 3.1954e-04 - r_z_rmse: 0.0030 - t_x_rmse: 0.0023 - t_y_rmse: 7.9575e-04 - t_z_rmse: 3.3417e-04 - val_loss: 0.1481 - val_r_x_loss: 2.0896e-05 - val_r_y_loss: 7.7719e-05 - val_r_z_loss: 0.0028 - val_t_x_loss: 0.0041 - val_t_y_loss: 3.8118e-04 - val_t_z_loss: 1.4874e-04 - val_r_x_rmse: 3.1623e-04 - val_r_y_rmse: 3.3194e-04 - val_r_z_rmse: 0.0028 - val_t_x_rmse: 0.0041 - val_t_y_rmse: 5.3798e-04 - val_t_z_rmse: 3.4482e-04\n",
      "Epoch 56/100\n",
      "48/48 [==============================] - 4s 80ms/step - loss: 0.1518 - r_x_loss: 4.9365e-05 - r_y_loss: 4.6001e-05 - r_z_loss: 0.0029 - t_x_loss: 0.0022 - t_y_loss: 6.4865e-04 - t_z_loss: 1.2012e-04 - r_x_rmse: 3.1686e-04 - r_y_rmse: 3.1788e-04 - r_z_rmse: 0.0029 - t_x_rmse: 0.0022 - t_y_rmse: 7.9434e-04 - t_z_rmse: 3.2174e-04 - val_loss: 0.1487 - val_r_x_loss: 2.1344e-05 - val_r_y_loss: 7.4541e-05 - val_r_z_loss: 0.0028 - val_t_x_loss: 0.0041 - val_t_y_loss: 3.8737e-04 - val_t_z_loss: 1.9941e-04 - val_r_x_rmse: 3.1623e-04 - val_r_y_rmse: 3.3198e-04 - val_r_z_rmse: 0.0028 - val_t_x_rmse: 0.0041 - val_t_y_rmse: 5.3922e-04 - val_t_z_rmse: 3.4178e-04\n",
      "Epoch 57/100\n",
      "48/48 [==============================] - 4s 80ms/step - loss: 0.1501 - r_x_loss: 2.7568e-05 - r_y_loss: 4.6929e-05 - r_z_loss: 0.0029 - t_x_loss: 0.0022 - t_y_loss: 6.4842e-04 - t_z_loss: 1.1079e-04 - r_x_rmse: 3.1717e-04 - r_y_rmse: 3.1773e-04 - r_z_rmse: 0.0029 - t_x_rmse: 0.0022 - t_y_rmse: 7.9430e-04 - t_z_rmse: 3.2409e-04 - val_loss: 0.1520 - val_r_x_loss: 3.8137e-05 - val_r_y_loss: 9.0613e-05 - val_r_z_loss: 0.0028 - val_t_x_loss: 0.0040 - val_t_y_loss: 3.8964e-04 - val_t_z_loss: 1.8770e-04 - val_r_x_rmse: 3.1623e-04 - val_r_y_rmse: 3.3042e-04 - val_r_z_rmse: 0.0028 - val_t_x_rmse: 0.0040 - val_t_y_rmse: 5.3923e-04 - val_t_z_rmse: 3.4221e-04\n",
      "Epoch 58/100\n",
      "48/48 [==============================] - 4s 80ms/step - loss: 0.1516 - r_x_loss: 5.5857e-05 - r_y_loss: 7.2621e-05 - r_z_loss: 0.0028 - t_x_loss: 0.0022 - t_y_loss: 6.5023e-04 - t_z_loss: 1.0031e-04 - r_x_rmse: 3.1656e-04 - r_y_rmse: 3.1816e-04 - r_z_rmse: 0.0029 - t_x_rmse: 0.0022 - t_y_rmse: 7.9593e-04 - t_z_rmse: 3.2021e-04 - val_loss: 0.1521 - val_r_x_loss: 5.0010e-05 - val_r_y_loss: 1.3904e-04 - val_r_z_loss: 0.0028 - val_t_x_loss: 0.0040 - val_t_y_loss: 3.8671e-04 - val_t_z_loss: 2.1062e-04 - val_r_x_rmse: 3.1671e-04 - val_r_y_rmse: 3.3086e-04 - val_r_z_rmse: 0.0028 - val_t_x_rmse: 0.0040 - val_t_y_rmse: 5.3953e-04 - val_t_z_rmse: 3.4074e-04\n",
      "Epoch 59/100\n",
      "48/48 [==============================] - 4s 80ms/step - loss: 0.1499 - r_x_loss: 4.3293e-05 - r_y_loss: 5.5206e-05 - r_z_loss: 0.0028 - t_x_loss: 0.0022 - t_y_loss: 6.4575e-04 - t_z_loss: 8.8507e-05 - r_x_rmse: 3.1676e-04 - r_y_rmse: 3.1753e-04 - r_z_rmse: 0.0029 - t_x_rmse: 0.0022 - t_y_rmse: 7.9226e-04 - t_z_rmse: 3.2168e-04 - val_loss: 0.1478 - val_r_x_loss: 1.0360e-05 - val_r_y_loss: 9.1004e-05 - val_r_z_loss: 0.0028 - val_t_x_loss: 0.0040 - val_t_y_loss: 3.8523e-04 - val_t_z_loss: 7.5441e-05 - val_r_x_rmse: 3.1623e-04 - val_r_y_rmse: 3.3211e-04 - val_r_z_rmse: 0.0028 - val_t_x_rmse: 0.0040 - val_t_y_rmse: 5.3722e-04 - val_t_z_rmse: 3.3696e-04\n",
      "Epoch 60/100\n",
      "48/48 [==============================] - 4s 79ms/step - loss: 0.1468 - r_x_loss: 3.4102e-05 - r_y_loss: 3.9549e-05 - r_z_loss: 0.0028 - t_x_loss: 0.0021 - t_y_loss: 6.4766e-04 - t_z_loss: 9.5221e-05 - r_x_rmse: 3.1668e-04 - r_y_rmse: 3.1752e-04 - r_z_rmse: 0.0028 - t_x_rmse: 0.0022 - t_y_rmse: 7.9356e-04 - t_z_rmse: 3.2185e-04 - val_loss: 0.1499 - val_r_x_loss: 3.4160e-05 - val_r_y_loss: 6.6892e-05 - val_r_z_loss: 0.0028 - val_t_x_loss: 0.0039 - val_t_y_loss: 3.8114e-04 - val_t_z_loss: 2.0244e-04 - val_r_x_rmse: 3.1624e-04 - val_r_y_rmse: 3.3341e-04 - val_r_z_rmse: 0.0028 - val_t_x_rmse: 0.0039 - val_t_y_rmse: 5.3787e-04 - val_t_z_rmse: 3.3829e-04\n",
      "ATE: 0.543045, RMSE_t: 1.425982, RMSE_r: 21.007875, RPE_t: 0.879782, RPE_r: 13.107639\n",
      "ATE: 0.348008, RMSE_t: 1.048184, RMSE_r: 14.696320, RPE_t: 0.826017, RPE_r: 9.051948\n",
      "average ATE: 0.445526, RMSE_t: 1.237083, RMSE_r: 17.852097, RPE_t: 0.859756, RPE_r: 11.596983\n"
     ]
    },
    {
     "name": "stdout",
     "output_type": "stream",
     "text": [
      "Epoch 61/100\n",
      "48/48 [==============================] - 4s 81ms/step - loss: 0.1478 - r_x_loss: 4.7359e-05 - r_y_loss: 3.6509e-05 - r_z_loss: 0.0028 - t_x_loss: 0.0021 - t_y_loss: 6.4740e-04 - t_z_loss: 1.4187e-04 - r_x_rmse: 3.1682e-04 - r_y_rmse: 3.1722e-04 - r_z_rmse: 0.0028 - t_x_rmse: 0.0022 - t_y_rmse: 7.9530e-04 - t_z_rmse: 3.2031e-04 - val_loss: 0.1499 - val_r_x_loss: 2.3955e-05 - val_r_y_loss: 8.9590e-05 - val_r_z_loss: 0.0028 - val_t_x_loss: 0.0040 - val_t_y_loss: 3.8662e-04 - val_t_z_loss: 1.6844e-04 - val_r_x_rmse: 3.1623e-04 - val_r_y_rmse: 3.3637e-04 - val_r_z_rmse: 0.0028 - val_t_x_rmse: 0.0040 - val_t_y_rmse: 5.4019e-04 - val_t_z_rmse: 3.3817e-04\n",
      "Epoch 62/100\n",
      "48/48 [==============================] - 4s 81ms/step - loss: 0.1461 - r_x_loss: 3.4640e-05 - r_y_loss: 3.8989e-05 - r_z_loss: 0.0028 - t_x_loss: 0.0021 - t_y_loss: 6.4578e-04 - t_z_loss: 1.4186e-04 - r_x_rmse: 3.1704e-04 - r_y_rmse: 3.1838e-04 - r_z_rmse: 0.0028 - t_x_rmse: 0.0021 - t_y_rmse: 7.9267e-04 - t_z_rmse: 3.2326e-04 - val_loss: 0.1472 - val_r_x_loss: 3.0333e-05 - val_r_y_loss: 6.7015e-05 - val_r_z_loss: 0.0028 - val_t_x_loss: 0.0041 - val_t_y_loss: 3.8289e-04 - val_t_z_loss: 1.9502e-04 - val_r_x_rmse: 3.1623e-04 - val_r_y_rmse: 3.3136e-04 - val_r_z_rmse: 0.0028 - val_t_x_rmse: 0.0041 - val_t_y_rmse: 5.3680e-04 - val_t_z_rmse: 3.3957e-04\n",
      "Epoch 63/100\n",
      "48/48 [==============================] - 4s 81ms/step - loss: 0.1442 - r_x_loss: 1.9788e-05 - r_y_loss: 4.7092e-05 - r_z_loss: 0.0028 - t_x_loss: 0.0021 - t_y_loss: 6.4382e-04 - t_z_loss: 1.2571e-04 - r_x_rmse: 3.1639e-04 - r_y_rmse: 3.1728e-04 - r_z_rmse: 0.0028 - t_x_rmse: 0.0021 - t_y_rmse: 7.9133e-04 - t_z_rmse: 3.2357e-04 - val_loss: 0.1485 - val_r_x_loss: 1.1762e-05 - val_r_y_loss: 8.5193e-05 - val_r_z_loss: 0.0028 - val_t_x_loss: 0.0039 - val_t_y_loss: 3.8406e-04 - val_t_z_loss: 1.4638e-04 - val_r_x_rmse: 3.1630e-04 - val_r_y_rmse: 3.3342e-04 - val_r_z_rmse: 0.0028 - val_t_x_rmse: 0.0039 - val_t_y_rmse: 5.4068e-04 - val_t_z_rmse: 3.3433e-04\n",
      "Epoch 64/100\n",
      "48/48 [==============================] - 4s 81ms/step - loss: 0.1459 - r_x_loss: 2.9850e-05 - r_y_loss: 4.7425e-05 - r_z_loss: 0.0028 - t_x_loss: 0.0021 - t_y_loss: 6.4591e-04 - t_z_loss: 1.3632e-04 - r_x_rmse: 3.1683e-04 - r_y_rmse: 3.1733e-04 - r_z_rmse: 0.0028 - t_x_rmse: 0.0022 - t_y_rmse: 7.9449e-04 - t_z_rmse: 3.2102e-04 - val_loss: 0.1487 - val_r_x_loss: 1.4145e-05 - val_r_y_loss: 8.2896e-05 - val_r_z_loss: 0.0028 - val_t_x_loss: 0.0041 - val_t_y_loss: 3.8790e-04 - val_t_z_loss: 1.4706e-04 - val_r_x_rmse: 3.1624e-04 - val_r_y_rmse: 3.3468e-04 - val_r_z_rmse: 0.0028 - val_t_x_rmse: 0.0041 - val_t_y_rmse: 5.3775e-04 - val_t_z_rmse: 3.3820e-04\n",
      "Epoch 65/100\n",
      "48/48 [==============================] - 4s 80ms/step - loss: 0.1425 - r_x_loss: 1.7196e-05 - r_y_loss: 3.0792e-05 - r_z_loss: 0.0027 - t_x_loss: 0.0021 - t_y_loss: 6.4489e-04 - t_z_loss: 6.2419e-05 - r_x_rmse: 3.1637e-04 - r_y_rmse: 3.1715e-04 - r_z_rmse: 0.0028 - t_x_rmse: 0.0021 - t_y_rmse: 7.9397e-04 - t_z_rmse: 3.2074e-04 - val_loss: 0.1486 - val_r_x_loss: 2.2299e-05 - val_r_y_loss: 7.2880e-05 - val_r_z_loss: 0.0028 - val_t_x_loss: 0.0039 - val_t_y_loss: 3.8026e-04 - val_t_z_loss: 7.0835e-05 - val_r_x_rmse: 3.1623e-04 - val_r_y_rmse: 3.3557e-04 - val_r_z_rmse: 0.0028 - val_t_x_rmse: 0.0039 - val_t_y_rmse: 5.3731e-04 - val_t_z_rmse: 3.3523e-04\n",
      "Epoch 66/100\n",
      "48/48 [==============================] - 4s 80ms/step - loss: 0.1413 - r_x_loss: 1.2316e-05 - r_y_loss: 2.6927e-05 - r_z_loss: 0.0027 - t_x_loss: 0.0020 - t_y_loss: 6.4379e-04 - t_z_loss: 5.3842e-05 - r_x_rmse: 3.1658e-04 - r_y_rmse: 3.1774e-04 - r_z_rmse: 0.0028 - t_x_rmse: 0.0020 - t_y_rmse: 7.9279e-04 - t_z_rmse: 3.1911e-04 - val_loss: 0.1486 - val_r_x_loss: 1.8477e-05 - val_r_y_loss: 8.1350e-05 - val_r_z_loss: 0.0028 - val_t_x_loss: 0.0040 - val_t_y_loss: 3.8079e-04 - val_t_z_loss: 1.0110e-04 - val_r_x_rmse: 3.1623e-04 - val_r_y_rmse: 3.3527e-04 - val_r_z_rmse: 0.0028 - val_t_x_rmse: 0.0040 - val_t_y_rmse: 5.3781e-04 - val_t_z_rmse: 3.3507e-04\n",
      "Epoch 67/100\n",
      "48/48 [==============================] - 4s 81ms/step - loss: 0.1406 - r_x_loss: 1.7520e-05 - r_y_loss: 2.7721e-05 - r_z_loss: 0.0027 - t_x_loss: 0.0020 - t_y_loss: 6.4203e-04 - t_z_loss: 6.7008e-05 - r_x_rmse: 3.1623e-04 - r_y_rmse: 3.1634e-04 - r_z_rmse: 0.0028 - t_x_rmse: 0.0020 - t_y_rmse: 7.9132e-04 - t_z_rmse: 3.1765e-04 - val_loss: 0.1478 - val_r_x_loss: 3.1565e-05 - val_r_y_loss: 6.5470e-05 - val_r_z_loss: 0.0028 - val_t_x_loss: 0.0039 - val_t_y_loss: 3.8120e-04 - val_t_z_loss: 8.7566e-05 - val_r_x_rmse: 3.1623e-04 - val_r_y_rmse: 3.3300e-04 - val_r_z_rmse: 0.0028 - val_t_x_rmse: 0.0039 - val_t_y_rmse: 5.3772e-04 - val_t_z_rmse: 3.3364e-04\n",
      "Epoch 68/100\n",
      "48/48 [==============================] - 4s 80ms/step - loss: 0.1395 - r_x_loss: 1.5673e-05 - r_y_loss: 2.4274e-05 - r_z_loss: 0.0027 - t_x_loss: 0.0020 - t_y_loss: 6.4004e-04 - t_z_loss: 6.8870e-05 - r_x_rmse: 3.1649e-04 - r_y_rmse: 3.1666e-04 - r_z_rmse: 0.0027 - t_x_rmse: 0.0020 - t_y_rmse: 7.8926e-04 - t_z_rmse: 3.1821e-04 - val_loss: 0.1484 - val_r_x_loss: 6.6340e-06 - val_r_y_loss: 6.5713e-05 - val_r_z_loss: 0.0028 - val_t_x_loss: 0.0038 - val_t_y_loss: 3.8282e-04 - val_t_z_loss: 6.4745e-05 - val_r_x_rmse: 3.1623e-04 - val_r_y_rmse: 3.3261e-04 - val_r_z_rmse: 0.0028 - val_t_x_rmse: 0.0038 - val_t_y_rmse: 5.3823e-04 - val_t_z_rmse: 3.3376e-04\n",
      "Epoch 69/100\n",
      "48/48 [==============================] - 4s 79ms/step - loss: 0.1402 - r_x_loss: 1.5953e-05 - r_y_loss: 3.6077e-05 - r_z_loss: 0.0027 - t_x_loss: 0.0020 - t_y_loss: 6.4406e-04 - t_z_loss: 6.5942e-05 - r_x_rmse: 3.1638e-04 - r_y_rmse: 3.1705e-04 - r_z_rmse: 0.0027 - t_x_rmse: 0.0020 - t_y_rmse: 7.9079e-04 - t_z_rmse: 3.1898e-04 - val_loss: 0.1494 - val_r_x_loss: 1.2925e-05 - val_r_y_loss: 8.6450e-05 - val_r_z_loss: 0.0028 - val_t_x_loss: 0.0040 - val_t_y_loss: 3.8079e-04 - val_t_z_loss: 1.2181e-04 - val_r_x_rmse: 3.1623e-04 - val_r_y_rmse: 3.3642e-04 - val_r_z_rmse: 0.0028 - val_t_x_rmse: 0.0040 - val_t_y_rmse: 5.3710e-04 - val_t_z_rmse: 3.3576e-04\n",
      "Epoch 70/100\n",
      "48/48 [==============================] - 4s 80ms/step - loss: 0.1398 - r_x_loss: 1.2668e-05 - r_y_loss: 3.8843e-05 - r_z_loss: 0.0027 - t_x_loss: 0.0020 - t_y_loss: 6.6603e-04 - t_z_loss: 6.7307e-05 - r_x_rmse: 3.1653e-04 - r_y_rmse: 3.1670e-04 - r_z_rmse: 0.0027 - t_x_rmse: 0.0021 - t_y_rmse: 8.1505e-04 - t_z_rmse: 3.1808e-04 - val_loss: 0.1473 - val_r_x_loss: 8.6843e-06 - val_r_y_loss: 6.6666e-05 - val_r_z_loss: 0.0028 - val_t_x_loss: 0.0039 - val_t_y_loss: 3.8898e-04 - val_t_z_loss: 6.1453e-05 - val_r_x_rmse: 3.1623e-04 - val_r_y_rmse: 3.3264e-04 - val_r_z_rmse: 0.0028 - val_t_x_rmse: 0.0039 - val_t_y_rmse: 5.3957e-04 - val_t_z_rmse: 3.3286e-04\n",
      "Epoch 71/100\n",
      "48/48 [==============================] - 4s 80ms/step - loss: 0.1388 - r_x_loss: 1.9188e-05 - r_y_loss: 2.9227e-05 - r_z_loss: 0.0027 - t_x_loss: 0.0020 - t_y_loss: 6.4122e-04 - t_z_loss: 4.6964e-05 - r_x_rmse: 3.1623e-04 - r_y_rmse: 3.1687e-04 - r_z_rmse: 0.0027 - t_x_rmse: 0.0020 - t_y_rmse: 7.8931e-04 - t_z_rmse: 3.1743e-04 - val_loss: 0.1498 - val_r_x_loss: 3.5237e-05 - val_r_y_loss: 6.7307e-05 - val_r_z_loss: 0.0028 - val_t_x_loss: 0.0039 - val_t_y_loss: 3.8353e-04 - val_t_z_loss: 8.4919e-05 - val_r_x_rmse: 3.1624e-04 - val_r_y_rmse: 3.3368e-04 - val_r_z_rmse: 0.0028 - val_t_x_rmse: 0.0040 - val_t_y_rmse: 5.3936e-04 - val_t_z_rmse: 3.3452e-04\n",
      "Epoch 72/100\n",
      "48/48 [==============================] - 4s 80ms/step - loss: 0.1388 - r_x_loss: 2.9166e-05 - r_y_loss: 2.4331e-05 - r_z_loss: 0.0027 - t_x_loss: 0.0020 - t_y_loss: 6.3996e-04 - t_z_loss: 4.9913e-05 - r_x_rmse: 3.1653e-04 - r_y_rmse: 3.1674e-04 - r_z_rmse: 0.0027 - t_x_rmse: 0.0020 - t_y_rmse: 7.8938e-04 - t_z_rmse: 3.1772e-04 - val_loss: 0.1481 - val_r_x_loss: 1.8080e-05 - val_r_y_loss: 6.6701e-05 - val_r_z_loss: 0.0028 - val_t_x_loss: 0.0039 - val_t_y_loss: 3.8186e-04 - val_t_z_loss: 6.0798e-05 - val_r_x_rmse: 3.1623e-04 - val_r_y_rmse: 3.3300e-04 - val_r_z_rmse: 0.0028 - val_t_x_rmse: 0.0039 - val_t_y_rmse: 5.3805e-04 - val_t_z_rmse: 3.3288e-04\n",
      "ATE: 0.187779, RMSE_t: 0.639760, RMSE_r: 8.821097, RPE_t: 0.428009, RPE_r: 5.568898\n",
      "ATE: 0.125129, RMSE_t: 0.874993, RMSE_r: 5.336295, RPE_t: 0.813569, RPE_r: 4.376704\n",
      "average ATE: 0.156454, RMSE_t: 0.757377, RMSE_r: 7.078696, RPE_t: 0.571622, RPE_r: 5.124832\n"
     ]
    },
    {
     "name": "stdout",
     "output_type": "stream",
     "text": [
      "Epoch 73/100\n",
      "48/48 [==============================] - 4s 82ms/step - loss: 0.1374 - r_x_loss: 9.4416e-06 - r_y_loss: 2.6611e-05 - r_z_loss: 0.0027 - t_x_loss: 0.0019 - t_y_loss: 6.4205e-04 - t_z_loss: 4.8284e-05 - r_x_rmse: 3.1624e-04 - r_y_rmse: 3.1698e-04 - r_z_rmse: 0.0027 - t_x_rmse: 0.0020 - t_y_rmse: 7.9073e-04 - t_z_rmse: 3.1727e-04 - val_loss: 0.1495 - val_r_x_loss: 6.2590e-06 - val_r_y_loss: 7.7302e-05 - val_r_z_loss: 0.0028 - val_t_x_loss: 0.0039 - val_t_y_loss: 3.8138e-04 - val_t_z_loss: 6.6906e-05 - val_r_x_rmse: 3.1624e-04 - val_r_y_rmse: 3.3421e-04 - val_r_z_rmse: 0.0029 - val_t_x_rmse: 0.0039 - val_t_y_rmse: 5.3844e-04 - val_t_z_rmse: 3.3446e-04\n",
      "Epoch 74/100\n",
      "48/48 [==============================] - 4s 79ms/step - loss: 0.1364 - r_x_loss: 8.0331e-06 - r_y_loss: 2.3761e-05 - r_z_loss: 0.0026 - t_x_loss: 0.0019 - t_y_loss: 6.3854e-04 - t_z_loss: 5.0612e-05 - r_x_rmse: 3.1647e-04 - r_y_rmse: 3.1652e-04 - r_z_rmse: 0.0027 - t_x_rmse: 0.0020 - t_y_rmse: 7.8882e-04 - t_z_rmse: 3.1768e-04 - val_loss: 0.1494 - val_r_x_loss: 5.2601e-06 - val_r_y_loss: 8.4659e-05 - val_r_z_loss: 0.0028 - val_t_x_loss: 0.0038 - val_t_y_loss: 3.8256e-04 - val_t_z_loss: 8.5863e-05 - val_r_x_rmse: 3.1623e-04 - val_r_y_rmse: 3.3475e-04 - val_r_z_rmse: 0.0028 - val_t_x_rmse: 0.0039 - val_t_y_rmse: 5.3952e-04 - val_t_z_rmse: 3.3391e-04\n",
      "Epoch 75/100\n",
      "48/48 [==============================] - 4s 80ms/step - loss: 0.1355 - r_x_loss: 5.7193e-06 - r_y_loss: 2.3609e-05 - r_z_loss: 0.0026 - t_x_loss: 0.0019 - t_y_loss: 6.3972e-04 - t_z_loss: 3.8854e-05 - r_x_rmse: 3.1629e-04 - r_y_rmse: 3.1715e-04 - r_z_rmse: 0.0027 - t_x_rmse: 0.0020 - t_y_rmse: 7.8993e-04 - t_z_rmse: 3.1751e-04 - val_loss: 0.1483 - val_r_x_loss: 6.1933e-06 - val_r_y_loss: 6.7294e-05 - val_r_z_loss: 0.0028 - val_t_x_loss: 0.0039 - val_t_y_loss: 3.8265e-04 - val_t_z_loss: 5.7192e-05 - val_r_x_rmse: 3.1623e-04 - val_r_y_rmse: 3.3299e-04 - val_r_z_rmse: 0.0028 - val_t_x_rmse: 0.0039 - val_t_y_rmse: 5.3894e-04 - val_t_z_rmse: 3.3441e-04\n",
      "Epoch 76/100\n",
      "48/48 [==============================] - 4s 80ms/step - loss: 0.1349 - r_x_loss: 5.7516e-06 - r_y_loss: 2.0076e-05 - r_z_loss: 0.0026 - t_x_loss: 0.0019 - t_y_loss: 6.3789e-04 - t_z_loss: 3.6287e-05 - r_x_rmse: 3.1623e-04 - r_y_rmse: 3.1673e-04 - r_z_rmse: 0.0027 - t_x_rmse: 0.0019 - t_y_rmse: 7.8852e-04 - t_z_rmse: 3.1738e-04 - val_loss: 0.1485 - val_r_x_loss: 5.9239e-06 - val_r_y_loss: 6.4347e-05 - val_r_z_loss: 0.0028 - val_t_x_loss: 0.0038 - val_t_y_loss: 3.8192e-04 - val_t_z_loss: 5.8909e-05 - val_r_x_rmse: 3.1624e-04 - val_r_y_rmse: 3.3264e-04 - val_r_z_rmse: 0.0028 - val_t_x_rmse: 0.0038 - val_t_y_rmse: 5.3839e-04 - val_t_z_rmse: 3.3429e-04\n",
      "Epoch 77/100\n",
      "48/48 [==============================] - 4s 80ms/step - loss: 0.1346 - r_x_loss: 4.9976e-06 - r_y_loss: 1.9165e-05 - r_z_loss: 0.0026 - t_x_loss: 0.0019 - t_y_loss: 6.3772e-04 - t_z_loss: 3.7879e-05 - r_x_rmse: 3.1627e-04 - r_y_rmse: 3.1631e-04 - r_z_rmse: 0.0027 - t_x_rmse: 0.0020 - t_y_rmse: 7.8843e-04 - t_z_rmse: 3.1677e-04 - val_loss: 0.1488 - val_r_x_loss: 5.1162e-06 - val_r_y_loss: 6.3735e-05 - val_r_z_loss: 0.0028 - val_t_x_loss: 0.0039 - val_t_y_loss: 3.8283e-04 - val_t_z_loss: 5.9867e-05 - val_r_x_rmse: 3.1623e-04 - val_r_y_rmse: 3.3264e-04 - val_r_z_rmse: 0.0029 - val_t_x_rmse: 0.0039 - val_t_y_rmse: 5.3868e-04 - val_t_z_rmse: 3.3408e-04\n",
      "Epoch 78/100\n",
      "48/48 [==============================] - 4s 81ms/step - loss: 0.1342 - r_x_loss: 4.8910e-06 - r_y_loss: 1.8982e-05 - r_z_loss: 0.0026 - t_x_loss: 0.0019 - t_y_loss: 6.3977e-04 - t_z_loss: 3.2607e-05 - r_x_rmse: 3.1625e-04 - r_y_rmse: 3.1671e-04 - r_z_rmse: 0.0027 - t_x_rmse: 0.0019 - t_y_rmse: 7.8977e-04 - t_z_rmse: 3.1659e-04 - val_loss: 0.1483 - val_r_x_loss: 6.7045e-06 - val_r_y_loss: 6.3701e-05 - val_r_z_loss: 0.0028 - val_t_x_loss: 0.0038 - val_t_y_loss: 3.8402e-04 - val_t_z_loss: 5.5089e-05 - val_r_x_rmse: 3.1623e-04 - val_r_y_rmse: 3.3252e-04 - val_r_z_rmse: 0.0028 - val_t_x_rmse: 0.0038 - val_t_y_rmse: 5.3899e-04 - val_t_z_rmse: 3.3402e-04\n",
      "Epoch 79/100\n",
      "48/48 [==============================] - 4s 81ms/step - loss: 0.1344 - r_x_loss: 6.8190e-06 - r_y_loss: 1.8960e-05 - r_z_loss: 0.0026 - t_x_loss: 0.0019 - t_y_loss: 6.3894e-04 - t_z_loss: 3.4787e-05 - r_x_rmse: 3.1623e-04 - r_y_rmse: 3.1639e-04 - r_z_rmse: 0.0027 - t_x_rmse: 0.0019 - t_y_rmse: 7.8864e-04 - t_z_rmse: 3.1760e-04 - val_loss: 0.1483 - val_r_x_loss: 5.1068e-06 - val_r_y_loss: 6.5148e-05 - val_r_z_loss: 0.0028 - val_t_x_loss: 0.0038 - val_t_y_loss: 3.8310e-04 - val_t_z_loss: 5.6079e-05 - val_r_x_rmse: 3.1623e-04 - val_r_y_rmse: 3.3283e-04 - val_r_z_rmse: 0.0028 - val_t_x_rmse: 0.0038 - val_t_y_rmse: 5.3899e-04 - val_t_z_rmse: 3.3497e-04\n",
      "Epoch 80/100\n",
      "48/48 [==============================] - 4s 80ms/step - loss: 0.1343 - r_x_loss: 5.0767e-06 - r_y_loss: 1.8187e-05 - r_z_loss: 0.0026 - t_x_loss: 0.0019 - t_y_loss: 6.3870e-04 - t_z_loss: 3.2773e-05 - r_x_rmse: 3.1626e-04 - r_y_rmse: 3.1647e-04 - r_z_rmse: 0.0027 - t_x_rmse: 0.0019 - t_y_rmse: 7.8881e-04 - t_z_rmse: 3.1710e-04 - val_loss: 0.1489 - val_r_x_loss: 5.0717e-06 - val_r_y_loss: 6.5335e-05 - val_r_z_loss: 0.0028 - val_t_x_loss: 0.0038 - val_t_y_loss: 3.8566e-04 - val_t_z_loss: 5.6301e-05 - val_r_x_rmse: 3.1625e-04 - val_r_y_rmse: 3.3321e-04 - val_r_z_rmse: 0.0029 - val_t_x_rmse: 0.0038 - val_t_y_rmse: 5.4037e-04 - val_t_z_rmse: 3.3558e-04\n",
      "Epoch 81/100\n",
      "48/48 [==============================] - 4s 81ms/step - loss: 0.1336 - r_x_loss: 5.5307e-06 - r_y_loss: 1.9045e-05 - r_z_loss: 0.0026 - t_x_loss: 0.0019 - t_y_loss: 6.6634e-04 - t_z_loss: 3.1890e-05 - r_x_rmse: 3.1625e-04 - r_y_rmse: 3.1631e-04 - r_z_rmse: 0.0026 - t_x_rmse: 0.0019 - t_y_rmse: 8.1710e-04 - t_z_rmse: 3.1709e-04 - val_loss: 0.1489 - val_r_x_loss: 7.1379e-06 - val_r_y_loss: 6.6644e-05 - val_r_z_loss: 0.0028 - val_t_x_loss: 0.0038 - val_t_y_loss: 3.8216e-04 - val_t_z_loss: 5.6077e-05 - val_r_x_rmse: 3.1625e-04 - val_r_y_rmse: 3.3171e-04 - val_r_z_rmse: 0.0029 - val_t_x_rmse: 0.0039 - val_t_y_rmse: 5.3884e-04 - val_t_z_rmse: 3.3574e-04\n",
      "Epoch 82/100\n",
      "48/48 [==============================] - 4s 80ms/step - loss: 0.1334 - r_x_loss: 6.4219e-06 - r_y_loss: 2.1284e-05 - r_z_loss: 0.0026 - t_x_loss: 0.0019 - t_y_loss: 6.3740e-04 - t_z_loss: 3.5054e-05 - r_x_rmse: 3.1627e-04 - r_y_rmse: 3.1663e-04 - r_z_rmse: 0.0026 - t_x_rmse: 0.0019 - t_y_rmse: 7.8799e-04 - t_z_rmse: 3.1712e-04 - val_loss: 0.1495 - val_r_x_loss: 7.7835e-06 - val_r_y_loss: 6.3984e-05 - val_r_z_loss: 0.0028 - val_t_x_loss: 0.0039 - val_t_y_loss: 3.8370e-04 - val_t_z_loss: 5.5254e-05 - val_r_x_rmse: 3.1625e-04 - val_r_y_rmse: 3.3295e-04 - val_r_z_rmse: 0.0029 - val_t_x_rmse: 0.0039 - val_t_y_rmse: 5.4013e-04 - val_t_z_rmse: 3.3432e-04\n",
      "Epoch 83/100\n",
      "48/48 [==============================] - 4s 79ms/step - loss: 0.1333 - r_x_loss: 4.9328e-06 - r_y_loss: 1.8470e-05 - r_z_loss: 0.0026 - t_x_loss: 0.0019 - t_y_loss: 6.3930e-04 - t_z_loss: 3.3020e-05 - r_x_rmse: 3.1624e-04 - r_y_rmse: 3.1639e-04 - r_z_rmse: 0.0026 - t_x_rmse: 0.0019 - t_y_rmse: 7.9030e-04 - t_z_rmse: 3.1744e-04 - val_loss: 0.1485 - val_r_x_loss: 5.3877e-06 - val_r_y_loss: 6.3385e-05 - val_r_z_loss: 0.0028 - val_t_x_loss: 0.0038 - val_t_y_loss: 3.8307e-04 - val_t_z_loss: 6.1923e-05 - val_r_x_rmse: 3.1623e-04 - val_r_y_rmse: 3.3266e-04 - val_r_z_rmse: 0.0028 - val_t_x_rmse: 0.0039 - val_t_y_rmse: 5.3950e-04 - val_t_z_rmse: 3.3470e-04\n",
      "Epoch 84/100\n",
      "48/48 [==============================] - 4s 80ms/step - loss: 0.1332 - r_x_loss: 6.2060e-06 - r_y_loss: 1.7615e-05 - r_z_loss: 0.0026 - t_x_loss: 0.0019 - t_y_loss: 6.3876e-04 - t_z_loss: 3.4441e-05 - r_x_rmse: 3.1627e-04 - r_y_rmse: 3.1639e-04 - r_z_rmse: 0.0026 - t_x_rmse: 0.0019 - t_y_rmse: 7.8931e-04 - t_z_rmse: 3.1724e-04 - val_loss: 0.1485 - val_r_x_loss: 7.0797e-06 - val_r_y_loss: 6.3018e-05 - val_r_z_loss: 0.0028 - val_t_x_loss: 0.0038 - val_t_y_loss: 3.8334e-04 - val_t_z_loss: 5.6556e-05 - val_r_x_rmse: 3.1626e-04 - val_r_y_rmse: 3.3260e-04 - val_r_z_rmse: 0.0028 - val_t_x_rmse: 0.0038 - val_t_y_rmse: 5.3940e-04 - val_t_z_rmse: 3.3483e-04\n",
      "ATE: 0.234577, RMSE_t: 0.738124, RMSE_r: 10.281804, RPE_t: 0.441437, RPE_r: 5.971483\n",
      "ATE: 0.147913, RMSE_t: 0.859251, RMSE_r: 6.686914, RPE_t: 0.788914, RPE_r: 4.508308\n",
      "average ATE: 0.191245, RMSE_t: 0.798687, RMSE_r: 8.484359, RPE_t: 0.570865, RPE_r: 5.426483\n"
     ]
    },
    {
     "name": "stdout",
     "output_type": "stream",
     "text": [
      "Epoch 85/100\n",
      "48/48 [==============================] - 4s 81ms/step - loss: 0.1322 - r_x_loss: 4.7969e-06 - r_y_loss: 1.6636e-05 - r_z_loss: 0.0026 - t_x_loss: 0.0018 - t_y_loss: 6.3653e-04 - t_z_loss: 3.0087e-05 - r_x_rmse: 3.1624e-04 - r_y_rmse: 3.1635e-04 - r_z_rmse: 0.0026 - t_x_rmse: 0.0019 - t_y_rmse: 7.8741e-04 - t_z_rmse: 3.1688e-04 - val_loss: 0.1484 - val_r_x_loss: 4.9213e-06 - val_r_y_loss: 6.3224e-05 - val_r_z_loss: 0.0028 - val_t_x_loss: 0.0038 - val_t_y_loss: 3.8295e-04 - val_t_z_loss: 5.7440e-05 - val_r_x_rmse: 3.1625e-04 - val_r_y_rmse: 3.3247e-04 - val_r_z_rmse: 0.0028 - val_t_x_rmse: 0.0038 - val_t_y_rmse: 5.3944e-04 - val_t_z_rmse: 3.3478e-04\n",
      "Epoch 86/100\n",
      "48/48 [==============================] - 4s 80ms/step - loss: 0.1318 - r_x_loss: 4.0852e-06 - r_y_loss: 1.6591e-05 - r_z_loss: 0.0026 - t_x_loss: 0.0018 - t_y_loss: 6.4035e-04 - t_z_loss: 2.9498e-05 - r_x_rmse: 3.1623e-04 - r_y_rmse: 3.1638e-04 - r_z_rmse: 0.0026 - t_x_rmse: 0.0019 - t_y_rmse: 7.9130e-04 - t_z_rmse: 3.1661e-04 - val_loss: 0.1486 - val_r_x_loss: 4.8286e-06 - val_r_y_loss: 6.3506e-05 - val_r_z_loss: 0.0028 - val_t_x_loss: 0.0039 - val_t_y_loss: 3.8405e-04 - val_t_z_loss: 5.3808e-05 - val_r_x_rmse: 3.1625e-04 - val_r_y_rmse: 3.3275e-04 - val_r_z_rmse: 0.0029 - val_t_x_rmse: 0.0039 - val_t_y_rmse: 5.3990e-04 - val_t_z_rmse: 3.3560e-04\n",
      "Epoch 87/100\n",
      "48/48 [==============================] - 4s 80ms/step - loss: 0.1322 - r_x_loss: 4.3129e-06 - r_y_loss: 1.6441e-05 - r_z_loss: 0.0026 - t_x_loss: 0.0018 - t_y_loss: 6.3764e-04 - t_z_loss: 2.8970e-05 - r_x_rmse: 3.1625e-04 - r_y_rmse: 3.1628e-04 - r_z_rmse: 0.0026 - t_x_rmse: 0.0019 - t_y_rmse: 7.8870e-04 - t_z_rmse: 3.1660e-04 - val_loss: 0.1484 - val_r_x_loss: 4.9820e-06 - val_r_y_loss: 6.3443e-05 - val_r_z_loss: 0.0028 - val_t_x_loss: 0.0038 - val_t_y_loss: 3.8383e-04 - val_t_z_loss: 5.4698e-05 - val_r_x_rmse: 3.1625e-04 - val_r_y_rmse: 3.3278e-04 - val_r_z_rmse: 0.0028 - val_t_x_rmse: 0.0038 - val_t_y_rmse: 5.3980e-04 - val_t_z_rmse: 3.3539e-04\n",
      "Epoch 88/100\n",
      "48/48 [==============================] - 4s 80ms/step - loss: 0.1314 - r_x_loss: 3.9929e-06 - r_y_loss: 1.6426e-05 - r_z_loss: 0.0026 - t_x_loss: 0.0018 - t_y_loss: 6.3710e-04 - t_z_loss: 2.8720e-05 - r_x_rmse: 3.1623e-04 - r_y_rmse: 3.1635e-04 - r_z_rmse: 0.0026 - t_x_rmse: 0.0019 - t_y_rmse: 7.8797e-04 - t_z_rmse: 3.1652e-04 - val_loss: 0.1485 - val_r_x_loss: 4.6542e-06 - val_r_y_loss: 6.3637e-05 - val_r_z_loss: 0.0028 - val_t_x_loss: 0.0038 - val_t_y_loss: 3.8367e-04 - val_t_z_loss: 5.3436e-05 - val_r_x_rmse: 3.1625e-04 - val_r_y_rmse: 3.3286e-04 - val_r_z_rmse: 0.0028 - val_t_x_rmse: 0.0038 - val_t_y_rmse: 5.4000e-04 - val_t_z_rmse: 3.3567e-04\n",
      "Epoch 89/100\n",
      "48/48 [==============================] - 4s 80ms/step - loss: 0.1313 - r_x_loss: 3.9981e-06 - r_y_loss: 1.6251e-05 - r_z_loss: 0.0026 - t_x_loss: 0.0018 - t_y_loss: 6.3672e-04 - t_z_loss: 2.8600e-05 - r_x_rmse: 3.1626e-04 - r_y_rmse: 3.1628e-04 - r_z_rmse: 0.0026 - t_x_rmse: 0.0019 - t_y_rmse: 7.8725e-04 - t_z_rmse: 3.1660e-04 - val_loss: 0.1484 - val_r_x_loss: 4.7563e-06 - val_r_y_loss: 6.3286e-05 - val_r_z_loss: 0.0028 - val_t_x_loss: 0.0038 - val_t_y_loss: 3.8319e-04 - val_t_z_loss: 5.2924e-05 - val_r_x_rmse: 3.1625e-04 - val_r_y_rmse: 3.3264e-04 - val_r_z_rmse: 0.0028 - val_t_x_rmse: 0.0038 - val_t_y_rmse: 5.3961e-04 - val_t_z_rmse: 3.3501e-04\n",
      "Epoch 90/100\n",
      "48/48 [==============================] - 4s 79ms/step - loss: 0.1315 - r_x_loss: 3.9985e-06 - r_y_loss: 1.6788e-05 - r_z_loss: 0.0026 - t_x_loss: 0.0018 - t_y_loss: 6.6735e-04 - t_z_loss: 2.8830e-05 - r_x_rmse: 3.1623e-04 - r_y_rmse: 3.1624e-04 - r_z_rmse: 0.0026 - t_x_rmse: 0.0019 - t_y_rmse: 8.1804e-04 - t_z_rmse: 3.1660e-04 - val_loss: 0.1485 - val_r_x_loss: 5.5573e-06 - val_r_y_loss: 6.3652e-05 - val_r_z_loss: 0.0028 - val_t_x_loss: 0.0038 - val_t_y_loss: 3.8380e-04 - val_t_z_loss: 5.3370e-05 - val_r_x_rmse: 3.1623e-04 - val_r_y_rmse: 3.3299e-04 - val_r_z_rmse: 0.0028 - val_t_x_rmse: 0.0039 - val_t_y_rmse: 5.4006e-04 - val_t_z_rmse: 3.3598e-04\n",
      "Epoch 91/100\n",
      "48/48 [==============================] - 4s 79ms/step - loss: 0.1313 - r_x_loss: 4.2970e-06 - r_y_loss: 1.6051e-05 - r_z_loss: 0.0026 - t_x_loss: 0.0018 - t_y_loss: 6.3771e-04 - t_z_loss: 2.7985e-05 - r_x_rmse: 3.1627e-04 - r_y_rmse: 3.1627e-04 - r_z_rmse: 0.0026 - t_x_rmse: 0.0019 - t_y_rmse: 7.8891e-04 - t_z_rmse: 3.1660e-04 - val_loss: 0.1484 - val_r_x_loss: 4.8706e-06 - val_r_y_loss: 6.2931e-05 - val_r_z_loss: 0.0028 - val_t_x_loss: 0.0038 - val_t_y_loss: 3.8307e-04 - val_t_z_loss: 5.2784e-05 - val_r_x_rmse: 3.1625e-04 - val_r_y_rmse: 3.3240e-04 - val_r_z_rmse: 0.0028 - val_t_x_rmse: 0.0039 - val_t_y_rmse: 5.3968e-04 - val_t_z_rmse: 3.3558e-04\n",
      "Epoch 92/100\n",
      "48/48 [==============================] - 4s 82ms/step - loss: 0.1310 - r_x_loss: 3.9694e-06 - r_y_loss: 1.6183e-05 - r_z_loss: 0.0025 - t_x_loss: 0.0018 - t_y_loss: 6.3607e-04 - t_z_loss: 2.7776e-05 - r_x_rmse: 3.1623e-04 - r_y_rmse: 3.1632e-04 - r_z_rmse: 0.0026 - t_x_rmse: 0.0019 - t_y_rmse: 7.8705e-04 - t_z_rmse: 3.1664e-04 - val_loss: 0.1484 - val_r_x_loss: 4.8407e-06 - val_r_y_loss: 6.3132e-05 - val_r_z_loss: 0.0028 - val_t_x_loss: 0.0038 - val_t_y_loss: 3.8353e-04 - val_t_z_loss: 5.2902e-05 - val_r_x_rmse: 3.1625e-04 - val_r_y_rmse: 3.3260e-04 - val_r_z_rmse: 0.0028 - val_t_x_rmse: 0.0038 - val_t_y_rmse: 5.3987e-04 - val_t_z_rmse: 3.3578e-04\n",
      "Epoch 93/100\n",
      "48/48 [==============================] - 4s 79ms/step - loss: 0.1311 - r_x_loss: 4.2491e-06 - r_y_loss: 1.5826e-05 - r_z_loss: 0.0026 - t_x_loss: 0.0018 - t_y_loss: 6.3934e-04 - t_z_loss: 2.7800e-05 - r_x_rmse: 3.1626e-04 - r_y_rmse: 3.1629e-04 - r_z_rmse: 0.0026 - t_x_rmse: 0.0019 - t_y_rmse: 7.9043e-04 - t_z_rmse: 3.1665e-04 - val_loss: 0.1485 - val_r_x_loss: 5.9810e-06 - val_r_y_loss: 6.3090e-05 - val_r_z_loss: 0.0028 - val_t_x_loss: 0.0038 - val_t_y_loss: 3.8409e-04 - val_t_z_loss: 5.2526e-05 - val_r_x_rmse: 3.1625e-04 - val_r_y_rmse: 3.3258e-04 - val_r_z_rmse: 0.0028 - val_t_x_rmse: 0.0039 - val_t_y_rmse: 5.4017e-04 - val_t_z_rmse: 3.3545e-04\n",
      "Epoch 94/100\n",
      "48/48 [==============================] - 4s 79ms/step - loss: 0.1310 - r_x_loss: 4.0192e-06 - r_y_loss: 1.5775e-05 - r_z_loss: 0.0025 - t_x_loss: 0.0018 - t_y_loss: 6.3618e-04 - t_z_loss: 2.7281e-05 - r_x_rmse: 3.1623e-04 - r_y_rmse: 3.1628e-04 - r_z_rmse: 0.0026 - t_x_rmse: 0.0019 - t_y_rmse: 7.8751e-04 - t_z_rmse: 3.1660e-04 - val_loss: 0.1484 - val_r_x_loss: 4.5528e-06 - val_r_y_loss: 6.4334e-05 - val_r_z_loss: 0.0028 - val_t_x_loss: 0.0038 - val_t_y_loss: 3.8367e-04 - val_t_z_loss: 5.2787e-05 - val_r_x_rmse: 3.1624e-04 - val_r_y_rmse: 3.3297e-04 - val_r_z_rmse: 0.0028 - val_t_x_rmse: 0.0039 - val_t_y_rmse: 5.4015e-04 - val_t_z_rmse: 3.3566e-04\n",
      "Epoch 95/100\n",
      "48/48 [==============================] - 4s 80ms/step - loss: 0.1309 - r_x_loss: 3.7670e-06 - r_y_loss: 1.5649e-05 - r_z_loss: 0.0025 - t_x_loss: 0.0018 - t_y_loss: 6.3562e-04 - t_z_loss: 2.6489e-05 - r_x_rmse: 3.1626e-04 - r_y_rmse: 3.1629e-04 - r_z_rmse: 0.0026 - t_x_rmse: 0.0019 - t_y_rmse: 7.8694e-04 - t_z_rmse: 3.1662e-04 - val_loss: 0.1486 - val_r_x_loss: 4.6869e-06 - val_r_y_loss: 6.3923e-05 - val_r_z_loss: 0.0028 - val_t_x_loss: 0.0038 - val_t_y_loss: 3.8374e-04 - val_t_z_loss: 5.3158e-05 - val_r_x_rmse: 3.1625e-04 - val_r_y_rmse: 3.3291e-04 - val_r_z_rmse: 0.0029 - val_t_x_rmse: 0.0039 - val_t_y_rmse: 5.4019e-04 - val_t_z_rmse: 3.3612e-04\n",
      "Epoch 96/100\n",
      "48/48 [==============================] - 4s 79ms/step - loss: 0.1307 - r_x_loss: 3.7320e-06 - r_y_loss: 1.5356e-05 - r_z_loss: 0.0025 - t_x_loss: 0.0018 - t_y_loss: 6.3579e-04 - t_z_loss: 2.6677e-05 - r_x_rmse: 3.1623e-04 - r_y_rmse: 3.1623e-04 - r_z_rmse: 0.0026 - t_x_rmse: 0.0019 - t_y_rmse: 7.8728e-04 - t_z_rmse: 3.1652e-04 - val_loss: 0.1484 - val_r_x_loss: 4.7331e-06 - val_r_y_loss: 6.3269e-05 - val_r_z_loss: 0.0028 - val_t_x_loss: 0.0038 - val_t_y_loss: 3.8353e-04 - val_t_z_loss: 5.2942e-05 - val_r_x_rmse: 3.1624e-04 - val_r_y_rmse: 3.3260e-04 - val_r_z_rmse: 0.0028 - val_t_x_rmse: 0.0039 - val_t_y_rmse: 5.3992e-04 - val_t_z_rmse: 3.3576e-04\n",
      "ATE: 0.245623, RMSE_t: 0.765632, RMSE_r: 10.895057, RPE_t: 0.449402, RPE_r: 6.191789\n",
      "ATE: 0.147296, RMSE_t: 0.857951, RMSE_r: 6.793849, RPE_t: 0.788334, RPE_r: 4.496115\n",
      "average ATE: 0.196460, RMSE_t: 0.811791, RMSE_r: 8.844453, RPE_t: 0.575647, RPE_r: 5.560188\n"
     ]
    },
    {
     "name": "stdout",
     "output_type": "stream",
     "text": [
      "Epoch 97/100\n",
      "48/48 [==============================] - 4s 80ms/step - loss: 0.1307 - r_x_loss: 3.6887e-06 - r_y_loss: 1.5260e-05 - r_z_loss: 0.0025 - t_x_loss: 0.0018 - t_y_loss: 6.6036e-04 - t_z_loss: 2.6635e-05 - r_x_rmse: 3.1623e-04 - r_y_rmse: 3.1629e-04 - r_z_rmse: 0.0026 - t_x_rmse: 0.0019 - t_y_rmse: 8.1170e-04 - t_z_rmse: 3.1665e-04 - val_loss: 0.1487 - val_r_x_loss: 5.1812e-06 - val_r_y_loss: 6.3634e-05 - val_r_z_loss: 0.0028 - val_t_x_loss: 0.0038 - val_t_y_loss: 3.8370e-04 - val_t_z_loss: 5.2675e-05 - val_r_x_rmse: 3.1625e-04 - val_r_y_rmse: 3.3283e-04 - val_r_z_rmse: 0.0029 - val_t_x_rmse: 0.0039 - val_t_y_rmse: 5.4003e-04 - val_t_z_rmse: 3.3607e-04\n",
      "Epoch 98/100\n",
      "48/48 [==============================] - 4s 80ms/step - loss: 0.1302 - r_x_loss: 3.6782e-06 - r_y_loss: 1.5173e-05 - r_z_loss: 0.0025 - t_x_loss: 0.0018 - t_y_loss: 6.3580e-04 - t_z_loss: 2.6557e-05 - r_x_rmse: 3.1623e-04 - r_y_rmse: 3.1623e-04 - r_z_rmse: 0.0026 - t_x_rmse: 0.0019 - t_y_rmse: 7.8715e-04 - t_z_rmse: 3.1655e-04 - val_loss: 0.1485 - val_r_x_loss: 4.8819e-06 - val_r_y_loss: 6.3772e-05 - val_r_z_loss: 0.0028 - val_t_x_loss: 0.0038 - val_t_y_loss: 3.8385e-04 - val_t_z_loss: 5.2141e-05 - val_r_x_rmse: 3.1624e-04 - val_r_y_rmse: 3.3285e-04 - val_r_z_rmse: 0.0028 - val_t_x_rmse: 0.0039 - val_t_y_rmse: 5.4009e-04 - val_t_z_rmse: 3.3579e-04\n",
      "Epoch 99/100\n",
      "48/48 [==============================] - 4s 80ms/step - loss: 0.1312 - r_x_loss: 3.8424e-06 - r_y_loss: 1.5165e-05 - r_z_loss: 0.0026 - t_x_loss: 0.0018 - t_y_loss: 6.3885e-04 - t_z_loss: 2.6692e-05 - r_x_rmse: 3.1623e-04 - r_y_rmse: 3.1623e-04 - r_z_rmse: 0.0026 - t_x_rmse: 0.0019 - t_y_rmse: 7.9030e-04 - t_z_rmse: 3.1647e-04 - val_loss: 0.1485 - val_r_x_loss: 4.5106e-06 - val_r_y_loss: 6.3758e-05 - val_r_z_loss: 0.0028 - val_t_x_loss: 0.0038 - val_t_y_loss: 3.8402e-04 - val_t_z_loss: 5.3467e-05 - val_r_x_rmse: 3.1625e-04 - val_r_y_rmse: 3.3285e-04 - val_r_z_rmse: 0.0028 - val_t_x_rmse: 0.0038 - val_t_y_rmse: 5.4011e-04 - val_t_z_rmse: 3.3596e-04\n",
      "Epoch 100/100\n",
      "48/48 [==============================] - 4s 80ms/step - loss: 0.1302 - r_x_loss: 3.7824e-06 - r_y_loss: 1.5006e-05 - r_z_loss: 0.0025 - t_x_loss: 0.0018 - t_y_loss: 6.3723e-04 - t_z_loss: 2.6082e-05 - r_x_rmse: 3.1623e-04 - r_y_rmse: 3.1623e-04 - r_z_rmse: 0.0026 - t_x_rmse: 0.0019 - t_y_rmse: 7.8873e-04 - t_z_rmse: 3.1652e-04 - val_loss: 0.1484 - val_r_x_loss: 4.9655e-06 - val_r_y_loss: 6.3864e-05 - val_r_z_loss: 0.0028 - val_t_x_loss: 0.0038 - val_t_y_loss: 3.8373e-04 - val_t_z_loss: 5.2036e-05 - val_r_x_rmse: 3.1624e-04 - val_r_y_rmse: 3.3286e-04 - val_r_z_rmse: 0.0028 - val_t_x_rmse: 0.0039 - val_t_y_rmse: 5.4010e-04 - val_t_z_rmse: 3.3579e-04\n"
     ]
    }
   ],
   "source": [
    "train(experiment_id, notebook_id, NOTEBOOK_PATH, model, dataset, period=12, num_epochs = 100)"
   ]
  }
 ],
 "metadata": {
  "kernelspec": {
   "display_name": "Python 3",
   "language": "python",
   "name": "python3"
  },
  "language_info": {
   "codemirror_mode": {
    "name": "ipython",
    "version": 3
   },
   "file_extension": ".py",
   "mimetype": "text/x-python",
   "name": "python",
   "nbconvert_exporter": "python",
   "pygments_lexer": "ipython3",
   "version": "3.6.8"
  }
 },
 "nbformat": 4,
 "nbformat_minor": 2
}
