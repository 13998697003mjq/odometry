{
 "cells": [
  {
   "cell_type": "code",
   "execution_count": 1,
   "metadata": {},
   "outputs": [],
   "source": [
    "%matplotlib inline"
   ]
  },
  {
   "cell_type": "code",
   "execution_count": 2,
   "metadata": {},
   "outputs": [],
   "source": [
    "%load_ext autoreload\n",
    "%autoreload 2"
   ]
  },
  {
   "cell_type": "markdown",
   "metadata": {},
   "source": [
    "### Dataset preparation"
   ]
  },
  {
   "cell_type": "code",
   "execution_count": 3,
   "metadata": {},
   "outputs": [],
   "source": [
    "import os\n",
    "import sys\n",
    "import numpy as np\n",
    "import warnings\n",
    "os.environ[\"OMP_NUM_THREADS\"] = \"4\"\n",
    "os.environ[\"OPENBLAS_NUM_THREADS\"] = \"4\"\n",
    "os.environ[\"MKL_NUM_THREADS\"] = \"6\"\n",
    "os.environ[\"VECLIB_MAXIMUM_THREADS\"] = \"4\"\n",
    "os.environ[\"NUMEXPR_NUM_THREADS\"] = \"6\"\n",
    "warnings.simplefilter('ignore')"
   ]
  },
  {
   "cell_type": "code",
   "execution_count": null,
   "metadata": {},
   "outputs": [],
   "source": [
    "# optical_flow_checkpoint = os.path.join('/Vol0/user/f.konokhov/tfoptflow/tfoptflow/tmp/pwcnet.ckpt-84000')\n",
    "optical_flow_checkpoint = os.path.join('../weights/pwcnet.ckpt-595000')  # official weights\n",
    "\n",
    "\n",
    "sys.path.append(os.path.join(os.path.abspath(os.pardir), 'submodules/tfoptflow/tfoptflow'))\n",
    "sys.path.append(os.path.join(os.path.abspath(os.pardir), 'submodules/tf_models/research/struct2depth'))\n",
    "\n",
    "computation_kwargs = {'cuda_visible_devices': 0}"
   ]
  },
  {
   "cell_type": "code",
   "execution_count": null,
   "metadata": {},
   "outputs": [],
   "source": [
    "from prepare_dataset.dataset_builder import *"
   ]
  },
  {
   "cell_type": "code",
   "execution_count": null,
   "metadata": {
    "scrolled": true
   },
   "outputs": [
    {
     "name": "stdout",
     "output_type": "stream",
     "text": [
      "Estimate optical flow\n",
      "Model:   <class 'prepare_dataset.estimator.PWCOpticalFlowEstimator'>\n",
      "Weights: ../weights/pwcnet.ckpt-595000\n",
      "Output:  build_discoman/train/0085/optical_flow_stride2\n",
      "\n",
      "==================================================================================================\n",
      "\n",
      "Computation settings:\n",
      "\n"
     ]
    },
    {
     "name": "stderr",
     "output_type": "stream",
     "text": [
      "Using TensorFlow backend.\n"
     ]
    },
    {
     "name": "stdout",
     "output_type": "stream",
     "text": [
      "CUDA visible devices:     0\n",
      "Available GPUs:           /job:localhost/replica:0/task:0/device:GPU:0\n",
      "Allow growth:             True\n",
      "GPU memory fraction:      0.33\n",
      "Number of CPU:            8\n",
      "Number of CPU threads:    16\n",
      "\n",
      "Random seed:              42\n",
      "\n",
      "==================================================================================================\n",
      "\n",
      "\n",
      "Building model...\n",
      "... model built.\n",
      "Loading model checkpoint ../weights/pwcnet.ckpt-595000 for eval or testing...\n",
      "\n",
      "INFO:tensorflow:Restoring parameters from ../weights/pwcnet.ckpt-595000\n"
     ]
    },
    {
     "name": "stderr",
     "output_type": "stream",
     "text": [
      "WARNING: Logging before flag parsing goes to stderr.\n",
      "I0603 22:53:48.639461 47968223186560 tf_logging.py:115] Restoring parameters from ../weights/pwcnet.ckpt-595000\n"
     ]
    },
    {
     "name": "stdout",
     "output_type": "stream",
     "text": [
      "... model loaded\n",
      "Estimator(dir=build_discoman/train/0085/optical_flow_stride2, image_manager=ImageManager(dir=/Vol1/dbstore/datasets/renderbox/v08_09/traj/output/train/0085, image_height=480, image_width=640, stride=1, sample=False, step=1), checkpoint=../weights/pwcnet.ckpt-595000)\n"
     ]
    },
    {
     "name": "stderr",
     "output_type": "stream",
     "text": [
      "Optical flow estimation: 100%|██████████| 100/100 [00:09<00:00, 10.41it/s]\n"
     ]
    },
    {
     "name": "stdout",
     "output_type": "stream",
     "text": [
      "Estimate optical flow\n",
      "Model:   <class 'prepare_dataset.estimator.PWCOpticalFlowEstimator'>\n",
      "Weights: ../weights/pwcnet.ckpt-595000\n",
      "Output:  build_discoman/train/0045/optical_flow_stride2\n",
      "\n",
      "==================================================================================================\n",
      "\n",
      "Computation settings:\n",
      "\n"
     ]
    },
    {
     "name": "stderr",
     "output_type": "stream",
     "text": [
      "Using TensorFlow backend.\n"
     ]
    },
    {
     "name": "stdout",
     "output_type": "stream",
     "text": [
      "CUDA visible devices:     0\n",
      "Available GPUs:           /job:localhost/replica:0/task:0/device:GPU:0\n",
      "Allow growth:             True\n",
      "GPU memory fraction:      0.33\n",
      "Number of CPU:            8\n",
      "Number of CPU threads:    16\n",
      "\n",
      "Random seed:              42\n",
      "\n",
      "==================================================================================================\n",
      "\n",
      "\n",
      "Building model...\n",
      "... model built.\n",
      "Loading model checkpoint ../weights/pwcnet.ckpt-595000 for eval or testing...\n",
      "\n",
      "INFO:tensorflow:Restoring parameters from ../weights/pwcnet.ckpt-595000\n"
     ]
    },
    {
     "name": "stderr",
     "output_type": "stream",
     "text": [
      "WARNING: Logging before flag parsing goes to stderr.\n",
      "I0603 22:54:17.858225 47968223186560 tf_logging.py:115] Restoring parameters from ../weights/pwcnet.ckpt-595000\n"
     ]
    },
    {
     "name": "stdout",
     "output_type": "stream",
     "text": [
      "... model loaded\n",
      "Estimator(dir=build_discoman/train/0045/optical_flow_stride2, image_manager=ImageManager(dir=/Vol1/dbstore/datasets/renderbox/v08_09/traj/output/train/0045, image_height=480, image_width=640, stride=1, sample=False, step=1), checkpoint=../weights/pwcnet.ckpt-595000)\n"
     ]
    },
    {
     "name": "stderr",
     "output_type": "stream",
     "text": [
      "Optical flow estimation: 100%|██████████| 2259/2259 [02:15<00:00, 16.64it/s]\n"
     ]
    },
    {
     "name": "stdout",
     "output_type": "stream",
     "text": [
      "Estimate optical flow\n",
      "Model:   <class 'prepare_dataset.estimator.PWCOpticalFlowEstimator'>\n",
      "Weights: ../weights/pwcnet.ckpt-595000\n",
      "Output:  build_discoman/train/0104/optical_flow_stride2\n",
      "\n",
      "==================================================================================================\n",
      "\n",
      "Computation settings:\n",
      "\n"
     ]
    },
    {
     "name": "stderr",
     "output_type": "stream",
     "text": [
      "Using TensorFlow backend.\n"
     ]
    },
    {
     "name": "stdout",
     "output_type": "stream",
     "text": [
      "CUDA visible devices:     0\n",
      "Available GPUs:           /job:localhost/replica:0/task:0/device:GPU:0\n",
      "Allow growth:             True\n",
      "GPU memory fraction:      0.33\n",
      "Number of CPU:            8\n",
      "Number of CPU threads:    16\n",
      "\n",
      "Random seed:              42\n",
      "\n",
      "==================================================================================================\n",
      "\n",
      "\n",
      "Building model...\n",
      "... model built.\n",
      "Loading model checkpoint ../weights/pwcnet.ckpt-595000 for eval or testing...\n",
      "\n",
      "INFO:tensorflow:Restoring parameters from ../weights/pwcnet.ckpt-595000\n"
     ]
    },
    {
     "name": "stderr",
     "output_type": "stream",
     "text": [
      "WARNING: Logging before flag parsing goes to stderr.\n",
      "I0603 22:56:47.824777 47968223186560 tf_logging.py:115] Restoring parameters from ../weights/pwcnet.ckpt-595000\n"
     ]
    },
    {
     "name": "stdout",
     "output_type": "stream",
     "text": [
      "... model loaded\n",
      "Estimator(dir=build_discoman/train/0104/optical_flow_stride2, image_manager=ImageManager(dir=/Vol1/dbstore/datasets/renderbox/v08_09/traj/output/train/0104, image_height=480, image_width=640, stride=1, sample=False, step=1), checkpoint=../weights/pwcnet.ckpt-595000)\n"
     ]
    },
    {
     "name": "stderr",
     "output_type": "stream",
     "text": [
      "Optical flow estimation: 100%|██████████| 847/847 [00:52<00:00, 15.22it/s]\n"
     ]
    },
    {
     "name": "stdout",
     "output_type": "stream",
     "text": [
      "Estimate optical flow\n",
      "Model:   <class 'prepare_dataset.estimator.PWCOpticalFlowEstimator'>\n",
      "Weights: ../weights/pwcnet.ckpt-595000\n",
      "Output:  build_discoman/train/0151/optical_flow_stride2\n",
      "\n",
      "==================================================================================================\n",
      "\n",
      "Computation settings:\n",
      "\n"
     ]
    },
    {
     "name": "stderr",
     "output_type": "stream",
     "text": [
      "Using TensorFlow backend.\n"
     ]
    },
    {
     "name": "stdout",
     "output_type": "stream",
     "text": [
      "CUDA visible devices:     0\n",
      "Available GPUs:           /job:localhost/replica:0/task:0/device:GPU:0\n",
      "Allow growth:             True\n",
      "GPU memory fraction:      0.33\n",
      "Number of CPU:            8\n",
      "Number of CPU threads:    16\n",
      "\n",
      "Random seed:              42\n",
      "\n",
      "==================================================================================================\n",
      "\n",
      "\n",
      "Building model...\n",
      "... model built.\n",
      "Loading model checkpoint ../weights/pwcnet.ckpt-595000 for eval or testing...\n",
      "\n",
      "INFO:tensorflow:Restoring parameters from ../weights/pwcnet.ckpt-595000\n"
     ]
    },
    {
     "name": "stderr",
     "output_type": "stream",
     "text": [
      "WARNING: Logging before flag parsing goes to stderr.\n",
      "I0603 22:58:05.878691 47968223186560 tf_logging.py:115] Restoring parameters from ../weights/pwcnet.ckpt-595000\n"
     ]
    },
    {
     "name": "stdout",
     "output_type": "stream",
     "text": [
      "... model loaded\n",
      "Estimator(dir=build_discoman/train/0151/optical_flow_stride2, image_manager=ImageManager(dir=/Vol1/dbstore/datasets/renderbox/v08_09/traj/output/train/0151, image_height=480, image_width=640, stride=1, sample=False, step=1), checkpoint=../weights/pwcnet.ckpt-595000)\n"
     ]
    },
    {
     "name": "stderr",
     "output_type": "stream",
     "text": [
      "Optical flow estimation:  74%|███████▍  | 1479/1987 [01:29<00:29, 17.18it/s]"
     ]
    }
   ],
   "source": [
    "sequences = {\"train_sequences\": [\n",
    "        \"train/0085\",\n",
    "        \"train/0045\",\n",
    "        \"train/0104\",\n",
    "        \"train/0151\",\n",
    "        \"train/0071\",\n",
    "        \"train/0119\",\n",
    "        \"train/0166\",\n",
    "        \"train/0031\",\n",
    "        \"train/0086\",\n",
    "        \"train/0046\",\n",
    "        \"train/0105\",\n",
    "        \"train/0152\",\n",
    "        \"train/0167\",\n",
    "        \"train/0032\",\n",
    "        \"train/0127\",\n",
    "        \"train/0047\",\n",
    "        \"train/0094\",\n",
    "        \"train/0007\",\n",
    "        \"train/0153\",\n",
    "        \"train/0113\",\n",
    "        \"train/0168\",\n",
    "        \"train/0033\",\n",
    "        \"train/0080\",\n",
    "        \"train/0128\",\n",
    "        \"train/0048\",\n",
    "        \"train/0095\",\n",
    "        \"train/0008\",\n",
    "        \"train/0055\",\n",
    "        \"train/0154\",\n",
    "        \"train/0114\",\n",
    "        \"train/0161\",\n",
    "        \"train/0081\",\n",
    "        \"train/0129\",\n",
    "        \"train/0041\",\n",
    "        \"train/0100\",\n",
    "        \"train/0096\",\n",
    "        \"train/0009\",\n",
    "        \"train/0056\",\n",
    "        \"train/0115\",\n",
    "        \"train/0162\",\n",
    "        \"train/0082\",\n",
    "        \"train/0042\",\n",
    "        \"train/0101\",\n",
    "        \"train/0097\",\n",
    "        \"train/0057\",\n",
    "        \"train/0017\",\n",
    "        \"train/0116\",\n",
    "        \"train/0163\",\n",
    "        \"train/0123\",\n",
    "        \"train/0043\",\n",
    "        \"train/0090\"\n",
    "    ],\n",
    "    \"val_sequences\": [\n",
    "        \"val/0007\",\n",
    "        \"val/0008\",\n",
    "        \"val/0009\",\n",
    "        \"val/0003\",\n",
    "        \"val/0004\",\n",
    "        \"val/0005\",\n",
    "        \"val/0006\",\n",
    "        \"val/0013\",\n",
    "        \"val/0014\",\n",
    "        \"val/0000\",\n",
    "        \"val/0015\",\n",
    "        \"val/0001\",\n",
    "        \"val/0016\",\n",
    "        \"val/0002\",\n",
    "        \"val/0010\",\n",
    "        \"val/0011\",\n",
    "        \"val/0012\"\n",
    "    ]\n",
    "}\n",
    "\n",
    "from itertools import chain\n",
    "\n",
    "for traj_name in chain(sequences['train_sequences'], sequences['val_sequences']):\n",
    "    builder = OldDISCOMANDatasetBuilder(\n",
    "        sequence_directory='build_discoman/{}'.format(traj_name), \n",
    "        build_from=DISCOMAN,\n",
    "        json_path='/Vol1/dbstore/datasets/renderbox/v08_09/traj/output/{}/0_traj.json'.format(traj_name),\n",
    "        mode=OldDISCOMANDatasetBuilder.TRAIN,\n",
    "        estimate_optical_flow=True,\n",
    "        estimate_depth=False,\n",
    "        optical_flow_estimator_name='pwc',\n",
    "        optical_flow_checkpoint=optical_flow_checkpoint,\n",
    "        memory_safe=True,\n",
    "        stride=2,\n",
    "        **computation_kwargs)\n",
    "    builder._configure()\n",
    "    builder.build()"
   ]
  },
  {
   "cell_type": "markdown",
   "metadata": {},
   "source": [
    "### Visualize"
   ]
  },
  {
   "cell_type": "code",
   "execution_count": null,
   "metadata": {},
   "outputs": [],
   "source": [
    "%matplotlib inline\n",
    "import matplotlib.pyplot as plt\n",
    "plt.imshow(np.load(builder.dataframe.path_to_optical_flow[50])[..., 0], cmap='RdBu')\n",
    "plt.colorbar()"
   ]
  },
  {
   "cell_type": "markdown",
   "metadata": {},
   "source": [
    "### Train odometry:"
   ]
  },
  {
   "cell_type": "code",
   "execution_count": null,
   "metadata": {},
   "outputs": [],
   "source": [
    "target_size = (120, 160)\n",
    "\n",
    "from prepare_dataset.generator_factory import GeneratorFactory\n",
    "dataset = GeneratorFactory(\n",
    "    csv_name='df.csv',\n",
    "    dataset_root='/Vol0/user/i.slynko/projects/odometry/notebooks/build_discoman',\n",
    "    train_sequences=sequences['train_sequences'],\n",
    "    val_sequences=sequences['val_sequences'],\n",
    "    target_size=target_size,\n",
    "    x_col=['path_to_optical_flow'],\n",
    "    y_col=['euler_x', 'euler_y', 'euler_z', 'x', 'y', 'z'],\n",
    "    image_columns=['path_to_optical_flow'],\n",
    "    load_modes=['flow_xy'],\n",
    "    preprocess_modes=['flow_xy'],\n",
    "    val_sampling_step=2,\n",
    "    cached_imgs={}\n",
    ")"
   ]
  },
  {
   "cell_type": "code",
   "execution_count": null,
   "metadata": {},
   "outputs": [],
   "source": [
    "# TODO: убрать эту печаль\n",
    "dataset.df_val.path_to_optical_flow = dataset.df_val.path_to_optical_flow.map(lambda x: x[len('val/0007/build_discoman/'):])\n",
    "dataset.df_train.path_to_optical_flow = dataset.df_train.path_to_optical_flow.map(lambda x: x[len('train/0007/build_discoman/'):])"
   ]
  },
  {
   "cell_type": "code",
   "execution_count": null,
   "metadata": {},
   "outputs": [],
   "source": [
    "from models.model_factory import ModelFactory\n",
    "\n",
    "model_factory = ModelFactory(\n",
    "    target_size,\n",
    "    channels_counts=dataset.channels_counts,\n",
    "    lr=0.001,\n",
    "    loss='mae',\n",
    "    scale_rotation=50\n",
    ")\n",
    "model = model_factory.construct_flexible_model(use_gated_convolutions=False)"
   ]
  },
  {
   "cell_type": "code",
   "execution_count": null,
   "metadata": {},
   "outputs": [],
   "source": [
    "train_generator = dataset.get_train_generator()\n",
    "# New train:\n",
    "# model.fit_generator(train_generator, steps_per_epoch=len(train_generator), epochs=10)"
   ]
  },
  {
   "cell_type": "code",
   "execution_count": null,
   "metadata": {},
   "outputs": [],
   "source": [
    "# Old train:\n",
    "sys.path.append('/Vol0/user/i.slynko/projects')\n",
    "sys.path.append('/Vol0/user/i.slynko/projects/FlavorNet/utilities/slam_metrics')\n",
    "from FlavorNet.models.train import train\n",
    "train('tmp', 'tmp', 'tmp', model, dataset, num_epochs=120)"
   ]
  },
  {
   "cell_type": "code",
   "execution_count": null,
   "metadata": {},
   "outputs": [],
   "source": []
  },
  {
   "cell_type": "code",
   "execution_count": null,
   "metadata": {},
   "outputs": [],
   "source": []
  },
  {
   "cell_type": "code",
   "execution_count": null,
   "metadata": {},
   "outputs": [],
   "source": []
  },
  {
   "cell_type": "code",
   "execution_count": null,
   "metadata": {},
   "outputs": [],
   "source": []
  },
  {
   "cell_type": "code",
   "execution_count": null,
   "metadata": {},
   "outputs": [],
   "source": []
  },
  {
   "cell_type": "code",
   "execution_count": null,
   "metadata": {},
   "outputs": [],
   "source": []
  },
  {
   "cell_type": "code",
   "execution_count": null,
   "metadata": {},
   "outputs": [],
   "source": []
  },
  {
   "cell_type": "code",
   "execution_count": null,
   "metadata": {},
   "outputs": [],
   "source": []
  },
  {
   "cell_type": "code",
   "execution_count": null,
   "metadata": {},
   "outputs": [],
   "source": []
  },
  {
   "cell_type": "code",
   "execution_count": null,
   "metadata": {},
   "outputs": [],
   "source": []
  },
  {
   "cell_type": "code",
   "execution_count": null,
   "metadata": {},
   "outputs": [],
   "source": []
  },
  {
   "cell_type": "code",
   "execution_count": null,
   "metadata": {},
   "outputs": [],
   "source": []
  },
  {
   "cell_type": "code",
   "execution_count": null,
   "metadata": {},
   "outputs": [],
   "source": []
  },
  {
   "cell_type": "code",
   "execution_count": null,
   "metadata": {},
   "outputs": [],
   "source": []
  }
 ],
 "metadata": {
  "kernelspec": {
   "display_name": "Python 3",
   "language": "python",
   "name": "python3"
  },
  "language_info": {
   "codemirror_mode": {
    "name": "ipython",
    "version": 3
   },
   "file_extension": ".py",
   "mimetype": "text/x-python",
   "name": "python",
   "nbconvert_exporter": "python",
   "pygments_lexer": "ipython3",
   "version": "3.6.8"
  }
 },
 "nbformat": 4,
 "nbformat_minor": 2
}
