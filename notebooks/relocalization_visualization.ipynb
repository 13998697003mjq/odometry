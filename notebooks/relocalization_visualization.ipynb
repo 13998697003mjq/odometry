{
 "cells": [
  {
   "cell_type": "code",
   "execution_count": null,
   "metadata": {
    "collapsed": true
   },
   "outputs": [],
   "source": [
    "%matplotlib inline\n",
    "import matplotlib.pyplot as plt\n",
    "import pandas as pd\n",
    "import cv2\n",
    "import os\n",
    "import numpy as np\n",
    "csv_path = '/home/d-zhukov/Projects/odometry/experiments/kitti_4_6/bovw_22/train/00/frame_history.csv'\n",
    "dataset_root = '/datasets/odometry/KITTI_odometry_2012/'"
   ]
  },
  {
   "cell_type": "code",
   "execution_count": null,
   "outputs": [],
   "source": [
    "df = pd.read_csv(csv_path)\n",
    "df.head()"
   ],
   "metadata": {
    "collapsed": false,
    "pycharm": {
     "name": "#%%\n"
    }
   }
  },
  {
   "cell_type": "code",
   "execution_count": null,
   "outputs": [],
   "source": [
    "def visualize(df, only_loops, difference_threshold):\n",
    "    \"\"\"\n",
    "    \n",
    "    :param df: Dataframe\n",
    "    :param only_loops: If True visualizes only loops\n",
    "    :param difference_threshold: Maximum difference between frames indexes that considered as non loop \n",
    "    :return: \n",
    "    \"\"\"\n",
    "    frame_total = df.to_index.iloc[-1]\n",
    "    frame_counter = 1\n",
    "    \n",
    "    while frame_counter <=  frame_total:  \n",
    "        matches = df[df['to_index'] == frame_counter]\n",
    "        frame_counter += 1\n",
    "        \n",
    "        if len(matches) > 0:\n",
    "            \n",
    "            if only_loops:\n",
    "                max_difference = 0\n",
    "                for k in range(len(matches)):\n",
    "                    difference = matches['to_index'].iloc[k] - matches['from_index'].iloc[k]\n",
    "                    if difference > max_difference:\n",
    "                        max_difference = difference\n",
    "                \n",
    "                if max_difference < difference_threshold:\n",
    "                    continue\n",
    "            \n",
    "            print(matches[['to_index', 'from_index']])\n",
    "            \n",
    "            image = cv2.imread(os.path.join(dataset_root, matches.to_path.iloc[0]))\n",
    "            fig, axes = plt.subplots(2, 2, figsize=(40, 10))\n",
    "            axes[0][0].imshow(image / 255)\n",
    "            for k in range(3):\n",
    "                if k < len(matches):\n",
    "                    image = cv2.imread(os.path.join(dataset_root, matches.from_path.iloc[k]))\n",
    "                else:\n",
    "                    image = np.zeros_like(image)\n",
    "                axes[(k + 1) // 2][(k + 1) % 2].imshow(image / 255)\n",
    "            plt.show()"
   ],
   "metadata": {
    "collapsed": false,
    "pycharm": {
     "name": "#%%\n"
    }
   }
  },
  {
   "cell_type": "code",
   "execution_count": null,
   "outputs": [],
   "source": [
    "is_keyframe = ~np.isnan(df['to_db_index'])\n",
    "df = df[is_keyframe]\n",
    "\n",
    "visualize(df, only_loops=True, difference_threshold=100)"
   ],
   "metadata": {
    "collapsed": false,
    "pycharm": {
     "name": "#%%\n"
    }
   }
  }
 ],
 "metadata": {
  "language_info": {
   "codemirror_mode": {
    "name": "ipython",
    "version": 2
   },
   "file_extension": ".py",
   "mimetype": "text/x-python",
   "name": "python",
   "nbconvert_exporter": "python",
   "pygments_lexer": "ipython2",
   "version": "2.7.6"
  },
  "kernelspec": {
   "name": "python3",
   "language": "python",
   "display_name": "Python 3"
  },
  "pycharm": {
   "stem_cell": {
    "cell_type": "raw",
    "source": [],
    "metadata": {
     "collapsed": false
    }
   }
  }
 },
 "nbformat": 4,
 "nbformat_minor": 0
}