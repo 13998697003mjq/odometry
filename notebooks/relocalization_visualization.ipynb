{
 "cells": [
  {
   "cell_type": "code",
   "execution_count": null,
   "metadata": {
    "collapsed": true
   },
   "outputs": [],
   "source": [
    "%matplotlib inline\n",
    "import matplotlib\n",
    "import matplotlib.pyplot as plt\n",
    "import pandas as pd\n",
    "import cv2\n",
    "import os\n",
    "import numpy as np\n",
    "\n",
    "import __init_path__\n",
    "import env\n",
    "\n",
    "from slam.models.relocalization.bovw import BoVW\n",
    "\n",
    "\n",
    "font = {'weight' : 'bold',\n",
    "        'size'   : 22}\n",
    "\n",
    "matplotlib.rc('font', **font)\n",
    "\n",
    "\n",
    "csv_path = '/home/d-zhukov/Projects/odometry/experiments/kitti_4_6/bovw_22/train/00/frame_history.csv'\n",
    "dataset_root = '/datasets/odometry/KITTI_odometry_2012/'"
   ]
  },
  {
   "cell_type": "code",
   "execution_count": null,
   "metadata": {
    "pycharm": {
     "name": "#%%\n"
    }
   },
   "outputs": [],
   "source": [
    "df = pd.read_csv(csv_path)\n",
    "df.head()"
   ]
  },
  {
   "cell_type": "code",
   "execution_count": null,
   "outputs": [],
   "source": [
    "def visualize_with_kp(df, only_loops, difference_threshold):\n",
    "    frame_total = df.to_index.iloc[-1]\n",
    "    frame_counter = 1\n",
    "    \n",
    "    exctractor = cv2.xfeatures2d.SIFT_create()\n",
    "    matcher = cv2.BFMatcher()\n",
    "    \n",
    "    while frame_counter <=  frame_total:  \n",
    "        matches = df[df['to_index'] == frame_counter]\n",
    "        frame_counter += 1\n",
    "        \n",
    "        if len(matches) > 0:\n",
    "            \n",
    "            if only_loops:\n",
    "                max_difference = 0\n",
    "                for k in range(len(matches)):\n",
    "                    difference = matches['to_index'].iloc[k] - matches['from_index'].iloc[k]\n",
    "                    if difference > max_difference:\n",
    "                        max_difference = difference\n",
    "                \n",
    "                if max_difference < difference_threshold:\n",
    "                    continue\n",
    "            \n",
    "            print(matches[['to_index', 'from_index']])\n",
    "            \n",
    "            image1 = cv2.imread(os.path.join(dataset_root, matches.to_path.iloc[0]))\n",
    "            image1 = cv2.cvtColor(image1, cv2.COLOR_BGR2RGB)\n",
    "            kp1, des1 = exctractor.detectAndCompute(np.uint8(image1), None)\n",
    "            \n",
    "            for k in range(3):\n",
    "                if k < len(matches):\n",
    "                    image2 = cv2.imread(os.path.join(dataset_root, matches.from_path.iloc[k]))\n",
    "                    image2 = cv2.cvtColor(image2, cv2.COLOR_BGR2RGB)\n",
    "                else:\n",
    "                    image2 = np.zeros_like(image1)\n",
    "                kp2, des2 = exctractor.detectAndCompute(np.uint8(image2), None)\n",
    "                if des1 is None or des2 is None:\n",
    "                    continue\n",
    "                \n",
    "                bf_matches = matcher.knnMatch(des1, des2, 2)\n",
    "                bf_matches = BoVW.ratio_test(bf_matches)\n",
    "                print('Number of matches', len(bf_matches))\n",
    "                bf_matches = [match[0] for match in bf_matches]\n",
    "                image3 = cv2.drawMatches(image1, kp1, image2, kp2, bf_matches, None)\n",
    "                plt.figure(figsize=(40, 20))\n",
    "                plt.imshow(image3)\n",
    "                plt.title(f'from {matches.from_index.iloc[k]} to {matches.to_index.iloc[k]}')\n",
    "                plt.show()"
   ],
   "metadata": {
    "collapsed": false,
    "pycharm": {
     "name": "#%%\n"
    }
   }
  },
  {
   "cell_type": "code",
   "execution_count": null,
   "metadata": {
    "pycharm": {
     "name": "#%%\n"
    }
   },
   "outputs": [],
   "source": [
    "def visualize(df, only_loops, difference_threshold):\n",
    "    frame_total = df.to_index.iloc[-1]\n",
    "    frame_counter = 1\n",
    "    \n",
    "    while frame_counter <=  frame_total:  \n",
    "        matches = df[df['to_index'] == frame_counter]\n",
    "        frame_counter += 1\n",
    "        \n",
    "        if len(matches) > 0:\n",
    "            \n",
    "            if only_loops:\n",
    "                max_difference = 0\n",
    "                for k in range(len(matches)):\n",
    "                    difference = matches['to_index'].iloc[k] - matches['from_index'].iloc[k]\n",
    "                    if difference > max_difference:\n",
    "                        max_difference = difference\n",
    "                \n",
    "                if max_difference < difference_threshold:\n",
    "                    continue\n",
    "            \n",
    "            print(matches[['to_index', 'from_index']])\n",
    "            \n",
    "            image = cv2.imread(os.path.join(dataset_root, matches.to_path.iloc[0]))\n",
    "            image = cv2.cvtColor(image, cv2.COLOR_BGR2RGB)\n",
    "            fig, axes = plt.subplots(2, 2, figsize=(40, 10))\n",
    "            axes[0][0].title.set_text(f'to {matches.to_index.iloc[0]}')\n",
    "            axes[0][0].imshow(image / 255)\n",
    "            for k in range(3):\n",
    "                if k < len(matches):\n",
    "                    image = cv2.imread(os.path.join(dataset_root, matches.from_path.iloc[k]))\n",
    "                    image = cv2.cvtColor(image, cv2.COLOR_BGR2RGB)\n",
    "                    axes[(k + 1) // 2][(k + 1) % 2].title.set_text(f'from {matches.from_index.iloc[k]}')\n",
    "                else:\n",
    "                    image = np.zeros_like(image)\n",
    "                    axes[(k + 1) // 2][(k + 1) % 2].title.set_text(f'No match')\n",
    "                axes[(k + 1) // 2][(k + 1) % 2].imshow(image / 255)\n",
    "            plt.show()"
   ]
  },
  {
   "cell_type": "code",
   "execution_count": null,
   "metadata": {
    "pycharm": {
     "name": "#%%\n"
    }
   },
   "outputs": [],
   "source": [
    "is_keyframe = ~np.isnan(df['to_db_index'])\n",
    "df = df[is_keyframe]\n",
    "\n",
    "visualize(df, only_loops=True, difference_threshold=100)"
   ]
  }
 ],
 "metadata": {
  "kernelspec": {
   "display_name": "Python 3",
   "language": "python",
   "name": "python3"
  },
  "language_info": {
   "codemirror_mode": {
    "name": "ipython",
    "version": 3
   },
   "file_extension": ".py",
   "mimetype": "text/x-python",
   "name": "python",
   "nbconvert_exporter": "python",
   "pygments_lexer": "ipython3",
   "version": "3.5.2"
  },
  "pycharm": {
   "stem_cell": {
    "cell_type": "raw",
    "source": [],
    "metadata": {
     "collapsed": false
    }
   }
  }
 },
 "nbformat": 4,
 "nbformat_minor": 1
}
