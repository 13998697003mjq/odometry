{
 "cells": [
  {
   "cell_type": "code",
   "execution_count": null,
   "metadata": {},
   "outputs": [],
   "source": [
    "%matplotlib inline\n",
    "import matplotlib\n",
    "import matplotlib.pyplot as plt\n",
    "import pandas as pd\n",
    "import cv2\n",
    "import os\n",
    "import numpy as np\n",
    "\n",
    "import __init_path__\n",
    "import env\n",
    "\n",
    "from slam.models.relocalization.bovw import BoVW\n",
    "from slam.utils import resize_image\n",
    "\n",
    "\n",
    "font = {'weight' : 'bold',\n",
    "        'size'   : 22}\n",
    "\n",
    "matplotlib.rc('font', **font)\n",
    "\n",
    "\n",
    "csv_path = '/dbstore/datasets/robotics/mlflow/odometry/artifacts/euroc/e43c1a6dffe14121a90a661e84832849/artifacts/predictions/V2_02_medium.csv'\n",
    "dataset_root = '/dbstore/datasets/Odometry_team/EuRoC_mixed/1'"
   ]
  },
  {
   "cell_type": "code",
   "execution_count": null,
   "metadata": {
    "pycharm": {
     "name": "#%%\n"
    }
   },
   "outputs": [],
   "source": [
    "df = pd.read_csv(csv_path)\n",
    "df.head()"
   ]
  },
  {
   "cell_type": "code",
   "execution_count": null,
   "metadata": {
    "pycharm": {
     "name": "#%%\n"
    }
   },
   "outputs": [],
   "source": [
    "def visualize(df, only_loops, difference_threshold, matches_threshold):\n",
    "    df = df[df.matches_num >= matches_threshold].reset_index(drop=True)\n",
    "\n",
    "    frame_total = df.to_index.iloc[-1]\n",
    "    frame_counter = 1\n",
    "    \n",
    "    \n",
    "    while frame_counter <=  frame_total:  \n",
    "        matches = df[df['to_index'] == frame_counter]\n",
    "        frame_counter += 1\n",
    "        \n",
    "        if len(matches) > 0:\n",
    "            \n",
    "            if only_loops:\n",
    "                max_difference = 0\n",
    "                for k in range(len(matches)):\n",
    "                    difference = matches['to_index'].iloc[k] - matches['from_index'].iloc[k]\n",
    "                    if difference > max_difference:\n",
    "                        max_difference = difference\n",
    "                \n",
    "                if max_difference < difference_threshold:\n",
    "                    continue\n",
    "            \n",
    "            print(matches[['to_index', 'from_index']])\n",
    "            \n",
    "            image = cv2.imread(os.path.join(dataset_root, matches.to_path.iloc[0]))\n",
    "            image = cv2.cvtColor(image, cv2.COLOR_BGR2RGB)\n",
    "            height, width, channels_num = image.shape\n",
    "            small_height = height // 4\n",
    "            small_width = width // 4\n",
    "            image = resize_image(image, (small_width, small_height))\n",
    "            fig, axes = plt.subplots(len(matches) + 1, figsize=(20, 10  * len(matches)))\n",
    "            axes[0].title.set_text(f'to {matches.to_index.iloc[0]}')\n",
    "            axes[0].imshow(image / 255)\n",
    "            for k in range(len(matches)):\n",
    "                image = cv2.imread(os.path.join(dataset_root, matches.from_path.iloc[k]))\n",
    "                image = cv2.cvtColor(image, cv2.COLOR_BGR2RGB)\n",
    "                height, width, channels_num = image.shape\n",
    "                small_height = height // 4\n",
    "                small_width = width // 4\n",
    "                image = resize_image(image, (small_width, small_height))\n",
    "                axes[k + 1].title.set_text(f'from {matches.from_index.iloc[k]}. Matches {matches.matches_num.iloc[k]}')\n",
    "                axes[k + 1].imshow(image / 255)\n",
    "            plt.show()"
   ]
  },
  {
   "cell_type": "code",
   "execution_count": null,
   "metadata": {
    "pycharm": {
     "name": "#%%\n"
    },
    "scrolled": false
   },
   "outputs": [],
   "source": [
    "is_keyframe = ~np.isnan(df['to_db_index'])\n",
    "df = df[is_keyframe]\n",
    "\n",
    "visualize(df, only_loops=True, difference_threshold=100, matches_threshold=40)"
   ]
  }
 ],
 "metadata": {
  "kernelspec": {
   "display_name": "Python 3",
   "language": "python",
   "name": "python3"
  },
  "language_info": {
   "codemirror_mode": {
    "name": "ipython",
    "version": 3
   },
   "file_extension": ".py",
   "mimetype": "text/x-python",
   "name": "python",
   "nbconvert_exporter": "python",
   "pygments_lexer": "ipython3",
   "version": "3.6.8"
  },
  "pycharm": {
   "stem_cell": {
    "cell_type": "raw",
    "metadata": {
     "collapsed": false
    },
    "source": []
   }
  }
 },
 "nbformat": 4,
 "nbformat_minor": 1
}
