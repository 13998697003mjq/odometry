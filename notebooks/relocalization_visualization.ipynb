{
 "cells": [
  {
   "cell_type": "code",
   "execution_count": null,
   "metadata": {},
   "outputs": [],
   "source": [
    "%matplotlib inline\n",
    "import matplotlib\n",
    "import matplotlib.pyplot as plt\n",
    "from pathlib import Path\n",
    "import pandas as pd\n",
    "import cv2\n",
    "import os\n",
    "import numpy as np\n",
    "\n",
    "import __init_path__\n",
    "import env\n",
    "\n",
    "from slam.models.relocalization.bovw import BoVW\n",
    "from slam.utils import resize_image\n",
    "\n",
    "\n",
    "font = {'weight' : 'bold',\n",
    "        'size'   : 22}\n",
    "\n",
    "matplotlib.rc('font', **font)\n",
    "\n",
    "dataset_root = Path('/datasets/odometry/KITTI_test/00/reloc')\n",
    "difference_threshold = 100\n",
    "matches_threshold = 40"
   ]
  },
  {
   "cell_type": "code",
   "execution_count": null,
   "metadata": {
    "pycharm": {
     "name": "#%%\n"
    }
   },
   "outputs": [],
   "source": [
    "def read_image(path):\n",
    "    image = cv2.imread(path.as_posix())\n",
    "    image = cv2.cvtColor(image, cv2.COLOR_BGR2RGB)\n",
    "    height, width, channels_num = image.shape\n",
    "    small_height = height // 4\n",
    "    small_width = width // 4\n",
    "    image = resize_image(image, (small_width, small_height))\n",
    "    return image\n",
    "\n",
    "def visualize_image(df):\n",
    "    if len(df) == 0:\n",
    "        return\n",
    "    \n",
    "    frame_total = df.to_index.iloc[-1]\n",
    "    frame_counter = 1\n",
    "    \n",
    "    fig, axes = plt.subplots(len(df) + 1, figsize=(20, 10  * len(df)))\n",
    "    axes[0].title.set_text(f'to {df.iloc[0].to_index}')\n",
    "    image = read_image(dataset_root.parent/'rgb'/f'{int(df.iloc[0].to_index)}.png')\n",
    "    axes[0].imshow(image / 255)\n",
    "            \n",
    "    for index, row in df.iterrows():        \n",
    "        image = read_image(dataset_root.parent/'rgb'/f'{int(row.to_index)}.png')\n",
    "        axes[index + 1].title.set_text(f'from {row.from_index}. Matches {row.matches_num}')\n",
    "        axes[index + 1].imshow(image / 255)\n",
    "    plt.show()\n",
    "\n",
    "def visualize_trajectory(df, difference_threshold, matches_threshold):\n",
    "    matches = list(dataset_root.glob('*.csv'))\n",
    "    matches.sort()\n",
    "    for m in matches:\n",
    "        df = pd.read_csv(m.as_posix())\n",
    "        is_keyframe = (df.to_index - df.from_index) > difference_threshold\n",
    "        df = df[is_keyframe].reset_index(drop=True)\n",
    "\n",
    "        if len(df) == 0:\n",
    "            continue\n",
    "\n",
    "        df = df[df.matches_num >= matches_threshold].reset_index(drop=True)\n",
    "\n",
    "        if len(df) > 0:\n",
    "            print(df)\n",
    "            visualize_image(df)    "
   ]
  },
  {
   "cell_type": "code",
   "execution_count": null,
   "metadata": {
    "pycharm": {
     "name": "#%%\n"
    },
    "scrolled": true
   },
   "outputs": [],
   "source": [
    "visualize_trajectory(df, difference_threshold=difference_threshold, matches_threshold=matches_threshold)"
   ]
  }
 ],
 "metadata": {
  "kernelspec": {
   "display_name": "Python 3",
   "language": "python",
   "name": "python3"
  },
  "language_info": {
   "codemirror_mode": {
    "name": "ipython",
    "version": 3
   },
   "file_extension": ".py",
   "mimetype": "text/x-python",
   "name": "python",
   "nbconvert_exporter": "python",
   "pygments_lexer": "ipython3",
   "version": "3.6.8"
  },
  "pycharm": {
   "stem_cell": {
    "cell_type": "raw",
    "metadata": {
     "collapsed": false
    },
    "source": []
   }
  }
 },
 "nbformat": 4,
 "nbformat_minor": 1
}
