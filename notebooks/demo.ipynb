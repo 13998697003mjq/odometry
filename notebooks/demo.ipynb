{
 "cells": [
  {
   "cell_type": "code",
   "execution_count": null,
   "metadata": {},
   "outputs": [],
   "source": [
    "from IPython.core.display import display, HTML\n",
    "display(HTML(\"<style>.container { width:100% !important; }</style>\"))"
   ]
  },
  {
   "cell_type": "code",
   "execution_count": null,
   "metadata": {},
   "outputs": [],
   "source": [
    "%load_ext autoreload\n",
    "%autoreload 2"
   ]
  },
  {
   "cell_type": "code",
   "execution_count": null,
   "metadata": {},
   "outputs": [],
   "source": [
    "import os\n",
    "import sys\n",
    "import numpy as np\n",
    "import warnings\n",
    "\n",
    "code_dir = os.path.join(os.path.abspath(os.pardir), 'prepare_dataset')\n",
    "\n",
    "sys.path.append(code_dir)\n",
    "sys.path.append(os.path.join(code_dir, 'struct2depth'))\n",
    "sys.path.append(os.path.join(code_dir, 'tfoptflow/tfoptflow'))\n",
    "\n",
    "warnings.simplefilter('ignore')"
   ]
  },
  {
   "cell_type": "code",
   "execution_count": null,
   "metadata": {},
   "outputs": [],
   "source": [
    "image_directory = None\n",
    "depth_directory = None\n",
    "video_path = None\n",
    "json_path = None\n",
    "csv_path = None\n",
    "txt_path = None\n",
    "\n",
    "optical_flow_estimator_name = 'pwc'\n",
    "depth_estimator_name = 'struct2depth'\n",
    "#depth_estimator_name = 'senet'\n",
    "\n",
    "computation_kwargs = dict(\n",
    "    cuda_visible_devices=3,\n",
    ")"
   ]
  },
  {
   "cell_type": "code",
   "execution_count": null,
   "metadata": {},
   "outputs": [],
   "source": [
    "from dataset_builder import *"
   ]
  },
  {
   "cell_type": "code",
   "execution_count": null,
   "metadata": {},
   "outputs": [],
   "source": [
    "# build_from = DIRECTORY\n",
    "# build_from = VIDEO\n",
    "# build_from = CSV\n",
    "# build_from = KITTI\n",
    "# build_from = DISCOMAN\n",
    "build_from = TUM"
   ]
  },
  {
   "cell_type": "code",
   "execution_count": null,
   "metadata": {},
   "outputs": [],
   "source": [
    "if build_from == VIDEO:\n",
    "    sequence_directory = 'test_build_from_video'\n",
    "    video_path = '/Vol1/dbstore/datasets/saic_odometry/07/t_video5316726383492203313.mp4'\n",
    "    DatasetBuilder = VideoDatasetBuilder\n",
    "\n",
    "if build_from == DIRECTORY:\n",
    "    sequence_directory = 'test_build_from_dir'\n",
    "    image_directory = '/Vol1/dbstore/datasets/KITTI_odometry_2012/dataset/sequences/00/image_2'\n",
    "    DatasetBuilder = ImagesDatasetBuilder\n",
    "    \n",
    "if build_from == CSV:\n",
    "    sequence_directory = 'test_build_from_csv'\n",
    "    csv_path = ''\n",
    "    DatasetBuilder = CSVDatasetBuilder\n",
    "\n",
    "if build_from == KITTI:\n",
    "    sequence_directory = 'test_build_kitti'\n",
    "    image_directory = '/Vol1/dbstore/datasets/KITTI_odometry_2012/dataset/sequences/00/image_2'\n",
    "    depth_directory = '/Vol1/dbstore/datasets/KITTI_odometry_2012/dataset/sequences/00/depth_2'\n",
    "    depth_estimator_name = None\n",
    "    DatasetBuilder = KITTIDatasetBuilder\n",
    "    \n",
    "if build_from == DISCOMAN:\n",
    "    sequence_directory = 'test_build_discoman'\n",
    "    json_path = '/Vol1/dbstore/datasets/renderbox/v10.5/traj/output/train/0000/0_traj.json'\n",
    "    depth_estimator_name = None\n",
    "    DatasetBuilder = DISCOMANDatasetBuilder\n",
    "    \n",
    "if build_from == TUM:\n",
    "    sequence_directory = 'test_build_tum'\n",
    "    txt_path = '/Vol1/dbstore/datasets/tum_rgbd_flow/data/rgbd_dataset_freiburg2_coke/groundtruth.txt'\n",
    "    DatasetBuilder = TUMDatasetBuilder"
   ]
  },
  {
   "cell_type": "code",
   "execution_count": null,
   "metadata": {},
   "outputs": [],
   "source": [
    "estimate_optical_flow = optical_flow_estimator_name is not None\n",
    "estimate_depth = depth_estimator_name is not None"
   ]
  },
  {
   "cell_type": "markdown",
   "metadata": {},
   "source": [
    "### Initialize"
   ]
  },
  {
   "cell_type": "code",
   "execution_count": null,
   "metadata": {},
   "outputs": [],
   "source": [
    "builder = DatasetBuilder(sequence_directory, \n",
    "                         build_from=build_from,\n",
    "                         image_directory=image_directory,\n",
    "                         depth_directory=depth_directory,\n",
    "                         video_path=video_path,\n",
    "                         json_path=json_path,\n",
    "                         csv_path=csv_path,\n",
    "                         txt_path=txt_path,\n",
    "                         mode=DatasetBuilder.TEST,\n",
    "                         estimate_depth=estimate_depth,\n",
    "                         estimate_optical_flow=estimate_optical_flow,\n",
    "                         optical_flow_estimator_name=optical_flow_estimator_name,\n",
    "                         depth_estimator_name=depth_estimator_name,\n",
    "                         memory_safe=True,\n",
    "                         **computation_kwargs)\n",
    "builder"
   ]
  },
  {
   "cell_type": "markdown",
   "metadata": {},
   "source": [
    "### Build"
   ]
  },
  {
   "cell_type": "code",
   "execution_count": null,
   "metadata": {},
   "outputs": [],
   "source": [
    "builder._configure()"
   ]
  },
  {
   "cell_type": "code",
   "execution_count": null,
   "metadata": {},
   "outputs": [],
   "source": [
    "if builder.build_from == VIDEO:\n",
    "    print(builder.video_parser)\n",
    "\n",
    "if builder.build_from == DIRECTORY:\n",
    "    pass\n",
    "    \n",
    "if builder.build_from == CSV:\n",
    "    pass\n",
    "\n",
    "if builder.build_from == KITTI:\n",
    "    pass\n",
    "\n",
    "if builder.build_from == DISCOMAN:\n",
    "    print(builder.parser)\n",
    "    \n",
    "if builder.build_from == TUM:\n",
    "    print(builder.parser)    "
   ]
  },
  {
   "cell_type": "code",
   "execution_count": null,
   "metadata": {},
   "outputs": [],
   "source": [
    "builder"
   ]
  },
  {
   "cell_type": "code",
   "execution_count": null,
   "metadata": {
    "scrolled": true
   },
   "outputs": [],
   "source": [
    "print(builder.dataframe.shape)\n",
    "builder.dataframe.head()"
   ]
  },
  {
   "cell_type": "code",
   "execution_count": null,
   "metadata": {},
   "outputs": [],
   "source": [
    "!nvidia-smi"
   ]
  },
  {
   "cell_type": "code",
   "execution_count": null,
   "metadata": {},
   "outputs": [],
   "source": [
    "builder.build() # \"Do everything\" big red button"
   ]
  },
  {
   "cell_type": "code",
   "execution_count": null,
   "metadata": {},
   "outputs": [],
   "source": [
    "!nvidia-smi"
   ]
  },
  {
   "cell_type": "code",
   "execution_count": null,
   "metadata": {},
   "outputs": [],
   "source": [
    "print(builder.dataframe.shape)\n",
    "builder.dataframe.head()"
   ]
  },
  {
   "cell_type": "markdown",
   "metadata": {},
   "source": [
    "### Visualize"
   ]
  },
  {
   "cell_type": "code",
   "execution_count": null,
   "metadata": {},
   "outputs": [],
   "source": [
    "import cv2\n",
    "import numpy as np\n",
    "import matplotlib.pyplot as plt\n",
    "\n",
    "def load(path):\n",
    "    if path.endswith('npy'):\n",
    "        return np.load(path)\n",
    "    return cv2.imread(path)[:, :, ::-1]\n",
    "\n",
    "\n",
    "def visualize_depth(depth):\n",
    "    plt.imshow(depth[..., 0], cmap='RdBu')\n",
    "    plt.show()\n",
    "\n",
    "def visualize_optical_flow(optical_flow):\n",
    "    fig, ax = plt.subplots(ncols=2, figsize=(15, 5))\n",
    "    ax[0].imshow(optical_flow[..., 0], cmap='RdBu')\n",
    "    ax[1].imshow(optical_flow[..., 1], cmap='RdBu')\n",
    "    plt.show()"
   ]
  },
  {
   "cell_type": "code",
   "execution_count": null,
   "metadata": {},
   "outputs": [],
   "source": [
    "index = 0\n",
    "visualize_depth(load(builder.dataframe.path_to_depth[index]))\n",
    "visualize_optical_flow(load(builder.dataframe.path_to_optical_flow[index]))"
   ]
  },
  {
   "cell_type": "code",
   "execution_count": null,
   "metadata": {},
   "outputs": [],
   "source": []
  }
 ],
 "metadata": {
  "kernelspec": {
   "display_name": "Python 3",
   "language": "python",
   "name": "python3"
  },
  "language_info": {
   "codemirror_mode": {
    "name": "ipython",
    "version": 3
   },
   "file_extension": ".py",
   "mimetype": "text/x-python",
   "name": "python",
   "nbconvert_exporter": "python",
   "pygments_lexer": "ipython3",
   "version": "3.6.8"
  }
 },
 "nbformat": 4,
 "nbformat_minor": 2
}
