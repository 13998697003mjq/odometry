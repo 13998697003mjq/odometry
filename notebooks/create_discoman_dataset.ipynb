{
 "cells": [
  {
   "cell_type": "code",
   "execution_count": null,
   "metadata": {},
   "outputs": [],
   "source": [
    "!nvidia-smi"
   ]
  },
  {
   "cell_type": "code",
   "execution_count": null,
   "metadata": {},
   "outputs": [],
   "source": [
    "CUDA_VISIBLE_DEVICES = '0,2,3'"
   ]
  },
  {
   "cell_type": "code",
   "execution_count": null,
   "metadata": {},
   "outputs": [],
   "source": [
    "%load_ext autoreload\n",
    "%autoreload 2\n",
    "\n",
    "import os\n",
    "import glob\n",
    "\n",
    "import __init_path__\n",
    "import env\n",
    "from odometry.utils import make_memory_safe\n",
    "from odometry.preprocessing import parsers, estimators, prepare_trajectory\n",
    "from odometry.data_manager import GeneratorFactory"
   ]
  },
  {
   "cell_type": "markdown",
   "metadata": {},
   "source": [
    "## Prepare dataset"
   ]
  },
  {
   "cell_type": "code",
   "execution_count": null,
   "metadata": {},
   "outputs": [],
   "source": [
    "def initialize_estimators(target_size):\n",
    "    quaternion2euler_estimator = estimators.Quaternion2EulerEstimator(input_col=['q_w', 'q_x', 'q_y', 'q_z'],\n",
    "                                                                      output_col=['euler_x', 'euler_y', 'euler_z'])\n",
    "    \n",
    "    depth_checkpoint = os.path.abspath('../weights/model-199160')\n",
    "    struct2depth_estimator = estimators.Struct2DepthEstimator(input_col='path_to_rgb',\n",
    "                                                              output_col='path_to_depth',\n",
    "                                                              sub_dir='depth',\n",
    "                                                              checkpoint=depth_checkpoint, \n",
    "                                                              height=target_size[0],\n",
    "                                                              width=target_size[1])\n",
    "    \n",
    "    cols = ['euler_x', 'euler_y', 'euler_z', 't_x', 't_y', 't_z']\n",
    "    input_col = cols + [col + '_next' for col in cols]\n",
    "    output_col = cols\n",
    "    global2relative_estimator = estimators.Global2RelativeEstimator(input_col=input_col,\n",
    "                                                                    output_col=output_col)\n",
    "    \n",
    "    optical_flow_checkpoint = '/Vol0/user/f.konokhov/tfoptflow/tfoptflow/tmp/pwcnet.ckpt-84000'\n",
    "    #optical_flow_checkpoint = os.path.abspath(../weights/pwcnet.ckpt-595000')  # official weights\n",
    "    pwcnet_estimator = estimators.PWCNetEstimator(input_col=['path_to_rgb', 'path_to_rgb_next'],\n",
    "                                                  output_col='path_to_optical_flow',\n",
    "                                                  sub_dir='optical_flow',\n",
    "                                                  checkpoint=optical_flow_checkpoint)\n",
    "    \n",
    "    single_frame_estimators = [quaternion2euler_estimator, struct2depth_estimator]\n",
    "    pair_frames_estimators = [global2relative_estimator, pwcnet_estimator]\n",
    "    return single_frame_estimators, pair_frames_estimators"
   ]
  },
  {
   "cell_type": "code",
   "execution_count": null,
   "metadata": {
    "scrolled": true
   },
   "outputs": [],
   "source": [
    "def prepare_dataset(target_size):\n",
    "    single_frame_estimators, pair_frames_estimators = initialize_estimators(target_size)\n",
    "    \n",
    "    dirs = glob.glob(os.path.join(env.DATASET_PATH, 'Odometry_team/discoman_v10_unzip/*/'))\n",
    "    dirs.sort()\n",
    "    for dir in dirs:\n",
    "        dir_name = os.path.basename(os.path.normpath(dir))\n",
    "        trajectory_dir = os.path.join(env.DATASET_PATH, 'Odometry_team/discoman_v10_full/{}'.format(dir_name))\n",
    "        csv_path = os.path.join(dir, 'camera_gt.csv')\n",
    "        parser = parsers.DISCOMANCSVParser(trajectory_dir, csv_path=csv_path)\n",
    "        df = prepare_trajectory(trajectory_dir, \n",
    "                                parser=parser, \n",
    "                                single_frame_estimators=single_frame_estimators,\n",
    "                                pair_frames_estimators=pair_frames_estimators,\n",
    "                                stride=1)\n",
    "        df.to_csv(os.path.join(trajectory_dir, 'df.csv'), index=False)"
   ]
  },
  {
   "cell_type": "code",
   "execution_count": null,
   "metadata": {
    "scrolled": true
   },
   "outputs": [],
   "source": [
    "make_memory_safe(prepare_dataset, cuda_visible_devices=CUDA_VISIBLE_DEVICES)(\n",
    "    target_size=(90, 160)\n",
    ")   "
   ]
  }
 ],
 "metadata": {
  "kernelspec": {
   "display_name": "Python 3",
   "language": "python",
   "name": "python3"
  },
  "language_info": {
   "codemirror_mode": {
    "name": "ipython",
    "version": 3
   },
   "file_extension": ".py",
   "mimetype": "text/x-python",
   "name": "python",
   "nbconvert_exporter": "python",
   "pygments_lexer": "ipython3",
   "version": "3.6.8"
  }
 },
 "nbformat": 4,
 "nbformat_minor": 2
}
