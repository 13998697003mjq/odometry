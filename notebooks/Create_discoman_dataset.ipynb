{
 "cells": [
  {
   "cell_type": "code",
   "execution_count": 1,
   "metadata": {},
   "outputs": [],
   "source": [
    "import os\n",
    "import sys\n",
    "import numpy as np\n",
    "import pandas as pd\n",
    "import warnings\n",
    "import logging.config\n",
    "import matplotlib.pyplot as plt\n",
    "\n",
    "os.environ[\"OMP_NUM_THREADS\"] = \"4\"\n",
    "os.environ[\"OPENBLAS_NUM_THREADS\"] = \"4\"\n",
    "os.environ[\"MKL_NUM_THREADS\"] = \"6\"\n",
    "os.environ[\"VECLIB_MAXIMUM_THREADS\"] = \"4\"\n",
    "os.environ[\"NUMEXPR_NUM_THREADS\"] = \"6\"\n",
    "os.environ[\"TF_CPP_MIN_LOG_LEVEL\"] = \"2\"\n",
    "warnings.simplefilter('ignore')\n",
    "\n",
    "%load_ext autoreload\n",
    "%autoreload 2\n",
    "%matplotlib inline"
   ]
  },
  {
   "cell_type": "code",
   "execution_count": 2,
   "metadata": {},
   "outputs": [],
   "source": [
    "sys.path = sys.path[1:]\n",
    "sys.path.append(os.path.abspath(os.pardir))\n",
    "#sys.path.append(os.path.join(os.path.abspath(os.pardir), 'odometry'))\n",
    "sys.path.append(os.path.join(os.path.abspath(os.pardir), 'submodules/tfoptflow/tfoptflow'))\n",
    "sys.path.append(os.path.join(os.path.abspath(os.pardir), 'submodules/tf_models/research/struct2depth'))"
   ]
  },
  {
   "cell_type": "code",
   "execution_count": 3,
   "metadata": {},
   "outputs": [],
   "source": [
    "sys.path.append(os.path.join(os.path.abspath(os.pardir), 'odometry'))"
   ]
  },
  {
   "cell_type": "code",
   "execution_count": 4,
   "metadata": {},
   "outputs": [],
   "source": [
    "from odometry.preprocessing.parsers.discoman_parser import DISCOMANCSVParser"
   ]
  },
  {
   "cell_type": "code",
   "execution_count": 5,
   "metadata": {},
   "outputs": [],
   "source": [
    "sequence_directory = 'discomancsv'\n",
    "csv_path = '/dbstore/datasets/Odometry_team/discoman_v10_unzip/000005/camera_gt.csv'\n",
    "height, width = 90, 160"
   ]
  },
  {
   "cell_type": "code",
   "execution_count": 6,
   "metadata": {},
   "outputs": [],
   "source": [
    "discoman_csv_parser = DISCOMANCSVParser(sequence_directory, csv_path=csv_path)"
   ]
  },
  {
   "cell_type": "code",
   "execution_count": 7,
   "metadata": {},
   "outputs": [
    {
     "data": {
      "text/plain": [
       "<odometry.preprocessing.parsers.discoman_parser.DISCOMANCSVParser at 0x2ab6c831a2b0>"
      ]
     },
     "execution_count": 7,
     "metadata": {},
     "output_type": "execute_result"
    }
   ],
   "source": [
    "discoman_csv_parser"
   ]
  },
  {
   "cell_type": "code",
   "execution_count": 9,
   "metadata": {
    "scrolled": true
   },
   "outputs": [],
   "source": [
    "a = discoman_csv_parser.run()"
   ]
  },
  {
   "cell_type": "code",
   "execution_count": 10,
   "metadata": {},
   "outputs": [
    {
     "data": {
      "text/plain": [
       "'/dbstore/datasets/Odometry_team/discoman_v10_unzip/000005/000000_raycast.jpg'"
      ]
     },
     "execution_count": 10,
     "metadata": {},
     "output_type": "execute_result"
    }
   ],
   "source": [
    "a.path_to_rgb[0]"
   ]
  },
  {
   "cell_type": "code",
   "execution_count": null,
   "metadata": {},
   "outputs": [],
   "source": []
  },
  {
   "cell_type": "code",
   "execution_count": 8,
   "metadata": {},
   "outputs": [],
   "source": [
    "from odometry.preprocessing.parsers.elementwise_parser import ElementwiseParser"
   ]
  },
  {
   "cell_type": "code",
   "execution_count": 10,
   "metadata": {},
   "outputs": [],
   "source": [
    "import pandas as pd"
   ]
  },
  {
   "cell_type": "code",
   "execution_count": 13,
   "metadata": {},
   "outputs": [],
   "source": [
    "from odometry.preprocessing.prepare_trajectory import prepare_trajectory"
   ]
  },
  {
   "cell_type": "code",
   "execution_count": 14,
   "metadata": {},
   "outputs": [],
   "source": [
    "from odometry.preprocessing.estimators import *"
   ]
  },
  {
   "cell_type": "code",
   "execution_count": 15,
   "metadata": {},
   "outputs": [
    {
     "data": {
      "text/plain": [
       "Quaternion2EulerEstimator(input_col=['q_w', 'q_x', 'q_y', 'q_z'], output_col=['euler_x', 'euler_y', 'euler_z'])"
      ]
     },
     "execution_count": 15,
     "metadata": {},
     "output_type": "execute_result"
    }
   ],
   "source": [
    "quaternion2euler_estimator = Quaternion2EulerEstimator(input_col=['q_w', 'q_x', 'q_y', 'q_z'],\n",
    "                                                       output_col=['euler_x', 'euler_y', 'euler_z'])\n",
    "quaternion2euler_estimator"
   ]
  },
  {
   "cell_type": "code",
   "execution_count": 16,
   "metadata": {},
   "outputs": [],
   "source": [
    "single_frame_estimators = [quaternion2euler_estimator]"
   ]
  },
  {
   "cell_type": "code",
   "execution_count": 17,
   "metadata": {},
   "outputs": [
    {
     "data": {
      "text/plain": [
       "Global2RelativeEstimator(input_col=['euler_x', 'euler_y', 'euler_z', 't_x', 't_y', 't_z', 'euler_x_next', 'euler_y_next', 'euler_z_next', 't_x_next', 't_y_next', 't_z_next'], output_col=['euler_x', 'euler_y', 'euler_z', 't_x', 't_y', 't_z', 'euler_x_next', 'euler_y_next', 'euler_z_next', 't_x_next', 't_y_next', 't_z_next'])"
      ]
     },
     "execution_count": 17,
     "metadata": {},
     "output_type": "execute_result"
    }
   ],
   "source": [
    "input_col = ['euler_x', 'euler_y', 'euler_z', 't_x', 't_y', 't_z']\n",
    "input_col.extend([col + '_next' for col in input_col])\n",
    "output_col = input_col\n",
    "global2relative_estimator = Global2RelativeEstimator(input_col=input_col, output_col=output_col)\n",
    "global2relative_estimator"
   ]
  },
  {
   "cell_type": "code",
   "execution_count": 19,
   "metadata": {},
   "outputs": [
    {
     "name": "stdout",
     "output_type": "stream",
     "text": [
      "Building model...\n",
      "... model built.\n",
      "Loading model checkpoint /Vol0/user/f.konokhov/tfoptflow/tfoptflow/tmp/pwcnet.ckpt-84000 for eval or testing...\n",
      "\n",
      "INFO:tensorflow:Restoring parameters from /Vol0/user/f.konokhov/tfoptflow/tfoptflow/tmp/pwcnet.ckpt-84000\n"
     ]
    },
    {
     "name": "stderr",
     "output_type": "stream",
     "text": [
      "WARNING: Logging before flag parsing goes to stderr.\n",
      "I0619 16:29:01.080954 47257034980992 tf_logging.py:115] Restoring parameters from /Vol0/user/f.konokhov/tfoptflow/tfoptflow/tmp/pwcnet.ckpt-84000\n"
     ]
    },
    {
     "name": "stdout",
     "output_type": "stream",
     "text": [
      "... model loaded\n"
     ]
    },
    {
     "data": {
      "text/plain": [
       "PWCNetEstimator(dir=optical_flow, input_col=['path_to_rgb', 'path_to_rgb_next'], output_col=path_to_optical_flow, checkpoint=/Vol0/user/f.konokhov/tfoptflow/tfoptflow/tmp/pwcnet.ckpt-84000)"
      ]
     },
     "execution_count": 19,
     "metadata": {},
     "output_type": "execute_result"
    }
   ],
   "source": [
    "optical_flow_checkpoint = '/Vol0/user/f.konokhov/tfoptflow/tfoptflow/tmp/pwcnet.ckpt-84000'\n",
    "#optical_flow_checkpoint = os.path.abspath(../weights/pwcnet.ckpt-595000')  # official weights\n",
    "pwcnet_estimator = PWCNetEstimator(input_col=['path_to_rgb', 'path_to_rgb_next'],\n",
    "                                   output_col='path_to_optical_flow',\n",
    "                                   sub_dir='optical_flow',\n",
    "                                   checkpoint=optical_flow_checkpoint,\n",
    "                                   height=height,\n",
    "                                   width=width)\n",
    "pwcnet_estimator"
   ]
  },
  {
   "cell_type": "code",
   "execution_count": 20,
   "metadata": {},
   "outputs": [],
   "source": [
    "pair_frames_estimators = [global2relative_estimator, pwcnet_estimator]"
   ]
  },
  {
   "cell_type": "code",
   "execution_count": 21,
   "metadata": {},
   "outputs": [],
   "source": [
    "import glob"
   ]
  },
  {
   "cell_type": "code",
   "execution_count": 22,
   "metadata": {},
   "outputs": [],
   "source": [
    "allfolders = glob.glob('/dbstore/datasets/Odometry_team/discoman_v10_unzip/*/')\n",
    "allfolders.sort()"
   ]
  },
  {
   "cell_type": "code",
   "execution_count": null,
   "metadata": {},
   "outputs": [
    {
     "name": "stderr",
     "output_type": "stream",
     "text": [
      "Quaternion2Euler: 100%|██████████| 2131/2131 [00:08<00:00, 253.46it/s]\n",
      "Global2Relative: 100%|██████████| 2130/2130 [00:16<00:00, 126.28it/s]\n",
      "PWCNet: 100%|██████████| 2130/2130 [02:24<00:00, 14.71it/s]\n",
      "Quaternion2Euler: 100%|██████████| 4551/4551 [00:18<00:00, 242.94it/s]\n",
      "Global2Relative: 100%|██████████| 4550/4550 [00:38<00:00, 112.74it/s]\n",
      "PWCNet: 100%|██████████| 4550/4550 [04:56<00:00, 15.34it/s]\n",
      "Quaternion2Euler: 100%|██████████| 2119/2119 [00:08<00:00, 248.09it/s]\n",
      "Global2Relative: 100%|██████████| 2118/2118 [00:17<00:00, 116.33it/s]\n",
      "PWCNet: 100%|██████████| 2118/2118 [02:16<00:00, 16.26it/s]\n",
      "Quaternion2Euler: 100%|██████████| 3325/3325 [00:14<00:00, 237.04it/s]\n",
      "Global2Relative: 100%|██████████| 3324/3324 [00:27<00:00, 119.91it/s]\n",
      "PWCNet: 100%|██████████| 3324/3324 [03:34<00:00, 15.11it/s]\n",
      "Quaternion2Euler: 100%|██████████| 3992/3992 [00:16<00:00, 237.67it/s]\n",
      "Global2Relative: 100%|██████████| 3991/3991 [00:31<00:00, 124.84it/s]\n",
      "PWCNet: 100%|██████████| 3991/3991 [04:17<00:00, 15.49it/s]\n",
      "Quaternion2Euler: 100%|██████████| 3981/3981 [00:16<00:00, 234.42it/s]\n",
      "Global2Relative: 100%|██████████| 3980/3980 [00:32<00:00, 121.82it/s]\n",
      "PWCNet: 100%|██████████| 3980/3980 [04:14<00:00, 16.84it/s]\n",
      "Quaternion2Euler: 100%|██████████| 1775/1775 [00:07<00:00, 243.35it/s]\n",
      "Global2Relative: 100%|██████████| 1774/1774 [00:15<00:00, 124.91it/s]\n",
      "PWCNet: 100%|██████████| 1774/1774 [01:55<00:00, 15.24it/s]\n",
      "Quaternion2Euler: 100%|██████████| 3032/3032 [00:12<00:00, 244.58it/s]\n",
      "Global2Relative: 100%|██████████| 3031/3031 [00:25<00:00, 119.85it/s]\n",
      "PWCNet: 100%|██████████| 3031/3031 [03:15<00:00, 15.54it/s]\n",
      "Quaternion2Euler: 100%|██████████| 3025/3025 [00:12<00:00, 244.90it/s]\n",
      "Global2Relative: 100%|██████████| 3024/3024 [00:24<00:00, 125.29it/s]\n",
      "PWCNet: 100%|██████████| 3024/3024 [03:16<00:00, 15.71it/s]\n",
      "Quaternion2Euler: 100%|██████████| 2577/2577 [00:10<00:00, 247.46it/s]\n",
      "Global2Relative: 100%|██████████| 2576/2576 [00:20<00:00, 126.69it/s]\n",
      "PWCNet: 100%|██████████| 2576/2576 [02:41<00:00, 15.96it/s]\n",
      "Quaternion2Euler: 100%|██████████| 3418/3418 [00:14<00:00, 238.32it/s]\n",
      "Global2Relative: 100%|██████████| 3417/3417 [00:26<00:00, 128.01it/s]\n",
      "PWCNet: 100%|██████████| 3417/3417 [03:35<00:00, 15.82it/s]\n",
      "Quaternion2Euler: 100%|██████████| 2654/2654 [00:10<00:00, 247.13it/s]\n",
      "Global2Relative: 100%|██████████| 2653/2653 [00:21<00:00, 118.68it/s]\n",
      "PWCNet: 100%|██████████| 2653/2653 [02:45<00:00, 16.05it/s]\n",
      "Quaternion2Euler: 100%|██████████| 3632/3632 [00:14<00:00, 245.99it/s]\n",
      "Global2Relative: 100%|██████████| 3631/3631 [00:28<00:00, 125.67it/s]\n",
      "PWCNet: 100%|██████████| 3631/3631 [03:48<00:00, 15.89it/s]\n",
      "Quaternion2Euler: 100%|██████████| 2013/2013 [00:08<00:00, 235.72it/s]\n",
      "Global2Relative: 100%|██████████| 2012/2012 [00:16<00:00, 120.00it/s]\n",
      "PWCNet: 100%|██████████| 2012/2012 [02:04<00:00, 15.35it/s]\n",
      "Quaternion2Euler: 100%|██████████| 2485/2485 [00:10<00:00, 241.92it/s]\n",
      "Global2Relative: 100%|██████████| 2484/2484 [00:19<00:00, 126.29it/s]\n",
      "PWCNet: 100%|██████████| 2484/2484 [02:34<00:00, 16.96it/s]\n",
      "Quaternion2Euler: 100%|██████████| 2560/2560 [00:10<00:00, 251.32it/s]\n",
      "Global2Relative: 100%|██████████| 2559/2559 [00:20<00:00, 122.55it/s]\n",
      "PWCNet: 100%|██████████| 2559/2559 [02:43<00:00, 15.69it/s]\n",
      "Quaternion2Euler: 100%|██████████| 4299/4299 [00:17<00:00, 251.39it/s]\n",
      "Global2Relative: 100%|██████████| 4298/4298 [00:35<00:00, 121.13it/s]\n",
      "PWCNet: 100%|██████████| 4298/4298 [04:37<00:00, 16.79it/s]\n",
      "Quaternion2Euler: 100%|██████████| 2245/2245 [00:09<00:00, 248.47it/s]\n",
      "Global2Relative: 100%|██████████| 2244/2244 [00:19<00:00, 113.74it/s]\n",
      "PWCNet: 100%|██████████| 2244/2244 [02:22<00:00, 14.47it/s]\n",
      "Quaternion2Euler: 100%|██████████| 2926/2926 [00:11<00:00, 249.48it/s]\n",
      "Global2Relative: 100%|██████████| 2925/2925 [00:23<00:00, 123.05it/s]\n",
      "PWCNet: 100%|██████████| 2925/2925 [03:04<00:00, 15.85it/s]\n",
      "Quaternion2Euler: 100%|██████████| 1462/1462 [00:05<00:00, 248.22it/s]\n",
      "Global2Relative: 100%|██████████| 1461/1461 [00:11<00:00, 127.89it/s]\n",
      "PWCNet: 100%|██████████| 1461/1461 [01:31<00:00, 15.94it/s]\n",
      "Quaternion2Euler: 100%|██████████| 2424/2424 [00:09<00:00, 254.31it/s]\n",
      "Global2Relative: 100%|██████████| 2423/2423 [00:19<00:00, 124.84it/s]\n",
      "PWCNet: 100%|██████████| 2423/2423 [02:33<00:00, 15.75it/s]\n",
      "Quaternion2Euler: 100%|██████████| 1907/1907 [00:07<00:00, 249.79it/s]\n",
      "Global2Relative: 100%|██████████| 1906/1906 [00:14<00:00, 127.97it/s]\n",
      "PWCNet: 100%|██████████| 1906/1906 [01:59<00:00, 17.13it/s]\n",
      "Quaternion2Euler: 100%|██████████| 3686/3686 [00:15<00:00, 241.80it/s]\n",
      "Global2Relative: 100%|██████████| 3685/3685 [00:28<00:00, 127.49it/s]\n",
      "PWCNet: 100%|██████████| 3685/3685 [03:45<00:00, 16.31it/s]\n",
      "Quaternion2Euler: 100%|██████████| 4062/4062 [00:15<00:00, 254.22it/s]\n",
      "Global2Relative: 100%|██████████| 4061/4061 [00:32<00:00, 125.74it/s]\n",
      "PWCNet: 100%|██████████| 4061/4061 [03:59<00:00, 16.94it/s]\n",
      "Quaternion2Euler: 100%|██████████| 2879/2879 [00:11<00:00, 258.08it/s]\n",
      "Global2Relative: 100%|██████████| 2878/2878 [00:21<00:00, 131.81it/s]\n",
      "PWCNet: 100%|██████████| 2878/2878 [02:46<00:00, 17.98it/s]\n",
      "Quaternion2Euler: 100%|██████████| 2886/2886 [00:11<00:00, 260.80it/s]\n",
      "Global2Relative: 100%|██████████| 2885/2885 [00:21<00:00, 131.62it/s]\n",
      "PWCNet: 100%|██████████| 2885/2885 [02:44<00:00, 17.55it/s]\n",
      "Quaternion2Euler: 100%|██████████| 1605/1605 [00:05<00:00, 275.38it/s]\n",
      "Global2Relative: 100%|██████████| 1604/1604 [00:11<00:00, 141.19it/s]\n",
      "PWCNet: 100%|██████████| 1604/1604 [01:31<00:00, 17.63it/s]\n",
      "Quaternion2Euler: 100%|██████████| 3688/3688 [00:13<00:00, 275.87it/s]\n",
      "Global2Relative: 100%|██████████| 3687/3687 [00:26<00:00, 138.46it/s]\n",
      "PWCNet: 100%|██████████| 3687/3687 [03:30<00:00, 17.53it/s]\n",
      "Quaternion2Euler: 100%|██████████| 2755/2755 [00:09<00:00, 277.21it/s]\n",
      "Global2Relative: 100%|██████████| 2754/2754 [00:19<00:00, 138.58it/s]\n",
      "PWCNet: 100%|██████████| 2754/2754 [02:35<00:00, 18.15it/s]\n",
      "Quaternion2Euler: 100%|██████████| 2461/2461 [00:08<00:00, 275.89it/s]\n",
      "Global2Relative: 100%|██████████| 2460/2460 [00:17<00:00, 138.10it/s]\n",
      "PWCNet: 100%|██████████| 2460/2460 [02:19<00:00, 17.91it/s]\n",
      "Quaternion2Euler: 100%|██████████| 2692/2692 [00:09<00:00, 269.72it/s]\n",
      "Global2Relative: 100%|██████████| 2691/2691 [00:19<00:00, 139.81it/s]\n",
      "PWCNet: 100%|██████████| 2691/2691 [02:35<00:00, 17.32it/s]\n",
      "Quaternion2Euler: 100%|██████████| 2877/2877 [00:10<00:00, 268.37it/s]\n",
      "Global2Relative: 100%|██████████| 2876/2876 [00:21<00:00, 136.17it/s]\n",
      "PWCNet: 100%|██████████| 2876/2876 [02:43<00:00, 18.18it/s]\n",
      "Quaternion2Euler: 100%|██████████| 1831/1831 [00:06<00:00, 269.40it/s]\n",
      "Global2Relative: 100%|██████████| 1830/1830 [00:13<00:00, 135.76it/s]\n",
      "PWCNet: 100%|██████████| 1830/1830 [01:43<00:00, 16.79it/s]\n",
      "Quaternion2Euler: 100%|██████████| 1717/1717 [00:06<00:00, 264.54it/s]\n",
      "Global2Relative: 100%|██████████| 1716/1716 [00:12<00:00, 134.67it/s]\n",
      "PWCNet: 100%|██████████| 1716/1716 [01:36<00:00, 17.65it/s]\n",
      "Quaternion2Euler: 100%|██████████| 3558/3558 [00:13<00:00, 271.96it/s]\n",
      "Global2Relative: 100%|██████████| 3557/3557 [00:26<00:00, 135.53it/s]\n",
      "PWCNet: 100%|██████████| 3557/3557 [03:23<00:00, 17.48it/s]\n",
      "Quaternion2Euler: 100%|██████████| 1911/1911 [00:07<00:00, 269.79it/s]\n",
      "Global2Relative: 100%|██████████| 1910/1910 [00:14<00:00, 134.08it/s]\n",
      "PWCNet:  37%|███▋      | 714/1910 [00:40<01:06, 18.04it/s]"
     ]
    }
   ],
   "source": [
    "for folder in allfolders:\n",
    "    folder_name = os.path.basename(os.path.normpath(folder))\n",
    "    sequence_directory = '/dbstore/datasets/Odometry_team/discoman_v10_full/{}'.format(folder_name)\n",
    "    csv_path = '{}camera_gt.csv'.format(folder)\n",
    "    discoman_csv_parser = DISCOMANCSVParser(sequence_directory, csv_path=csv_path)\n",
    "    prepare_trajectory(sequence_directory, \n",
    "                   parser=discoman_csv_parser, \n",
    "                   single_frame_estimators=single_frame_estimators,\n",
    "                   pair_frames_estimators=pair_frames_estimators,\n",
    "                   stride=1).to_csv(os.path.join(sequence_directory, 'df.csv'))\n",
    "\n",
    "    "
   ]
  },
  {
   "cell_type": "code",
   "execution_count": null,
   "metadata": {},
   "outputs": [],
   "source": []
  }
 ],
 "metadata": {
  "kernelspec": {
   "display_name": "Python 3",
   "language": "python",
   "name": "python3"
  },
  "language_info": {
   "codemirror_mode": {
    "name": "ipython",
    "version": 3
   },
   "file_extension": ".py",
   "mimetype": "text/x-python",
   "name": "python",
   "nbconvert_exporter": "python",
   "pygments_lexer": "ipython3",
   "version": "3.6.8"
  }
 },
 "nbformat": 4,
 "nbformat_minor": 2
}
