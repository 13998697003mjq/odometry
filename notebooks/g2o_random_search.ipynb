{
 "cells": [
  {
   "cell_type": "code",
   "execution_count": 1,
   "metadata": {},
   "outputs": [],
   "source": [
    "%load_ext autoreload\n",
    "%autoreload 2"
   ]
  },
  {
   "cell_type": "code",
   "execution_count": 2,
   "metadata": {},
   "outputs": [],
   "source": [
    "import os\n",
    "import numpy as np\n",
    "import pandas as pd\n",
    "from glob import glob\n",
    "from pathlib import Path\n",
    "\n",
    "import __init_path__\n",
    "import env\n",
    "\n",
    "from slam.linalg import RelativeTrajectory"
   ]
  },
  {
   "cell_type": "code",
   "execution_count": 3,
   "metadata": {},
   "outputs": [],
   "source": [
    "prefixes = {\n",
    "    1: '/dbstore/datasets/robotics/mlflow/odometry/artifacts/kitti_4_6/3d0b493b672a4407affe283e18ee7fbb/artifacts/flexible_baselene_s1_b_0/predictions',\n",
    "    2: '/dbstore/datasets/robotics/mlflow/odometry/artifacts/kitti_4_6/f4162332bcd54f3080a5b92e7bdd7a6f/artifacts/flexible_baselene_s2_b_1/predictions',\n",
    "    4: '/dbstore/datasets/robotics/mlflow/odometry/artifacts/kitti_4_6/b9cdbb7e4f564f8b873394b273fa905e/artifacts/flexible_baselene_s4_b_3/predictions',\n",
    "    'loops': '/Vol0/user/d.zhukov/Projects/odometry/experiments/kitti_4_6_bovw/flexible_baseline_b_4/predictions'\n",
    "}"
   ]
  },
  {
   "cell_type": "code",
   "execution_count": 4,
   "metadata": {},
   "outputs": [],
   "source": [
    "def get_path(prefix, trajectory_name):\n",
    "    paths = glob(f'{prefix}/*/val/*{trajectory_name}.csv')\n",
    "    if len(paths) == 1:\n",
    "        return paths[0]\n",
    "    elif len(paths) > 1:\n",
    "        return max(paths, key=lambda x: int(x[x.find('_val_RPE') - 3: x.find('_val_RPE')]))\n",
    "    else:\n",
    "        return glob(f'{prefix}/test/test/*{trajectory_name}.csv')[0]"
   ]
  },
  {
   "cell_type": "code",
   "execution_count": 5,
   "metadata": {},
   "outputs": [],
   "source": [
    "def read_csv(path):\n",
    "    df = pd.read_csv(path)\n",
    "    df.rename(columns={'path_to_rgb': 'from_path',\n",
    "                       'path_to_rgb_next': 'to_path'},\n",
    "              inplace=True)\n",
    "    \n",
    "    stem_fn = lambda x: int(Path(x).stem)\n",
    "    df['to_index'] = df['to_path'].apply(stem_fn)\n",
    "    df['from_index'] = df['from_path'].apply(stem_fn)\n",
    "    \n",
    "    df['diff'] = df['to_index'] - df['from_index']\n",
    "    \n",
    "    mean_cols = ['euler_x', 'euler_y', 'euler_z', 't_x', 't_y', 't_z']\n",
    "    std_cols = [c + '_confidence' for c in mean_cols]\n",
    "    \n",
    "    df = pd.concat((df, pd.DataFrame(columns=std_cols)), axis=1)\n",
    "    df.fillna(1., inplace=True)\n",
    "    return df\n",
    "\n",
    "\n",
    "def get_predicted_df(paths):\n",
    "    df_list = list()\n",
    "    for stride, path in paths.items():\n",
    "        df = read_csv(path)\n",
    "        \n",
    "        if stride == 'loops':\n",
    "            df = df[df['diff'] > 49].reset_index()\n",
    "\n",
    "        df_list.append(df)\n",
    "    \n",
    "    predicted_df = pd.concat(df_list, ignore_index=True)\n",
    "    return predicted_df"
   ]
  },
  {
   "cell_type": "code",
   "execution_count": 6,
   "metadata": {},
   "outputs": [],
   "source": [
    "def get_gt_trajectory(trajectory_name):\n",
    "    gt_df = pd.read_csv(os.path.join(env.KITTI_MIXED_PATH, '1', trajectory_name, 'df.csv'))\n",
    "    gt_trajectory = RelativeTrajectory.from_dataframe(gt_df).to_global()\n",
    "    return gt_trajectory"
   ]
  },
  {
   "cell_type": "code",
   "execution_count": 7,
   "metadata": {},
   "outputs": [],
   "source": [
    "trajectory_names = ['03', '04', '05', '06', '07', '10']\n",
    "\n",
    "X = []\n",
    "y = []\n",
    "for trajectory_name in trajectory_names:\n",
    "    paths = {stride: get_path(prefix, trajectory_name) for stride, prefix in prefixes.items()}\n",
    "    \n",
    "    predicted_df = get_predicted_df(paths)\n",
    "    gt_trajectory = get_gt_trajectory(trajectory_name)\n",
    "    \n",
    "    X.append(predicted_df)\n",
    "    y.append(gt_trajectory)"
   ]
  },
  {
   "cell_type": "code",
   "execution_count": 8,
   "metadata": {},
   "outputs": [],
   "source": [
    "strides = [stride for stride in prefixes if stride != 'loops']\n",
    "\n",
    "coefs = [\n",
    "    [1, 1, 1],\n",
    "    [1, 2, 4],\n",
    "    [1, 6, 12],\n",
    "    [1, 1, 1000000],\n",
    "    [1, 1000000, 1000000]\n",
    "]\n",
    "\n",
    "param_distributions = {\n",
    "    'coef': [dict(zip(strides, c)) for c in coefs],\n",
    "    'coef_loop': [0, 1, 100, 300, 500], \n",
    "    'loop_threshold': [50, 100], \n",
    "    'rotation_scale': np.logspace(-10, 0, 11, base=2),\n",
    "}"
   ]
  },
  {
   "cell_type": "code",
   "execution_count": 9,
   "metadata": {},
   "outputs": [
    {
     "name": "stderr",
     "output_type": "stream",
     "text": [
      "Using TensorFlow backend.\n"
     ]
    },
    {
     "name": "stdout",
     "output_type": "stream",
     "text": [
      "Fitting 1 folds for each of 1 candidates, totalling 1 fits\n",
      "Running G2OEstimator(coef={1: 1, 2: 1, 4: 1000000}, coef_loop=300, loop_threshold=100,\n",
      "       max_iterations=100, online=False, rotation_scale=0.001953125,\n",
      "       verbose=False)\n",
      "\n"
     ]
    },
    {
     "name": "stderr",
     "output_type": "stream",
     "text": [
      "[Parallel(n_jobs=1)]: Using backend SequentialBackend with 1 concurrent workers.\n"
     ]
    },
    {
     "name": "stdout",
     "output_type": "stream",
     "text": [
      "\t1: 1.0316956380441558\n",
      "\t2: 0.8926227967654983\n",
      "\t3: 4.230574507820375\n",
      "\t4: 2.92313583866514\n",
      "\t5: 2.511574314692217\n",
      "\t6: 2.907909388288141\n",
      "\t1: 1.0316956380441558\n",
      "\t2: 0.8926227967654983\n",
      "\t3: 4.230574507820375\n",
      "\t4: 2.92313583866514\n",
      "\t5: 2.511574314692217\n",
      "\t6: 2.907909388288141\n",
      "Best params: {'rotation_scale': 0.001953125, 'loop_threshold': 100, 'coef_loop': 300, 'coef': {1: 1, 2: 1, 4: 1000000}}\n",
      "Best score : 2.416252080712588\n"
     ]
    },
    {
     "name": "stderr",
     "output_type": "stream",
     "text": [
      "[Parallel(n_jobs=1)]: Done   1 out of   1 | elapsed:  5.4min finished\n"
     ]
    },
    {
     "data": {
      "text/plain": [
       "{'mean_fit_time': array([0.]),\n",
       " 'std_fit_time': array([0.]),\n",
       " 'mean_score_time': array([160.247]),\n",
       " 'std_score_time': array([0.]),\n",
       " 'param_rotation_scale': masked_array(data=[0.001953125],\n",
       "              mask=[False],\n",
       "        fill_value='?',\n",
       "             dtype=object),\n",
       " 'param_loop_threshold': masked_array(data=[100],\n",
       "              mask=[False],\n",
       "        fill_value='?',\n",
       "             dtype=object),\n",
       " 'param_coef_loop': masked_array(data=[300],\n",
       "              mask=[False],\n",
       "        fill_value='?',\n",
       "             dtype=object),\n",
       " 'param_coef': masked_array(data=[{1: 1, 2: 1, 4: 1000000}],\n",
       "              mask=[False],\n",
       "        fill_value='?',\n",
       "             dtype=object),\n",
       " 'params': [{'rotation_scale': 0.001953125,\n",
       "   'loop_threshold': 100,\n",
       "   'coef_loop': 300,\n",
       "   'coef': {1: 1, 2: 1, 4: 1000000}}],\n",
       " 'split0_test_score': array([2.416]),\n",
       " 'mean_test_score': array([2.416]),\n",
       " 'std_test_score': array([0.]),\n",
       " 'rank_test_score': array([1], dtype=int32),\n",
       " 'split0_train_score': array([2.416]),\n",
       " 'mean_train_score': array([2.416]),\n",
       " 'std_train_score': array([0.])}"
      ]
     },
     "execution_count": 9,
     "metadata": {},
     "output_type": "execute_result"
    }
   ],
   "source": [
    "from scripts.aggregation import random_search\n",
    "\n",
    "random_search(X, y, param_distributions, n_iter=1, verbose=1)"
   ]
  },
  {
   "cell_type": "code",
   "execution_count": null,
   "metadata": {},
   "outputs": [],
   "source": []
  }
 ],
 "metadata": {
  "kernelspec": {
   "display_name": "Python 3",
   "language": "python",
   "name": "python3"
  },
  "language_info": {
   "codemirror_mode": {
    "name": "ipython",
    "version": 3
   },
   "file_extension": ".py",
   "mimetype": "text/x-python",
   "name": "python",
   "nbconvert_exporter": "python",
   "pygments_lexer": "ipython3",
   "version": "3.6.8"
  }
 },
 "nbformat": 4,
 "nbformat_minor": 2
}
