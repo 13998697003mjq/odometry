{
 "cells": [
  {
   "cell_type": "code",
   "execution_count": 1,
   "metadata": {},
   "outputs": [
    {
     "name": "stdout",
     "output_type": "stream",
     "text": [
      "Thu Jun 20 18:59:14 2019       \r\n",
      "+-----------------------------------------------------------------------------+\r\n",
      "| NVIDIA-SMI 418.40.04    Driver Version: 418.40.04    CUDA Version: 10.1     |\r\n",
      "|-------------------------------+----------------------+----------------------+\r\n",
      "| GPU  Name        Persistence-M| Bus-Id        Disp.A | Volatile Uncorr. ECC |\r\n",
      "| Fan  Temp  Perf  Pwr:Usage/Cap|         Memory-Usage | GPU-Util  Compute M. |\r\n",
      "|===============================+======================+======================|\r\n",
      "|   0  Tesla P40           Off  | 00000000:04:00.0 Off |                  Off |\r\n",
      "| N/A   54C    P0   119W / 250W |  23739MiB / 24451MiB |     99%      Default |\r\n",
      "+-------------------------------+----------------------+----------------------+\r\n",
      "|   1  Tesla P40           Off  | 00000000:0D:00.0 Off |                  Off |\r\n",
      "| N/A   49C    P0   139W / 250W |  23580MiB / 24451MiB |     93%      Default |\r\n",
      "+-------------------------------+----------------------+----------------------+\r\n",
      "|   2  Tesla P40           Off  | 00000000:0E:00.0 Off |                  Off |\r\n",
      "| N/A   52C    P0    62W / 250W |   4490MiB / 24451MiB |     90%      Default |\r\n",
      "+-------------------------------+----------------------+----------------------+\r\n",
      "                                                                               \r\n",
      "+-----------------------------------------------------------------------------+\r\n",
      "| Processes:                                                       GPU Memory |\r\n",
      "|  GPU       PID   Type   Process name                             Usage      |\r\n",
      "|=============================================================================|\r\n",
      "|    0      1336      C   ...0/user/f.konokhov/miniconda3/bin/python   211MiB |\r\n",
      "|    0     12440      C   ...0/user/f.konokhov/miniconda3/bin/python  6763MiB |\r\n",
      "|    0     45812      C   python                                     16753MiB |\r\n",
      "|    1      1336      C   ...0/user/f.konokhov/miniconda3/bin/python 16807MiB |\r\n",
      "|    1     16627      C   ...0/user/f.konokhov/miniconda3/bin/python  6763MiB |\r\n",
      "|    2      1336      C   ...0/user/f.konokhov/miniconda3/bin/python   211MiB |\r\n",
      "|    2     46953      C   python                                      4269MiB |\r\n",
      "+-----------------------------------------------------------------------------+\r\n"
     ]
    }
   ],
   "source": [
    "!nvidia-smi"
   ]
  },
  {
   "cell_type": "code",
   "execution_count": 2,
   "metadata": {},
   "outputs": [],
   "source": [
    "CUDA_VISIBLE_DEVICES = '2'"
   ]
  },
  {
   "cell_type": "code",
   "execution_count": 3,
   "metadata": {},
   "outputs": [],
   "source": [
    "import sys\n",
    "import os\n",
    "sys.path = sys.path[1:]\n",
    "sys.path.append(os.path.abspath(os.pardir))\n",
    "sys.path.append(os.path.join(os.path.abspath(os.pardir), 'odometry2/odometry'))\n",
    "sys.path.append(os.path.join(os.path.abspath(os.pardir), 'submodules/tfoptflow/tfoptflow'))\n",
    "sys.path.append(os.path.join(os.path.abspath(os.pardir), 'submodules/tf_models/research/struct2depth'))"
   ]
  },
  {
   "cell_type": "code",
   "execution_count": 4,
   "metadata": {},
   "outputs": [],
   "source": [
    "%load_ext autoreload\n",
    "%autoreload 2\n",
    "\n",
    "import os\n",
    "\n",
    "import __init_path__\n",
    "import env\n",
    "from odometry.utils import make_memory_safe\n",
    "from odometry.preprocessing import parsers, estimators, prepare_trajectory\n",
    "from odometry.data_manager import GeneratorFactory"
   ]
  },
  {
   "cell_type": "markdown",
   "metadata": {},
   "source": [
    "## Prepare dataset"
   ]
  },
  {
   "cell_type": "code",
   "execution_count": 5,
   "metadata": {},
   "outputs": [],
   "source": [
    "def initialize_estimators(target_size):\n",
    "    quaternion2euler_estimator = estimators.Quaternion2EulerEstimator(input_col=['q_w', 'q_x', 'q_y', 'q_z'],\n",
    "                                                                      output_col=['euler_x', 'euler_y', 'euler_z'])\n",
    "    \n",
    "#     depth_checkpoint = os.path.abspath('../weights/model-199160')\n",
    "#     struct2depth_estimator = estimators.Struct2DepthEstimator(input_col='path_to_rgb',\n",
    "#                                                               output_col='path_to_depth',\n",
    "#                                                               sub_dir='depth',\n",
    "#                                                               checkpoint=depth_checkpoint, \n",
    "#                                                               height=target_size[0],\n",
    "#                                                               width=target_size[1])\n",
    "    \n",
    "    cols = ['euler_x', 'euler_y', 'euler_z', 't_x', 't_y', 't_z']\n",
    "    input_col = cols + [col + '_next' for col in cols]\n",
    "    output_col = cols\n",
    "    global2relative_estimator = estimators.Global2RelativeEstimator(input_col=input_col,\n",
    "                                                                    output_col=output_col)\n",
    "    \n",
    "    optical_flow_checkpoint = '/Vol0/user/f.konokhov/tfoptflow/tfoptflow/tmp/pwcnet.ckpt-84000'\n",
    "    #optical_flow_checkpoint = os.path.abspath(../weights/pwcnet.ckpt-595000')  # official weights\n",
    "    pwcnet_estimator = estimators.PWCNetEstimator(input_col=['path_to_rgb', 'path_to_rgb_next'],\n",
    "                                                  output_col='path_to_optical_flow',\n",
    "                                                  sub_dir='optical_flow',\n",
    "                                                  checkpoint=optical_flow_checkpoint)\n",
    "    \n",
    "    single_frame_estimators = [quaternion2euler_estimator]\n",
    "    pair_frames_estimators = [global2relative_estimator, pwcnet_estimator]\n",
    "    return single_frame_estimators, pair_frames_estimators"
   ]
  },
  {
   "cell_type": "code",
   "execution_count": 6,
   "metadata": {},
   "outputs": [
    {
     "name": "stdout",
     "output_type": "stream",
     "text": [
      "Building model...\n",
      "... model built.\n",
      "Loading model checkpoint /Vol0/user/f.konokhov/tfoptflow/tfoptflow/tmp/pwcnet.ckpt-84000 for eval or testing...\n",
      "\n",
      "INFO:tensorflow:Restoring parameters from /Vol0/user/f.konokhov/tfoptflow/tfoptflow/tmp/pwcnet.ckpt-84000\n"
     ]
    },
    {
     "name": "stderr",
     "output_type": "stream",
     "text": [
      "WARNING: Logging before flag parsing goes to stderr.\n",
      "I0620 19:01:05.664233 47178167684736 tf_logging.py:115] Restoring parameters from /Vol0/user/f.konokhov/tfoptflow/tfoptflow/tmp/pwcnet.ckpt-84000\n"
     ]
    },
    {
     "name": "stdout",
     "output_type": "stream",
     "text": [
      "... model loaded\n"
     ]
    }
   ],
   "source": [
    "single_frame_estimators, pair_frames_estimators = initialize_estimators((90,160))"
   ]
  },
  {
   "cell_type": "code",
   "execution_count": 7,
   "metadata": {},
   "outputs": [],
   "source": [
    "import glob"
   ]
  },
  {
   "cell_type": "code",
   "execution_count": 8,
   "metadata": {},
   "outputs": [],
   "source": [
    "allfolders = glob.glob('/dbstore/datasets/Odometry_team/saic_office/*/')\n",
    "allfolders.sort()"
   ]
  },
  {
   "cell_type": "code",
   "execution_count": 9,
   "metadata": {},
   "outputs": [
    {
     "data": {
      "text/plain": [
       "['/dbstore/datasets/Odometry_team/saic_office/coridor0/',\n",
       " '/dbstore/datasets/Odometry_team/saic_office/coridor2/',\n",
       " '/dbstore/datasets/Odometry_team/saic_office/stairs10/',\n",
       " '/dbstore/datasets/Odometry_team/saic_office/stairs2/',\n",
       " '/dbstore/datasets/Odometry_team/saic_office/stairs22/',\n",
       " '/dbstore/datasets/Odometry_team/saic_office/stairs23/',\n",
       " '/dbstore/datasets/Odometry_team/saic_office/stairs5/',\n",
       " '/dbstore/datasets/Odometry_team/saic_office/stairs7/',\n",
       " '/dbstore/datasets/Odometry_team/saic_office/stairs9/']"
      ]
     },
     "execution_count": 9,
     "metadata": {},
     "output_type": "execute_result"
    }
   ],
   "source": [
    "allfolders"
   ]
  },
  {
   "cell_type": "code",
   "execution_count": 14,
   "metadata": {},
   "outputs": [
    {
     "name": "stderr",
     "output_type": "stream",
     "text": [
      "Quaternion2Euler    : 100%|██████████| 1759/1759 [00:08<00:00, 209.70it/s]\n",
      "Global2Relative     : 100%|██████████| 1758/1758 [00:16<00:00, 104.29it/s]\n",
      "PWCNet              :   0%|          | 0/1758 [00:00<?, ?it/s]"
     ]
    },
    {
     "ename": "ResourceExhaustedError",
     "evalue": "OOM when allocating tensor with shape[1,128,160,32] and type float on /job:localhost/replica:0/task:0/device:GPU:0 by allocator GPU_0_bfc\n\t [[node pwcnet/corr_4/Slice_50 (defined at /Vol0/user/f.konokhov/odometry2/odometry/submodules/tfoptflow/tfoptflow/core_costvol.py:34)  = Slice[Index=DT_INT32, T=DT_FLOAT, _device=\"/job:localhost/replica:0/task:0/device:GPU:0\"](pwcnet/corr_4/Pad, pwcnet/corr_4/Slice_50/begin, pwcnet/corr_4/Slice/size)]]\nHint: If you want to see a list of allocated tensors when OOM happens, add report_tensor_allocations_upon_oom to RunOptions for current allocation info.\n\n\t [[{{node pwcnet/mul_6/_449}} = _Recv[client_terminated=false, recv_device=\"/job:localhost/replica:0/task:0/device:CPU:0\", send_device=\"/job:localhost/replica:0/task:0/device:GPU:0\", send_device_incarnation=1, tensor_name=\"edge_7623_pwcnet/mul_6\", tensor_type=DT_FLOAT, _device=\"/job:localhost/replica:0/task:0/device:CPU:0\"]()]]\nHint: If you want to see a list of allocated tensors when OOM happens, add report_tensor_allocations_upon_oom to RunOptions for current allocation info.\n\n\nCaused by op 'pwcnet/corr_4/Slice_50', defined at:\n  File \"/Vol0/user/f.konokhov/miniconda3/lib/python3.6/runpy.py\", line 193, in _run_module_as_main\n    \"__main__\", mod_spec)\n  File \"/Vol0/user/f.konokhov/miniconda3/lib/python3.6/runpy.py\", line 85, in _run_code\n    exec(code, run_globals)\n  File \"/Vol0/user/f.konokhov/miniconda3/lib/python3.6/site-packages/ipykernel_launcher.py\", line 16, in <module>\n    app.launch_new_instance()\n  File \"/Vol0/user/f.konokhov/miniconda3/lib/python3.6/site-packages/traitlets/config/application.py\", line 658, in launch_instance\n    app.start()\n  File \"/Vol0/user/f.konokhov/miniconda3/lib/python3.6/site-packages/ipykernel/kernelapp.py\", line 505, in start\n    self.io_loop.start()\n  File \"/Vol0/user/f.konokhov/miniconda3/lib/python3.6/site-packages/tornado/platform/asyncio.py\", line 132, in start\n    self.asyncio_loop.run_forever()\n  File \"/Vol0/user/f.konokhov/miniconda3/lib/python3.6/asyncio/base_events.py\", line 438, in run_forever\n    self._run_once()\n  File \"/Vol0/user/f.konokhov/miniconda3/lib/python3.6/asyncio/base_events.py\", line 1451, in _run_once\n    handle._run()\n  File \"/Vol0/user/f.konokhov/miniconda3/lib/python3.6/asyncio/events.py\", line 145, in _run\n    self._callback(*self._args)\n  File \"/Vol0/user/f.konokhov/miniconda3/lib/python3.6/site-packages/tornado/ioloop.py\", line 758, in _run_callback\n    ret = callback()\n  File \"/Vol0/user/f.konokhov/miniconda3/lib/python3.6/site-packages/tornado/stack_context.py\", line 300, in null_wrapper\n    return fn(*args, **kwargs)\n  File \"/Vol0/user/f.konokhov/miniconda3/lib/python3.6/site-packages/tornado/gen.py\", line 1233, in inner\n    self.run()\n  File \"/Vol0/user/f.konokhov/miniconda3/lib/python3.6/site-packages/tornado/gen.py\", line 1147, in run\n    yielded = self.gen.send(value)\n  File \"/Vol0/user/f.konokhov/miniconda3/lib/python3.6/site-packages/ipykernel/kernelbase.py\", line 370, in dispatch_queue\n    yield self.process_one()\n  File \"/Vol0/user/f.konokhov/miniconda3/lib/python3.6/site-packages/tornado/gen.py\", line 346, in wrapper\n    runner = Runner(result, future, yielded)\n  File \"/Vol0/user/f.konokhov/miniconda3/lib/python3.6/site-packages/tornado/gen.py\", line 1080, in __init__\n    self.run()\n  File \"/Vol0/user/f.konokhov/miniconda3/lib/python3.6/site-packages/tornado/gen.py\", line 1147, in run\n    yielded = self.gen.send(value)\n  File \"/Vol0/user/f.konokhov/miniconda3/lib/python3.6/site-packages/ipykernel/kernelbase.py\", line 357, in process_one\n    yield gen.maybe_future(dispatch(*args))\n  File \"/Vol0/user/f.konokhov/miniconda3/lib/python3.6/site-packages/tornado/gen.py\", line 326, in wrapper\n    yielded = next(result)\n  File \"/Vol0/user/f.konokhov/miniconda3/lib/python3.6/site-packages/ipykernel/kernelbase.py\", line 267, in dispatch_shell\n    yield gen.maybe_future(handler(stream, idents, msg))\n  File \"/Vol0/user/f.konokhov/miniconda3/lib/python3.6/site-packages/tornado/gen.py\", line 326, in wrapper\n    yielded = next(result)\n  File \"/Vol0/user/f.konokhov/miniconda3/lib/python3.6/site-packages/ipykernel/kernelbase.py\", line 534, in execute_request\n    user_expressions, allow_stdin,\n  File \"/Vol0/user/f.konokhov/miniconda3/lib/python3.6/site-packages/tornado/gen.py\", line 326, in wrapper\n    yielded = next(result)\n  File \"/Vol0/user/f.konokhov/miniconda3/lib/python3.6/site-packages/ipykernel/ipkernel.py\", line 294, in do_execute\n    res = shell.run_cell(code, store_history=store_history, silent=silent)\n  File \"/Vol0/user/f.konokhov/miniconda3/lib/python3.6/site-packages/ipykernel/zmqshell.py\", line 536, in run_cell\n    return super(ZMQInteractiveShell, self).run_cell(*args, **kwargs)\n  File \"/Vol0/user/f.konokhov/miniconda3/lib/python3.6/site-packages/IPython/core/interactiveshell.py\", line 2819, in run_cell\n    raw_cell, store_history, silent, shell_futures)\n  File \"/Vol0/user/f.konokhov/miniconda3/lib/python3.6/site-packages/IPython/core/interactiveshell.py\", line 2845, in _run_cell\n    return runner(coro)\n  File \"/Vol0/user/f.konokhov/miniconda3/lib/python3.6/site-packages/IPython/core/async_helpers.py\", line 67, in _pseudo_sync_runner\n    coro.send(None)\n  File \"/Vol0/user/f.konokhov/miniconda3/lib/python3.6/site-packages/IPython/core/interactiveshell.py\", line 3020, in run_cell_async\n    interactivity=interactivity, compiler=compiler, result=result)\n  File \"/Vol0/user/f.konokhov/miniconda3/lib/python3.6/site-packages/IPython/core/interactiveshell.py\", line 3185, in run_ast_nodes\n    if (yield from self.run_code(code, result)):\n  File \"/Vol0/user/f.konokhov/miniconda3/lib/python3.6/site-packages/IPython/core/interactiveshell.py\", line 3267, in run_code\n    exec(code_obj, self.user_global_ns, self.user_ns)\n  File \"<ipython-input-6-4e0ec57bedd5>\", line 1, in <module>\n    single_frame_estimators, pair_frames_estimators = initialize_estimators((90,160))\n  File \"<ipython-input-5-019dc7736e75>\", line 24, in initialize_estimators\n    checkpoint=optical_flow_checkpoint)\n  File \"/Vol0/user/f.konokhov/odometry2/odometry/odometry/preprocessing/estimators/pwcnet_estimator.py\", line 20, in __init__\n    super(PWCNetEstimator, self).__init__(*args, **kwargs)\n  File \"/Vol0/user/f.konokhov/odometry2/odometry/odometry/preprocessing/estimators/network_estimator.py\", line 27, in __init__\n    self._load_model()\n  File \"/Vol0/user/f.konokhov/odometry2/odometry/odometry/preprocessing/estimators/pwcnet_estimator.py\", line 39, in _load_model\n    self.model = pwc_net(mode='test', options=nn_opts)\n  File \"/Vol0/user/f.konokhov/odometry2/odometry/submodules/tfoptflow/tfoptflow/model_pwcnet.py\", line 232, in __init__\n    super().__init__(name, mode, session, options)\n  File \"/Vol0/user/f.konokhov/odometry2/odometry/submodules/tfoptflow/tfoptflow/model_base.py\", line 66, in __init__\n    self.build_graph()\n  File \"/Vol0/user/f.konokhov/odometry2/odometry/submodules/tfoptflow/tfoptflow/model_base.py\", line 260, in build_graph\n    self.build_model()\n  File \"/Vol0/user/f.konokhov/odometry2/odometry/submodules/tfoptflow/tfoptflow/model_pwcnet.py\", line 250, in build_model\n    self.flow_pred_tnsr, self.flow_pyr_tnsr = self.nn(self.x_tnsr)\n  File \"/Vol0/user/f.konokhov/odometry2/odometry/submodules/tfoptflow/tfoptflow/model_pwcnet.py\", line 1643, in nn\n    corr = self.corr(c1[lvl], warp, lvl)\n  File \"/Vol0/user/f.konokhov/odometry2/odometry/submodules/tfoptflow/tfoptflow/model_pwcnet.py\", line 1356, in corr\n    return cost_volume(c1, warp, self.opts['search_range'], op_name)\n  File \"/Vol0/user/f.konokhov/odometry2/odometry/submodules/tfoptflow/tfoptflow/core_costvol.py\", line 34, in cost_volume\n    slice = tf.slice(padded_lvl, [0, y, x, 0], [-1, h, w, -1])\n  File \"/Vol0/user/f.konokhov/miniconda3/lib/python3.6/site-packages/tensorflow/python/ops/array_ops.py\", line 578, in slice\n    return gen_array_ops._slice(input_, begin, size, name=name)\n  File \"/Vol0/user/f.konokhov/miniconda3/lib/python3.6/site-packages/tensorflow/python/ops/gen_array_ops.py\", line 7466, in _slice\n    \"Slice\", input=input, begin=begin, size=size, name=name)\n  File \"/Vol0/user/f.konokhov/miniconda3/lib/python3.6/site-packages/tensorflow/python/framework/op_def_library.py\", line 787, in _apply_op_helper\n    op_def=op_def)\n  File \"/Vol0/user/f.konokhov/miniconda3/lib/python3.6/site-packages/tensorflow/python/util/deprecation.py\", line 488, in new_func\n    return func(*args, **kwargs)\n  File \"/Vol0/user/f.konokhov/miniconda3/lib/python3.6/site-packages/tensorflow/python/framework/ops.py\", line 3274, in create_op\n    op_def=op_def)\n  File \"/Vol0/user/f.konokhov/miniconda3/lib/python3.6/site-packages/tensorflow/python/framework/ops.py\", line 1770, in __init__\n    self._traceback = tf_stack.extract_stack()\n\nResourceExhaustedError (see above for traceback): OOM when allocating tensor with shape[1,128,160,32] and type float on /job:localhost/replica:0/task:0/device:GPU:0 by allocator GPU_0_bfc\n\t [[node pwcnet/corr_4/Slice_50 (defined at /Vol0/user/f.konokhov/odometry2/odometry/submodules/tfoptflow/tfoptflow/core_costvol.py:34)  = Slice[Index=DT_INT32, T=DT_FLOAT, _device=\"/job:localhost/replica:0/task:0/device:GPU:0\"](pwcnet/corr_4/Pad, pwcnet/corr_4/Slice_50/begin, pwcnet/corr_4/Slice/size)]]\nHint: If you want to see a list of allocated tensors when OOM happens, add report_tensor_allocations_upon_oom to RunOptions for current allocation info.\n\n\t [[{{node pwcnet/mul_6/_449}} = _Recv[client_terminated=false, recv_device=\"/job:localhost/replica:0/task:0/device:CPU:0\", send_device=\"/job:localhost/replica:0/task:0/device:GPU:0\", send_device_incarnation=1, tensor_name=\"edge_7623_pwcnet/mul_6\", tensor_type=DT_FLOAT, _device=\"/job:localhost/replica:0/task:0/device:CPU:0\"]()]]\nHint: If you want to see a list of allocated tensors when OOM happens, add report_tensor_allocations_upon_oom to RunOptions for current allocation info.\n\n",
     "output_type": "error",
     "traceback": [
      "\u001b[0;31m---------------------------------------------------------------------------\u001b[0m",
      "\u001b[0;31mResourceExhaustedError\u001b[0m                    Traceback (most recent call last)",
      "\u001b[0;32m~/miniconda3/lib/python3.6/site-packages/tensorflow/python/client/session.py\u001b[0m in \u001b[0;36m_do_call\u001b[0;34m(self, fn, *args)\u001b[0m\n\u001b[1;32m   1333\u001b[0m     \u001b[0;32mtry\u001b[0m\u001b[0;34m:\u001b[0m\u001b[0;34m\u001b[0m\u001b[0;34m\u001b[0m\u001b[0m\n\u001b[0;32m-> 1334\u001b[0;31m       \u001b[0;32mreturn\u001b[0m \u001b[0mfn\u001b[0m\u001b[0;34m(\u001b[0m\u001b[0;34m*\u001b[0m\u001b[0margs\u001b[0m\u001b[0;34m)\u001b[0m\u001b[0;34m\u001b[0m\u001b[0;34m\u001b[0m\u001b[0m\n\u001b[0m\u001b[1;32m   1335\u001b[0m     \u001b[0;32mexcept\u001b[0m \u001b[0merrors\u001b[0m\u001b[0;34m.\u001b[0m\u001b[0mOpError\u001b[0m \u001b[0;32mas\u001b[0m \u001b[0me\u001b[0m\u001b[0;34m:\u001b[0m\u001b[0;34m\u001b[0m\u001b[0;34m\u001b[0m\u001b[0m\n",
      "\u001b[0;32m~/miniconda3/lib/python3.6/site-packages/tensorflow/python/client/session.py\u001b[0m in \u001b[0;36m_run_fn\u001b[0;34m(feed_dict, fetch_list, target_list, options, run_metadata)\u001b[0m\n\u001b[1;32m   1318\u001b[0m       return self._call_tf_sessionrun(\n\u001b[0;32m-> 1319\u001b[0;31m           options, feed_dict, fetch_list, target_list, run_metadata)\n\u001b[0m\u001b[1;32m   1320\u001b[0m \u001b[0;34m\u001b[0m\u001b[0m\n",
      "\u001b[0;32m~/miniconda3/lib/python3.6/site-packages/tensorflow/python/client/session.py\u001b[0m in \u001b[0;36m_call_tf_sessionrun\u001b[0;34m(self, options, feed_dict, fetch_list, target_list, run_metadata)\u001b[0m\n\u001b[1;32m   1406\u001b[0m         \u001b[0mself\u001b[0m\u001b[0;34m.\u001b[0m\u001b[0m_session\u001b[0m\u001b[0;34m,\u001b[0m \u001b[0moptions\u001b[0m\u001b[0;34m,\u001b[0m \u001b[0mfeed_dict\u001b[0m\u001b[0;34m,\u001b[0m \u001b[0mfetch_list\u001b[0m\u001b[0;34m,\u001b[0m \u001b[0mtarget_list\u001b[0m\u001b[0;34m,\u001b[0m\u001b[0;34m\u001b[0m\u001b[0;34m\u001b[0m\u001b[0m\n\u001b[0;32m-> 1407\u001b[0;31m         run_metadata)\n\u001b[0m\u001b[1;32m   1408\u001b[0m \u001b[0;34m\u001b[0m\u001b[0m\n",
      "\u001b[0;31mResourceExhaustedError\u001b[0m: OOM when allocating tensor with shape[1,128,160,32] and type float on /job:localhost/replica:0/task:0/device:GPU:0 by allocator GPU_0_bfc\n\t [[{{node pwcnet/corr_4/Slice_50}} = Slice[Index=DT_INT32, T=DT_FLOAT, _device=\"/job:localhost/replica:0/task:0/device:GPU:0\"](pwcnet/corr_4/Pad, pwcnet/corr_4/Slice_50/begin, pwcnet/corr_4/Slice/size)]]\nHint: If you want to see a list of allocated tensors when OOM happens, add report_tensor_allocations_upon_oom to RunOptions for current allocation info.\n\n\t [[{{node pwcnet/mul_6/_449}} = _Recv[client_terminated=false, recv_device=\"/job:localhost/replica:0/task:0/device:CPU:0\", send_device=\"/job:localhost/replica:0/task:0/device:GPU:0\", send_device_incarnation=1, tensor_name=\"edge_7623_pwcnet/mul_6\", tensor_type=DT_FLOAT, _device=\"/job:localhost/replica:0/task:0/device:CPU:0\"]()]]\nHint: If you want to see a list of allocated tensors when OOM happens, add report_tensor_allocations_upon_oom to RunOptions for current allocation info.\n",
      "\nDuring handling of the above exception, another exception occurred:\n",
      "\u001b[0;31mResourceExhaustedError\u001b[0m                    Traceback (most recent call last)",
      "\u001b[0;32m<ipython-input-14-b13b788b134b>\u001b[0m in \u001b[0;36m<module>\u001b[0;34m\u001b[0m\n\u001b[1;32m      7\u001b[0m                    \u001b[0msingle_frame_estimators\u001b[0m\u001b[0;34m=\u001b[0m\u001b[0msingle_frame_estimators\u001b[0m\u001b[0;34m,\u001b[0m\u001b[0;34m\u001b[0m\u001b[0;34m\u001b[0m\u001b[0m\n\u001b[1;32m      8\u001b[0m                    \u001b[0mpair_frames_estimators\u001b[0m\u001b[0;34m=\u001b[0m\u001b[0mpair_frames_estimators\u001b[0m\u001b[0;34m,\u001b[0m\u001b[0;34m\u001b[0m\u001b[0;34m\u001b[0m\u001b[0m\n\u001b[0;32m----> 9\u001b[0;31m                    stride=1).to_csv(os.path.join(sequence_directory, 'df.csv'))\n\u001b[0m",
      "\u001b[0;32m~/odometry2/odometry/odometry/preprocessing/prepare_trajectory.py\u001b[0m in \u001b[0;36mprepare_trajectory\u001b[0;34m(root, parser, single_frame_estimators, pair_frames_estimators, stride)\u001b[0m\n\u001b[1;32m     65\u001b[0m \u001b[0;34m\u001b[0m\u001b[0m\n\u001b[1;32m     66\u001b[0m     \u001b[0;32mfor\u001b[0m \u001b[0mestimator\u001b[0m \u001b[0;32min\u001b[0m \u001b[0mpair_frames_estimators\u001b[0m\u001b[0;34m:\u001b[0m\u001b[0;34m\u001b[0m\u001b[0;34m\u001b[0m\u001b[0m\n\u001b[0;32m---> 67\u001b[0;31m         \u001b[0mpaired_frame_df\u001b[0m \u001b[0;34m=\u001b[0m \u001b[0mwork_with_estimator\u001b[0m\u001b[0;34m(\u001b[0m\u001b[0mroot\u001b[0m\u001b[0;34m,\u001b[0m \u001b[0mpaired_frame_df\u001b[0m\u001b[0;34m,\u001b[0m \u001b[0mestimator\u001b[0m\u001b[0;34m)\u001b[0m\u001b[0;34m\u001b[0m\u001b[0;34m\u001b[0m\u001b[0m\n\u001b[0m\u001b[1;32m     68\u001b[0m \u001b[0;34m\u001b[0m\u001b[0m\n\u001b[1;32m     69\u001b[0m     \u001b[0;32mreturn\u001b[0m \u001b[0mpaired_frame_df\u001b[0m\u001b[0;34m\u001b[0m\u001b[0;34m\u001b[0m\u001b[0m\n",
      "\u001b[0;32m~/odometry2/odometry/odometry/preprocessing/prepare_trajectory.py\u001b[0m in \u001b[0;36mwork_with_estimator\u001b[0;34m(root, df, estimator)\u001b[0m\n\u001b[1;32m     34\u001b[0m     \u001b[0menriched_rows\u001b[0m \u001b[0;34m=\u001b[0m \u001b[0;34m[\u001b[0m\u001b[0;34m]\u001b[0m\u001b[0;34m\u001b[0m\u001b[0;34m\u001b[0m\u001b[0m\n\u001b[1;32m     35\u001b[0m     \u001b[0;32mfor\u001b[0m \u001b[0mindex\u001b[0m\u001b[0;34m,\u001b[0m \u001b[0mrow\u001b[0m \u001b[0;32min\u001b[0m \u001b[0mtqdm\u001b[0m\u001b[0;34m.\u001b[0m\u001b[0mtqdm\u001b[0m\u001b[0;34m(\u001b[0m\u001b[0mdf\u001b[0m\u001b[0;34m.\u001b[0m\u001b[0miterrows\u001b[0m\u001b[0;34m(\u001b[0m\u001b[0;34m)\u001b[0m\u001b[0;34m,\u001b[0m \u001b[0mtotal\u001b[0m\u001b[0;34m=\u001b[0m\u001b[0mlen\u001b[0m\u001b[0;34m(\u001b[0m\u001b[0mdf\u001b[0m\u001b[0;34m)\u001b[0m\u001b[0;34m,\u001b[0m \u001b[0mdesc\u001b[0m\u001b[0;34m=\u001b[0m\u001b[0;34m'{:<20}'\u001b[0m\u001b[0;34m.\u001b[0m\u001b[0mformat\u001b[0m\u001b[0;34m(\u001b[0m\u001b[0mestimator\u001b[0m\u001b[0;34m.\u001b[0m\u001b[0mname\u001b[0m\u001b[0;34m)\u001b[0m\u001b[0;34m)\u001b[0m\u001b[0;34m:\u001b[0m\u001b[0;34m\u001b[0m\u001b[0;34m\u001b[0m\u001b[0m\n\u001b[0;32m---> 36\u001b[0;31m         \u001b[0menriched_rows\u001b[0m\u001b[0;34m.\u001b[0m\u001b[0mappend\u001b[0m\u001b[0;34m(\u001b[0m\u001b[0mestimator\u001b[0m\u001b[0;34m.\u001b[0m\u001b[0mrun\u001b[0m\u001b[0;34m(\u001b[0m\u001b[0mrow\u001b[0m\u001b[0;34m,\u001b[0m \u001b[0mroot\u001b[0m\u001b[0;34m)\u001b[0m\u001b[0;34m)\u001b[0m\u001b[0;34m\u001b[0m\u001b[0;34m\u001b[0m\u001b[0m\n\u001b[0m\u001b[1;32m     37\u001b[0m     \u001b[0menriched_df\u001b[0m \u001b[0;34m=\u001b[0m \u001b[0mpd\u001b[0m\u001b[0;34m.\u001b[0m\u001b[0mDataFrame\u001b[0m\u001b[0;34m(\u001b[0m\u001b[0menriched_rows\u001b[0m\u001b[0;34m)\u001b[0m\u001b[0;34m\u001b[0m\u001b[0;34m\u001b[0m\u001b[0m\n\u001b[1;32m     38\u001b[0m     \u001b[0;32mreturn\u001b[0m \u001b[0menriched_df\u001b[0m\u001b[0;34m\u001b[0m\u001b[0;34m\u001b[0m\u001b[0m\n",
      "\u001b[0;32m~/odometry2/odometry/odometry/preprocessing/estimators/network_estimator.py\u001b[0m in \u001b[0;36mrun\u001b[0;34m(self, row, dataset_root)\u001b[0m\n\u001b[1;32m     67\u001b[0m         \u001b[0;32massert\u001b[0m \u001b[0mdataset_root\u001b[0m \u001b[0;32mis\u001b[0m \u001b[0;32mnot\u001b[0m \u001b[0;32mNone\u001b[0m\u001b[0;34m\u001b[0m\u001b[0;34m\u001b[0m\u001b[0m\n\u001b[1;32m     68\u001b[0m         \u001b[0mmodel_input\u001b[0m \u001b[0;34m=\u001b[0m \u001b[0mself\u001b[0m\u001b[0;34m.\u001b[0m\u001b[0m_load_model_input\u001b[0m\u001b[0;34m(\u001b[0m\u001b[0mrow\u001b[0m\u001b[0;34m,\u001b[0m \u001b[0mdataset_root\u001b[0m\u001b[0;34m)\u001b[0m\u001b[0;34m\u001b[0m\u001b[0;34m\u001b[0m\u001b[0m\n\u001b[0;32m---> 69\u001b[0;31m         \u001b[0mmodel_output\u001b[0m \u001b[0;34m=\u001b[0m \u001b[0mself\u001b[0m\u001b[0;34m.\u001b[0m\u001b[0m_run_model_inference\u001b[0m\u001b[0;34m(\u001b[0m\u001b[0mmodel_input\u001b[0m\u001b[0;34m)\u001b[0m\u001b[0;34m[\u001b[0m\u001b[0;36m0\u001b[0m\u001b[0;34m]\u001b[0m\u001b[0;34m\u001b[0m\u001b[0;34m\u001b[0m\u001b[0m\n\u001b[0m\u001b[1;32m     70\u001b[0m         \u001b[0moutput_path\u001b[0m \u001b[0;34m=\u001b[0m \u001b[0mself\u001b[0m\u001b[0;34m.\u001b[0m\u001b[0m_save_model_output\u001b[0m\u001b[0;34m(\u001b[0m\u001b[0mmodel_output\u001b[0m\u001b[0;34m,\u001b[0m \u001b[0mrow\u001b[0m\u001b[0;34m,\u001b[0m \u001b[0mdataset_root\u001b[0m\u001b[0;34m)\u001b[0m\u001b[0;34m\u001b[0m\u001b[0;34m\u001b[0m\u001b[0m\n\u001b[1;32m     71\u001b[0m         \u001b[0mrow\u001b[0m\u001b[0;34m[\u001b[0m\u001b[0mself\u001b[0m\u001b[0;34m.\u001b[0m\u001b[0moutput_col\u001b[0m\u001b[0;34m]\u001b[0m \u001b[0;34m=\u001b[0m \u001b[0moutput_path\u001b[0m\u001b[0;34m\u001b[0m\u001b[0;34m\u001b[0m\u001b[0m\n",
      "\u001b[0;32m~/odometry2/odometry/odometry/preprocessing/estimators/pwcnet_estimator.py\u001b[0m in \u001b[0;36m_run_model_inference\u001b[0;34m(self, model_input)\u001b[0m\n\u001b[1;32m     47\u001b[0m \u001b[0;34m\u001b[0m\u001b[0m\n\u001b[1;32m     48\u001b[0m     \u001b[0;32mdef\u001b[0m \u001b[0m_run_model_inference\u001b[0m\u001b[0;34m(\u001b[0m\u001b[0mself\u001b[0m\u001b[0;34m,\u001b[0m \u001b[0mmodel_input\u001b[0m\u001b[0;34m)\u001b[0m\u001b[0;34m:\u001b[0m\u001b[0;34m\u001b[0m\u001b[0;34m\u001b[0m\u001b[0m\n\u001b[0;32m---> 49\u001b[0;31m         \u001b[0;32mreturn\u001b[0m \u001b[0mself\u001b[0m\u001b[0;34m.\u001b[0m\u001b[0mmodel\u001b[0m\u001b[0;34m.\u001b[0m\u001b[0mpredict_from_img_pairs\u001b[0m\u001b[0;34m(\u001b[0m\u001b[0mmodel_input\u001b[0m\u001b[0;34m,\u001b[0m \u001b[0mbatch_size\u001b[0m\u001b[0;34m=\u001b[0m\u001b[0;36m1\u001b[0m\u001b[0;34m,\u001b[0m \u001b[0mverbose\u001b[0m\u001b[0;34m=\u001b[0m\u001b[0;32mFalse\u001b[0m\u001b[0;34m)\u001b[0m\u001b[0;34m\u001b[0m\u001b[0;34m\u001b[0m\u001b[0m\n\u001b[0m",
      "\u001b[0;32m~/odometry2/odometry/submodules/tfoptflow/tfoptflow/model_pwcnet.py\u001b[0m in \u001b[0;36mpredict_from_img_pairs\u001b[0;34m(self, img_pairs, batch_size, verbose)\u001b[0m\n\u001b[1;32m   1000\u001b[0m                 \u001b[0;31m# Run the adapted samples through the network\u001b[0m\u001b[0;34m\u001b[0m\u001b[0;34m\u001b[0m\u001b[0;34m\u001b[0m\u001b[0m\n\u001b[1;32m   1001\u001b[0m                 \u001b[0mfeed_dict\u001b[0m \u001b[0;34m=\u001b[0m \u001b[0;34m{\u001b[0m\u001b[0mself\u001b[0m\u001b[0;34m.\u001b[0m\u001b[0mx_tnsr\u001b[0m\u001b[0;34m:\u001b[0m \u001b[0mx_adapt\u001b[0m\u001b[0;34m}\u001b[0m\u001b[0;34m\u001b[0m\u001b[0;34m\u001b[0m\u001b[0m\n\u001b[0;32m-> 1002\u001b[0;31m                 \u001b[0my_hat\u001b[0m \u001b[0;34m=\u001b[0m \u001b[0mself\u001b[0m\u001b[0;34m.\u001b[0m\u001b[0msess\u001b[0m\u001b[0;34m.\u001b[0m\u001b[0mrun\u001b[0m\u001b[0;34m(\u001b[0m\u001b[0mself\u001b[0m\u001b[0;34m.\u001b[0m\u001b[0my_hat_test_tnsr\u001b[0m\u001b[0;34m,\u001b[0m \u001b[0mfeed_dict\u001b[0m\u001b[0;34m=\u001b[0m\u001b[0mfeed_dict\u001b[0m\u001b[0;34m)\u001b[0m\u001b[0;34m\u001b[0m\u001b[0;34m\u001b[0m\u001b[0m\n\u001b[0m\u001b[1;32m   1003\u001b[0m                 \u001b[0my_hats\u001b[0m\u001b[0;34m,\u001b[0m \u001b[0m_\u001b[0m \u001b[0;34m=\u001b[0m \u001b[0mself\u001b[0m\u001b[0;34m.\u001b[0m\u001b[0mpostproc_y_hat_test\u001b[0m\u001b[0;34m(\u001b[0m\u001b[0my_hat\u001b[0m\u001b[0;34m,\u001b[0m \u001b[0my_adapt_info\u001b[0m\u001b[0;34m)\u001b[0m\u001b[0;34m\u001b[0m\u001b[0;34m\u001b[0m\u001b[0m\n\u001b[1;32m   1004\u001b[0m \u001b[0;34m\u001b[0m\u001b[0m\n",
      "\u001b[0;32m~/miniconda3/lib/python3.6/site-packages/tensorflow/python/client/session.py\u001b[0m in \u001b[0;36mrun\u001b[0;34m(self, fetches, feed_dict, options, run_metadata)\u001b[0m\n\u001b[1;32m    927\u001b[0m     \u001b[0;32mtry\u001b[0m\u001b[0;34m:\u001b[0m\u001b[0;34m\u001b[0m\u001b[0;34m\u001b[0m\u001b[0m\n\u001b[1;32m    928\u001b[0m       result = self._run(None, fetches, feed_dict, options_ptr,\n\u001b[0;32m--> 929\u001b[0;31m                          run_metadata_ptr)\n\u001b[0m\u001b[1;32m    930\u001b[0m       \u001b[0;32mif\u001b[0m \u001b[0mrun_metadata\u001b[0m\u001b[0;34m:\u001b[0m\u001b[0;34m\u001b[0m\u001b[0;34m\u001b[0m\u001b[0m\n\u001b[1;32m    931\u001b[0m         \u001b[0mproto_data\u001b[0m \u001b[0;34m=\u001b[0m \u001b[0mtf_session\u001b[0m\u001b[0;34m.\u001b[0m\u001b[0mTF_GetBuffer\u001b[0m\u001b[0;34m(\u001b[0m\u001b[0mrun_metadata_ptr\u001b[0m\u001b[0;34m)\u001b[0m\u001b[0;34m\u001b[0m\u001b[0;34m\u001b[0m\u001b[0m\n",
      "\u001b[0;32m~/miniconda3/lib/python3.6/site-packages/tensorflow/python/client/session.py\u001b[0m in \u001b[0;36m_run\u001b[0;34m(self, handle, fetches, feed_dict, options, run_metadata)\u001b[0m\n\u001b[1;32m   1150\u001b[0m     \u001b[0;32mif\u001b[0m \u001b[0mfinal_fetches\u001b[0m \u001b[0;32mor\u001b[0m \u001b[0mfinal_targets\u001b[0m \u001b[0;32mor\u001b[0m \u001b[0;34m(\u001b[0m\u001b[0mhandle\u001b[0m \u001b[0;32mand\u001b[0m \u001b[0mfeed_dict_tensor\u001b[0m\u001b[0;34m)\u001b[0m\u001b[0;34m:\u001b[0m\u001b[0;34m\u001b[0m\u001b[0;34m\u001b[0m\u001b[0m\n\u001b[1;32m   1151\u001b[0m       results = self._do_run(handle, final_targets, final_fetches,\n\u001b[0;32m-> 1152\u001b[0;31m                              feed_dict_tensor, options, run_metadata)\n\u001b[0m\u001b[1;32m   1153\u001b[0m     \u001b[0;32melse\u001b[0m\u001b[0;34m:\u001b[0m\u001b[0;34m\u001b[0m\u001b[0;34m\u001b[0m\u001b[0m\n\u001b[1;32m   1154\u001b[0m       \u001b[0mresults\u001b[0m \u001b[0;34m=\u001b[0m \u001b[0;34m[\u001b[0m\u001b[0;34m]\u001b[0m\u001b[0;34m\u001b[0m\u001b[0;34m\u001b[0m\u001b[0m\n",
      "\u001b[0;32m~/miniconda3/lib/python3.6/site-packages/tensorflow/python/client/session.py\u001b[0m in \u001b[0;36m_do_run\u001b[0;34m(self, handle, target_list, fetch_list, feed_dict, options, run_metadata)\u001b[0m\n\u001b[1;32m   1326\u001b[0m     \u001b[0;32mif\u001b[0m \u001b[0mhandle\u001b[0m \u001b[0;32mis\u001b[0m \u001b[0;32mNone\u001b[0m\u001b[0;34m:\u001b[0m\u001b[0;34m\u001b[0m\u001b[0;34m\u001b[0m\u001b[0m\n\u001b[1;32m   1327\u001b[0m       return self._do_call(_run_fn, feeds, fetches, targets, options,\n\u001b[0;32m-> 1328\u001b[0;31m                            run_metadata)\n\u001b[0m\u001b[1;32m   1329\u001b[0m     \u001b[0;32melse\u001b[0m\u001b[0;34m:\u001b[0m\u001b[0;34m\u001b[0m\u001b[0;34m\u001b[0m\u001b[0m\n\u001b[1;32m   1330\u001b[0m       \u001b[0;32mreturn\u001b[0m \u001b[0mself\u001b[0m\u001b[0;34m.\u001b[0m\u001b[0m_do_call\u001b[0m\u001b[0;34m(\u001b[0m\u001b[0m_prun_fn\u001b[0m\u001b[0;34m,\u001b[0m \u001b[0mhandle\u001b[0m\u001b[0;34m,\u001b[0m \u001b[0mfeeds\u001b[0m\u001b[0;34m,\u001b[0m \u001b[0mfetches\u001b[0m\u001b[0;34m)\u001b[0m\u001b[0;34m\u001b[0m\u001b[0;34m\u001b[0m\u001b[0m\n",
      "\u001b[0;32m~/miniconda3/lib/python3.6/site-packages/tensorflow/python/client/session.py\u001b[0m in \u001b[0;36m_do_call\u001b[0;34m(self, fn, *args)\u001b[0m\n\u001b[1;32m   1346\u001b[0m           \u001b[0;32mpass\u001b[0m\u001b[0;34m\u001b[0m\u001b[0;34m\u001b[0m\u001b[0m\n\u001b[1;32m   1347\u001b[0m       \u001b[0mmessage\u001b[0m \u001b[0;34m=\u001b[0m \u001b[0merror_interpolation\u001b[0m\u001b[0;34m.\u001b[0m\u001b[0minterpolate\u001b[0m\u001b[0;34m(\u001b[0m\u001b[0mmessage\u001b[0m\u001b[0;34m,\u001b[0m \u001b[0mself\u001b[0m\u001b[0;34m.\u001b[0m\u001b[0m_graph\u001b[0m\u001b[0;34m)\u001b[0m\u001b[0;34m\u001b[0m\u001b[0;34m\u001b[0m\u001b[0m\n\u001b[0;32m-> 1348\u001b[0;31m       \u001b[0;32mraise\u001b[0m \u001b[0mtype\u001b[0m\u001b[0;34m(\u001b[0m\u001b[0me\u001b[0m\u001b[0;34m)\u001b[0m\u001b[0;34m(\u001b[0m\u001b[0mnode_def\u001b[0m\u001b[0;34m,\u001b[0m \u001b[0mop\u001b[0m\u001b[0;34m,\u001b[0m \u001b[0mmessage\u001b[0m\u001b[0;34m)\u001b[0m\u001b[0;34m\u001b[0m\u001b[0;34m\u001b[0m\u001b[0m\n\u001b[0m\u001b[1;32m   1349\u001b[0m \u001b[0;34m\u001b[0m\u001b[0m\n\u001b[1;32m   1350\u001b[0m   \u001b[0;32mdef\u001b[0m \u001b[0m_extend_graph\u001b[0m\u001b[0;34m(\u001b[0m\u001b[0mself\u001b[0m\u001b[0;34m)\u001b[0m\u001b[0;34m:\u001b[0m\u001b[0;34m\u001b[0m\u001b[0;34m\u001b[0m\u001b[0m\n",
      "\u001b[0;31mResourceExhaustedError\u001b[0m: OOM when allocating tensor with shape[1,128,160,32] and type float on /job:localhost/replica:0/task:0/device:GPU:0 by allocator GPU_0_bfc\n\t [[node pwcnet/corr_4/Slice_50 (defined at /Vol0/user/f.konokhov/odometry2/odometry/submodules/tfoptflow/tfoptflow/core_costvol.py:34)  = Slice[Index=DT_INT32, T=DT_FLOAT, _device=\"/job:localhost/replica:0/task:0/device:GPU:0\"](pwcnet/corr_4/Pad, pwcnet/corr_4/Slice_50/begin, pwcnet/corr_4/Slice/size)]]\nHint: If you want to see a list of allocated tensors when OOM happens, add report_tensor_allocations_upon_oom to RunOptions for current allocation info.\n\n\t [[{{node pwcnet/mul_6/_449}} = _Recv[client_terminated=false, recv_device=\"/job:localhost/replica:0/task:0/device:CPU:0\", send_device=\"/job:localhost/replica:0/task:0/device:GPU:0\", send_device_incarnation=1, tensor_name=\"edge_7623_pwcnet/mul_6\", tensor_type=DT_FLOAT, _device=\"/job:localhost/replica:0/task:0/device:CPU:0\"]()]]\nHint: If you want to see a list of allocated tensors when OOM happens, add report_tensor_allocations_upon_oom to RunOptions for current allocation info.\n\n\nCaused by op 'pwcnet/corr_4/Slice_50', defined at:\n  File \"/Vol0/user/f.konokhov/miniconda3/lib/python3.6/runpy.py\", line 193, in _run_module_as_main\n    \"__main__\", mod_spec)\n  File \"/Vol0/user/f.konokhov/miniconda3/lib/python3.6/runpy.py\", line 85, in _run_code\n    exec(code, run_globals)\n  File \"/Vol0/user/f.konokhov/miniconda3/lib/python3.6/site-packages/ipykernel_launcher.py\", line 16, in <module>\n    app.launch_new_instance()\n  File \"/Vol0/user/f.konokhov/miniconda3/lib/python3.6/site-packages/traitlets/config/application.py\", line 658, in launch_instance\n    app.start()\n  File \"/Vol0/user/f.konokhov/miniconda3/lib/python3.6/site-packages/ipykernel/kernelapp.py\", line 505, in start\n    self.io_loop.start()\n  File \"/Vol0/user/f.konokhov/miniconda3/lib/python3.6/site-packages/tornado/platform/asyncio.py\", line 132, in start\n    self.asyncio_loop.run_forever()\n  File \"/Vol0/user/f.konokhov/miniconda3/lib/python3.6/asyncio/base_events.py\", line 438, in run_forever\n    self._run_once()\n  File \"/Vol0/user/f.konokhov/miniconda3/lib/python3.6/asyncio/base_events.py\", line 1451, in _run_once\n    handle._run()\n  File \"/Vol0/user/f.konokhov/miniconda3/lib/python3.6/asyncio/events.py\", line 145, in _run\n    self._callback(*self._args)\n  File \"/Vol0/user/f.konokhov/miniconda3/lib/python3.6/site-packages/tornado/ioloop.py\", line 758, in _run_callback\n    ret = callback()\n  File \"/Vol0/user/f.konokhov/miniconda3/lib/python3.6/site-packages/tornado/stack_context.py\", line 300, in null_wrapper\n    return fn(*args, **kwargs)\n  File \"/Vol0/user/f.konokhov/miniconda3/lib/python3.6/site-packages/tornado/gen.py\", line 1233, in inner\n    self.run()\n  File \"/Vol0/user/f.konokhov/miniconda3/lib/python3.6/site-packages/tornado/gen.py\", line 1147, in run\n    yielded = self.gen.send(value)\n  File \"/Vol0/user/f.konokhov/miniconda3/lib/python3.6/site-packages/ipykernel/kernelbase.py\", line 370, in dispatch_queue\n    yield self.process_one()\n  File \"/Vol0/user/f.konokhov/miniconda3/lib/python3.6/site-packages/tornado/gen.py\", line 346, in wrapper\n    runner = Runner(result, future, yielded)\n  File \"/Vol0/user/f.konokhov/miniconda3/lib/python3.6/site-packages/tornado/gen.py\", line 1080, in __init__\n    self.run()\n  File \"/Vol0/user/f.konokhov/miniconda3/lib/python3.6/site-packages/tornado/gen.py\", line 1147, in run\n    yielded = self.gen.send(value)\n  File \"/Vol0/user/f.konokhov/miniconda3/lib/python3.6/site-packages/ipykernel/kernelbase.py\", line 357, in process_one\n    yield gen.maybe_future(dispatch(*args))\n  File \"/Vol0/user/f.konokhov/miniconda3/lib/python3.6/site-packages/tornado/gen.py\", line 326, in wrapper\n    yielded = next(result)\n  File \"/Vol0/user/f.konokhov/miniconda3/lib/python3.6/site-packages/ipykernel/kernelbase.py\", line 267, in dispatch_shell\n    yield gen.maybe_future(handler(stream, idents, msg))\n  File \"/Vol0/user/f.konokhov/miniconda3/lib/python3.6/site-packages/tornado/gen.py\", line 326, in wrapper\n    yielded = next(result)\n  File \"/Vol0/user/f.konokhov/miniconda3/lib/python3.6/site-packages/ipykernel/kernelbase.py\", line 534, in execute_request\n    user_expressions, allow_stdin,\n  File \"/Vol0/user/f.konokhov/miniconda3/lib/python3.6/site-packages/tornado/gen.py\", line 326, in wrapper\n    yielded = next(result)\n  File \"/Vol0/user/f.konokhov/miniconda3/lib/python3.6/site-packages/ipykernel/ipkernel.py\", line 294, in do_execute\n    res = shell.run_cell(code, store_history=store_history, silent=silent)\n  File \"/Vol0/user/f.konokhov/miniconda3/lib/python3.6/site-packages/ipykernel/zmqshell.py\", line 536, in run_cell\n    return super(ZMQInteractiveShell, self).run_cell(*args, **kwargs)\n  File \"/Vol0/user/f.konokhov/miniconda3/lib/python3.6/site-packages/IPython/core/interactiveshell.py\", line 2819, in run_cell\n    raw_cell, store_history, silent, shell_futures)\n  File \"/Vol0/user/f.konokhov/miniconda3/lib/python3.6/site-packages/IPython/core/interactiveshell.py\", line 2845, in _run_cell\n    return runner(coro)\n  File \"/Vol0/user/f.konokhov/miniconda3/lib/python3.6/site-packages/IPython/core/async_helpers.py\", line 67, in _pseudo_sync_runner\n    coro.send(None)\n  File \"/Vol0/user/f.konokhov/miniconda3/lib/python3.6/site-packages/IPython/core/interactiveshell.py\", line 3020, in run_cell_async\n    interactivity=interactivity, compiler=compiler, result=result)\n  File \"/Vol0/user/f.konokhov/miniconda3/lib/python3.6/site-packages/IPython/core/interactiveshell.py\", line 3185, in run_ast_nodes\n    if (yield from self.run_code(code, result)):\n  File \"/Vol0/user/f.konokhov/miniconda3/lib/python3.6/site-packages/IPython/core/interactiveshell.py\", line 3267, in run_code\n    exec(code_obj, self.user_global_ns, self.user_ns)\n  File \"<ipython-input-6-4e0ec57bedd5>\", line 1, in <module>\n    single_frame_estimators, pair_frames_estimators = initialize_estimators((90,160))\n  File \"<ipython-input-5-019dc7736e75>\", line 24, in initialize_estimators\n    checkpoint=optical_flow_checkpoint)\n  File \"/Vol0/user/f.konokhov/odometry2/odometry/odometry/preprocessing/estimators/pwcnet_estimator.py\", line 20, in __init__\n    super(PWCNetEstimator, self).__init__(*args, **kwargs)\n  File \"/Vol0/user/f.konokhov/odometry2/odometry/odometry/preprocessing/estimators/network_estimator.py\", line 27, in __init__\n    self._load_model()\n  File \"/Vol0/user/f.konokhov/odometry2/odometry/odometry/preprocessing/estimators/pwcnet_estimator.py\", line 39, in _load_model\n    self.model = pwc_net(mode='test', options=nn_opts)\n  File \"/Vol0/user/f.konokhov/odometry2/odometry/submodules/tfoptflow/tfoptflow/model_pwcnet.py\", line 232, in __init__\n    super().__init__(name, mode, session, options)\n  File \"/Vol0/user/f.konokhov/odometry2/odometry/submodules/tfoptflow/tfoptflow/model_base.py\", line 66, in __init__\n    self.build_graph()\n  File \"/Vol0/user/f.konokhov/odometry2/odometry/submodules/tfoptflow/tfoptflow/model_base.py\", line 260, in build_graph\n    self.build_model()\n  File \"/Vol0/user/f.konokhov/odometry2/odometry/submodules/tfoptflow/tfoptflow/model_pwcnet.py\", line 250, in build_model\n    self.flow_pred_tnsr, self.flow_pyr_tnsr = self.nn(self.x_tnsr)\n  File \"/Vol0/user/f.konokhov/odometry2/odometry/submodules/tfoptflow/tfoptflow/model_pwcnet.py\", line 1643, in nn\n    corr = self.corr(c1[lvl], warp, lvl)\n  File \"/Vol0/user/f.konokhov/odometry2/odometry/submodules/tfoptflow/tfoptflow/model_pwcnet.py\", line 1356, in corr\n    return cost_volume(c1, warp, self.opts['search_range'], op_name)\n  File \"/Vol0/user/f.konokhov/odometry2/odometry/submodules/tfoptflow/tfoptflow/core_costvol.py\", line 34, in cost_volume\n    slice = tf.slice(padded_lvl, [0, y, x, 0], [-1, h, w, -1])\n  File \"/Vol0/user/f.konokhov/miniconda3/lib/python3.6/site-packages/tensorflow/python/ops/array_ops.py\", line 578, in slice\n    return gen_array_ops._slice(input_, begin, size, name=name)\n  File \"/Vol0/user/f.konokhov/miniconda3/lib/python3.6/site-packages/tensorflow/python/ops/gen_array_ops.py\", line 7466, in _slice\n    \"Slice\", input=input, begin=begin, size=size, name=name)\n  File \"/Vol0/user/f.konokhov/miniconda3/lib/python3.6/site-packages/tensorflow/python/framework/op_def_library.py\", line 787, in _apply_op_helper\n    op_def=op_def)\n  File \"/Vol0/user/f.konokhov/miniconda3/lib/python3.6/site-packages/tensorflow/python/util/deprecation.py\", line 488, in new_func\n    return func(*args, **kwargs)\n  File \"/Vol0/user/f.konokhov/miniconda3/lib/python3.6/site-packages/tensorflow/python/framework/ops.py\", line 3274, in create_op\n    op_def=op_def)\n  File \"/Vol0/user/f.konokhov/miniconda3/lib/python3.6/site-packages/tensorflow/python/framework/ops.py\", line 1770, in __init__\n    self._traceback = tf_stack.extract_stack()\n\nResourceExhaustedError (see above for traceback): OOM when allocating tensor with shape[1,128,160,32] and type float on /job:localhost/replica:0/task:0/device:GPU:0 by allocator GPU_0_bfc\n\t [[node pwcnet/corr_4/Slice_50 (defined at /Vol0/user/f.konokhov/odometry2/odometry/submodules/tfoptflow/tfoptflow/core_costvol.py:34)  = Slice[Index=DT_INT32, T=DT_FLOAT, _device=\"/job:localhost/replica:0/task:0/device:GPU:0\"](pwcnet/corr_4/Pad, pwcnet/corr_4/Slice_50/begin, pwcnet/corr_4/Slice/size)]]\nHint: If you want to see a list of allocated tensors when OOM happens, add report_tensor_allocations_upon_oom to RunOptions for current allocation info.\n\n\t [[{{node pwcnet/mul_6/_449}} = _Recv[client_terminated=false, recv_device=\"/job:localhost/replica:0/task:0/device:CPU:0\", send_device=\"/job:localhost/replica:0/task:0/device:GPU:0\", send_device_incarnation=1, tensor_name=\"edge_7623_pwcnet/mul_6\", tensor_type=DT_FLOAT, _device=\"/job:localhost/replica:0/task:0/device:CPU:0\"]()]]\nHint: If you want to see a list of allocated tensors when OOM happens, add report_tensor_allocations_upon_oom to RunOptions for current allocation info.\n\n"
     ]
    }
   ],
   "source": [
    "for folder in allfolders:\n",
    "    folder_name = os.path.basename(os.path.normpath(folder))\n",
    "    trajectory_dir = '/dbstore/datasets/Odometry_team/saic_office_prepare/{}'.format(folder_name)\n",
    "    saic_office_parser = parsers.SAICOfficeParser(trajectory_dir, src_dir=folder)\n",
    "    prepare_trajectory(trajectory_dir, \n",
    "                   parser=saic_office_parser, \n",
    "                   single_frame_estimators=single_frame_estimators,\n",
    "                   pair_frames_estimators=pair_frames_estimators,\n",
    "                   stride=1).to_csv(os.path.join(sequence_directory, 'df.csv'))"
   ]
  },
  {
   "cell_type": "markdown",
   "metadata": {},
   "source": [
    "## Odometry"
   ]
  },
  {
   "cell_type": "code",
   "execution_count": 11,
   "metadata": {},
   "outputs": [
    {
     "name": "stderr",
     "output_type": "stream",
     "text": [
      "100%|██████████| 1/1 [00:00<00:00, 13.03it/s]\n",
      "100%|██████████| 1/1 [00:00<00:00, 34.59it/s]"
     ]
    },
    {
     "name": "stdout",
     "output_type": "stream",
     "text": [
      "Set empty cache\n"
     ]
    },
    {
     "name": "stderr",
     "output_type": "stream",
     "text": [
      "\n"
     ]
    }
   ],
   "source": [
    "dataset = GeneratorFactory(\n",
    "    csv_name='df.csv',\n",
    "    dataset_root='discoman',\n",
    "    train_sequences=config['train_sequences'],\n",
    "    val_sequences=config['val_sequences'],\n",
    "    target_size=target_size,\n",
    "    x_col=['path_to_optical_flow'],\n",
    "    y_col=['euler_x', 'euler_y', 'euler_z', 't_x', 't_y', 't_z'],\n",
    "    image_columns=['path_to_optical_flow'],\n",
    "    load_modes=['flow_xy'],\n",
    "    preprocess_modes=['flow_xy'],\n",
    "    val_sampling_step=2,\n",
    "    cached_imgs={}\n",
    ")"
   ]
  },
  {
   "cell_type": "code",
   "execution_count": 12,
   "metadata": {},
   "outputs": [
    {
     "data": {
      "text/plain": [
       "[(120, 160, 2)]"
      ]
     },
     "execution_count": 12,
     "metadata": {},
     "output_type": "execute_result"
    }
   ],
   "source": [
    "dataset.input_shapes"
   ]
  },
  {
   "cell_type": "code",
   "execution_count": 13,
   "metadata": {},
   "outputs": [
    {
     "data": {
      "text/html": [
       "<div>\n",
       "<style scoped>\n",
       "    .dataframe tbody tr th:only-of-type {\n",
       "        vertical-align: middle;\n",
       "    }\n",
       "\n",
       "    .dataframe tbody tr th {\n",
       "        vertical-align: top;\n",
       "    }\n",
       "\n",
       "    .dataframe thead th {\n",
       "        text-align: right;\n",
       "    }\n",
       "</style>\n",
       "<table border=\"1\" class=\"dataframe\">\n",
       "  <thead>\n",
       "    <tr style=\"text-align: right;\">\n",
       "      <th></th>\n",
       "      <th>path_to_depth</th>\n",
       "      <th>path_to_rgb</th>\n",
       "      <th>timestamp</th>\n",
       "      <th>path_to_depth_next</th>\n",
       "      <th>path_to_rgb_next</th>\n",
       "      <th>timestamp_next</th>\n",
       "      <th>euler_x</th>\n",
       "      <th>euler_y</th>\n",
       "      <th>euler_z</th>\n",
       "      <th>t_x</th>\n",
       "      <th>t_y</th>\n",
       "      <th>t_z</th>\n",
       "      <th>path_to_optical_flow</th>\n",
       "      <th>trajectory_id</th>\n",
       "    </tr>\n",
       "  </thead>\n",
       "  <tbody>\n",
       "    <tr>\n",
       "      <th>0</th>\n",
       "      <td>depth/0.npy</td>\n",
       "      <td>rgb/0.jpg</td>\n",
       "      <td>0</td>\n",
       "      <td>depth/1.npy</td>\n",
       "      <td>rgb/1.jpg</td>\n",
       "      <td>5</td>\n",
       "      <td>0.000028</td>\n",
       "      <td>-0.000698</td>\n",
       "      <td>4.821875e-07</td>\n",
       "      <td>-0.000002</td>\n",
       "      <td>-0.000005</td>\n",
       "      <td>0.000244</td>\n",
       "      <td>val/0007/optical_flow/0_1.npy</td>\n",
       "      <td>val/0007</td>\n",
       "    </tr>\n",
       "    <tr>\n",
       "      <th>2</th>\n",
       "      <td>depth/2.npy</td>\n",
       "      <td>rgb/2.jpg</td>\n",
       "      <td>10</td>\n",
       "      <td>depth/3.npy</td>\n",
       "      <td>rgb/3.jpg</td>\n",
       "      <td>15</td>\n",
       "      <td>0.000166</td>\n",
       "      <td>-0.004189</td>\n",
       "      <td>5.193066e-05</td>\n",
       "      <td>-0.000038</td>\n",
       "      <td>-0.000020</td>\n",
       "      <td>0.001501</td>\n",
       "      <td>val/0007/optical_flow/2_3.npy</td>\n",
       "      <td>val/0007</td>\n",
       "    </tr>\n",
       "    <tr>\n",
       "      <th>4</th>\n",
       "      <td>depth/4.npy</td>\n",
       "      <td>rgb/4.jpg</td>\n",
       "      <td>20</td>\n",
       "      <td>depth/5.npy</td>\n",
       "      <td>rgb/5.jpg</td>\n",
       "      <td>25</td>\n",
       "      <td>0.000546</td>\n",
       "      <td>-0.007674</td>\n",
       "      <td>-3.795352e-04</td>\n",
       "      <td>0.000367</td>\n",
       "      <td>-0.000097</td>\n",
       "      <td>0.002686</td>\n",
       "      <td>val/0007/optical_flow/4_5.npy</td>\n",
       "      <td>val/0007</td>\n",
       "    </tr>\n",
       "    <tr>\n",
       "      <th>6</th>\n",
       "      <td>depth/6.npy</td>\n",
       "      <td>rgb/6.jpg</td>\n",
       "      <td>30</td>\n",
       "      <td>depth/7.npy</td>\n",
       "      <td>rgb/7.jpg</td>\n",
       "      <td>35</td>\n",
       "      <td>0.000459</td>\n",
       "      <td>-0.011167</td>\n",
       "      <td>-1.948336e-04</td>\n",
       "      <td>0.000145</td>\n",
       "      <td>-0.000071</td>\n",
       "      <td>0.003850</td>\n",
       "      <td>val/0007/optical_flow/6_7.npy</td>\n",
       "      <td>val/0007</td>\n",
       "    </tr>\n",
       "    <tr>\n",
       "      <th>8</th>\n",
       "      <td>depth/8.npy</td>\n",
       "      <td>rgb/8.jpg</td>\n",
       "      <td>40</td>\n",
       "      <td>depth/9.npy</td>\n",
       "      <td>rgb/9.jpg</td>\n",
       "      <td>45</td>\n",
       "      <td>0.000588</td>\n",
       "      <td>-0.014653</td>\n",
       "      <td>-6.542083e-04</td>\n",
       "      <td>0.000454</td>\n",
       "      <td>-0.000208</td>\n",
       "      <td>0.004835</td>\n",
       "      <td>val/0007/optical_flow/8_9.npy</td>\n",
       "      <td>val/0007</td>\n",
       "    </tr>\n",
       "  </tbody>\n",
       "</table>\n",
       "</div>"
      ],
      "text/plain": [
       "  path_to_depth path_to_rgb  timestamp path_to_depth_next path_to_rgb_next  \\\n",
       "0   depth/0.npy   rgb/0.jpg          0        depth/1.npy        rgb/1.jpg   \n",
       "2   depth/2.npy   rgb/2.jpg         10        depth/3.npy        rgb/3.jpg   \n",
       "4   depth/4.npy   rgb/4.jpg         20        depth/5.npy        rgb/5.jpg   \n",
       "6   depth/6.npy   rgb/6.jpg         30        depth/7.npy        rgb/7.jpg   \n",
       "8   depth/8.npy   rgb/8.jpg         40        depth/9.npy        rgb/9.jpg   \n",
       "\n",
       "   timestamp_next   euler_x   euler_y       euler_z       t_x       t_y  \\\n",
       "0               5  0.000028 -0.000698  4.821875e-07 -0.000002 -0.000005   \n",
       "2              15  0.000166 -0.004189  5.193066e-05 -0.000038 -0.000020   \n",
       "4              25  0.000546 -0.007674 -3.795352e-04  0.000367 -0.000097   \n",
       "6              35  0.000459 -0.011167 -1.948336e-04  0.000145 -0.000071   \n",
       "8              45  0.000588 -0.014653 -6.542083e-04  0.000454 -0.000208   \n",
       "\n",
       "        t_z           path_to_optical_flow trajectory_id  \n",
       "0  0.000244  val/0007/optical_flow/0_1.npy      val/0007  \n",
       "2  0.001501  val/0007/optical_flow/2_3.npy      val/0007  \n",
       "4  0.002686  val/0007/optical_flow/4_5.npy      val/0007  \n",
       "6  0.003850  val/0007/optical_flow/6_7.npy      val/0007  \n",
       "8  0.004835  val/0007/optical_flow/8_9.npy      val/0007  "
      ]
     },
     "execution_count": 13,
     "metadata": {},
     "output_type": "execute_result"
    }
   ],
   "source": [
    "dataset.df_val.head()"
   ]
  },
  {
   "cell_type": "code",
   "execution_count": 15,
   "metadata": {},
   "outputs": [
    {
     "name": "stderr",
     "output_type": "stream",
     "text": [
      "Using TensorFlow backend.\n"
     ]
    },
    {
     "name": "stdout",
     "output_type": "stream",
     "text": [
      "WARNING:tensorflow:From /Vol0/user/a.vorontsova/miniconda3/lib/python3.6/site-packages/tensorflow/python/framework/op_def_library.py:263: colocate_with (from tensorflow.python.framework.ops) is deprecated and will be removed in a future version.\n",
      "Instructions for updating:\n",
      "Colocations handled automatically by placer.\n"
     ]
    },
    {
     "name": "stderr",
     "output_type": "stream",
     "text": [
      "W0620 16:33:07.225721 47083014344320 deprecation.py:323] From /Vol0/user/a.vorontsova/miniconda3/lib/python3.6/site-packages/tensorflow/python/framework/op_def_library.py:263: colocate_with (from tensorflow.python.framework.ops) is deprecated and will be removed in a future version.\n",
      "Instructions for updating:\n",
      "Colocations handled automatically by placer.\n"
     ]
    },
    {
     "name": "stdout",
     "output_type": "stream",
     "text": [
      "TRAIN\n",
      "Set empty cache\n",
      "WARNING:tensorflow:From /Vol0/user/a.vorontsova/miniconda3/lib/python3.6/site-packages/tensorflow/python/ops/math_ops.py:3066: to_int32 (from tensorflow.python.ops.math_ops) is deprecated and will be removed in a future version.\n",
      "Instructions for updating:\n",
      "Use tf.cast instead.\n"
     ]
    },
    {
     "name": "stderr",
     "output_type": "stream",
     "text": [
      "W0620 16:33:07.795037 47083014344320 deprecation.py:323] From /Vol0/user/a.vorontsova/miniconda3/lib/python3.6/site-packages/tensorflow/python/ops/math_ops.py:3066: to_int32 (from tensorflow.python.ops.math_ops) is deprecated and will be removed in a future version.\n",
      "Instructions for updating:\n",
      "Use tf.cast instead.\n"
     ]
    },
    {
     "name": "stdout",
     "output_type": "stream",
     "text": [
      "Epoch 1/1\n",
      "17/17 [==============================] - 36s 2s/step - loss: 1.1876 - euler_x_loss: 0.0044 - euler_y_loss: 0.0136 - euler_z_loss: 0.0053 - t_x_loss: 0.0039 - t_y_loss: 0.0059 - t_z_loss: 0.0112 - euler_x_rmse: 0.0044 - euler_y_rmse: 0.0136 - euler_z_rmse: 0.0053 - t_x_rmse: 0.0040 - t_y_rmse: 0.0059 - t_z_rmse: 0.0112\n",
      "PREDICT\n",
      "EVALUATE\n",
      "{'ATE': 8.057516130349205, 'RMSE_t': 10.31881839916596, 'RMSE_r': 2.3203031168905704e-06, 'RPE_t': 4362245.302380594, 'RPE_r': 0.7713171937197248, 'RPE_divider': 567645}\n"
     ]
    }
   ],
   "source": [
    "def train(dataset):\n",
    "    import numpy as np\n",
    "    import pandas as pd\n",
    "    from functools import partial\n",
    "    \n",
    "    from odometry.models import ModelFactory, construct_flexible_model\n",
    "    from odometry.linalg import RelativeTrajectory\n",
    "    from odometry.evaluation import calculate_metrics\n",
    "    from odometry.utils import visualize_trajectory, visualize_trajectory_with_gt\n",
    "    \n",
    "    construct_graph_fn = partial(construct_flexible_model, use_gated_convolutions=False)\n",
    "    model_factory = ModelFactory(\n",
    "        construct_graph_fn,\n",
    "        input_shapes=dataset.input_shapes,\n",
    "        lr=0.001,\n",
    "        loss='mae',\n",
    "        scale_rotation=50\n",
    "    )\n",
    "    model = model_factory.construct()\n",
    "\n",
    "    print('TRAIN')\n",
    "    train_generator = dataset.get_train_generator()\n",
    "    model.fit_generator(train_generator, steps_per_epoch=len(train_generator), epochs=1)\n",
    "    \n",
    "    print('PREDICT')\n",
    "    val_generator = dataset.get_val_generator()\n",
    "    model_output = model.predict_generator(val_generator, steps=len(val_generator))\n",
    "    predictions = pd.DataFrame(data=np.concatenate(model_output, 1), \n",
    "                               index=dataset.df_val.index,\n",
    "                               columns=dataset.y_col)\n",
    "    \n",
    "    print('EVALUATE')\n",
    "    for trajectory_id, indices in dataset.df_val.groupby(by='trajectory_id').indices.items():\n",
    "        trajectory_id = trajectory_id.replace('/', '_')\n",
    "\n",
    "        gt_trajectory = RelativeTrajectory.from_dataframe(dataset.df_val.iloc[indices]).to_global()\n",
    "        predicted_trajectory = RelativeTrajectory.from_dataframe(predictions.iloc[indices]).to_global()\n",
    "\n",
    "        predicted_trajectory.plot('plot_{}.html'.format(trajectory_id))\n",
    "\n",
    "        metrics = calculate_metrics(gt_trajectory, predicted_trajectory)\n",
    "        print(metrics)\n",
    "        \n",
    "        title = '{}: {}'.format(trajectory_id.upper(), metrics)\n",
    "        visualize_trajectory(predicted_trajectory, title=title, is_3d=True,\n",
    "                             file_name='visualize_3d_{}.html'.format(trajectory_id))\n",
    "        visualize_trajectory(predicted_trajectory, title=title, is_3d=False,\n",
    "                             file_name='visualize_2d_{}.html'.format(trajectory_id))\n",
    "\n",
    "        visualize_trajectory_with_gt(gt_trajectory, predicted_trajectory, title=title, is_3d=True,\n",
    "                                     file_name='visualize_3d_with_gt_{}.html'.format(trajectory_id))\n",
    "        visualize_trajectory_with_gt(gt_trajectory, predicted_trajectory, title=title, is_3d=False,\n",
    "                                     file_name='visualize_2d_with_gt_{}.html'.format(trajectory_id))\n",
    "    \n",
    "train(dataset)\n",
    "#make_memory_safe(train, cuda_visible_devices=CUDA_VISIBLE_DEVICES)(dataset) # mysteriously fails with pyquaternion sometimes   "
   ]
  },
  {
   "cell_type": "code",
   "execution_count": null,
   "metadata": {},
   "outputs": [],
   "source": []
  }
 ],
 "metadata": {
  "kernelspec": {
   "display_name": "Python 3",
   "language": "python",
   "name": "python3"
  },
  "language_info": {
   "codemirror_mode": {
    "name": "ipython",
    "version": 3
   },
   "file_extension": ".py",
   "mimetype": "text/x-python",
   "name": "python",
   "nbconvert_exporter": "python",
   "pygments_lexer": "ipython3",
   "version": "3.6.8"
  }
 },
 "nbformat": 4,
 "nbformat_minor": 2
}
