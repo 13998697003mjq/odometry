{
 "cells": [
  {
   "cell_type": "code",
   "execution_count": 1,
   "metadata": {},
   "outputs": [],
   "source": [
    "!mkdir -p dataset_source\n",
    "!>dataset_source/0.png\n",
    "!>dataset_source/1.png\n",
    "!>dataset_source/2.png\n",
    "!>dataset_source/3.png"
   ]
  },
  {
   "cell_type": "markdown",
   "metadata": {},
   "source": [
    "# Need to create sequence_directory"
   ]
  },
  {
   "cell_type": "code",
   "execution_count": 2,
   "metadata": {},
   "outputs": [],
   "source": [
    "import sys\n",
    "sys.path.append('/Vol0/user/f.konokhov/newodomety/odometry/')"
   ]
  },
  {
   "cell_type": "code",
   "execution_count": 3,
   "metadata": {},
   "outputs": [],
   "source": [
    "from odometry.preprocessing.data_parser import KITTIParser, TUMParser, RetailBotParser, DISCOMANParser"
   ]
  },
  {
   "cell_type": "code",
   "execution_count": 4,
   "metadata": {},
   "outputs": [],
   "source": [
    "sequence_directory = '/Vol0/user/f.konokhov/newodomety/odometry/notebooks/tum'\n",
    "directory = '/Vol1/dbstore/datasets/tum_rgbd_flow/data/rgbd_dataset_freiburg2_coke'"
   ]
  },
  {
   "cell_type": "code",
   "execution_count": 5,
   "metadata": {},
   "outputs": [],
   "source": [
    "tum = TUMParser(sequence_directory, directory=directory)"
   ]
  },
  {
   "cell_type": "code",
   "execution_count": 6,
   "metadata": {},
   "outputs": [
    {
     "name": "stdout",
     "output_type": "stream",
     "text": [
      "Parse ok...\n"
     ]
    }
   ],
   "source": [
    "tum.parse()"
   ]
  },
  {
   "cell_type": "code",
   "execution_count": 7,
   "metadata": {},
   "outputs": [],
   "source": [
    "sequence_directory = '/Vol0/user/f.konokhov/newodomety/odometry/notebooks/meetingroom_04_rgbd_ir_imu_pose_KITTI_finetuned_tum2'\n",
    "directory = '/dbstore/datasets/retail_bot/meetingroom_04_rgbd_ir_imu_pose'"
   ]
  },
  {
   "cell_type": "code",
   "execution_count": 8,
   "metadata": {},
   "outputs": [],
   "source": [
    "retail = RetailBotParser(sequence_directory, directory=directory)"
   ]
  },
  {
   "cell_type": "code",
   "execution_count": 9,
   "metadata": {},
   "outputs": [
    {
     "name": "stdout",
     "output_type": "stream",
     "text": [
      "Parse ok...\n"
     ]
    }
   ],
   "source": [
    "retail.parse()"
   ]
  },
  {
   "cell_type": "code",
   "execution_count": 10,
   "metadata": {},
   "outputs": [],
   "source": [
    "sequence_directory = '/Vol0/user/f.konokhov/newodomety/odometry/notebooks/disco'\n",
    "json_path = '/dbstore/datasets/renderbox/iros2019/dset/output/deprecated/000001/0_traj.json'"
   ]
  },
  {
   "cell_type": "code",
   "execution_count": 11,
   "metadata": {},
   "outputs": [],
   "source": [
    "discoman = DISCOMANParser(sequence_directory, json_path=json_path)"
   ]
  },
  {
   "cell_type": "code",
   "execution_count": 12,
   "metadata": {},
   "outputs": [
    {
     "name": "stdout",
     "output_type": "stream",
     "text": [
      "Parse ok...\n"
     ]
    }
   ],
   "source": [
    "discoman.parse()"
   ]
  },
  {
   "cell_type": "code",
   "execution_count": 4,
   "metadata": {},
   "outputs": [],
   "source": [
    "sequence_directory = '/Vol0/user/f.konokhov/newodomety/odometry/notebooks/kitti'\n",
    "seq_id = '01'\n",
    "kitti = KITTIParser(sequence_directory, seq_id=seq_id)"
   ]
  },
  {
   "cell_type": "code",
   "execution_count": 5,
   "metadata": {},
   "outputs": [
    {
     "name": "stdout",
     "output_type": "stream",
     "text": [
      "Parse ok...\n"
     ]
    }
   ],
   "source": [
    "kitti.parse()"
   ]
  },
  {
   "cell_type": "code",
   "execution_count": 2,
   "metadata": {},
   "outputs": [],
   "source": [
    "class SampleEstimator():\n",
    "    def __init__(self):\n",
    "        pass\n",
    "    \n",
    "    def run(self, root, index, row):\n",
    "        result = row._asdict()\n",
    "        # save file <root + optical_flow_stride1 + index.npy>\n",
    "        result['path_to_optical_flow_stride1'] = '{}.npy'.format(index)\n",
    "        return result"
   ]
  },
  {
   "cell_type": "code",
   "execution_count": 6,
   "metadata": {},
   "outputs": [],
   "source": [
    "from odometry.prepare_dataset.prepare_trajectory import prepare_trajectory"
   ]
  },
  {
   "cell_type": "code",
   "execution_count": 5,
   "metadata": {},
   "outputs": [
    {
     "data": {
      "text/html": [
       "<div>\n",
       "<style scoped>\n",
       "    .dataframe tbody tr th:only-of-type {\n",
       "        vertical-align: middle;\n",
       "    }\n",
       "\n",
       "    .dataframe tbody tr th {\n",
       "        vertical-align: top;\n",
       "    }\n",
       "\n",
       "    .dataframe thead th {\n",
       "        text-align: right;\n",
       "    }\n",
       "</style>\n",
       "<table border=\"1\" class=\"dataframe\">\n",
       "  <thead>\n",
       "    <tr style=\"text-align: right;\">\n",
       "      <th></th>\n",
       "      <th>path_to_rgb</th>\n",
       "      <th>x</th>\n",
       "      <th>y</th>\n",
       "      <th>z</th>\n",
       "      <th>path_to_optical_flow_stride1</th>\n",
       "      <th>path_to_rgb_next</th>\n",
       "      <th>x_next</th>\n",
       "      <th>y_next</th>\n",
       "      <th>z_next</th>\n",
       "      <th>path_to_optical_flow_stride1_next</th>\n",
       "    </tr>\n",
       "  </thead>\n",
       "  <tbody>\n",
       "    <tr>\n",
       "      <th>0</th>\n",
       "      <td>dataset_tmp/rgb/0.png</td>\n",
       "      <td>2</td>\n",
       "      <td>3</td>\n",
       "      <td>4</td>\n",
       "      <td>0.npy</td>\n",
       "      <td>dataset_tmp/rgb/1.png</td>\n",
       "      <td>12</td>\n",
       "      <td>13</td>\n",
       "      <td>14</td>\n",
       "      <td>1.npy</td>\n",
       "    </tr>\n",
       "    <tr>\n",
       "      <th>1</th>\n",
       "      <td>dataset_tmp/rgb/1.png</td>\n",
       "      <td>12</td>\n",
       "      <td>13</td>\n",
       "      <td>14</td>\n",
       "      <td>1.npy</td>\n",
       "      <td>dataset_tmp/rgb/2.png</td>\n",
       "      <td>22</td>\n",
       "      <td>23</td>\n",
       "      <td>24</td>\n",
       "      <td>2.npy</td>\n",
       "    </tr>\n",
       "    <tr>\n",
       "      <th>2</th>\n",
       "      <td>dataset_tmp/rgb/2.png</td>\n",
       "      <td>22</td>\n",
       "      <td>23</td>\n",
       "      <td>24</td>\n",
       "      <td>2.npy</td>\n",
       "      <td>dataset_tmp/rgb/3.png</td>\n",
       "      <td>32</td>\n",
       "      <td>33</td>\n",
       "      <td>34</td>\n",
       "      <td>3.npy</td>\n",
       "    </tr>\n",
       "  </tbody>\n",
       "</table>\n",
       "</div>"
      ],
      "text/plain": [
       "             path_to_rgb   x   y   z path_to_optical_flow_stride1  \\\n",
       "0  dataset_tmp/rgb/0.png   2   3   4                        0.npy   \n",
       "1  dataset_tmp/rgb/1.png  12  13  14                        1.npy   \n",
       "2  dataset_tmp/rgb/2.png  22  23  24                        2.npy   \n",
       "\n",
       "        path_to_rgb_next  x_next  y_next  z_next  \\\n",
       "0  dataset_tmp/rgb/1.png      12      13      14   \n",
       "1  dataset_tmp/rgb/2.png      22      23      24   \n",
       "2  dataset_tmp/rgb/3.png      32      33      34   \n",
       "\n",
       "  path_to_optical_flow_stride1_next  \n",
       "0                             1.npy  \n",
       "1                             2.npy  \n",
       "2                             3.npy  "
      ]
     },
     "execution_count": 5,
     "metadata": {},
     "output_type": "execute_result"
    }
   ],
   "source": [
    "prepare_trajectory('dataset_tmp', parser=SampleParser(), \n",
    "                   single_frame_estimators=[SampleEstimator()],\n",
    "                   stride=1)"
   ]
  },
  {
   "cell_type": "code",
   "execution_count": null,
   "metadata": {},
   "outputs": [],
   "source": []
  }
 ],
 "metadata": {
  "kernelspec": {
   "display_name": "Python 3",
   "language": "python",
   "name": "python3"
  }
 },
 "nbformat": 4,
 "nbformat_minor": 2
}
