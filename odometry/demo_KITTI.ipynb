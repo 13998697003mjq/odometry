{
 "cells": [
  {
   "cell_type": "code",
   "execution_count": 1,
   "metadata": {},
   "outputs": [
    {
     "data": {
      "text/html": [
       "<style>.container { width:100% !important; }</style>"
      ],
      "text/plain": [
       "<IPython.core.display.HTML object>"
      ]
     },
     "metadata": {},
     "output_type": "display_data"
    }
   ],
   "source": [
    "from IPython.core.display import display, HTML\n",
    "display(HTML(\"<style>.container { width:100% !important; }</style>\"))"
   ]
  },
  {
   "cell_type": "code",
   "execution_count": 2,
   "metadata": {},
   "outputs": [],
   "source": [
    "%load_ext autoreload\n",
    "%autoreload 2"
   ]
  },
  {
   "cell_type": "code",
   "execution_count": 3,
   "metadata": {},
   "outputs": [],
   "source": [
    "import os\n",
    "import sys\n",
    "import numpy as np\n",
    "import warnings\n",
    "\n",
    "sys.path.append('/Vol0/user/a.vorontsova/FlavorNet/utilities/slam_metrics')\n",
    "sys.path.append('/Vol0/user/a.vorontsova/FlavorNet/utils')\n",
    "sys.path.append('/Vol0/user/a.vorontsova/FlavorNet/utils/prepare_datasets/struct2depth')\n",
    "sys.path.append('/Vol0/user/a.vorontsova/FlavorNet/utils/prepare_datasets/depth_pred')\n",
    "sys.path.append('/Vol0/user/a.vorontsova/FlavorNet/tfoptflow/tfoptflow')\n",
    "\n",
    "warnings.simplefilter('ignore')"
   ]
  },
  {
   "cell_type": "code",
   "execution_count": 4,
   "metadata": {},
   "outputs": [],
   "source": [
    "image_directory = None\n",
    "depth_directory = None\n",
    "video_path = None\n",
    "json_path = None\n",
    "csv_path = None\n",
    "txt_path = None\n",
    "\n",
    "optical_flow_estimator_name = 'pwc'\n",
    "depth_estimator_name = 'struct2depth'\n",
    "#depth_estimator_name = 'senet'\n",
    "\n",
    "computation_kwargs = dict(\n",
    "    cuda_visible_devices=3,\n",
    ")"
   ]
  },
  {
   "cell_type": "code",
   "execution_count": 5,
   "metadata": {},
   "outputs": [],
   "source": [
    "from dataset_builder import *"
   ]
  },
  {
   "cell_type": "code",
   "execution_count": 6,
   "metadata": {},
   "outputs": [],
   "source": [
    "# build_from = DIRECTORY\n",
    "# build_from = VIDEO\n",
    "# build_from = CSV\n",
    "build_from = KITTI\n",
    "# build_from = DISCOMAN\n",
    "# build_from = TUM"
   ]
  },
  {
   "cell_type": "code",
   "execution_count": 7,
   "metadata": {},
   "outputs": [],
   "source": [
    "optical_flow_estimator_name = 'pwc'\n",
    "depth_estimator_name = 'struct2depth'"
   ]
  },
  {
   "cell_type": "code",
   "execution_count": 8,
   "metadata": {},
   "outputs": [],
   "source": [
    "if build_from == VIDEO:\n",
    "    sequence_directory = 'test_build_from_video'\n",
    "    video_path = '/Vol1/dbstore/datasets/saic_odometry/07/t_video5316726383492203313.mp4'\n",
    "    DatasetBuilder = VideoDatasetBuilder\n",
    "\n",
    "if build_from == DIRECTORY:\n",
    "    sequence_directory = 'test_build_from_dir'\n",
    "    image_directory = '/Vol1/dbstore/datasets/KITTI_odometry_2012/dataset/sequences/00/image_2'\n",
    "    DatasetBuilder = ImagesDatasetBuilder\n",
    "    \n",
    "if build_from == CSV:\n",
    "    sequence_directory = 'test_build_from_csv'\n",
    "    csv_path = ''\n",
    "    DatasetBuilder = CSVDatasetBuilder\n",
    "\n",
    "if build_from == KITTI:\n",
    "    sequence_directory = 'test_build_kitti'\n",
    "    image_directory = '/Vol1/dbstore/datasets/KITTI_odometry_2012/dataset/sequences/00/image_2'\n",
    "    depth_directory = '/Vol1/dbstore/datasets/KITTI_odometry_2012/dataset/sequences/00/depth_2'\n",
    "    depth_estimator_name = None\n",
    "    DatasetBuilder = KITTIDatasetBuilder\n",
    "    \n",
    "if build_from == DISCOMAN:\n",
    "    sequence_directory = 'test_build_discoman'\n",
    "    json_path = '/Vol1/dbstore/datasets/renderbox/v10.5/traj/output/train/0000/0_traj.json'\n",
    "    depth_estimator_name = None\n",
    "    DatasetBuilder = DISCOMANDatasetBuilder\n",
    "    \n",
    "if build_from == TUM:\n",
    "    sequence_directory = 'test_build_tum'\n",
    "    txt_path = '/Vol1/dbstore/datasets/tum_rgbd_flow/data/rgbd_dataset_freiburg2_coke/groundtruth.txt'\n",
    "    DatasetBuilder = TUMDatasetBuilder"
   ]
  },
  {
   "cell_type": "code",
   "execution_count": 9,
   "metadata": {},
   "outputs": [],
   "source": [
    "estimate_optical_flow = optical_flow_estimator_name is not None\n",
    "estimate_depth = depth_estimator_name is not None"
   ]
  },
  {
   "cell_type": "markdown",
   "metadata": {},
   "source": [
    "### Initialize"
   ]
  },
  {
   "cell_type": "code",
   "execution_count": 10,
   "metadata": {},
   "outputs": [
    {
     "data": {
      "text/plain": [
       "DatasetBuilder(dir=test_build_kitti, build_from=KITTI,\n",
       "            image_dir=/Vol1/dbstore/datasets/KITTI_odometry_2012/dataset/sequences/00/image_2, depth_dir=/Vol1/dbstore/datasets/KITTI_odometry_2012/dataset/sequences/00/depth_2, csv_filename=df.csv,\n",
       "            video_path=None, json_path=None, csv_path=None,\n",
       "            mode=test, image_height=None, image_width=None, stride=1, fps=30,\n",
       "            optical_flow=True, optical_flow_estimator=pwc, optical_flow_checkpoint=/Vol0/user/f.konokhov/tfoptflow/tfoptflow/models/pwcnet-lg-6-2-multisteps-chairsthingsmix/pwcnet.ckpt-595000,\n",
       "            depth=False, depth_estimator=None, depth_checkpoint=None,\n",
       "            cuda_visible_devices=3"
      ]
     },
     "execution_count": 10,
     "metadata": {},
     "output_type": "execute_result"
    }
   ],
   "source": [
    "builder = DatasetBuilder(sequence_directory, \n",
    "                         build_from=build_from,\n",
    "                         image_directory=image_directory,\n",
    "                         depth_directory=depth_directory,\n",
    "                         video_path=video_path,\n",
    "                         json_path=json_path,\n",
    "                         csv_path=csv_path,\n",
    "                         txt_path=txt_path,\n",
    "                         mode=DatasetBuilder.TEST,\n",
    "                         estimate_depth=estimate_depth,\n",
    "                         estimate_optical_flow=estimate_optical_flow,\n",
    "                         optical_flow_estimator_name=optical_flow_estimator_name,\n",
    "                         depth_estimator_name=depth_estimator_name,\n",
    "                         memory_safe=True,\n",
    "                         **computation_kwargs)\n",
    "builder"
   ]
  },
  {
   "cell_type": "markdown",
   "metadata": {},
   "source": [
    "### Build"
   ]
  },
  {
   "cell_type": "code",
   "execution_count": 11,
   "metadata": {},
   "outputs": [
    {
     "name": "stdout",
     "output_type": "stream",
     "text": [
      "Using FPS rate = 30\n"
     ]
    }
   ],
   "source": [
    "builder._configure()"
   ]
  },
  {
   "cell_type": "code",
   "execution_count": 12,
   "metadata": {},
   "outputs": [],
   "source": [
    "if builder.build_from == VIDEO:\n",
    "    print(builder.video_parser)\n",
    "    print(builder.fps)\n",
    "\n",
    "if builder.build_from == DIRECTORY:\n",
    "    pass\n",
    "    \n",
    "if builder.build_from == CSV:\n",
    "    pass\n",
    "\n",
    "if builder.build_from == KITTI:\n",
    "    pass\n",
    "\n",
    "if builder.build_from == DISCOMAN:\n",
    "    print(builder.parser)\n",
    "    \n",
    "if builder.build_from == TUM:\n",
    "    print(builder.parser)    "
   ]
  },
  {
   "cell_type": "code",
   "execution_count": 13,
   "metadata": {},
   "outputs": [
    {
     "data": {
      "text/plain": [
       "DatasetBuilder(dir=test_build_kitti, build_from=KITTI,\n",
       "            image_dir=/Vol1/dbstore/datasets/KITTI_odometry_2012/dataset/sequences/00/image_2, depth_dir=/Vol1/dbstore/datasets/KITTI_odometry_2012/dataset/sequences/00/depth_2, csv_filename=df.csv,\n",
       "            video_path=None, json_path=None, csv_path=None,\n",
       "            mode=test, image_height=None, image_width=None, stride=1, fps=30,\n",
       "            optical_flow=True, optical_flow_estimator=pwc, optical_flow_checkpoint=/Vol0/user/f.konokhov/tfoptflow/tfoptflow/models/pwcnet-lg-6-2-multisteps-chairsthingsmix/pwcnet.ckpt-595000,\n",
       "            depth=False, depth_estimator=None, depth_checkpoint=None,\n",
       "            cuda_visible_devices=3"
      ]
     },
     "execution_count": 13,
     "metadata": {},
     "output_type": "execute_result"
    }
   ],
   "source": [
    "builder"
   ]
  },
  {
   "cell_type": "code",
   "execution_count": 14,
   "metadata": {
    "scrolled": true
   },
   "outputs": [
    {
     "name": "stdout",
     "output_type": "stream",
     "text": [
      "(4541, 9)\n"
     ]
    },
    {
     "data": {
      "text/html": [
       "<div>\n",
       "<style scoped>\n",
       "    .dataframe tbody tr th:only-of-type {\n",
       "        vertical-align: middle;\n",
       "    }\n",
       "\n",
       "    .dataframe tbody tr th {\n",
       "        vertical-align: top;\n",
       "    }\n",
       "\n",
       "    .dataframe thead th {\n",
       "        text-align: right;\n",
       "    }\n",
       "</style>\n",
       "<table border=\"1\" class=\"dataframe\">\n",
       "  <thead>\n",
       "    <tr style=\"text-align: right;\">\n",
       "      <th></th>\n",
       "      <th>path_to_rgb</th>\n",
       "      <th>x</th>\n",
       "      <th>y</th>\n",
       "      <th>z</th>\n",
       "      <th>euler_x</th>\n",
       "      <th>euler_y</th>\n",
       "      <th>euler_z</th>\n",
       "      <th>timestamps</th>\n",
       "      <th>path_to_depth</th>\n",
       "    </tr>\n",
       "  </thead>\n",
       "  <tbody>\n",
       "    <tr>\n",
       "      <th>0</th>\n",
       "      <td>/Vol1/dbstore/datasets/KITTI_odometry_2012/dat...</td>\n",
       "      <td>0</td>\n",
       "      <td>0</td>\n",
       "      <td>0</td>\n",
       "      <td>0</td>\n",
       "      <td>0</td>\n",
       "      <td>0</td>\n",
       "      <td>0.000000</td>\n",
       "      <td>/Vol1/dbstore/datasets/KITTI_odometry_2012/dat...</td>\n",
       "    </tr>\n",
       "    <tr>\n",
       "      <th>1</th>\n",
       "      <td>/Vol1/dbstore/datasets/KITTI_odometry_2012/dat...</td>\n",
       "      <td>0</td>\n",
       "      <td>0</td>\n",
       "      <td>0</td>\n",
       "      <td>0</td>\n",
       "      <td>0</td>\n",
       "      <td>0</td>\n",
       "      <td>0.033333</td>\n",
       "      <td>/Vol1/dbstore/datasets/KITTI_odometry_2012/dat...</td>\n",
       "    </tr>\n",
       "    <tr>\n",
       "      <th>2</th>\n",
       "      <td>/Vol1/dbstore/datasets/KITTI_odometry_2012/dat...</td>\n",
       "      <td>0</td>\n",
       "      <td>0</td>\n",
       "      <td>0</td>\n",
       "      <td>0</td>\n",
       "      <td>0</td>\n",
       "      <td>0</td>\n",
       "      <td>0.066667</td>\n",
       "      <td>/Vol1/dbstore/datasets/KITTI_odometry_2012/dat...</td>\n",
       "    </tr>\n",
       "    <tr>\n",
       "      <th>3</th>\n",
       "      <td>/Vol1/dbstore/datasets/KITTI_odometry_2012/dat...</td>\n",
       "      <td>0</td>\n",
       "      <td>0</td>\n",
       "      <td>0</td>\n",
       "      <td>0</td>\n",
       "      <td>0</td>\n",
       "      <td>0</td>\n",
       "      <td>0.100000</td>\n",
       "      <td>/Vol1/dbstore/datasets/KITTI_odometry_2012/dat...</td>\n",
       "    </tr>\n",
       "    <tr>\n",
       "      <th>4</th>\n",
       "      <td>/Vol1/dbstore/datasets/KITTI_odometry_2012/dat...</td>\n",
       "      <td>0</td>\n",
       "      <td>0</td>\n",
       "      <td>0</td>\n",
       "      <td>0</td>\n",
       "      <td>0</td>\n",
       "      <td>0</td>\n",
       "      <td>0.133333</td>\n",
       "      <td>/Vol1/dbstore/datasets/KITTI_odometry_2012/dat...</td>\n",
       "    </tr>\n",
       "  </tbody>\n",
       "</table>\n",
       "</div>"
      ],
      "text/plain": [
       "                                         path_to_rgb  x  y  z  euler_x  \\\n",
       "0  /Vol1/dbstore/datasets/KITTI_odometry_2012/dat...  0  0  0        0   \n",
       "1  /Vol1/dbstore/datasets/KITTI_odometry_2012/dat...  0  0  0        0   \n",
       "2  /Vol1/dbstore/datasets/KITTI_odometry_2012/dat...  0  0  0        0   \n",
       "3  /Vol1/dbstore/datasets/KITTI_odometry_2012/dat...  0  0  0        0   \n",
       "4  /Vol1/dbstore/datasets/KITTI_odometry_2012/dat...  0  0  0        0   \n",
       "\n",
       "   euler_y  euler_z  timestamps  \\\n",
       "0        0        0    0.000000   \n",
       "1        0        0    0.033333   \n",
       "2        0        0    0.066667   \n",
       "3        0        0    0.100000   \n",
       "4        0        0    0.133333   \n",
       "\n",
       "                                       path_to_depth  \n",
       "0  /Vol1/dbstore/datasets/KITTI_odometry_2012/dat...  \n",
       "1  /Vol1/dbstore/datasets/KITTI_odometry_2012/dat...  \n",
       "2  /Vol1/dbstore/datasets/KITTI_odometry_2012/dat...  \n",
       "3  /Vol1/dbstore/datasets/KITTI_odometry_2012/dat...  \n",
       "4  /Vol1/dbstore/datasets/KITTI_odometry_2012/dat...  "
      ]
     },
     "execution_count": 14,
     "metadata": {},
     "output_type": "execute_result"
    }
   ],
   "source": [
    "print(builder.dataframe.shape)\n",
    "builder.dataframe.head()"
   ]
  },
  {
   "cell_type": "code",
   "execution_count": 15,
   "metadata": {},
   "outputs": [
    {
     "name": "stdout",
     "output_type": "stream",
     "text": [
      "Mon May 20 18:17:09 2019       \n",
      "+-----------------------------------------------------------------------------+\n",
      "| NVIDIA-SMI 418.40.04    Driver Version: 418.40.04    CUDA Version: 10.1     |\n",
      "|-------------------------------+----------------------+----------------------+\n",
      "| GPU  Name        Persistence-M| Bus-Id        Disp.A | Volatile Uncorr. ECC |\n",
      "| Fan  Temp  Perf  Pwr:Usage/Cap|         Memory-Usage | GPU-Util  Compute M. |\n",
      "|===============================+======================+======================|\n",
      "|   0  Tesla P40           Off  | 00000000:04:00.0 Off |                  Off |\n",
      "| N/A   51C    P0    58W / 250W |  17116MiB / 24451MiB |     21%      Default |\n",
      "+-------------------------------+----------------------+----------------------+\n",
      "|   1  Tesla P40           Off  | 00000000:06:00.0 Off |                  Off |\n",
      "| N/A   50C    P0    71W / 250W |  17785MiB / 24451MiB |     95%      Default |\n",
      "+-------------------------------+----------------------+----------------------+\n",
      "|   2  Tesla P40           Off  | 00000000:07:00.0 Off |                  Off |\n",
      "| N/A   49C    P0   138W / 250W |  23919MiB / 24451MiB |     96%      Default |\n",
      "+-------------------------------+----------------------+----------------------+\n",
      "|   3  Tesla P40           Off  | 00000000:0F:00.0 Off |                  Off |\n",
      "| N/A   36C    P0   110W / 250W |   5077MiB / 24451MiB |     33%      Default |\n",
      "+-------------------------------+----------------------+----------------------+\n",
      "                                                                               \n",
      "+-----------------------------------------------------------------------------+\n",
      "| Processes:                                                       GPU Memory |\n",
      "|  GPU       PID   Type   Process name                             Usage      |\n",
      "|=============================================================================|\n",
      "|    0      4233      C   ...0/user/f.konokhov/miniconda3/bin/python 16889MiB |\n",
      "|    0     42362      C   ...0/user/f.konokhov/miniconda3/bin/python   213MiB |\n",
      "|    1      4233      C   ...0/user/f.konokhov/miniconda3/bin/python 16761MiB |\n",
      "|    1     29067      C   ...user/a.vorontsova/miniconda3/bin/python   797MiB |\n",
      "|    1     42362      C   ...0/user/f.konokhov/miniconda3/bin/python   211MiB |\n",
      "|    2      4233      C   ...0/user/f.konokhov/miniconda3/bin/python 16825MiB |\n",
      "|    2     29067      C   ...user/a.vorontsova/miniconda3/bin/python  1355MiB |\n",
      "|    2     42362      C   ...0/user/f.konokhov/miniconda3/bin/python  5723MiB |\n",
      "|    3     32754      C   ...user/a.vorontsova/miniconda3/bin/python  5067MiB |\n",
      "+-----------------------------------------------------------------------------+\n"
     ]
    }
   ],
   "source": [
    "!nvidia-smi"
   ]
  },
  {
   "cell_type": "markdown",
   "metadata": {},
   "source": [
    "### Estimate depth "
   ]
  },
  {
   "cell_type": "code",
   "execution_count": 16,
   "metadata": {},
   "outputs": [],
   "source": [
    "if builder.estimate_depth:\n",
    "    builder._run_estimator_wrapper(builder.depth_estimator, builder.depth_checkpoint, builder.depth_directory, dataframe_col='path_to_depth')\n",
    "    print(builder.depth_directory)"
   ]
  },
  {
   "cell_type": "code",
   "execution_count": 17,
   "metadata": {},
   "outputs": [
    {
     "name": "stdout",
     "output_type": "stream",
     "text": [
      "Mon May 20 18:17:19 2019       \n",
      "+-----------------------------------------------------------------------------+\n",
      "| NVIDIA-SMI 418.40.04    Driver Version: 418.40.04    CUDA Version: 10.1     |\n",
      "|-------------------------------+----------------------+----------------------+\n",
      "| GPU  Name        Persistence-M| Bus-Id        Disp.A | Volatile Uncorr. ECC |\n",
      "| Fan  Temp  Perf  Pwr:Usage/Cap|         Memory-Usage | GPU-Util  Compute M. |\n",
      "|===============================+======================+======================|\n",
      "|   0  Tesla P40           Off  | 00000000:04:00.0 Off |                  Off |\n",
      "| N/A   52C    P0   133W / 250W |  17116MiB / 24451MiB |    100%      Default |\n",
      "+-------------------------------+----------------------+----------------------+\n",
      "|   1  Tesla P40           Off  | 00000000:06:00.0 Off |                  Off |\n",
      "| N/A   50C    P0   117W / 250W |  17785MiB / 24451MiB |     97%      Default |\n",
      "+-------------------------------+----------------------+----------------------+\n",
      "|   2  Tesla P40           Off  | 00000000:07:00.0 Off |                  Off |\n",
      "| N/A   49C    P0   149W / 250W |  23919MiB / 24451MiB |     97%      Default |\n",
      "+-------------------------------+----------------------+----------------------+\n",
      "|   3  Tesla P40           Off  | 00000000:0F:00.0 Off |                  Off |\n",
      "| N/A   38C    P0    70W / 250W |   5077MiB / 24451MiB |     43%      Default |\n",
      "+-------------------------------+----------------------+----------------------+\n",
      "                                                                               \n",
      "+-----------------------------------------------------------------------------+\n",
      "| Processes:                                                       GPU Memory |\n",
      "|  GPU       PID   Type   Process name                             Usage      |\n",
      "|=============================================================================|\n",
      "|    0      4233      C   ...0/user/f.konokhov/miniconda3/bin/python 16889MiB |\n",
      "|    0     42362      C   ...0/user/f.konokhov/miniconda3/bin/python   213MiB |\n",
      "|    1      4233      C   ...0/user/f.konokhov/miniconda3/bin/python 16761MiB |\n",
      "|    1     29067      C   ...user/a.vorontsova/miniconda3/bin/python   797MiB |\n",
      "|    1     42362      C   ...0/user/f.konokhov/miniconda3/bin/python   211MiB |\n",
      "|    2      4233      C   ...0/user/f.konokhov/miniconda3/bin/python 16825MiB |\n",
      "|    2     29067      C   ...user/a.vorontsova/miniconda3/bin/python  1355MiB |\n",
      "|    2     42362      C   ...0/user/f.konokhov/miniconda3/bin/python  5723MiB |\n",
      "|    3     32754      C   ...user/a.vorontsova/miniconda3/bin/python  5067MiB |\n",
      "+-----------------------------------------------------------------------------+\n"
     ]
    }
   ],
   "source": [
    "!nvidia-smi"
   ]
  },
  {
   "cell_type": "code",
   "execution_count": 18,
   "metadata": {},
   "outputs": [],
   "source": [
    "if builder.estimate_depth:\n",
    "    get_basename = lambda x: os.path.splitext(os.path.basename(x))[0]\n",
    "\n",
    "    depth_filenames = os.listdir(builder.depth_directory)\n",
    "    assert len(depth_filenames) == len(builder.image_manager.image_filenames)\n",
    "    assert np.array_equal(sorted(list(map(get_basename, depth_filenames))), sorted(list(map(get_basename, builder.image_manager.image_filenames))))"
   ]
  },
  {
   "cell_type": "code",
   "execution_count": 19,
   "metadata": {},
   "outputs": [
    {
     "name": "stdout",
     "output_type": "stream",
     "text": [
      "(4541, 9)\n"
     ]
    },
    {
     "data": {
      "text/html": [
       "<div>\n",
       "<style scoped>\n",
       "    .dataframe tbody tr th:only-of-type {\n",
       "        vertical-align: middle;\n",
       "    }\n",
       "\n",
       "    .dataframe tbody tr th {\n",
       "        vertical-align: top;\n",
       "    }\n",
       "\n",
       "    .dataframe thead th {\n",
       "        text-align: right;\n",
       "    }\n",
       "</style>\n",
       "<table border=\"1\" class=\"dataframe\">\n",
       "  <thead>\n",
       "    <tr style=\"text-align: right;\">\n",
       "      <th></th>\n",
       "      <th>path_to_rgb</th>\n",
       "      <th>x</th>\n",
       "      <th>y</th>\n",
       "      <th>z</th>\n",
       "      <th>euler_x</th>\n",
       "      <th>euler_y</th>\n",
       "      <th>euler_z</th>\n",
       "      <th>timestamps</th>\n",
       "      <th>path_to_depth</th>\n",
       "    </tr>\n",
       "  </thead>\n",
       "  <tbody>\n",
       "    <tr>\n",
       "      <th>0</th>\n",
       "      <td>/Vol1/dbstore/datasets/KITTI_odometry_2012/dat...</td>\n",
       "      <td>0</td>\n",
       "      <td>0</td>\n",
       "      <td>0</td>\n",
       "      <td>0</td>\n",
       "      <td>0</td>\n",
       "      <td>0</td>\n",
       "      <td>0.000000</td>\n",
       "      <td>/Vol1/dbstore/datasets/KITTI_odometry_2012/dat...</td>\n",
       "    </tr>\n",
       "    <tr>\n",
       "      <th>1</th>\n",
       "      <td>/Vol1/dbstore/datasets/KITTI_odometry_2012/dat...</td>\n",
       "      <td>0</td>\n",
       "      <td>0</td>\n",
       "      <td>0</td>\n",
       "      <td>0</td>\n",
       "      <td>0</td>\n",
       "      <td>0</td>\n",
       "      <td>0.033333</td>\n",
       "      <td>/Vol1/dbstore/datasets/KITTI_odometry_2012/dat...</td>\n",
       "    </tr>\n",
       "    <tr>\n",
       "      <th>2</th>\n",
       "      <td>/Vol1/dbstore/datasets/KITTI_odometry_2012/dat...</td>\n",
       "      <td>0</td>\n",
       "      <td>0</td>\n",
       "      <td>0</td>\n",
       "      <td>0</td>\n",
       "      <td>0</td>\n",
       "      <td>0</td>\n",
       "      <td>0.066667</td>\n",
       "      <td>/Vol1/dbstore/datasets/KITTI_odometry_2012/dat...</td>\n",
       "    </tr>\n",
       "    <tr>\n",
       "      <th>3</th>\n",
       "      <td>/Vol1/dbstore/datasets/KITTI_odometry_2012/dat...</td>\n",
       "      <td>0</td>\n",
       "      <td>0</td>\n",
       "      <td>0</td>\n",
       "      <td>0</td>\n",
       "      <td>0</td>\n",
       "      <td>0</td>\n",
       "      <td>0.100000</td>\n",
       "      <td>/Vol1/dbstore/datasets/KITTI_odometry_2012/dat...</td>\n",
       "    </tr>\n",
       "    <tr>\n",
       "      <th>4</th>\n",
       "      <td>/Vol1/dbstore/datasets/KITTI_odometry_2012/dat...</td>\n",
       "      <td>0</td>\n",
       "      <td>0</td>\n",
       "      <td>0</td>\n",
       "      <td>0</td>\n",
       "      <td>0</td>\n",
       "      <td>0</td>\n",
       "      <td>0.133333</td>\n",
       "      <td>/Vol1/dbstore/datasets/KITTI_odometry_2012/dat...</td>\n",
       "    </tr>\n",
       "  </tbody>\n",
       "</table>\n",
       "</div>"
      ],
      "text/plain": [
       "                                         path_to_rgb  x  y  z  euler_x  \\\n",
       "0  /Vol1/dbstore/datasets/KITTI_odometry_2012/dat...  0  0  0        0   \n",
       "1  /Vol1/dbstore/datasets/KITTI_odometry_2012/dat...  0  0  0        0   \n",
       "2  /Vol1/dbstore/datasets/KITTI_odometry_2012/dat...  0  0  0        0   \n",
       "3  /Vol1/dbstore/datasets/KITTI_odometry_2012/dat...  0  0  0        0   \n",
       "4  /Vol1/dbstore/datasets/KITTI_odometry_2012/dat...  0  0  0        0   \n",
       "\n",
       "   euler_y  euler_z  timestamps  \\\n",
       "0        0        0    0.000000   \n",
       "1        0        0    0.033333   \n",
       "2        0        0    0.066667   \n",
       "3        0        0    0.100000   \n",
       "4        0        0    0.133333   \n",
       "\n",
       "                                       path_to_depth  \n",
       "0  /Vol1/dbstore/datasets/KITTI_odometry_2012/dat...  \n",
       "1  /Vol1/dbstore/datasets/KITTI_odometry_2012/dat...  \n",
       "2  /Vol1/dbstore/datasets/KITTI_odometry_2012/dat...  \n",
       "3  /Vol1/dbstore/datasets/KITTI_odometry_2012/dat...  \n",
       "4  /Vol1/dbstore/datasets/KITTI_odometry_2012/dat...  "
      ]
     },
     "execution_count": 19,
     "metadata": {},
     "output_type": "execute_result"
    }
   ],
   "source": [
    "print(builder.dataframe.shape)\n",
    "builder.dataframe.head()"
   ]
  },
  {
   "cell_type": "markdown",
   "metadata": {},
   "source": [
    "### Estimate optical flow"
   ]
  },
  {
   "cell_type": "code",
   "execution_count": null,
   "metadata": {},
   "outputs": [],
   "source": [
    "if builder.estimate_optical_flow:\n",
    "    builder._run_estimator_wrapper(builder.optical_flow_estimator, builder.optical_flow_checkpoint, builder.optical_flow_directory, \n",
    "                                   dataframe_col='path_to_optical_flow')\n",
    "    print(builder.optical_flow_directory)"
   ]
  },
  {
   "cell_type": "code",
   "execution_count": 21,
   "metadata": {},
   "outputs": [
    {
     "name": "stdout",
     "output_type": "stream",
     "text": [
      "Mon May 20 18:29:42 2019       \n",
      "+-----------------------------------------------------------------------------+\n",
      "| NVIDIA-SMI 418.40.04    Driver Version: 418.40.04    CUDA Version: 10.1     |\n",
      "|-------------------------------+----------------------+----------------------+\n",
      "| GPU  Name        Persistence-M| Bus-Id        Disp.A | Volatile Uncorr. ECC |\n",
      "| Fan  Temp  Perf  Pwr:Usage/Cap|         Memory-Usage | GPU-Util  Compute M. |\n",
      "|===============================+======================+======================|\n",
      "|   0  Tesla P40           Off  | 00000000:04:00.0 Off |                  Off |\n",
      "| N/A   51C    P0   170W / 250W |  17116MiB / 24451MiB |    100%      Default |\n",
      "+-------------------------------+----------------------+----------------------+\n",
      "|   1  Tesla P40           Off  | 00000000:06:00.0 Off |                  Off |\n",
      "| N/A   50C    P0   129W / 250W |  17785MiB / 24451MiB |     99%      Default |\n",
      "+-------------------------------+----------------------+----------------------+\n",
      "|   2  Tesla P40           Off  | 00000000:07:00.0 Off |                  Off |\n",
      "| N/A   49C    P0   151W / 250W |  23919MiB / 24451MiB |     98%      Default |\n",
      "+-------------------------------+----------------------+----------------------+\n",
      "|   3  Tesla P40           Off  | 00000000:0F:00.0 Off |                  Off |\n",
      "| N/A   40C    P8    10W / 250W |      0MiB / 24451MiB |      0%      Default |\n",
      "+-------------------------------+----------------------+----------------------+\n",
      "                                                                               \n",
      "+-----------------------------------------------------------------------------+\n",
      "| Processes:                                                       GPU Memory |\n",
      "|  GPU       PID   Type   Process name                             Usage      |\n",
      "|=============================================================================|\n",
      "|    0      4233      C   ...0/user/f.konokhov/miniconda3/bin/python 16889MiB |\n",
      "|    0     42362      C   ...0/user/f.konokhov/miniconda3/bin/python   213MiB |\n",
      "|    1      4233      C   ...0/user/f.konokhov/miniconda3/bin/python 16761MiB |\n",
      "|    1     29067      C   ...user/a.vorontsova/miniconda3/bin/python   797MiB |\n",
      "|    1     42362      C   ...0/user/f.konokhov/miniconda3/bin/python   211MiB |\n",
      "|    2      4233      C   ...0/user/f.konokhov/miniconda3/bin/python 16825MiB |\n",
      "|    2     29067      C   ...user/a.vorontsova/miniconda3/bin/python  1355MiB |\n",
      "|    2     42362      C   ...0/user/f.konokhov/miniconda3/bin/python  5723MiB |\n",
      "+-----------------------------------------------------------------------------+\n"
     ]
    }
   ],
   "source": [
    "!nvidia-smi"
   ]
  },
  {
   "cell_type": "code",
   "execution_count": 22,
   "metadata": {},
   "outputs": [],
   "source": [
    "if builder.estimate_optical_flow:\n",
    "    get_basename = lambda x: os.path.splitext(os.path.basename(x))[0]\n",
    "    optical_flow_filenames = os.listdir(builder.optical_flow_directory)\n",
    "    assert len(optical_flow_filenames) == len(builder.image_manager.image_filenames) - 1\n",
    "    assert np.array_equal(sorted(list(map(get_basename, optical_flow_filenames))), sorted(list(map(get_basename, builder.image_manager.image_filenames)))[1:])"
   ]
  },
  {
   "cell_type": "code",
   "execution_count": 23,
   "metadata": {},
   "outputs": [
    {
     "name": "stdout",
     "output_type": "stream",
     "text": [
      "(4541, 10)\n"
     ]
    },
    {
     "data": {
      "text/html": [
       "<div>\n",
       "<style scoped>\n",
       "    .dataframe tbody tr th:only-of-type {\n",
       "        vertical-align: middle;\n",
       "    }\n",
       "\n",
       "    .dataframe tbody tr th {\n",
       "        vertical-align: top;\n",
       "    }\n",
       "\n",
       "    .dataframe thead th {\n",
       "        text-align: right;\n",
       "    }\n",
       "</style>\n",
       "<table border=\"1\" class=\"dataframe\">\n",
       "  <thead>\n",
       "    <tr style=\"text-align: right;\">\n",
       "      <th></th>\n",
       "      <th>path_to_rgb</th>\n",
       "      <th>x</th>\n",
       "      <th>y</th>\n",
       "      <th>z</th>\n",
       "      <th>euler_x</th>\n",
       "      <th>euler_y</th>\n",
       "      <th>euler_z</th>\n",
       "      <th>timestamps</th>\n",
       "      <th>path_to_depth</th>\n",
       "      <th>path_to_optical_flow</th>\n",
       "    </tr>\n",
       "  </thead>\n",
       "  <tbody>\n",
       "    <tr>\n",
       "      <th>0</th>\n",
       "      <td>/Vol1/dbstore/datasets/KITTI_odometry_2012/dat...</td>\n",
       "      <td>0</td>\n",
       "      <td>0</td>\n",
       "      <td>0</td>\n",
       "      <td>0</td>\n",
       "      <td>0</td>\n",
       "      <td>0</td>\n",
       "      <td>0.000000</td>\n",
       "      <td>/Vol1/dbstore/datasets/KITTI_odometry_2012/dat...</td>\n",
       "      <td>test_build_kitti/optical_flow_stride1/000001.npy</td>\n",
       "    </tr>\n",
       "    <tr>\n",
       "      <th>1</th>\n",
       "      <td>/Vol1/dbstore/datasets/KITTI_odometry_2012/dat...</td>\n",
       "      <td>0</td>\n",
       "      <td>0</td>\n",
       "      <td>0</td>\n",
       "      <td>0</td>\n",
       "      <td>0</td>\n",
       "      <td>0</td>\n",
       "      <td>0.033333</td>\n",
       "      <td>/Vol1/dbstore/datasets/KITTI_odometry_2012/dat...</td>\n",
       "      <td>test_build_kitti/optical_flow_stride1/000002.npy</td>\n",
       "    </tr>\n",
       "    <tr>\n",
       "      <th>2</th>\n",
       "      <td>/Vol1/dbstore/datasets/KITTI_odometry_2012/dat...</td>\n",
       "      <td>0</td>\n",
       "      <td>0</td>\n",
       "      <td>0</td>\n",
       "      <td>0</td>\n",
       "      <td>0</td>\n",
       "      <td>0</td>\n",
       "      <td>0.066667</td>\n",
       "      <td>/Vol1/dbstore/datasets/KITTI_odometry_2012/dat...</td>\n",
       "      <td>test_build_kitti/optical_flow_stride1/000003.npy</td>\n",
       "    </tr>\n",
       "    <tr>\n",
       "      <th>3</th>\n",
       "      <td>/Vol1/dbstore/datasets/KITTI_odometry_2012/dat...</td>\n",
       "      <td>0</td>\n",
       "      <td>0</td>\n",
       "      <td>0</td>\n",
       "      <td>0</td>\n",
       "      <td>0</td>\n",
       "      <td>0</td>\n",
       "      <td>0.100000</td>\n",
       "      <td>/Vol1/dbstore/datasets/KITTI_odometry_2012/dat...</td>\n",
       "      <td>test_build_kitti/optical_flow_stride1/000004.npy</td>\n",
       "    </tr>\n",
       "    <tr>\n",
       "      <th>4</th>\n",
       "      <td>/Vol1/dbstore/datasets/KITTI_odometry_2012/dat...</td>\n",
       "      <td>0</td>\n",
       "      <td>0</td>\n",
       "      <td>0</td>\n",
       "      <td>0</td>\n",
       "      <td>0</td>\n",
       "      <td>0</td>\n",
       "      <td>0.133333</td>\n",
       "      <td>/Vol1/dbstore/datasets/KITTI_odometry_2012/dat...</td>\n",
       "      <td>test_build_kitti/optical_flow_stride1/000005.npy</td>\n",
       "    </tr>\n",
       "  </tbody>\n",
       "</table>\n",
       "</div>"
      ],
      "text/plain": [
       "                                         path_to_rgb  x  y  z  euler_x  \\\n",
       "0  /Vol1/dbstore/datasets/KITTI_odometry_2012/dat...  0  0  0        0   \n",
       "1  /Vol1/dbstore/datasets/KITTI_odometry_2012/dat...  0  0  0        0   \n",
       "2  /Vol1/dbstore/datasets/KITTI_odometry_2012/dat...  0  0  0        0   \n",
       "3  /Vol1/dbstore/datasets/KITTI_odometry_2012/dat...  0  0  0        0   \n",
       "4  /Vol1/dbstore/datasets/KITTI_odometry_2012/dat...  0  0  0        0   \n",
       "\n",
       "   euler_y  euler_z  timestamps  \\\n",
       "0        0        0    0.000000   \n",
       "1        0        0    0.033333   \n",
       "2        0        0    0.066667   \n",
       "3        0        0    0.100000   \n",
       "4        0        0    0.133333   \n",
       "\n",
       "                                       path_to_depth  \\\n",
       "0  /Vol1/dbstore/datasets/KITTI_odometry_2012/dat...   \n",
       "1  /Vol1/dbstore/datasets/KITTI_odometry_2012/dat...   \n",
       "2  /Vol1/dbstore/datasets/KITTI_odometry_2012/dat...   \n",
       "3  /Vol1/dbstore/datasets/KITTI_odometry_2012/dat...   \n",
       "4  /Vol1/dbstore/datasets/KITTI_odometry_2012/dat...   \n",
       "\n",
       "                               path_to_optical_flow  \n",
       "0  test_build_kitti/optical_flow_stride1/000001.npy  \n",
       "1  test_build_kitti/optical_flow_stride1/000002.npy  \n",
       "2  test_build_kitti/optical_flow_stride1/000003.npy  \n",
       "3  test_build_kitti/optical_flow_stride1/000004.npy  \n",
       "4  test_build_kitti/optical_flow_stride1/000005.npy  "
      ]
     },
     "execution_count": 23,
     "metadata": {},
     "output_type": "execute_result"
    }
   ],
   "source": [
    "print(builder.dataframe.shape)\n",
    "builder.dataframe.head()"
   ]
  },
  {
   "cell_type": "markdown",
   "metadata": {},
   "source": [
    "### Visualize"
   ]
  },
  {
   "cell_type": "code",
   "execution_count": 24,
   "metadata": {},
   "outputs": [],
   "source": [
    "import cv2\n",
    "import numpy as np\n",
    "import matplotlib.pyplot as plt\n",
    "\n",
    "def load(path):\n",
    "    if path.endswith('npy'):\n",
    "        return np.load(path)\n",
    "    return cv2.imread(path)[:, :, ::-1]\n",
    "\n",
    "\n",
    "def visualize_depth(depth):\n",
    "    plt.imshow(depth[..., 0], cmap='RdBu')\n",
    "    plt.show()\n",
    "\n",
    "def visualize_optical_flow(optical_flow):\n",
    "    fig, ax = plt.subplots(ncols=2, figsize=(15, 5))\n",
    "    ax[0].imshow(optical_flow[..., 0], cmap='RdBu')\n",
    "    ax[1].imshow(optical_flow[..., 1], cmap='RdBu')\n",
    "    plt.show()"
   ]
  },
  {
   "cell_type": "code",
   "execution_count": 25,
   "metadata": {},
   "outputs": [
    {
     "data": {
      "image/png": "[encoded data removed]",
      "text/plain": [
       "<Figure size 432x288 with 1 Axes>"
      ]
     },
     "metadata": {
      "needs_background": "light"
     },
     "output_type": "display_data"
    },
    {
     "data": {
      "image/png": "[encoded data removed]",
      "text/plain": [
       "<Figure size 1080x360 with 2 Axes>"
      ]
     },
     "metadata": {
      "needs_background": "light"
     },
     "output_type": "display_data"
    }
   ],
   "source": [
    "index = 0\n",
    "visualize_depth(load(builder.dataframe.path_to_depth[index]))\n",
    "visualize_optical_flow(load(builder.dataframe.path_to_optical_flow[index]))"
   ]
  },
  {
   "cell_type": "code",
   "execution_count": null,
   "metadata": {},
   "outputs": [],
   "source": []
  }
 ],
 "metadata": {
  "kernelspec": {
   "display_name": "Python 3",
   "language": "python",
   "name": "python3"
  },
  "language_info": {
   "codemirror_mode": {
    "name": "ipython",
    "version": 3
   },
   "file_extension": ".py",
   "mimetype": "text/x-python",
   "name": "python",
   "nbconvert_exporter": "python",
   "pygments_lexer": "ipython3",
   "version": "3.6.8"
  }
 },
 "nbformat": 4,
 "nbformat_minor": 2
}
